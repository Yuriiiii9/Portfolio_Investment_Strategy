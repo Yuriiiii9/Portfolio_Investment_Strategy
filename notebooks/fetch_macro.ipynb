{
 "cells": [
  {
   "cell_type": "code",
   "execution_count": 8,
   "id": "72f2722f-a81c-48d3-a8ca-166bf35b934e",
   "metadata": {},
   "outputs": [
    {
     "name": "stdout",
     "output_type": "stream",
     "text": [
      "Collecting wrds\n",
      "  Using cached wrds-3.3.0-py3-none-any.whl.metadata (5.7 kB)\n",
      "Requirement already satisfied: packaging<=24.2 in d:\\anaconda3\\lib\\site-packages (from wrds) (24.2)\n",
      "Requirement already satisfied: pandas<2.3,>=2.2 in d:\\anaconda3\\lib\\site-packages (from wrds) (2.2.3)\n",
      "Collecting psycopg2-binary<2.10,>=2.9 (from wrds)\n",
      "  Downloading psycopg2_binary-2.9.10-cp311-cp311-win_amd64.whl.metadata (5.0 kB)\n",
      "Collecting sqlalchemy<2.1,>=2 (from wrds)\n",
      "  Downloading sqlalchemy-2.0.41-cp311-cp311-win_amd64.whl.metadata (9.8 kB)\n",
      "Requirement already satisfied: numpy>=1.23.2 in d:\\anaconda3\\lib\\site-packages (from pandas<2.3,>=2.2->wrds) (1.26.4)\n",
      "Requirement already satisfied: python-dateutil>=2.8.2 in d:\\anaconda3\\lib\\site-packages (from pandas<2.3,>=2.2->wrds) (2.9.0.post0)\n",
      "Requirement already satisfied: pytz>=2020.1 in d:\\anaconda3\\lib\\site-packages (from pandas<2.3,>=2.2->wrds) (2024.1)\n",
      "Requirement already satisfied: tzdata>=2022.7 in d:\\anaconda3\\lib\\site-packages (from pandas<2.3,>=2.2->wrds) (2023.3)\n",
      "Collecting greenlet>=1 (from sqlalchemy<2.1,>=2->wrds)\n",
      "  Downloading greenlet-3.2.2-cp311-cp311-win_amd64.whl.metadata (4.2 kB)\n",
      "Requirement already satisfied: typing-extensions>=4.6.0 in d:\\anaconda3\\lib\\site-packages (from sqlalchemy<2.1,>=2->wrds) (4.12.2)\n",
      "Requirement already satisfied: six>=1.5 in d:\\anaconda3\\lib\\site-packages (from python-dateutil>=2.8.2->pandas<2.3,>=2.2->wrds) (1.16.0)\n",
      "Using cached wrds-3.3.0-py3-none-any.whl (13 kB)\n",
      "Downloading psycopg2_binary-2.9.10-cp311-cp311-win_amd64.whl (1.2 MB)\n",
      "   ---------------------------------------- 0.0/1.2 MB ? eta -:--:--\n",
      "   ---------------------------------------- 1.2/1.2 MB 9.6 MB/s eta 0:00:00\n",
      "Downloading sqlalchemy-2.0.41-cp311-cp311-win_amd64.whl (2.1 MB)\n",
      "   ---------------------------------------- 0.0/2.1 MB ? eta -:--:--\n",
      "   ---------------------------------------- 2.1/2.1 MB 19.7 MB/s eta 0:00:00\n",
      "Downloading greenlet-3.2.2-cp311-cp311-win_amd64.whl (295 kB)\n",
      "Installing collected packages: psycopg2-binary, greenlet, sqlalchemy, wrds\n",
      "Successfully installed greenlet-3.2.2 psycopg2-binary-2.9.10 sqlalchemy-2.0.41 wrds-3.3.0\n"
     ]
    }
   ],
   "source": [
    "import sys\n",
    "!{sys.executable} -m pip install wrds"
   ]
  },
  {
   "cell_type": "code",
   "execution_count": 4,
   "id": "ad778d45-fc18-4f60-976c-9e70eeec31e5",
   "metadata": {},
   "outputs": [
    {
     "name": "stdout",
     "output_type": "stream",
     "text": [
      "D:\\Anaconda3\\python.exe\n"
     ]
    }
   ],
   "source": [
    "import sys\n",
    "print(sys.executable)"
   ]
  },
  {
   "cell_type": "code",
   "execution_count": 1,
   "id": "a8baf141-4ea5-4518-b56e-a3f10a7fcc35",
   "metadata": {},
   "outputs": [
    {
     "name": "stdin",
     "output_type": "stream",
     "text": [
      "Enter your WRDS username [Yuriii]: yuriii915\n",
      "Enter your password: ········\n"
     ]
    },
    {
     "name": "stdout",
     "output_type": "stream",
     "text": [
      "WRDS recommends setting up a .pgpass file.\n"
     ]
    },
    {
     "name": "stdin",
     "output_type": "stream",
     "text": [
      "Create .pgpass file now [y/n]?:  y\n"
     ]
    },
    {
     "name": "stdout",
     "output_type": "stream",
     "text": [
      "Created .pgpass file successfully.\n",
      "You can create this file yourself at any time with the create_pgpass_file() function.\n",
      "Loading library list...\n",
      "Done\n"
     ]
    }
   ],
   "source": [
    "import wrds\n",
    "import pandas as pd\n",
    "\n",
    "# Connect to WRDS\n",
    "db = wrds.Connection()"
   ]
  },
  {
   "cell_type": "code",
   "execution_count": 13,
   "id": "c86d76ee-b2a2-4667-bad1-26668a34bd84",
   "metadata": {},
   "outputs": [
    {
     "data": {
      "text/plain": [
       "['mflink1', 'mflink2', 'mflink3']"
      ]
     },
     "execution_count": 13,
     "metadata": {},
     "output_type": "execute_result"
    }
   ],
   "source": [
    "db.list_tables(library='mfl')"
   ]
  },
  {
   "cell_type": "code",
   "execution_count": 14,
   "id": "1df339ed-1868-4fc5-bd48-4870ca8ac2b3",
   "metadata": {
    "scrolled": true
   },
   "outputs": [],
   "source": [
    "# Download monthly macro predictors from the Lettau-Ludvigson database\n",
    "macro_vars = ['yyyymm', 'dp', 'ep', 'bm', 'ntis', 'tbl', 'tms', 'dfy', 'svar']\n",
    "#df_macro = db.get_table(library='macro_finance', table='predictor')[macro_vars]"
   ]
  },
  {
   "cell_type": "code",
   "execution_count": null,
   "id": "4da54c5e-6975-4ea3-952f-d4a602518dd0",
   "metadata": {},
   "outputs": [],
   "source": [
    "# Convert 'yyyymm' to datetime (month-end)\n",
    "df_macro['date'] = pd.to_datetime(df_macro['yyyymm'], format='%Y%m') + pd.offsets.MonthEnd(0)\n",
    "\n",
    "# Extract 'year' and 'month' from the converted date\n",
    "df_macro['year'] = df_macro['date'].dt.year\n",
    "df_macro['month'] = df_macro['date'].dt.month"
   ]
  },
  {
   "cell_type": "code",
   "execution_count": null,
   "id": "d09f204a-44c3-4e1e-8060-b19a0f8821d3",
   "metadata": {},
   "outputs": [],
   "source": [
    "# Filter for the date range: Jan 2000 to Jan 2024\n",
    "df_macro = df_macro[(df_macro['date'] >= '2000-01-31') & (df_macro['date'] <= '2024-01-31')]\n",
    "\n",
    "# Reorder columns\n",
    "ordered_cols = ['date', 'year', 'month'] + [col for col in macro_vars if col != 'yyyymm']\n",
    "df_macro = df_macro[ordered_cols]"
   ]
  },
  {
   "cell_type": "code",
   "execution_count": null,
   "id": "017fe85f-3dcb-49fb-baee-99fb8a3e401e",
   "metadata": {},
   "outputs": [],
   "source": [
    "# Save to CSV in your project folder\n",
    "df_macro.to_csv('data/macro/macro_monthly.csv', index=False)\n",
    "\n",
    "print(\"Macro predictors saved to 'data/macro/macro_monthly.csv'\")"
   ]
  },
  {
   "cell_type": "code",
   "execution_count": null,
   "id": "6d13634b-b178-4535-8147-a83bcda4b87f",
   "metadata": {},
   "outputs": [],
   "source": []
  },
  {
   "cell_type": "code",
   "execution_count": 18,
   "id": "92fecdb7-fd3a-4569-b1a1-a7b0780ffa4f",
   "metadata": {},
   "outputs": [
    {
     "name": "stdout",
     "output_type": "stream",
     "text": [
      "Collecting fredapi\n",
      "  Using cached fredapi-0.5.2-py3-none-any.whl.metadata (5.0 kB)\n",
      "Requirement already satisfied: pandas in d:\\anaconda3\\lib\\site-packages (from fredapi) (2.2.3)\n",
      "Requirement already satisfied: numpy>=1.23.2 in d:\\anaconda3\\lib\\site-packages (from pandas->fredapi) (1.26.4)\n",
      "Requirement already satisfied: python-dateutil>=2.8.2 in d:\\anaconda3\\lib\\site-packages (from pandas->fredapi) (2.9.0.post0)\n",
      "Requirement already satisfied: pytz>=2020.1 in d:\\anaconda3\\lib\\site-packages (from pandas->fredapi) (2024.1)\n",
      "Requirement already satisfied: tzdata>=2022.7 in d:\\anaconda3\\lib\\site-packages (from pandas->fredapi) (2023.3)\n",
      "Requirement already satisfied: six>=1.5 in d:\\anaconda3\\lib\\site-packages (from python-dateutil>=2.8.2->pandas->fredapi) (1.16.0)\n",
      "Using cached fredapi-0.5.2-py3-none-any.whl (11 kB)\n",
      "Installing collected packages: fredapi\n",
      "Successfully installed fredapi-0.5.2\n"
     ]
    }
   ],
   "source": [
    "import sys\n",
    "!{sys.executable} -m pip install fredapi"
   ]
  },
  {
   "cell_type": "code",
   "execution_count": 19,
   "id": "d28a3c47-7d5f-4c3e-a274-af99e8191101",
   "metadata": {},
   "outputs": [
    {
     "name": "stdout",
     "output_type": "stream",
     "text": [
      "Downloading tbl from FRED (TB3MS)...\n",
      "Downloading gs10 from FRED (GS10)...\n",
      "Downloading baa from FRED (BAA)...\n",
      "Downloading aaa from FRED (AAA)...\n",
      "FRED macro data (with tms/dfy) saved to: ./data/macro/fred_monthly.csv\n"
     ]
    },
    {
     "name": "stderr",
     "output_type": "stream",
     "text": [
      "C:\\Users\\Yuriii\\AppData\\Local\\Temp\\ipykernel_8616\\2531269857.py:27: FutureWarning: 'M' is deprecated and will be removed in a future version, please use 'ME' instead.\n",
      "  df_macro = df_macro.resample('M').last()  # Ensure monthly frequency\n"
     ]
    }
   ],
   "source": [
    "# Import necessary libraries\n",
    "import pandas as pd\n",
    "from fredapi import Fred\n",
    "import os\n",
    "\n",
    "# Initialize Fred client with your API key\n",
    "fred = Fred(api_key='e4c223fe06769e014e4a2b0c0717f2b0')\n",
    "\n",
    "# Define the series you want to download\n",
    "series_dict = {\n",
    "    'tbl': 'TB3MS',    # 3-Month Treasury Bill\n",
    "    'gs10': 'GS10',    # 10-Year Treasury Constant Maturity Rate\n",
    "    'baa': 'BAA',      # Moody's BAA Corporate Bond Yield\n",
    "    'aaa': 'AAA'       # Moody's AAA Corporate Bond Yield\n",
    "}\n",
    "\n",
    "# Download data from FRED and store in a dictionary\n",
    "macro_data = {}\n",
    "for name, fred_code in series_dict.items():\n",
    "    print(f\"Downloading {name} from FRED ({fred_code})...\")\n",
    "    data = fred.get_series(fred_code)\n",
    "    macro_data[name] = data\n",
    "\n",
    "# Combine all series into a single DataFrame\n",
    "df_macro = pd.DataFrame(macro_data)\n",
    "df_macro.index = pd.to_datetime(df_macro.index)\n",
    "df_macro = df_macro.resample('M').last()  # Ensure monthly frequency\n",
    "df_macro = df_macro.dropna()\n",
    "\n",
    "# Compute derived indicators\n",
    "df_macro['tms'] = df_macro['gs10'] - df_macro['tbl']  # Term Spread\n",
    "df_macro['dfy'] = df_macro['baa'] - df_macro['aaa']   # Default Spread\n",
    "\n",
    "# Reset index and add yyyymm for later merging\n",
    "df_macro = df_macro.reset_index().rename(columns={'index': 'date'})\n",
    "df_macro['yyyymm'] = df_macro['date'].dt.year * 100 + df_macro['date'].dt.month\n",
    "\n",
    "# Save the FRED-based macro dataset\n",
    "output_path = './data/macro/fred_monthly.csv'\n",
    "os.makedirs(os.path.dirname(output_path), exist_ok=True)\n",
    "df_macro.to_csv(output_path, index=False)\n",
    "\n",
    "print(f\"FRED macro data (with tms/dfy) saved to: {output_path}\")"
   ]
  },
  {
   "cell_type": "code",
   "execution_count": 66,
   "id": "90c2f1c0-28ac-4a23-bdfd-524aef02938e",
   "metadata": {},
   "outputs": [],
   "source": [
    "import pandas as pd\n",
    "import numpy as np\n",
    "\n",
    "# Load Goyal raw data\n",
    "df = pd.read_csv(\"../data/raw/PredictorData2024.xlsx - Monthly.csv\")\n",
    "\n",
    "# Filter by year range: 2000.01 to 2024.01\n",
    "df = df.sort_values('yyyymm').reset_index(drop=True)\n",
    "df = df[(df['yyyymm'] >= 200001) & (df['yyyymm'] <= 202401)]"
   ]
  },
  {
   "cell_type": "code",
   "execution_count": 67,
   "id": "7f9340f4-858b-461b-a955-be05fb7bf92a",
   "metadata": {},
   "outputs": [],
   "source": [
    "# Convert necessary fields to numeric\n",
    "cols_to_convert = ['D12', 'E12', 'Index', 'b/m', 'ntis', 'svar', 'BAA', 'AAA', 'lty', 'tbl']\n",
    "for col in cols_to_convert:\n",
    "    df[col] = df[col].astype(str).str.replace(',', '', regex=False) \\\n",
    "                                 .str.replace('$', '', regex=False) \\\n",
    "                                 .str.strip()\n",
    "    df[col] = pd.to_numeric(df[col], errors='coerce')"
   ]
  },
  {
   "cell_type": "code",
   "execution_count": 68,
   "id": "c4731815-5d96-41b0-a5b9-51868f31d7cc",
   "metadata": {},
   "outputs": [],
   "source": [
    "# Drop rows with missing values\n",
    "#df = df.dropna(subset=cols_to_convert)\n",
    "\n",
    "# Compute log-ratio variables\n",
    "df['dp'] = np.log(df['D12']) - np.log(df['Index'])\n",
    "df['ep'] = np.log(df['E12']) - np.log(df['Index'])\n",
    "\n",
    "# Compute spreads\n",
    "df['dfy'] = df['BAA'] - df['AAA']\n",
    "df['tms'] = df['lty'] - df['tbl']\n",
    "\n",
    "# Rename for consistency\n",
    "df.rename(columns={'b/m': 'bm'}, inplace=True)\n",
    "\n",
    "# Final selection\n",
    "final_cols = ['yyyymm', 'dp', 'ep', 'bm', 'ntis', 'svar', 'dfy', 'tms', 'tbl']\n",
    "df_macro = df[final_cols]\n",
    "\n",
    "# Save\n",
    "output_path = \"D:/Projects/Portfolio/Portfolio_Investment_Strategy/data/macro/macro_monthly.csv\"\n",
    "df_macro.to_csv(output_path, index=False)"
   ]
  },
  {
   "cell_type": "code",
   "execution_count": 63,
   "id": "f0b84647-aa17-46de-9373-5d6380ac65e3",
   "metadata": {},
   "outputs": [
    {
     "name": "stdout",
     "output_type": "stream",
     "text": [
      "200001 202401\n"
     ]
    }
   ],
   "source": [
    "print(df['yyyymm'].min(), df['yyyymm'].max())"
   ]
  },
  {
   "cell_type": "code",
   "execution_count": 65,
   "id": "a2063f3f-5b09-45ef-abbf-fa930372c972",
   "metadata": {},
   "outputs": [
    {
     "data": {
      "text/html": [
       "<div>\n",
       "<style scoped>\n",
       "    .dataframe tbody tr th:only-of-type {\n",
       "        vertical-align: middle;\n",
       "    }\n",
       "\n",
       "    .dataframe tbody tr th {\n",
       "        vertical-align: top;\n",
       "    }\n",
       "\n",
       "    .dataframe thead th {\n",
       "        text-align: right;\n",
       "    }\n",
       "</style>\n",
       "<table border=\"1\" class=\"dataframe\">\n",
       "  <thead>\n",
       "    <tr style=\"text-align: right;\">\n",
       "      <th></th>\n",
       "      <th>yyyymm</th>\n",
       "      <th>dp</th>\n",
       "      <th>ep</th>\n",
       "      <th>bm</th>\n",
       "      <th>ntis</th>\n",
       "      <th>svar</th>\n",
       "      <th>dfy</th>\n",
       "      <th>tms</th>\n",
       "      <th>tbl</th>\n",
       "    </tr>\n",
       "  </thead>\n",
       "  <tbody>\n",
       "    <tr>\n",
       "      <th>1548</th>\n",
       "      <td>200001</td>\n",
       "      <td>-4.423938</td>\n",
       "      <td>-3.346471</td>\n",
       "      <td>0.154654</td>\n",
       "      <td>0.025359</td>\n",
       "      <td>0.005206</td>\n",
       "      <td>0.0055</td>\n",
       "      <td>0.0134</td>\n",
       "      <td>0.0532</td>\n",
       "    </tr>\n",
       "    <tr>\n",
       "      <th>1549</th>\n",
       "      <td>200002</td>\n",
       "      <td>-4.402226</td>\n",
       "      <td>-3.307461</td>\n",
       "      <td>0.167056</td>\n",
       "      <td>0.027419</td>\n",
       "      <td>0.003000</td>\n",
       "      <td>0.0061</td>\n",
       "      <td>0.0091</td>\n",
       "      <td>0.0555</td>\n",
       "    </tr>\n",
       "  </tbody>\n",
       "</table>\n",
       "</div>"
      ],
      "text/plain": [
       "      yyyymm        dp        ep        bm      ntis      svar     dfy  \\\n",
       "1548  200001 -4.423938 -3.346471  0.154654  0.025359  0.005206  0.0055   \n",
       "1549  200002 -4.402226 -3.307461  0.167056  0.027419  0.003000  0.0061   \n",
       "\n",
       "         tms     tbl  \n",
       "1548  0.0134  0.0532  \n",
       "1549  0.0091  0.0555  "
      ]
     },
     "execution_count": 65,
     "metadata": {},
     "output_type": "execute_result"
    }
   ],
   "source": [
    "df_macro.head(2)"
   ]
  },
  {
   "cell_type": "code",
   "execution_count": null,
   "id": "2107fd29-02fb-41c6-ae95-7d8dce5d02b5",
   "metadata": {},
   "outputs": [],
   "source": []
  }
 ],
 "metadata": {
  "kernelspec": {
   "display_name": "Python 3 (ipykernel)",
   "language": "python",
   "name": "python3"
  },
  "language_info": {
   "codemirror_mode": {
    "name": "ipython",
    "version": 3
   },
   "file_extension": ".py",
   "mimetype": "text/x-python",
   "name": "python",
   "nbconvert_exporter": "python",
   "pygments_lexer": "ipython3",
   "version": "3.11.7"
  }
 },
 "nbformat": 4,
 "nbformat_minor": 5
}
