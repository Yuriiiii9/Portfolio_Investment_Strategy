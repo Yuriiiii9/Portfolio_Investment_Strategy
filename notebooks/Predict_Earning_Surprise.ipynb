{
 "cells": [
  {
   "cell_type": "code",
   "execution_count": 15,
   "id": "cdac2f8e-240b-436e-aa98-2c82a703e3de",
   "metadata": {},
   "outputs": [],
   "source": [
    "import pandas as pd\n",
    "import numpy as np\n",
    "from sklearn.linear_model import Lasso\n",
    "from sklearn.preprocessing import StandardScaler\n",
    "from sklearn.metrics import mean_squared_error\n",
    "from datetime import datetime\n",
    "from tqdm import tqdm"
   ]
  },
  {
   "cell_type": "code",
   "execution_count": 3,
   "id": "3b9717ee-77a0-456c-8c54-c1eea9715698",
   "metadata": {},
   "outputs": [],
   "source": [
    "# Load firm-level data\n",
    "firm_df = pd.read_csv(\"D:/Projects/Portfolio/Portfolio_Investment_Strategy/data/raw/mma_sample_v2.csv\", parse_dates=[\"date\"])"
   ]
  },
  {
   "cell_type": "code",
   "execution_count": 5,
   "id": "97227ebd-40e0-42b4-a8ff-5d7ca2adbbec",
   "metadata": {},
   "outputs": [],
   "source": [
    "# Load 147 factor variables\n",
    "factor_list = pd.read_csv(\"D:/Projects/Portfolio/Portfolio_Investment_Strategy/data/raw/factor_char_list.csv\")\n",
    "factor_vars = list(factor_list[\"variable\"].values)"
   ]
  },
  {
   "cell_type": "code",
   "execution_count": 6,
   "id": "480430ac-614a-4449-bc09-4343c02c5689",
   "metadata": {},
   "outputs": [],
   "source": [
    "# Drop rows with missing earnings info\n",
    "firm_df = firm_df.dropna(subset=[\"eps_meanest\", \"eps_actual\"])"
   ]
  },
  {
   "cell_type": "code",
   "execution_count": 7,
   "id": "0b0159f8-b473-45ee-aba8-11fda6a2723a",
   "metadata": {},
   "outputs": [],
   "source": [
    "# Construct surprise and shift as t+1 label\n",
    "firm_df = firm_df.sort_values([\"permno\", \"date\"])\n",
    "firm_df[\"earning_surprise\"] = firm_df[\"eps_actual\"] - firm_df[\"eps_meanest\"]\n",
    "firm_df[\"target_surprise_t+1\"] = firm_df.groupby(\"permno\")[\"earning_surprise\"].shift(-1)\n",
    "model_df = firm_df.dropna(subset=[\"target_surprise_t+1\"])"
   ]
  },
  {
   "cell_type": "code",
   "execution_count": 8,
   "id": "07529aa6-93c6-4ba9-98d2-af410480be19",
   "metadata": {},
   "outputs": [],
   "source": [
    "# Normalize features to [-1, 1] per month cross-section\n",
    "all_dates = model_df[\"date\"].unique()\n",
    "normalized_list = []\n",
    "for date in all_dates:\n",
    "    temp = model_df[model_df[\"date\"] == date].copy()\n",
    "    for var in factor_vars:\n",
    "        median = temp[var].median()\n",
    "        temp[var] = temp[var].fillna(median)\n",
    "        temp[var] = temp[var].rank(method=\"dense\") - 1\n",
    "        max_val = temp[var].max()\n",
    "        temp[var] = (temp[var] / max_val) * 2 - 1 if max_val > 0 else 0\n",
    "    normalized_list.append(temp)\n",
    "normalized_df = pd.concat(normalized_list).reset_index(drop=True)"
   ]
  },
  {
   "cell_type": "code",
   "execution_count": 10,
   "id": "5b8d5b77-0ce2-4122-9249-d50f9bc54177",
   "metadata": {},
   "outputs": [],
   "source": [
    "# Define function to run one expanding window round\n",
    "def run_one_round(train, val, test, factor_vars):\n",
    "    scaler = StandardScaler()\n",
    "    scaler.fit(train[factor_vars])\n",
    "    X_train = scaler.transform(train[factor_vars])\n",
    "    X_val = scaler.transform(val[factor_vars])\n",
    "    X_test = scaler.transform(test[factor_vars])\n",
    "    y_train = train[\"target_surprise_t+1\"].values\n",
    "    y_val = val[\"target_surprise_t+1\"].values\n",
    "    y_test = test[\"target_surprise_t+1\"].values\n",
    "\n",
    "    # Lasso tuning on validation\n",
    "    lambdas = np.arange(-4, 2.1, 0.2)\n",
    "    val_mse = []\n",
    "    for i in lambdas:\n",
    "        lasso = Lasso(alpha=10**i, max_iter=100000)\n",
    "        lasso.fit(X_train, y_train)\n",
    "        val_pred = lasso.predict(X_val)\n",
    "        val_mse.append(mean_squared_error(y_val, val_pred))\n",
    "\n",
    "    best_lambda = lambdas[np.argmin(val_mse)]\n",
    "    final_model = Lasso(alpha=10**best_lambda, max_iter=100000)\n",
    "    final_model.fit(X_train, y_train)\n",
    "    y_pred_test = final_model.predict(X_test)\n",
    "\n",
    "    # Save predictions and calculate R^2\n",
    "    result = test[[\"date\", \"permno\"]].copy()\n",
    "    result[\"pred_surprise\"] = y_pred_test\n",
    "    r2 = r2_score(y_test, y_pred_test)\n",
    "    return result, r2"
   ]
  },
  {
   "cell_type": "code",
   "execution_count": 16,
   "id": "3e47fb4f-7823-49da-87b4-f029ea2ec354",
   "metadata": {},
   "outputs": [
    {
     "name": "stdout",
     "output_type": "stream",
     "text": [
      "Starting expanding window prediction...\n",
      "\n"
     ]
    },
    {
     "name": "stderr",
     "output_type": "stream",
     "text": [
      "Expanding Rounds:   0%|                                                                         | 0/14 [06:24<?, ?it/s]\n",
      "\n",
      "KeyboardInterrupt\n",
      "\n"
     ]
    }
   ],
   "source": [
    "# Prepare expanding rounds\n",
    "start_date = pd.to_datetime(\"2000-01-01\")\n",
    "test_limit = pd.to_datetime(\"2024-01-01\")\n",
    "cutoffs = []\n",
    "counter = 0\n",
    "\n",
    "while (start_date + pd.DateOffset(years=11 + counter)) <= test_limit:\n",
    "    train_start = start_date\n",
    "    train_end = start_date + pd.DateOffset(years=8 + counter)\n",
    "    val_end = start_date + pd.DateOffset(years=10 + counter)\n",
    "    test_end = start_date + pd.DateOffset(years=11 + counter)\n",
    "    cutoffs.append((train_start, train_end, val_end, test_end))\n",
    "    counter += 1\n",
    "\n",
    "# Now run using tqdm\n",
    "print(\"Starting expanding window prediction...\\n\")\n",
    "results = []\n",
    "r2_list = []\n",
    "start_time = datetime.now()\n",
    "\n",
    "for i, (train_start, train_end, val_end, test_end) in enumerate(tqdm(cutoffs, desc=\"Expanding Rounds\")):\n",
    "    train = normalized_df[(normalized_df[\"date\"] >= train_start) & (normalized_df[\"date\"] < train_end)]\n",
    "    val = normalized_df[(normalized_df[\"date\"] >= train_end) & (normalized_df[\"date\"] < val_end)]\n",
    "    test = normalized_df[(normalized_df[\"date\"] >= val_end) & (normalized_df[\"date\"] < test_end)]\n",
    "\n",
    "    pred, r2 = run_one_round(train, val, test, factor_vars)\n",
    "    results.append(pred)\n",
    "    r2_list.append(r2)\n",
    "    print(f\"[Round {i+1}] Test Year: {test_end.year}, R^2: {r2:.4f}\")"
   ]
  },
  {
   "cell_type": "code",
   "execution_count": 18,
   "id": "324ceadf-5268-4db6-8ae0-b43e3ac80ce0",
   "metadata": {},
   "outputs": [
    {
     "name": "stdout",
     "output_type": "stream",
     "text": [
      "Normalizing monthly features...\n",
      "Normalization completed in 42.86 seconds\n",
      "\n",
      "Train size: (101924, 167), Val size: (20890, 167), Test size: (10349, 167)\n",
      "\n",
      "Lasso tuning...\n",
      "  Lambda=1e-5: MSE=108.2684 (Time: 139.75s)\n",
      "  Lambda=1e-4: MSE=108.2521 (Time: 41.29s)\n",
      "  Lambda=1e-3: MSE=108.0628 (Time: 34.52s)\n",
      "  Lambda=1e-2: MSE=106.4949 (Time: 19.61s)\n",
      "  Lambda=1e-1: MSE=102.7912 (Time: 1.07s)\n",
      "\n",
      "Best lambda: 1e-1\n",
      "R^2 on 2011 test set: -0.0099\n",
      "\n",
      "Sample predictions:\n",
      "             date  permno  pred_surprise\n",
      "151658 2011-01-31   10104       1.386357\n",
      "151659 2011-01-31   10107       1.190080\n",
      "151660 2011-01-31   10138      -0.453515\n",
      "151661 2011-01-31   10145       0.608870\n",
      "151662 2011-01-31   10147       0.973660\n"
     ]
    }
   ],
   "source": [
    "# Debug version: Run only first expanding window round for Lasso surprise prediction\n",
    "\n",
    "import pandas as pd\n",
    "import numpy as np\n",
    "from sklearn.linear_model import Lasso\n",
    "from sklearn.preprocessing import StandardScaler\n",
    "from sklearn.metrics import mean_squared_error, r2_score\n",
    "from datetime import datetime\n",
    "import time\n",
    "\n",
    "# Load data\n",
    "firm_df = pd.read_csv(\"../data/raw/mma_sample_v2.csv\", parse_dates=[\"date\"])\n",
    "factor_list = pd.read_csv(\"../data/raw/factor_char_list.csv\")\n",
    "factor_vars = list(factor_list[\"variable\"].values)\n",
    "\n",
    "firm_df = firm_df.dropna(subset=[\"eps_meanest\", \"eps_actual\"])\n",
    "firm_df = firm_df.sort_values([\"permno\", \"date\"])\n",
    "firm_df[\"earning_surprise\"] = firm_df[\"eps_actual\"] - firm_df[\"eps_meanest\"]\n",
    "firm_df[\"target_surprise_t+1\"] = firm_df.groupby(\"permno\")[\"earning_surprise\"].shift(-1)\n",
    "model_df = firm_df.dropna(subset=[\"target_surprise_t+1\"])\n",
    "\n",
    "# Normalize features per month to [-1, 1]\n",
    "print(\"Normalizing monthly features...\", flush=True)\n",
    "start_norm = time.time()\n",
    "all_dates = model_df[\"date\"].unique()\n",
    "normalized_list = []\n",
    "for date in all_dates:\n",
    "    temp = model_df[model_df[\"date\"] == date].copy()\n",
    "    for var in factor_vars:\n",
    "        median = temp[var].median()\n",
    "        temp[var] = temp[var].fillna(median)\n",
    "        temp[var] = temp[var].rank(method=\"dense\") - 1\n",
    "        max_val = temp[var].max()\n",
    "        temp[var] = (temp[var] / max_val) * 2 - 1 if max_val > 0 else 0\n",
    "    normalized_list.append(temp)\n",
    "normalized_df = pd.concat(normalized_list).reset_index(drop=True)\n",
    "print(f\"Normalization completed in {time.time() - start_norm:.2f} seconds\\n\")\n",
    "\n",
    "# First expanding window round only\n",
    "train = normalized_df[(normalized_df[\"date\"] >= \"2000-01-01\") & (normalized_df[\"date\"] < \"2009-01-01\")]\n",
    "val = normalized_df[(normalized_df[\"date\"] >= \"2009-01-01\") & (normalized_df[\"date\"] < \"2011-01-01\")]\n",
    "test = normalized_df[(normalized_df[\"date\"] >= \"2011-01-01\") & (normalized_df[\"date\"] < \"2012-01-01\")]\n",
    "\n",
    "print(f\"Train size: {train.shape}, Val size: {val.shape}, Test size: {test.shape}\\n\")\n",
    "\n",
    "# Scaling\n",
    "scaler = StandardScaler()\n",
    "scaler.fit(train[factor_vars])\n",
    "X_train = scaler.transform(train[factor_vars])\n",
    "X_val = scaler.transform(val[factor_vars])\n",
    "X_test = scaler.transform(test[factor_vars])\n",
    "y_train = train[\"target_surprise_t+1\"].values\n",
    "y_val = val[\"target_surprise_t+1\"].values\n",
    "y_test = test[\"target_surprise_t+1\"].values\n",
    "\n",
    "# Mini grid tuning (4 lambdas)\n",
    "lambdas = [-5, -4, -3, -2, -1]\n",
    "val_mse = []\n",
    "print(\"Lasso tuning...\")\n",
    "for i in lambdas:\n",
    "    t0 = time.time()\n",
    "    lasso = Lasso(alpha=10**i, max_iter=100000)\n",
    "    lasso.fit(X_train, y_train)\n",
    "    y_val_pred = lasso.predict(X_val)\n",
    "    mse = mean_squared_error(y_val, y_val_pred)\n",
    "    val_mse.append(mse)\n",
    "    print(f\"  Lambda=1e{i:+}: MSE={mse:.4f} (Time: {time.time() - t0:.2f}s)\")\n",
    "\n",
    "best_lambda = lambdas[np.argmin(val_mse)]\n",
    "print(f\"\\nBest lambda: 1e{best_lambda:+}\")\n",
    "final_model = Lasso(alpha=10**best_lambda, max_iter=100000)\n",
    "final_model.fit(X_train, y_train)\n",
    "y_test_pred = final_model.predict(X_test)\n",
    "\n",
    "r2 = r2_score(y_test, y_test_pred)\n",
    "print(f\"R^2 on 2011 test set: {r2:.4f}\")\n",
    "\n",
    "# Save preview\n",
    "output = test[[\"date\", \"permno\"]].copy()\n",
    "output[\"pred_surprise\"] = y_test_pred\n",
    "print(\"\\nSample predictions:\")\n",
    "print(output.head())"
   ]
  },
  {
   "cell_type": "code",
   "execution_count": 19,
   "id": "06324c70-8f39-4528-84b9-023e3236204e",
   "metadata": {},
   "outputs": [
    {
     "name": "stdout",
     "output_type": "stream",
     "text": [
      "Normalizing monthly features...\n",
      "Normalization completed in 43.90 seconds\n",
      "\n",
      "Train size: (101924, 167), Val size: (20890, 167), Test size: (10349, 167)\n",
      "\n",
      "Fitting Ridge model (alpha=1.0)...\n",
      "R^2 on 2011 test set: -0.0516\n",
      "\n",
      "Sample predictions:\n",
      "             date  permno  pred_surprise\n",
      "151658 2011-01-31   10104       3.985236\n",
      "151659 2011-01-31   10107       1.648463\n",
      "151660 2011-01-31   10138      -2.376594\n",
      "151661 2011-01-31   10145       0.475523\n",
      "151662 2011-01-31   10147       1.290610\n"
     ]
    }
   ],
   "source": [
    "# Ridge Debug version: Run only first expanding window round\n",
    "\n",
    "import pandas as pd\n",
    "import numpy as np\n",
    "from sklearn.linear_model import Ridge\n",
    "from sklearn.preprocessing import StandardScaler\n",
    "from sklearn.metrics import mean_squared_error, r2_score\n",
    "from datetime import datetime\n",
    "import time\n",
    "\n",
    "# Load data\n",
    "firm_df = pd.read_csv(\"../data/raw/mma_sample_v2.csv\", parse_dates=[\"date\"])\n",
    "factor_list = pd.read_csv(\"../data/raw/factor_char_list.csv\")\n",
    "factor_vars = list(factor_list[\"variable\"].values)\n",
    "\n",
    "firm_df = firm_df.dropna(subset=[\"eps_meanest\", \"eps_actual\"])\n",
    "firm_df = firm_df.sort_values([\"permno\", \"date\"])\n",
    "firm_df[\"earning_surprise\"] = firm_df[\"eps_actual\"] - firm_df[\"eps_meanest\"]\n",
    "firm_df[\"target_surprise_t+1\"] = firm_df.groupby(\"permno\")[\"earning_surprise\"].shift(-1)\n",
    "model_df = firm_df.dropna(subset=[\"target_surprise_t+1\"])\n",
    "\n",
    "# Normalize features per month to [-1, 1]\n",
    "print(\"Normalizing monthly features...\", flush=True)\n",
    "start_norm = time.time()\n",
    "all_dates = model_df[\"date\"].unique()\n",
    "normalized_list = []\n",
    "for date in all_dates:\n",
    "    temp = model_df[model_df[\"date\"] == date].copy()\n",
    "    for var in factor_vars:\n",
    "        median = temp[var].median()\n",
    "        temp[var] = temp[var].fillna(median)\n",
    "        temp[var] = temp[var].rank(method=\"dense\") - 1\n",
    "        max_val = temp[var].max()\n",
    "        temp[var] = (temp[var] / max_val) * 2 - 1 if max_val > 0 else 0\n",
    "    normalized_list.append(temp)\n",
    "normalized_df = pd.concat(normalized_list).reset_index(drop=True)\n",
    "print(f\"Normalization completed in {time.time() - start_norm:.2f} seconds\\n\")\n",
    "\n",
    "# First expanding window round only\n",
    "train = normalized_df[(normalized_df[\"date\"] >= \"2000-01-01\") & (normalized_df[\"date\"] < \"2009-01-01\")]\n",
    "val = normalized_df[(normalized_df[\"date\"] >= \"2009-01-01\") & (normalized_df[\"date\"] < \"2011-01-01\")]\n",
    "test = normalized_df[(normalized_df[\"date\"] >= \"2011-01-01\") & (normalized_df[\"date\"] < \"2012-01-01\")]\n",
    "\n",
    "print(f\"Train size: {train.shape}, Val size: {val.shape}, Test size: {test.shape}\\n\")\n",
    "\n",
    "# Scaling\n",
    "scaler = StandardScaler()\n",
    "scaler.fit(train[factor_vars])\n",
    "X_train = scaler.transform(train[factor_vars])\n",
    "X_val = scaler.transform(val[factor_vars])\n",
    "X_test = scaler.transform(test[factor_vars])\n",
    "y_train = train[\"target_surprise_t+1\"].values\n",
    "y_val = val[\"target_surprise_t+1\"].values\n",
    "y_test = test[\"target_surprise_t+1\"].values\n",
    "\n",
    "# Ridge model with fixed alpha\n",
    "print(\"Fitting Ridge model (alpha=1.0)...\")\n",
    "model = Ridge(alpha=1.0)\n",
    "model.fit(X_train, y_train)\n",
    "y_pred = model.predict(X_test)\n",
    "\n",
    "r2 = r2_score(y_test, y_pred)\n",
    "print(f\"R^2 on 2011 test set: {r2:.4f}\")\n",
    "\n",
    "# Save preview\n",
    "output = test[[\"date\", \"permno\"]].copy()\n",
    "output[\"pred_surprise\"] = y_pred\n",
    "print(\"\\nSample predictions:\")\n",
    "print(output.head())"
   ]
  },
  {
   "cell_type": "code",
   "execution_count": 22,
   "id": "c5ac5d72-25cd-46bb-a479-08d24a3bd54c",
   "metadata": {},
   "outputs": [
    {
     "name": "stdout",
     "output_type": "stream",
     "text": [
      "Normalizing monthly features...\n",
      "Normalization completed in 39.48 seconds\n",
      "\n",
      "Train size: (101924, 167), Val size: (20890, 167), Test size: (10349, 167)\n",
      "\n",
      "Fitting LightGBM model...\n"
     ]
    },
    {
     "name": "stderr",
     "output_type": "stream",
     "text": [
      "C:\\Users\\Yuriii\\.venv\\Lib\\site-packages\\sklearn\\utils\\deprecation.py:151: FutureWarning: 'force_all_finite' was renamed to 'ensure_all_finite' in 1.6 and will be removed in 1.8.\n",
      "  warnings.warn(\n"
     ]
    },
    {
     "name": "stdout",
     "output_type": "stream",
     "text": [
      "[LightGBM] [Info] Auto-choosing col-wise multi-threading, the overhead of testing was 0.041070 seconds.\n",
      "You can set `force_col_wise=true` to remove the overhead.\n",
      "[LightGBM] [Info] Total Bins 37015\n",
      "[LightGBM] [Info] Number of data points in the train set: 101924, number of used features: 147\n",
      "[LightGBM] [Info] Start training from score 0.002366\n",
      "[LightGBM] [Warning] No further splits with positive gain, best gain: -inf\n",
      "Training until validation scores don't improve for 20 rounds\n",
      "[LightGBM] [Warning] No further splits with positive gain, best gain: -inf\n",
      "[LightGBM] [Warning] No further splits with positive gain, best gain: -inf\n",
      "[LightGBM] [Warning] No further splits with positive gain, best gain: -inf\n",
      "[LightGBM] [Warning] No further splits with positive gain, best gain: -inf\n",
      "[LightGBM] [Warning] No further splits with positive gain, best gain: -inf\n",
      "[LightGBM] [Warning] No further splits with positive gain, best gain: -inf\n",
      "[LightGBM] [Warning] No further splits with positive gain, best gain: -inf\n",
      "[LightGBM] [Warning] No further splits with positive gain, best gain: -inf\n",
      "[LightGBM] [Warning] No further splits with positive gain, best gain: -inf\n",
      "[LightGBM] [Warning] No further splits with positive gain, best gain: -inf\n",
      "[LightGBM] [Warning] No further splits with positive gain, best gain: -inf\n",
      "[LightGBM] [Warning] No further splits with positive gain, best gain: -inf\n",
      "[LightGBM] [Warning] No further splits with positive gain, best gain: -inf\n",
      "[LightGBM] [Warning] No further splits with positive gain, best gain: -inf\n",
      "[LightGBM] [Warning] No further splits with positive gain, best gain: -inf\n",
      "[LightGBM] [Warning] No further splits with positive gain, best gain: -inf\n",
      "[LightGBM] [Warning] No further splits with positive gain, best gain: -inf\n",
      "[LightGBM] [Warning] No further splits with positive gain, best gain: -inf\n",
      "[LightGBM] [Warning] No further splits with positive gain, best gain: -inf\n",
      "[20]\tvalid_0's l2: 109.534\n",
      "[LightGBM] [Warning] No further splits with positive gain, best gain: -inf\n",
      "Early stopping, best iteration is:\n",
      "[1]\tvalid_0's l2: 102.356\n",
      "\n",
      "R^2 on 2011 test set: -0.0014\n",
      "\n",
      "Sample predictions:\n",
      "             date  permno  pred_surprise\n",
      "151658 2011-01-31   10104        0.00047\n",
      "151659 2011-01-31   10107        0.00047\n",
      "151660 2011-01-31   10138        0.00047\n",
      "151661 2011-01-31   10145        0.00047\n",
      "151662 2011-01-31   10147        0.00047\n"
     ]
    },
    {
     "name": "stderr",
     "output_type": "stream",
     "text": [
      "C:\\Users\\Yuriii\\.venv\\Lib\\site-packages\\sklearn\\utils\\deprecation.py:151: FutureWarning: 'force_all_finite' was renamed to 'ensure_all_finite' in 1.6 and will be removed in 1.8.\n",
      "  warnings.warn(\n"
     ]
    },
    {
     "data": {
      "image/png": "[encoded data removed]",
      "text/plain": [
       "<Figure size 600x600 with 1 Axes>"
      ]
     },
     "metadata": {},
     "output_type": "display_data"
    }
   ],
   "source": [
    "# LightGBM Debug version: Run only first expanding window round\n",
    "\n",
    "import pandas as pd\n",
    "import numpy as np\n",
    "import lightgbm as lgb\n",
    "from sklearn.preprocessing import StandardScaler\n",
    "from sklearn.metrics import r2_score\n",
    "from datetime import datetime\n",
    "import time\n",
    "import matplotlib.pyplot as plt\n",
    "\n",
    "# Load data\n",
    "firm_df = pd.read_csv(\"../data/raw/mma_sample_v2.csv\", parse_dates=[\"date\"])\n",
    "factor_list = pd.read_csv(\"../data/raw/factor_char_list.csv\")\n",
    "factor_vars = list(factor_list[\"variable\"].values)\n",
    "\n",
    "firm_df = firm_df.dropna(subset=[\"eps_meanest\", \"eps_actual\"])\n",
    "firm_df = firm_df.sort_values([\"permno\", \"date\"])\n",
    "firm_df[\"earning_surprise\"] = firm_df[\"eps_actual\"] - firm_df[\"eps_meanest\"]\n",
    "firm_df[\"target_surprise_t+1\"] = firm_df.groupby(\"permno\")[\"earning_surprise\"].shift(-1)\n",
    "model_df = firm_df.dropna(subset=[\"target_surprise_t+1\"])\n",
    "\n",
    "# Normalize features per month to [-1, 1]\n",
    "print(\"Normalizing monthly features...\", flush=True)\n",
    "start_norm = time.time()\n",
    "all_dates = model_df[\"date\"].unique()\n",
    "normalized_list = []\n",
    "for date in all_dates:\n",
    "    temp = model_df[model_df[\"date\"] == date].copy()\n",
    "    for var in factor_vars:\n",
    "        median = temp[var].median()\n",
    "        temp[var] = temp[var].fillna(median)\n",
    "        temp[var] = temp[var].rank(method=\"dense\") - 1\n",
    "        max_val = temp[var].max()\n",
    "        temp[var] = (temp[var] / max_val) * 2 - 1 if max_val > 0 else 0\n",
    "    normalized_list.append(temp)\n",
    "normalized_df = pd.concat(normalized_list).reset_index(drop=True)\n",
    "print(f\"Normalization completed in {time.time() - start_norm:.2f} seconds\\n\")\n",
    "\n",
    "# First expanding window round only\n",
    "train = normalized_df[(normalized_df[\"date\"] >= \"2000-01-01\") & (normalized_df[\"date\"] < \"2009-01-01\")]\n",
    "val = normalized_df[(normalized_df[\"date\"] >= \"2009-01-01\") & (normalized_df[\"date\"] < \"2011-01-01\")]\n",
    "test = normalized_df[(normalized_df[\"date\"] >= \"2011-01-01\") & (normalized_df[\"date\"] < \"2012-01-01\")]\n",
    "\n",
    "print(f\"Train size: {train.shape}, Val size: {val.shape}, Test size: {test.shape}\\n\")\n",
    "\n",
    "# Prepare inputs\n",
    "X_train = train[factor_vars].values\n",
    "X_val = val[factor_vars].values\n",
    "X_test = test[factor_vars].values\n",
    "y_train = train[\"target_surprise_t+1\"].values\n",
    "y_val = val[\"target_surprise_t+1\"].values\n",
    "y_test = test[\"target_surprise_t+1\"].values\n",
    "\n",
    "# Fit LightGBM model\n",
    "print(\"Fitting LightGBM model...\")\n",
    "lgb_model = lgb.LGBMRegressor(\n",
    "    n_estimators=500,\n",
    "    learning_rate=0.05,\n",
    "    max_depth=6,\n",
    "    random_state=42\n",
    ")\n",
    "lgb_model.fit(\n",
    "    X_train, y_train,\n",
    "    eval_set=[(X_val, y_val)],\n",
    "    callbacks=[\n",
    "        lgb.early_stopping(20),\n",
    "        lgb.log_evaluation(20)\n",
    "    ]\n",
    ")\n",
    "\n",
    "# Predict and evaluate\n",
    "y_pred = lgb_model.predict(X_test)\n",
    "r2 = r2_score(y_test, y_pred)\n",
    "print(f\"\\nR^2 on 2011 test set: {r2:.4f}\")\n",
    "\n",
    "# Save preview\n",
    "output = test[[\"date\", \"permno\"]].copy()\n",
    "output[\"pred_surprise\"] = y_pred\n",
    "print(\"\\nSample predictions:\")\n",
    "print(output.head())\n",
    "\n",
    "# Optional: plot prediction vs truth\n",
    "plt.figure(figsize=(6, 6))\n",
    "plt.scatter(y_test, y_pred, alpha=0.2)\n",
    "plt.xlabel(\"True Surprise\")\n",
    "plt.ylabel(\"Predicted Surprise\")\n",
    "plt.title(\"LightGBM Prediction Scatter Plot\")\n",
    "plt.grid(True)\n",
    "plt.show()"
   ]
  },
  {
   "cell_type": "code",
   "execution_count": 23,
   "id": "61b9660b-59c3-4948-ba9b-4944416db157",
   "metadata": {},
   "outputs": [
    {
     "data": {
      "text/plain": [
       "<Axes: >"
      ]
     },
     "execution_count": 23,
     "metadata": {},
     "output_type": "execute_result"
    },
    {
     "data": {
      "image/png": "[encoded data removed]",
      "text/plain": [
       "<Figure size 640x480 with 1 Axes>"
      ]
     },
     "metadata": {},
     "output_type": "display_data"
    }
   ],
   "source": [
    "import matplotlib.pyplot as plt\n",
    "firm_df[\"earning_surprise\"].hist(bins=100)"
   ]
  },
  {
   "cell_type": "code",
   "execution_count": 24,
   "id": "ea14c137-dd3a-41b9-858d-38e32324c304",
   "metadata": {},
   "outputs": [
    {
     "name": "stderr",
     "output_type": "stream",
     "text": [
      "C:\\Users\\Yuriii\\AppData\\Local\\Temp\\ipykernel_17204\\667909954.py:10: SettingWithCopyWarning: \n",
      "A value is trying to be set on a copy of a slice from a DataFrame.\n",
      "Try using .loc[row_indexer,col_indexer] = value instead\n",
      "\n",
      "See the caveats in the documentation: https://pandas.pydata.org/pandas-docs/stable/user_guide/indexing.html#returning-a-view-versus-a-copy\n",
      "  model_df[\"earning_surprise_winsor\"] = model_df[\"earning_surprise\"].clip(lower=lower_bound, upper=upper_bound)\n"
     ]
    }
   ],
   "source": [
    "q1 = model_df[\"earning_surprise\"].quantile(0.25)\n",
    "q3 = model_df[\"earning_surprise\"].quantile(0.75)\n",
    "iqr = q3 - q1\n",
    "\n",
    "lower_bound = q1 - 3 * iqr\n",
    "upper_bound = q3 + 3 * iqr\n",
    "\n",
    "# Apply Winsorization（clip）\n",
    "model_df[\"earning_surprise_winsor\"] = model_df[\"earning_surprise\"].clip(lower=lower_bound, upper=upper_bound)"
   ]
  },
  {
   "cell_type": "code",
   "execution_count": 25,
   "id": "8586ba55-89ac-4d99-a60d-17cce48dae74",
   "metadata": {},
   "outputs": [
    {
     "data": {
      "image/png": "[encoded data removed]",
      "text/plain": [
       "<Figure size 640x480 with 1 Axes>"
      ]
     },
     "metadata": {},
     "output_type": "display_data"
    }
   ],
   "source": [
    "import matplotlib.pyplot as plt\n",
    "\n",
    "plt.hist(model_df[\"earning_surprise_winsor\"], bins=100)\n",
    "plt.title(\"Winsorized earning_surprise (Q1 ± 3*IQR)\")\n",
    "plt.show()"
   ]
  },
  {
   "cell_type": "code",
   "execution_count": 26,
   "id": "58adedf2-be1b-45a7-878b-456b5006f7ae",
   "metadata": {},
   "outputs": [
    {
     "name": "stdout",
     "output_type": "stream",
     "text": [
      "Normalizing features...\n",
      "Training LightGBM on full data...\n"
     ]
    },
    {
     "name": "stderr",
     "output_type": "stream",
     "text": [
      "C:\\Users\\Yuriii\\.venv\\Lib\\site-packages\\sklearn\\utils\\deprecation.py:151: FutureWarning: 'force_all_finite' was renamed to 'ensure_all_finite' in 1.6 and will be removed in 1.8.\n",
      "  warnings.warn(\n"
     ]
    },
    {
     "name": "stdout",
     "output_type": "stream",
     "text": [
      "[LightGBM] [Info] Auto-choosing col-wise multi-threading, the overhead of testing was 0.060497 seconds.\n",
      "You can set `force_col_wise=true` to remove the overhead.\n",
      "[LightGBM] [Info] Total Bins 37015\n",
      "[LightGBM] [Info] Number of data points in the train set: 101924, number of used features: 147\n",
      "[LightGBM] [Info] Start training from score 0.008057\n",
      "Training until validation scores don't improve for 20 rounds\n",
      "[20]\tvalid_0's l2: 0.051689\n",
      "Early stopping, best iteration is:\n",
      "[9]\tvalid_0's l2: 0.0510472\n",
      "\n",
      "[Full Test R^2]: -0.0089\n",
      "\n",
      "Segment-wise R^2:\n",
      "  neg: R^2 = -0.8121 (1516 samples)\n",
      "  neutral: R^2 = -0.6929 (5885 samples)\n",
      "  pos: R^2 = -0.6324 (2948 samples)\n"
     ]
    },
    {
     "name": "stderr",
     "output_type": "stream",
     "text": [
      "C:\\Users\\Yuriii\\.venv\\Lib\\site-packages\\sklearn\\utils\\deprecation.py:151: FutureWarning: 'force_all_finite' was renamed to 'ensure_all_finite' in 1.6 and will be removed in 1.8.\n",
      "  warnings.warn(\n",
      "C:\\Users\\Yuriii\\AppData\\Local\\Temp\\ipykernel_17204\\2939203981.py:72: SettingWithCopyWarning: \n",
      "A value is trying to be set on a copy of a slice from a DataFrame.\n",
      "Try using .loc[row_indexer,col_indexer] = value instead\n",
      "\n",
      "See the caveats in the documentation: https://pandas.pydata.org/pandas-docs/stable/user_guide/indexing.html#returning-a-view-versus-a-copy\n",
      "  test[\"y_true\"] = y_test\n",
      "C:\\Users\\Yuriii\\AppData\\Local\\Temp\\ipykernel_17204\\2939203981.py:73: SettingWithCopyWarning: \n",
      "A value is trying to be set on a copy of a slice from a DataFrame.\n",
      "Try using .loc[row_indexer,col_indexer] = value instead\n",
      "\n",
      "See the caveats in the documentation: https://pandas.pydata.org/pandas-docs/stable/user_guide/indexing.html#returning-a-view-versus-a-copy\n",
      "  test[\"y_pred\"] = y_pred\n"
     ]
    },
    {
     "data": {
      "image/png": "[encoded data removed]",
      "text/plain": [
       "<Figure size 600x600 with 1 Axes>"
      ]
     },
     "metadata": {},
     "output_type": "display_data"
    }
   ],
   "source": [
    "# LightGBM Segmented Regression: Three-Bucket + Full Regression Pipeline\n",
    "\n",
    "import pandas as pd\n",
    "import numpy as np\n",
    "import lightgbm as lgb\n",
    "from sklearn.preprocessing import StandardScaler\n",
    "from sklearn.metrics import r2_score\n",
    "import matplotlib.pyplot as plt\n",
    "import time\n",
    "\n",
    "# Load data\n",
    "firm_df = pd.read_csv(\"../data/raw/mma_sample_v2.csv\", parse_dates=[\"date\"])\n",
    "factor_list = pd.read_csv(\"../data/raw/factor_char_list.csv\")\n",
    "factor_vars = list(factor_list[\"variable\"].values)\n",
    "\n",
    "# Compute earning surprise and shift t+1\n",
    "firm_df = firm_df.dropna(subset=[\"eps_meanest\", \"eps_actual\"])\n",
    "firm_df = firm_df.sort_values([\"permno\", \"date\"])\n",
    "firm_df[\"earning_surprise\"] = firm_df[\"eps_actual\"] - firm_df[\"eps_meanest\"]\n",
    "firm_df[\"earning_surprise\"] = firm_df[\"earning_surprise\"].clip(lower=firm_df[\"earning_surprise\"].quantile(0.01),\n",
    "                                                                 upper=firm_df[\"earning_surprise\"].quantile(0.99))\n",
    "firm_df[\"target_surprise_t+1\"] = firm_df.groupby(\"permno\")[\"earning_surprise\"].shift(-1)\n",
    "model_df = firm_df.dropna(subset=[\"target_surprise_t+1\"]).copy()\n",
    "\n",
    "# Define 3-segment buckets for analysis\n",
    "bins = [-np.inf, -0.05, 0.05, np.inf]\n",
    "labels = [\"neg\", \"neutral\", \"pos\"]\n",
    "model_df[\"surprise_bucket\"] = pd.cut(model_df[\"target_surprise_t+1\"], bins=bins, labels=labels)\n",
    "\n",
    "# Normalize factor vars per month using [-1, 1] rank\n",
    "print(\"Normalizing features...\", flush=True)\n",
    "all_dates = model_df[\"date\"].unique()\n",
    "normalized = []\n",
    "for date in all_dates:\n",
    "    temp = model_df[model_df[\"date\"] == date].copy()\n",
    "    for var in factor_vars:\n",
    "        median = temp[var].median()\n",
    "        temp[var] = temp[var].fillna(median)\n",
    "        temp[var] = temp[var].rank(method=\"dense\") - 1\n",
    "        max_val = temp[var].max()\n",
    "        temp[var] = (temp[var] / max_val) * 2 - 1 if max_val > 0 else 0\n",
    "    normalized.append(temp)\n",
    "model_df = pd.concat(normalized).reset_index(drop=True)\n",
    "\n",
    "# Define one expanding window only\n",
    "train = model_df[(model_df[\"date\"] >= \"2000-01-01\") & (model_df[\"date\"] < \"2009-01-01\")]\n",
    "val = model_df[(model_df[\"date\"] >= \"2009-01-01\") & (model_df[\"date\"] < \"2011-01-01\")]\n",
    "test = model_df[(model_df[\"date\"] >= \"2011-01-01\") & (model_df[\"date\"] < \"2012-01-01\")]\n",
    "\n",
    "X_train = train[factor_vars].values\n",
    "X_val = val[factor_vars].values\n",
    "X_test = test[factor_vars].values\n",
    "y_train = train[\"target_surprise_t+1\"].values\n",
    "y_val = val[\"target_surprise_t+1\"].values\n",
    "y_test = test[\"target_surprise_t+1\"].values\n",
    "\n",
    "# Train LightGBM regression\n",
    "print(\"Training LightGBM on full data...\")\n",
    "model = lgb.LGBMRegressor(n_estimators=500, learning_rate=0.05, max_depth=6, random_state=42)\n",
    "model.fit(\n",
    "    X_train, y_train,\n",
    "    eval_set=[(X_val, y_val)],\n",
    "    callbacks=[lgb.early_stopping(20), lgb.log_evaluation(20)]\n",
    ")\n",
    "\n",
    "# Predict and compute overall R^2\n",
    "y_pred = model.predict(X_test)\n",
    "full_r2 = r2_score(y_test, y_pred)\n",
    "print(f\"\\n[Full Test R^2]: {full_r2:.4f}\")\n",
    "\n",
    "# Compute segmented R^2\n",
    "test[\"y_true\"] = y_test\n",
    "test[\"y_pred\"] = y_pred\n",
    "\n",
    "print(\"\\nSegment-wise R^2:\")\n",
    "for label in labels:\n",
    "    seg = test[test[\"surprise_bucket\"] == label]\n",
    "    if len(seg) >= 20:\n",
    "        r2 = r2_score(seg[\"y_true\"], seg[\"y_pred\"])\n",
    "        print(f\"  {label}: R^2 = {r2:.4f} ({len(seg)} samples)\")\n",
    "    else:\n",
    "        print(f\"  {label}: Too few samples ({len(seg)})\")\n",
    "\n",
    "# Plot prediction vs actual\n",
    "plt.figure(figsize=(6, 6))\n",
    "plt.scatter(y_test, y_pred, alpha=0.2)\n",
    "plt.xlabel(\"True Surprise\")\n",
    "plt.ylabel(\"Predicted Surprise\")\n",
    "plt.title(\"LightGBM Regression (Q1-t+1 Surprise)\")\n",
    "plt.grid(True)\n",
    "plt.show()"
   ]
  },
  {
   "cell_type": "code",
   "execution_count": 31,
   "id": "14c77c46-701a-46e5-a589-644a79b46a6e",
   "metadata": {},
   "outputs": [
    {
     "name": "stdout",
     "output_type": "stream",
     "text": [
      "Normalizing features...\n",
      "Training Lasso (alpha=0.001)...\n",
      "\n",
      "Test R^2: 0.0096\n",
      "\n",
      "Top Non-zero Lasso Coefficients:\n",
      "seas_1_1na           0.010346\n",
      "saleq_gr1            0.007966\n",
      "betabab_1260d       -0.007942\n",
      "ret_1_0              0.007178\n",
      "div12m_me           -0.006388\n",
      "be_me               -0.006241\n",
      "debt_me             -0.005996\n",
      "ni_me                0.005898\n",
      "ebit_bev            -0.005654\n",
      "turnover_var_126d   -0.005626\n",
      "nfna_gr1a           -0.005542\n",
      "o_score              0.005070\n",
      "ebitda_mev           0.004752\n",
      "ret_12_1             0.004647\n",
      "ret_6_1              0.004205\n",
      "z_score             -0.003762\n",
      "ni_inc8q             0.003694\n",
      "tangibility          0.003671\n",
      "niq_be_chg1          0.003641\n",
      "taccruals_at         0.003484\n",
      "dtype: float64\n"
     ]
    },
    {
     "data": {
      "image/png": "[encoded data removed]",
      "text/plain": [
       "<Figure size 800x500 with 1 Axes>"
      ]
     },
     "metadata": {},
     "output_type": "display_data"
    }
   ],
   "source": [
    "# Lasso Regression to Identify Predictive Terms for Earning Surprise\n",
    "\n",
    "import pandas as pd\n",
    "import numpy as np\n",
    "from sklearn.linear_model import Lasso\n",
    "from sklearn.preprocessing import StandardScaler\n",
    "from sklearn.metrics import r2_score\n",
    "import matplotlib.pyplot as plt\n",
    "import time\n",
    "\n",
    "# Load data\n",
    "firm_df = pd.read_csv(\"../data/raw/mma_sample_v2.csv\", parse_dates=[\"date\"])\n",
    "factor_list = pd.read_csv(\"../data/raw/factor_char_list.csv\")\n",
    "factor_vars = list(factor_list[\"variable\"].values)\n",
    "\n",
    "firm_df = firm_df.dropna(subset=[\"eps_meanest\", \"eps_actual\"])\n",
    "firm_df = firm_df.sort_values([\"permno\", \"date\"])\n",
    "firm_df[\"earning_surprise\"] = firm_df[\"eps_actual\"] - firm_df[\"eps_meanest\"]\n",
    "firm_df[\"earning_surprise\"] = firm_df[\"earning_surprise\"].clip(lower=firm_df[\"earning_surprise\"].quantile(0.01),\n",
    "                                                                 upper=firm_df[\"earning_surprise\"].quantile(0.99))\n",
    "firm_df[\"target_surprise_t+1\"] = firm_df.groupby(\"permno\")[\"earning_surprise\"].shift(-1)\n",
    "model_df = firm_df.dropna(subset=[\"target_surprise_t+1\"]).copy()\n",
    "\n",
    "# Normalize factor vars per month using [-1, 1] rank\n",
    "print(\"Normalizing features...\", flush=True)\n",
    "all_dates = model_df[\"date\"].unique()\n",
    "normalized = []\n",
    "for date in all_dates:\n",
    "    temp = model_df[model_df[\"date\"] == date].copy()\n",
    "    for var in factor_vars:\n",
    "        median = temp[var].median()\n",
    "        temp[var] = temp[var].fillna(median)\n",
    "        temp[var] = temp[var].rank(method=\"dense\") - 1\n",
    "        max_val = temp[var].max()\n",
    "        temp[var] = (temp[var] / max_val) * 2 - 1 if max_val > 0 else 0\n",
    "    normalized.append(temp)\n",
    "model_df = pd.concat(normalized).reset_index(drop=True)\n",
    "\n",
    "# One expanding window only\n",
    "train = model_df[(model_df[\"date\"] >= \"2000-01-01\") & (model_df[\"date\"] < \"2009-01-01\")]\n",
    "val = model_df[(model_df[\"date\"] >= \"2009-01-01\") & (model_df[\"date\"] < \"2011-01-01\")]\n",
    "test = model_df[(model_df[\"date\"] >= \"2011-01-01\") & (model_df[\"date\"] < \"2012-01-01\")]\n",
    "\n",
    "X_train = train[factor_vars].values\n",
    "X_val = val[factor_vars].values\n",
    "X_test = test[factor_vars].values\n",
    "y_train = train[\"target_surprise_t+1\"].values\n",
    "y_val = val[\"target_surprise_t+1\"].values\n",
    "y_test = test[\"target_surprise_t+1\"].values\n",
    "\n",
    "# Scale features\n",
    "scaler = StandardScaler()\n",
    "scaler.fit(X_train)\n",
    "X_train = scaler.transform(X_train)\n",
    "X_val = scaler.transform(X_val)\n",
    "X_test = scaler.transform(X_test)\n",
    "\n",
    "# Fit Lasso with selected alpha\n",
    "print(\"Training Lasso (alpha=0.001)...\")\n",
    "lasso = Lasso(alpha=0.001, max_iter=100000)\n",
    "lasso.fit(X_train, y_train)\n",
    "y_pred = lasso.predict(X_test)\n",
    "\n",
    "r2 = r2_score(y_test, y_pred)\n",
    "print(f\"\\nTest R^2: {r2:.4f}\")\n",
    "\n",
    "# Extract non-zero coefficients\n",
    "coef = pd.Series(lasso.coef_, index=factor_vars)\n",
    "nonzero_coef = coef[coef != 0].sort_values(key=np.abs, ascending=False)\n",
    "\n",
    "print(\"\\nTop Non-zero Lasso Coefficients:\")\n",
    "print(nonzero_coef.head(20))\n",
    "\n",
    "# Plot top coefficients\n",
    "plt.figure(figsize=(8, 5))\n",
    "nonzero_coef.head(20).plot(kind=\"barh\")\n",
    "plt.title(\"Top 20 Lasso Coefficients (|value|)\")\n",
    "plt.gca().invert_yaxis()\n",
    "plt.grid(True)\n",
    "plt.tight_layout()\n",
    "plt.show()"
   ]
  },
  {
   "cell_type": "code",
   "execution_count": 32,
   "id": "4b09c490-371e-4bf9-8329-b010add7e85b",
   "metadata": {},
   "outputs": [
    {
     "name": "stdout",
     "output_type": "stream",
     "text": [
      "\n",
      "Saved top 20 Lasso features to: ../results/lasso_selected_features.csv\n"
     ]
    }
   ],
   "source": [
    "pd.Series(selected_features).to_csv(\"../results/lasso_selected_features.csv\", index=False)\n",
    "print(\"\\nSaved top 20 Lasso features to: ../results/lasso_selected_features.csv\")"
   ]
  },
  {
   "cell_type": "code",
   "execution_count": 33,
   "id": "1e0564a3-c337-4483-b921-f3f1e27f4918",
   "metadata": {},
   "outputs": [
    {
     "name": "stdout",
     "output_type": "stream",
     "text": [
      "Normalizing features...\n",
      "Running LassoCV to auto-tune alpha...\n",
      "\n",
      "Best alpha: 0.00379\n",
      "Test R^2: 0.0067\n",
      "\n",
      "Top LassoCV Features:\n",
      "seas_1_1na           0.011277\n",
      "saleq_gr1            0.004882\n",
      "ret_12_1             0.004441\n",
      "prc_highprc_252d     0.004182\n",
      "div12m_me           -0.003931\n",
      "niq_be_chg1          0.002864\n",
      "betabab_1260d       -0.002735\n",
      "ret_1_0              0.002574\n",
      "ret_6_1              0.002541\n",
      "turnover_var_126d   -0.002430\n",
      "prc                  0.002081\n",
      "tangibility          0.001941\n",
      "niq_be               0.001877\n",
      "dgp_dsale            0.001704\n",
      "ni_inc8q             0.001282\n",
      "ni_ivol              0.001209\n",
      "beta_dimson_21d     -0.000915\n",
      "qmj_growth           0.000437\n",
      "cop_atl1             0.000353\n",
      "dtype: float64\n"
     ]
    },
    {
     "data": {
      "image/png": "[encoded data removed]",
      "text/plain": [
       "<Figure size 800x500 with 1 Axes>"
      ]
     },
     "metadata": {},
     "output_type": "display_data"
    }
   ],
   "source": [
    "# Step ①: LassoCV auto tuning + top feature selection\n",
    "\n",
    "import pandas as pd\n",
    "import numpy as np\n",
    "from sklearn.linear_model import LassoCV\n",
    "from sklearn.preprocessing import StandardScaler\n",
    "from sklearn.metrics import r2_score\n",
    "import matplotlib.pyplot as plt\n",
    "import time\n",
    "\n",
    "# Load data\n",
    "firm_df = pd.read_csv(\"../data/raw/mma_sample_v2.csv\", parse_dates=[\"date\"])\n",
    "factor_list = pd.read_csv(\"../data/raw/factor_char_list.csv\")\n",
    "factor_vars = list(factor_list[\"variable\"].values)\n",
    "\n",
    "# Preprocess earning surprise\n",
    "firm_df = firm_df.dropna(subset=[\"eps_meanest\", \"eps_actual\"])\n",
    "firm_df = firm_df.sort_values([\"permno\", \"date\"])\n",
    "firm_df[\"earning_surprise\"] = firm_df[\"eps_actual\"] - firm_df[\"eps_meanest\"]\n",
    "firm_df[\"earning_surprise\"] = firm_df[\"earning_surprise\"].clip(\n",
    "    lower=firm_df[\"earning_surprise\"].quantile(0.01),\n",
    "    upper=firm_df[\"earning_surprise\"].quantile(0.99))\n",
    "firm_df[\"target_surprise_t+1\"] = firm_df.groupby(\"permno\")[\"earning_surprise\"].shift(-1)\n",
    "model_df = firm_df.dropna(subset=[\"target_surprise_t+1\"]).copy()\n",
    "\n",
    "# Normalize factor vars per month using [-1, 1] rank\n",
    "print(\"Normalizing features...\", flush=True)\n",
    "all_dates = model_df[\"date\"].unique()\n",
    "normalized = []\n",
    "for date in all_dates:\n",
    "    temp = model_df[model_df[\"date\"] == date].copy()\n",
    "    for var in factor_vars:\n",
    "        median = temp[var].median()\n",
    "        temp[var] = temp[var].fillna(median)\n",
    "        temp[var] = temp[var].rank(method=\"dense\") - 1\n",
    "        max_val = temp[var].max()\n",
    "        temp[var] = (temp[var] / max_val) * 2 - 1 if max_val > 0 else 0\n",
    "    normalized.append(temp)\n",
    "model_df = pd.concat(normalized).reset_index(drop=True)\n",
    "\n",
    "# First expanding window only\n",
    "train = model_df[(model_df[\"date\"] >= \"2000-01-01\") & (model_df[\"date\"] < \"2009-01-01\")]\n",
    "val = model_df[(model_df[\"date\"] >= \"2009-01-01\") & (model_df[\"date\"] < \"2011-01-01\")]\n",
    "test = model_df[(model_df[\"date\"] >= \"2011-01-01\") & (model_df[\"date\"] < \"2012-01-01\")]\n",
    "\n",
    "X_train = train[factor_vars].values\n",
    "X_val = val[factor_vars].values\n",
    "X_test = test[factor_vars].values\n",
    "y_train = train[\"target_surprise_t+1\"].values\n",
    "y_val = val[\"target_surprise_t+1\"].values\n",
    "y_test = test[\"target_surprise_t+1\"].values\n",
    "\n",
    "# Standardize\n",
    "scaler = StandardScaler()\n",
    "scaler.fit(X_train)\n",
    "X_train_std = scaler.transform(X_train)\n",
    "X_test_std = scaler.transform(X_test)\n",
    "\n",
    "# Run LassoCV\n",
    "print(\"Running LassoCV to auto-tune alpha...\")\n",
    "lasso_cv = LassoCV(alphas=10**np.linspace(-4, -1, 20), cv=5, max_iter=100000, random_state=42)\n",
    "lasso_cv.fit(X_train_std, y_train)\n",
    "\n",
    "# Evaluate on test\n",
    "y_pred = lasso_cv.predict(X_test_std)\n",
    "r2 = r2_score(y_test, y_pred)\n",
    "print(f\"\\nBest alpha: {lasso_cv.alpha_:.5f}\")\n",
    "print(f\"Test R^2: {r2:.4f}\")\n",
    "\n",
    "# Get top features\n",
    "coef = pd.Series(lasso_cv.coef_, index=factor_vars)\n",
    "nonzero = coef[coef != 0].sort_values(key=np.abs, ascending=False)\n",
    "print(\"\\nTop LassoCV Features:\")\n",
    "print(nonzero.head(20))\n",
    "\n",
    "# Plot\n",
    "plt.figure(figsize=(8, 5))\n",
    "nonzero.head(20).plot(kind=\"barh\")\n",
    "plt.title(\"Top 20 LassoCV Coefficients (|value|)\")\n",
    "plt.gca().invert_yaxis()\n",
    "plt.grid(True)\n",
    "plt.tight_layout()\n",
    "plt.show()\n",
    "\n",
    "# Save feature list\n",
    "selected_features = list(nonzero.head(20).index)\n"
   ]
  },
  {
   "cell_type": "code",
   "execution_count": 34,
   "id": "4b632bcc-3dac-473b-9ea4-7138e6f6fc87",
   "metadata": {},
   "outputs": [
    {
     "name": "stdout",
     "output_type": "stream",
     "text": [
      "\n",
      "Saved top 20 Lasso features to: ../results/lasso_cv_selected_features.csv\n"
     ]
    }
   ],
   "source": [
    "pd.Series(selected_features).to_csv(\"../results/lasso_cv_selected_features.csv\", index=False)\n",
    "print(\"\\nSaved top 20 Lasso features to: ../results/lasso_cv_selected_features.csv\")"
   ]
  },
  {
   "cell_type": "code",
   "execution_count": 29,
   "id": "bb5077d8-6632-4eda-878a-bb9058c938a0",
   "metadata": {},
   "outputs": [
    {
     "name": "stdout",
     "output_type": "stream",
     "text": [
      "Normalizing features...\n",
      "Training Ridge (alpha=1.0)...\n",
      "\n",
      "Test R^2: 0.0035\n",
      "\n",
      "Top 20 Ridge Features:\n",
      "gp_at                0.025152\n",
      "gp_atl1              0.024544\n",
      "be_me                0.022688\n",
      "at_turnover          0.022399\n",
      "turnover_var_126d    0.020874\n",
      "nfna_gr1a            0.020531\n",
      "cop_atl1             0.018961\n",
      "taccruals_at         0.018758\n",
      "dolvol_var_126d      0.017835\n",
      "sale_me              0.015799\n",
      "ivol_ff3_21d         0.015051\n",
      "opex_at              0.014923\n",
      "o_score              0.014750\n",
      "debt_me              0.013433\n",
      "qmj_prof             0.013233\n",
      "ni_me                0.013033\n",
      "market_equity        0.012915\n",
      "cop_at               0.012761\n",
      "saleq_gr1            0.012431\n",
      "ocf_at               0.012332\n",
      "dtype: float64\n"
     ]
    },
    {
     "data": {
      "image/png": "[encoded data removed]",
      "text/plain": [
       "<Figure size 800x500 with 1 Axes>"
      ]
     },
     "metadata": {},
     "output_type": "display_data"
    }
   ],
   "source": [
    "# Ridge Regression: Select top 20 features by coefficient magnitude\n",
    "\n",
    "import pandas as pd\n",
    "import numpy as np\n",
    "from sklearn.linear_model import Ridge\n",
    "from sklearn.preprocessing import StandardScaler\n",
    "from sklearn.metrics import r2_score\n",
    "import matplotlib.pyplot as plt\n",
    "\n",
    "# Load data\n",
    "firm_df = pd.read_csv(\"../data/raw/mma_sample_v2.csv\", parse_dates=[\"date\"])\n",
    "factor_list = pd.read_csv(\"../data/raw/factor_char_list.csv\")\n",
    "factor_vars = list(factor_list[\"variable\"].values)\n",
    "\n",
    "# Preprocess earning surprise\n",
    "firm_df = firm_df.dropna(subset=[\"eps_meanest\", \"eps_actual\"])\n",
    "firm_df = firm_df.sort_values([\"permno\", \"date\"])\n",
    "firm_df[\"earning_surprise\"] = firm_df[\"eps_actual\"] - firm_df[\"eps_meanest\"]\n",
    "firm_df[\"earning_surprise\"] = firm_df[\"earning_surprise\"].clip(\n",
    "    lower=firm_df[\"earning_surprise\"].quantile(0.01),\n",
    "    upper=firm_df[\"earning_surprise\"].quantile(0.99))\n",
    "firm_df[\"target_surprise_t+1\"] = firm_df.groupby(\"permno\")[\"earning_surprise\"].shift(-1)\n",
    "model_df = firm_df.dropna(subset=[\"target_surprise_t+1\"]).copy()\n",
    "\n",
    "# Normalize per month [-1, 1]\n",
    "print(\"Normalizing features...\", flush=True)\n",
    "all_dates = model_df[\"date\"].unique()\n",
    "normalized = []\n",
    "for date in all_dates:\n",
    "    temp = model_df[model_df[\"date\"] == date].copy()\n",
    "    for var in factor_vars:\n",
    "        median = temp[var].median()\n",
    "        temp[var] = temp[var].fillna(median)\n",
    "        temp[var] = temp[var].rank(method=\"dense\") - 1\n",
    "        max_val = temp[var].max()\n",
    "        temp[var] = (temp[var] / max_val) * 2 - 1 if max_val > 0 else 0\n",
    "    normalized.append(temp)\n",
    "model_df = pd.concat(normalized).reset_index(drop=True)\n",
    "\n",
    "# Expanding window: 1st round\n",
    "train = model_df[(model_df[\"date\"] >= \"2000-01-01\") & (model_df[\"date\"] < \"2009-01-01\")]\n",
    "val = model_df[(model_df[\"date\"] >= \"2009-01-01\") & (model_df[\"date\"] < \"2011-01-01\")]\n",
    "test = model_df[(model_df[\"date\"] >= \"2011-01-01\") & (model_df[\"date\"] < \"2012-01-01\")]\n",
    "\n",
    "X_train = train[factor_vars].values\n",
    "X_val = val[factor_vars].values\n",
    "X_test = test[factor_vars].values\n",
    "y_train = train[\"target_surprise_t+1\"].values\n",
    "y_val = val[\"target_surprise_t+1\"].values\n",
    "y_test = test[\"target_surprise_t+1\"].values\n",
    "\n",
    "# Standardize\n",
    "scaler = StandardScaler()\n",
    "scaler.fit(X_train)\n",
    "X_train_std = scaler.transform(X_train)\n",
    "X_test_std = scaler.transform(X_test)\n",
    "\n",
    "# Train Ridge\n",
    "print(\"Training Ridge (alpha=1.0)...\")\n",
    "ridge = Ridge(alpha=1.0)\n",
    "ridge.fit(X_train_std, y_train)\n",
    "y_pred = ridge.predict(X_test_std)\n",
    "\n",
    "r2 = r2_score(y_test, y_pred)\n",
    "print(f\"\\nTest R^2: {r2:.4f}\")\n",
    "\n",
    "# Rank features by absolute weight\n",
    "coef = pd.Series(ridge.coef_, index=factor_vars)\n",
    "top_coef = coef.abs().sort_values(ascending=False).head(20)\n",
    "print(\"\\nTop 20 Ridge Features:\")\n",
    "print(top_coef)\n",
    "\n",
    "# Plot\n",
    "plt.figure(figsize=(8, 5))\n",
    "coef[top_coef.index].plot(kind=\"barh\")\n",
    "plt.title(\"Top 20 Ridge Coefficients (|value|)\")\n",
    "plt.gca().invert_yaxis()\n",
    "plt.grid(True)\n",
    "plt.tight_layout()\n",
    "plt.show()"
   ]
  },
  {
   "cell_type": "code",
   "execution_count": null,
   "id": "80330b20-5a59-4913-a2ef-b4a95e18e118",
   "metadata": {},
   "outputs": [],
   "source": [
    "# Save\n",
    "pd.Series(top_coef.index).to_csv(\"../results/ridge_selected_features.csv\", index=False)\n",
    "print(\"\\nSaved top 20 Ridge features to: ../results/ridge_selected_features.csv\")"
   ]
  },
  {
   "cell_type": "code",
   "execution_count": 49,
   "id": "81a5e942-b60c-411f-a811-76aa070789d0",
   "metadata": {},
   "outputs": [
    {
     "name": "stdout",
     "output_type": "stream",
     "text": [
      "Using 19 features from Lasso union\n",
      "\n",
      "Normalizing features...\n",
      "Lasso R^2: 0.0055\n",
      "[LightGBM] [Info] Auto-choosing col-wise multi-threading, the overhead of testing was 0.006493 seconds.\n",
      "You can set `force_col_wise=true` to remove the overhead.\n",
      "[LightGBM] [Info] Total Bins 4607\n",
      "[LightGBM] [Info] Number of data points in the train set: 101924, number of used features: 19\n",
      "[LightGBM] [Info] Start training from score 0.008057\n",
      "Training until validation scores don't improve for 20 rounds\n"
     ]
    },
    {
     "name": "stderr",
     "output_type": "stream",
     "text": [
      "C:\\Users\\Yuriii\\.venv\\Lib\\site-packages\\sklearn\\utils\\deprecation.py:151: FutureWarning: 'force_all_finite' was renamed to 'ensure_all_finite' in 1.6 and will be removed in 1.8.\n",
      "  warnings.warn(\n"
     ]
    },
    {
     "name": "stdout",
     "output_type": "stream",
     "text": [
      "[20]\tvalid_0's l2: 0.0522885\n",
      "Early stopping, best iteration is:\n",
      "[2]\tvalid_0's l2: 0.051263\n",
      "LightGBM R^2: -0.0001\n"
     ]
    },
    {
     "name": "stderr",
     "output_type": "stream",
     "text": [
      "C:\\Users\\Yuriii\\.venv\\Lib\\site-packages\\sklearn\\utils\\deprecation.py:151: FutureWarning: 'force_all_finite' was renamed to 'ensure_all_finite' in 1.6 and will be removed in 1.8.\n",
      "  warnings.warn(\n"
     ]
    },
    {
     "name": "stdout",
     "output_type": "stream",
     "text": [
      "XGBoost R^2: -0.0580\n"
     ]
    },
    {
     "data": {
      "image/png": "[encoded data removed]",
      "text/plain": [
       "<Figure size 640x480 with 1 Axes>"
      ]
     },
     "metadata": {},
     "output_type": "display_data"
    }
   ],
   "source": [
    "# Compare models on Lasso union features: Lasso, LightGBM, XGBoost\n",
    "\n",
    "import pandas as pd\n",
    "import numpy as np\n",
    "from sklearn.linear_model import Lasso\n",
    "from sklearn.preprocessing import StandardScaler\n",
    "from sklearn.metrics import r2_score\n",
    "import lightgbm as lgb\n",
    "import xgboost as xgb\n",
    "import matplotlib.pyplot as plt\n",
    "from xgboost.callback import EarlyStopping\n",
    "\n",
    "# Load data\n",
    "firm_df = pd.read_csv(\"../data/raw/mma_sample_v2.csv\", parse_dates=[\"date\"])\n",
    "factor_list = pd.read_csv(\"../data/raw/factor_char_list.csv\")\n",
    "factor_vars = list(factor_list[\"variable\"].values)\n",
    "\n",
    "# Load union features\n",
    "lasso1 = pd.read_csv(\"../results/lasso_selected_features.csv\", header=None).iloc[1:, 0].tolist()\n",
    "lassoCV = pd.read_csv(\"../results/lasso_cv_selected_features.csv\", header=None).iloc[1:, 0].tolist()\n",
    "union_features = list(set(lasso1) | set(lassoCV))\n",
    "print(f\"Using {len(union_features)} features from Lasso union\\n\")\n",
    "\n",
    "# Preprocess earning surprise\n",
    "firm_df = firm_df.dropna(subset=[\"eps_meanest\", \"eps_actual\"])\n",
    "firm_df = firm_df.sort_values([\"permno\", \"date\"])\n",
    "firm_df[\"earning_surprise\"] = firm_df[\"eps_actual\"] - firm_df[\"eps_meanest\"]\n",
    "firm_df[\"earning_surprise\"] = firm_df[\"earning_surprise\"].clip(\n",
    "    lower=firm_df[\"earning_surprise\"].quantile(0.01),\n",
    "    upper=firm_df[\"earning_surprise\"].quantile(0.99))\n",
    "firm_df[\"target_surprise_t+1\"] = firm_df.groupby(\"permno\")[\"earning_surprise\"].shift(-1)\n",
    "model_df = firm_df.dropna(subset=[\"target_surprise_t+1\"]).copy()\n",
    "\n",
    "# Normalize per month [-1, 1]\n",
    "print(\"Normalizing features...\", flush=True)\n",
    "all_dates = model_df[\"date\"].unique()\n",
    "normalized = []\n",
    "for date in all_dates:\n",
    "    temp = model_df[model_df[\"date\"] == date].copy()\n",
    "    for var in union_features:\n",
    "        median = temp[var].median()\n",
    "        temp[var] = temp[var].fillna(median)\n",
    "        temp[var] = temp[var].rank(method=\"dense\") - 1\n",
    "        max_val = temp[var].max()\n",
    "        temp[var] = (temp[var] / max_val) * 2 - 1 if max_val > 0 else 0\n",
    "    normalized.append(temp)\n",
    "model_df = pd.concat(normalized).reset_index(drop=True)\n",
    "\n",
    "# 1st expanding window\n",
    "train = model_df[(model_df[\"date\"] >= \"2000-01-01\") & (model_df[\"date\"] < \"2009-01-01\")]\n",
    "val = model_df[(model_df[\"date\"] >= \"2009-01-01\") & (model_df[\"date\"] < \"2011-01-01\")]\n",
    "test = model_df[(model_df[\"date\"] >= \"2011-01-01\") & (model_df[\"date\"] < \"2012-01-01\")]\n",
    "\n",
    "X_train = train[union_features].values\n",
    "X_val = val[union_features].values\n",
    "X_test = test[union_features].values\n",
    "y_train = train[\"target_surprise_t+1\"].values\n",
    "y_val = val[\"target_surprise_t+1\"].values\n",
    "y_test = test[\"target_surprise_t+1\"].values\n",
    "\n",
    "# Standardize for Lasso\n",
    "scaler = StandardScaler()\n",
    "scaler.fit(X_train)\n",
    "X_train_std = scaler.transform(X_train)\n",
    "X_test_std = scaler.transform(X_test)\n",
    "\n",
    "# === Model 1: Lasso ===\n",
    "lasso = Lasso(alpha=0.001)\n",
    "lasso.fit(X_train_std, y_train)\n",
    "r2_lasso = r2_score(y_test, lasso.predict(X_test_std))\n",
    "print(f\"Lasso R^2: {r2_lasso:.4f}\")\n",
    "\n",
    "# === Model 2: LightGBM ===\n",
    "lgb_model = lgb.LGBMRegressor(n_estimators=500, learning_rate=0.05, max_depth=6, random_state=42)\n",
    "lgb_model.fit(X_train, y_train,\n",
    "              eval_set=[(X_val, y_val)],\n",
    "              callbacks=[lgb.early_stopping(20), lgb.log_evaluation(20)])\n",
    "r2_lgb = r2_score(y_test, lgb_model.predict(X_test))\n",
    "print(f\"LightGBM R^2: {r2_lgb:.4f}\")\n",
    "\n",
    "# === Model 3: XGBoost (no early stopping) ===\n",
    "xgb_model = xgb.XGBRegressor(n_estimators=500, learning_rate=0.05, max_depth=6, random_state=42)\n",
    "xgb_model.fit(X_train, y_train)\n",
    "r2_xgb = r2_score(y_test, xgb_model.predict(X_test))\n",
    "print(f\"XGBoost R^2: {r2_xgb:.4f}\")\n",
    "\n",
    "# Bar plot\n",
    "plt.barh([\"Lasso\", \"LightGBM\", \"XGBoost\"], [r2_lasso, r2_lgb, r2_xgb])\n",
    "plt.title(\"Model R^2 Comparison (Test Set)\")\n",
    "plt.xlabel(\"R^2\")\n",
    "plt.grid(True)\n",
    "plt.show()"
   ]
  },
  {
   "cell_type": "code",
   "execution_count": 43,
   "id": "176e4249-3d41-4ab8-aefd-318bd34f6a43",
   "metadata": {},
   "outputs": [
    {
     "name": "stdout",
     "output_type": "stream",
     "text": [
      "                  0\n",
      "0                 0\n",
      "1        seas_1_1na\n",
      "2         saleq_gr1\n",
      "3          ret_12_1\n",
      "4  prc_highprc_252d\n",
      "Index([0], dtype='int64')\n"
     ]
    }
   ],
   "source": [
    "df1 = pd.read_csv(\"../results/lasso_cv_selected_features.csv\", header=None)\n",
    "print(df1.head())\n",
    "print(df1.columns)"
   ]
  },
  {
   "cell_type": "code",
   "execution_count": 51,
   "id": "f9952934-b5e2-4437-b093-f2dfeece6e27",
   "metadata": {},
   "outputs": [
    {
     "name": "stdout",
     "output_type": "stream",
     "text": [
      "Normalizing features...\n"
     ]
    },
    {
     "name": "stderr",
     "output_type": "stream",
     "text": [
      "100%|████████████████████████████████████████████████████████████████████████████████| 287/287 [00:06<00:00, 41.85it/s]\n"
     ]
    },
    {
     "name": "stdout",
     "output_type": "stream",
     "text": [
      "\n",
      "Running expanding window prediction...\n",
      "\n"
     ]
    },
    {
     "name": "stderr",
     "output_type": "stream",
     "text": [
      "  8%|██████▍                                                                            | 1/13 [00:00<00:06,  1.84it/s]"
     ]
    },
    {
     "name": "stdout",
     "output_type": "stream",
     "text": [
      "Year 2011: R^2 = 0.0055\n"
     ]
    },
    {
     "name": "stderr",
     "output_type": "stream",
     "text": [
      " 15%|████████████▊                                                                      | 2/13 [00:00<00:05,  2.16it/s]"
     ]
    },
    {
     "name": "stdout",
     "output_type": "stream",
     "text": [
      "Year 2012: R^2 = -0.0071\n"
     ]
    },
    {
     "name": "stderr",
     "output_type": "stream",
     "text": [
      " 23%|███████████████████▏                                                               | 3/13 [00:01<00:04,  2.40it/s]"
     ]
    },
    {
     "name": "stdout",
     "output_type": "stream",
     "text": [
      "Year 2013: R^2 = -0.0143\n"
     ]
    },
    {
     "name": "stderr",
     "output_type": "stream",
     "text": [
      " 31%|█████████████████████████▌                                                         | 4/13 [00:01<00:03,  2.47it/s]"
     ]
    },
    {
     "name": "stdout",
     "output_type": "stream",
     "text": [
      "Year 2014: R^2 = -0.0027\n"
     ]
    },
    {
     "name": "stderr",
     "output_type": "stream",
     "text": [
      " 38%|███████████████████████████████▉                                                   | 5/13 [00:02<00:03,  2.46it/s]"
     ]
    },
    {
     "name": "stdout",
     "output_type": "stream",
     "text": [
      "Year 2015: R^2 = -0.0048\n"
     ]
    },
    {
     "name": "stderr",
     "output_type": "stream",
     "text": [
      " 46%|██████████████████████████████████████▎                                            | 6/13 [00:02<00:02,  2.39it/s]"
     ]
    },
    {
     "name": "stdout",
     "output_type": "stream",
     "text": [
      "Year 2016: R^2 = 0.0007\n"
     ]
    },
    {
     "name": "stderr",
     "output_type": "stream",
     "text": [
      " 54%|████████████████████████████████████████████▋                                      | 7/13 [00:03<00:02,  2.29it/s]"
     ]
    },
    {
     "name": "stdout",
     "output_type": "stream",
     "text": [
      "Year 2017: R^2 = -0.0060\n"
     ]
    },
    {
     "name": "stderr",
     "output_type": "stream",
     "text": [
      " 62%|███████████████████████████████████████████████████                                | 8/13 [00:03<00:02,  2.22it/s]"
     ]
    },
    {
     "name": "stdout",
     "output_type": "stream",
     "text": [
      "Year 2018: R^2 = -0.0140\n"
     ]
    },
    {
     "name": "stderr",
     "output_type": "stream",
     "text": [
      " 69%|█████████████████████████████████████████████████████████▍                         | 9/13 [00:03<00:01,  2.17it/s]"
     ]
    },
    {
     "name": "stdout",
     "output_type": "stream",
     "text": [
      "Year 2019: R^2 = 0.0032\n"
     ]
    },
    {
     "name": "stderr",
     "output_type": "stream",
     "text": [
      " 77%|███████████████████████████████████████████████████████████████                   | 10/13 [00:04<00:01,  2.07it/s]"
     ]
    },
    {
     "name": "stdout",
     "output_type": "stream",
     "text": [
      "Year 2020: R^2 = -0.0579\n"
     ]
    },
    {
     "name": "stderr",
     "output_type": "stream",
     "text": [
      " 85%|█████████████████████████████████████████████████████████████████████▍            | 11/13 [00:05<00:01,  1.99it/s]"
     ]
    },
    {
     "name": "stdout",
     "output_type": "stream",
     "text": [
      "Year 2021: R^2 = -0.1093\n"
     ]
    },
    {
     "name": "stderr",
     "output_type": "stream",
     "text": [
      " 92%|███████████████████████████████████████████████████████████████████████████▋      | 12/13 [00:05<00:00,  1.92it/s]"
     ]
    },
    {
     "name": "stdout",
     "output_type": "stream",
     "text": [
      "Year 2022: R^2 = -0.0034\n"
     ]
    },
    {
     "name": "stderr",
     "output_type": "stream",
     "text": [
      "100%|██████████████████████████████████████████████████████████████████████████████████| 13/13 [00:06<00:00,  2.11it/s]"
     ]
    },
    {
     "name": "stdout",
     "output_type": "stream",
     "text": [
      "Year 2023: R^2 = -0.0075\n"
     ]
    },
    {
     "name": "stderr",
     "output_type": "stream",
     "text": [
      "\n"
     ]
    }
   ],
   "source": [
    "# Run expanding-window Lasso prediction (alpha=0.001) for t+1 earning surprise\n",
    "\n",
    "import pandas as pd\n",
    "import numpy as np\n",
    "from sklearn.linear_model import Lasso\n",
    "from sklearn.preprocessing import StandardScaler\n",
    "from sklearn.metrics import r2_score\n",
    "from tqdm import tqdm\n",
    "\n",
    "# Load data\n",
    "firm_df = pd.read_csv(\"../data/raw/mma_sample_v2.csv\", parse_dates=[\"date\"])\n",
    "factor_list = pd.read_csv(\"../data/raw/factor_char_list.csv\")\n",
    "lasso_top20 = pd.read_csv(\"../results/lasso_selected_features.csv\", header=None).iloc[1:, 0].tolist()\n",
    "\n",
    "# Preprocess target\n",
    "firm_df = firm_df.dropna(subset=[\"eps_meanest\", \"eps_actual\"])\n",
    "firm_df = firm_df.sort_values([\"permno\", \"date\"])\n",
    "firm_df[\"earning_surprise\"] = firm_df[\"eps_actual\"] - firm_df[\"eps_meanest\"]\n",
    "firm_df[\"earning_surprise\"] = firm_df[\"earning_surprise\"].clip(\n",
    "    lower=firm_df[\"earning_surprise\"].quantile(0.01),\n",
    "    upper=firm_df[\"earning_surprise\"].quantile(0.99))\n",
    "firm_df[\"target_surprise_t+1\"] = firm_df.groupby(\"permno\")[\"earning_surprise\"].shift(-1)\n",
    "model_df = firm_df.dropna(subset=[\"target_surprise_t+1\"]).copy()\n",
    "\n",
    "# Normalize [-1, 1] by month\n",
    "print(\"Normalizing features...\")\n",
    "all_dates = model_df[\"date\"].unique()\n",
    "normalized = []\n",
    "for date in tqdm(all_dates):\n",
    "    temp = model_df[model_df[\"date\"] == date].copy()\n",
    "    for var in lasso_top20:\n",
    "        median = temp[var].median()\n",
    "        temp[var] = temp[var].fillna(median)\n",
    "        temp[var] = temp[var].rank(method=\"dense\") - 1\n",
    "        max_val = temp[var].max()\n",
    "        temp[var] = (temp[var] / max_val) * 2 - 1 if max_val > 0 else 0\n",
    "    normalized.append(temp)\n",
    "model_df = pd.concat(normalized).reset_index(drop=True)\n",
    "\n",
    "# Expanding window setup\n",
    "start_year = 2000\n",
    "test_years = list(range(2011, 2024))  # Run through 2023\n",
    "results = []\n",
    "preds = []\n",
    "\n",
    "print(\"\\nRunning expanding window prediction...\\n\")\n",
    "for test_year in tqdm(test_years):\n",
    "    train = model_df[model_df[\"date\"] < f\"{test_year - 2}-01-01\"]\n",
    "    val = model_df[(model_df[\"date\"] >= f\"{test_year - 2}-01-01\") & (model_df[\"date\"] < f\"{test_year}-01-01\")]\n",
    "    test = model_df[(model_df[\"date\"] >= f\"{test_year}-01-01\") & (model_df[\"date\"] < f\"{test_year + 1}-01-01\")]\n",
    "\n",
    "    X_train = train[lasso_top20].values\n",
    "    y_train = train[\"target_surprise_t+1\"].values\n",
    "    X_test = test[lasso_top20].values\n",
    "    y_test = test[\"target_surprise_t+1\"].values\n",
    "\n",
    "    scaler = StandardScaler()\n",
    "    X_train_std = scaler.fit_transform(X_train)\n",
    "    X_test_std = scaler.transform(X_test)\n",
    "\n",
    "    lasso = Lasso(alpha=0.001, max_iter=100000)\n",
    "    lasso.fit(X_train_std, y_train)\n",
    "    y_pred = lasso.predict(X_test_std)\n",
    "    r2 = r2_score(y_test, y_pred)\n",
    "\n",
    "    print(f\"Year {test_year}: R^2 = {r2:.4f}\")\n",
    "    results.append({\"year\": test_year, \"r2\": r2})\n",
    "\n",
    "    test_result = test[[\"date\", \"permno\"]].copy()\n",
    "    test_result[\"pred_surprise\"] = y_pred\n",
    "    preds.append(test_result)"
   ]
  },
  {
   "cell_type": "code",
   "execution_count": null,
   "id": "fd981dea-6213-4119-bb0c-d9294aeec1b6",
   "metadata": {},
   "outputs": [],
   "source": [
    "# Save prediction results\n",
    "pred_df = pd.concat(preds).reset_index(drop=True)\n",
    "pred_df.to_csv(\"../results/surprise_predictions.csv\", index=False)\n",
    "\n",
    "# Save R^2 log\n",
    "r2_log = pd.DataFrame(results)\n",
    "r2_log.to_csv(\"../results/surprise_r2_log.csv\", index=False)\n",
    "print(\"\\nAll predictions completed. Saved to ../results/surprise_predictions.csv\")"
   ]
  },
  {
   "cell_type": "code",
   "execution_count": 53,
   "id": "d486ed26-3656-4afe-a957-f00274a4db52",
   "metadata": {},
   "outputs": [
    {
     "name": "stdout",
     "output_type": "stream",
     "text": [
      "Normalizing features...\n"
     ]
    },
    {
     "name": "stderr",
     "output_type": "stream",
     "text": [
      "100%|████████████████████████████████████████████████████████████████████████████████| 287/287 [00:07<00:00, 40.95it/s]\n"
     ]
    },
    {
     "name": "stdout",
     "output_type": "stream",
     "text": [
      "\n",
      "Running expanding window with alpha tuning...\n",
      "\n"
     ]
    },
    {
     "name": "stderr",
     "output_type": "stream",
     "text": [
      "  8%|██████▍                                                                            | 1/13 [00:03<00:41,  3.46s/it]"
     ]
    },
    {
     "name": "stdout",
     "output_type": "stream",
     "text": [
      "Year 2011: best alpha=0.01624, val R²=-0.0236, test R²=0.0026\n"
     ]
    },
    {
     "name": "stderr",
     "output_type": "stream",
     "text": [
      " 15%|████████████▊                                                                      | 2/13 [00:06<00:33,  3.02s/it]"
     ]
    },
    {
     "name": "stdout",
     "output_type": "stream",
     "text": [
      "Year 2012: best alpha=0.00379, val R²=-0.0030, test R²=-0.0036\n"
     ]
    },
    {
     "name": "stderr",
     "output_type": "stream",
     "text": [
      " 23%|███████████████████▏                                                               | 3/13 [00:09<00:29,  2.94s/it]"
     ]
    },
    {
     "name": "stdout",
     "output_type": "stream",
     "text": [
      "Year 2013: best alpha=0.00379, val R²=0.0047, test R²=-0.0093\n"
     ]
    },
    {
     "name": "stderr",
     "output_type": "stream",
     "text": [
      " 31%|█████████████████████████▌                                                         | 4/13 [00:12<00:26,  2.98s/it]"
     ]
    },
    {
     "name": "stdout",
     "output_type": "stream",
     "text": [
      "Year 2014: best alpha=0.01624, val R²=-0.0023, test R²=0.0002\n"
     ]
    },
    {
     "name": "stderr",
     "output_type": "stream",
     "text": [
      " 38%|███████████████████████████████▉                                                   | 5/13 [00:15<00:25,  3.14s/it]"
     ]
    },
    {
     "name": "stdout",
     "output_type": "stream",
     "text": [
      "Year 2015: best alpha=0.00785, val R²=-0.0013, test R²=-0.0007\n"
     ]
    },
    {
     "name": "stderr",
     "output_type": "stream",
     "text": [
      " 46%|██████████████████████████████████████▎                                            | 6/13 [00:19<00:22,  3.29s/it]"
     ]
    },
    {
     "name": "stdout",
     "output_type": "stream",
     "text": [
      "Year 2016: best alpha=0.00785, val R²=0.0015, test R²=-0.0009\n"
     ]
    },
    {
     "name": "stderr",
     "output_type": "stream",
     "text": [
      " 54%|████████████████████████████████████████████▋                                      | 7/13 [00:22<00:20,  3.36s/it]"
     ]
    },
    {
     "name": "stdout",
     "output_type": "stream",
     "text": [
      "Year 2017: best alpha=0.00379, val R²=0.0017, test R²=-0.0051\n"
     ]
    },
    {
     "name": "stderr",
     "output_type": "stream",
     "text": [
      " 62%|███████████████████████████████████████████████████                                | 8/13 [00:26<00:17,  3.47s/it]"
     ]
    },
    {
     "name": "stdout",
     "output_type": "stream",
     "text": [
      "Year 2018: best alpha=0.00264, val R²=0.0007, test R²=-0.0137\n"
     ]
    },
    {
     "name": "stderr",
     "output_type": "stream",
     "text": [
      " 69%|█████████████████████████████████████████████████████████▍                         | 9/13 [00:30<00:14,  3.59s/it]"
     ]
    },
    {
     "name": "stdout",
     "output_type": "stream",
     "text": [
      "Year 2019: best alpha=0.00183, val R²=-0.0066, test R²=0.0037\n"
     ]
    },
    {
     "name": "stderr",
     "output_type": "stream",
     "text": [
      " 77%|███████████████████████████████████████████████████████████████                   | 10/13 [00:34<00:11,  3.82s/it]"
     ]
    },
    {
     "name": "stdout",
     "output_type": "stream",
     "text": [
      "Year 2020: best alpha=0.00183, val R²=-0.0002, test R²=-0.0581\n"
     ]
    },
    {
     "name": "stderr",
     "output_type": "stream",
     "text": [
      " 85%|█████████████████████████████████████████████████████████████████████▍            | 11/13 [00:38<00:07,  3.83s/it]"
     ]
    },
    {
     "name": "stdout",
     "output_type": "stream",
     "text": [
      "Year 2021: best alpha=0.00010, val R²=-0.0214, test R²=-0.1076\n"
     ]
    },
    {
     "name": "stderr",
     "output_type": "stream",
     "text": [
      " 92%|███████████████████████████████████████████████████████████████████████████▋      | 12/13 [00:42<00:03,  3.86s/it]"
     ]
    },
    {
     "name": "stdout",
     "output_type": "stream",
     "text": [
      "Year 2022: best alpha=0.00010, val R²=-0.0760, test R²=-0.0028\n"
     ]
    },
    {
     "name": "stderr",
     "output_type": "stream",
     "text": [
      "100%|██████████████████████████████████████████████████████████████████████████████████| 13/13 [00:46<00:00,  3.56s/it]"
     ]
    },
    {
     "name": "stdout",
     "output_type": "stream",
     "text": [
      "Year 2023: best alpha=0.00010, val R²=-0.0312, test R²=-0.0061\n"
     ]
    },
    {
     "name": "stderr",
     "output_type": "stream",
     "text": [
      "\n"
     ]
    }
   ],
   "source": [
    "# Expanding window with manual alpha tuning (Lasso) using val set\n",
    "\n",
    "import pandas as pd\n",
    "import numpy as np\n",
    "from sklearn.linear_model import Lasso\n",
    "from sklearn.preprocessing import StandardScaler\n",
    "from sklearn.metrics import r2_score\n",
    "from tqdm import tqdm\n",
    "\n",
    "# Load data\n",
    "firm_df = pd.read_csv(\"../data/raw/mma_sample_v2.csv\", parse_dates=[\"date\"])\n",
    "factor_list = pd.read_csv(\"../data/raw/factor_char_list.csv\")\n",
    "lasso_top20 = pd.read_csv(\"../results/lasso_selected_features.csv\", header=None).iloc[1:, 0].tolist()\n",
    "\n",
    "# Preprocess target\n",
    "firm_df = firm_df.dropna(subset=[\"eps_meanest\", \"eps_actual\"])\n",
    "firm_df = firm_df.sort_values([\"permno\", \"date\"])\n",
    "firm_df[\"earning_surprise\"] = firm_df[\"eps_actual\"] - firm_df[\"eps_meanest\"]\n",
    "firm_df[\"earning_surprise\"] = firm_df[\"earning_surprise\"].clip(\n",
    "    lower=firm_df[\"earning_surprise\"].quantile(0.01),\n",
    "    upper=firm_df[\"earning_surprise\"].quantile(0.99))\n",
    "firm_df[\"target_surprise_t+1\"] = firm_df.groupby(\"permno\")[\"earning_surprise\"].shift(-1)\n",
    "model_df = firm_df.dropna(subset=[\"target_surprise_t+1\"]).copy()\n",
    "\n",
    "# Normalize [-1, 1] by month\n",
    "print(\"Normalizing features...\")\n",
    "all_dates = model_df[\"date\"].unique()\n",
    "normalized = []\n",
    "for date in tqdm(all_dates):\n",
    "    temp = model_df[model_df[\"date\"] == date].copy()\n",
    "    for var in lasso_top20:\n",
    "        median = temp[var].median()\n",
    "        temp[var] = temp[var].fillna(median)\n",
    "        temp[var] = temp[var].rank(method=\"dense\") - 1\n",
    "        max_val = temp[var].max()\n",
    "        temp[var] = (temp[var] / max_val) * 2 - 1 if max_val > 0 else 0\n",
    "    normalized.append(temp)\n",
    "model_df = pd.concat(normalized).reset_index(drop=True)\n",
    "\n",
    "# Setup\n",
    "alphas = 10**np.linspace(-4, -1, 20)\n",
    "test_years = list(range(2011, 2024))\n",
    "results = []\n",
    "preds = []\n",
    "\n",
    "print(\"\\nRunning expanding window with alpha tuning...\\n\")\n",
    "for test_year in tqdm(test_years):\n",
    "    train = model_df[model_df[\"date\"] < f\"{test_year - 2}-01-01\"]\n",
    "    val = model_df[(model_df[\"date\"] >= f\"{test_year - 2}-01-01\") & (model_df[\"date\"] < f\"{test_year}-01-01\")]\n",
    "    test = model_df[(model_df[\"date\"] >= f\"{test_year}-01-01\") & (model_df[\"date\"] < f\"{test_year + 1}-01-01\")]\n",
    "\n",
    "    X_train = train[lasso_top20].values\n",
    "    y_train = train[\"target_surprise_t+1\"].values\n",
    "    X_val = val[lasso_top20].values\n",
    "    y_val = val[\"target_surprise_t+1\"].values\n",
    "    X_test = test[lasso_top20].values\n",
    "    y_test = test[\"target_surprise_t+1\"].values\n",
    "\n",
    "    # Standardize\n",
    "    scaler = StandardScaler()\n",
    "    X_train_std = scaler.fit_transform(X_train)\n",
    "    X_val_std = scaler.transform(X_val)\n",
    "    X_test_std = scaler.transform(X_test)\n",
    "\n",
    "    # Loop to find best alpha\n",
    "    best_r2 = -np.inf\n",
    "    best_alpha = None\n",
    "    best_model = None\n",
    "    for a in alphas:\n",
    "        model = Lasso(alpha=a, max_iter=100000)\n",
    "        model.fit(X_train_std, y_train)\n",
    "        r2_val = r2_score(y_val, model.predict(X_val_std))\n",
    "        if r2_val > best_r2:\n",
    "            best_r2 = r2_val\n",
    "            best_alpha = a\n",
    "            best_model = model\n",
    "\n",
    "    y_pred = best_model.predict(X_test_std)\n",
    "    r2_test = r2_score(y_test, y_pred)\n",
    "    print(f\"Year {test_year}: best alpha={best_alpha:.5f}, val R²={best_r2:.4f}, test R²={r2_test:.4f}\")\n",
    "    results.append({\"year\": test_year, \"alpha\": best_alpha, \"val_r2\": best_r2, \"test_r2\": r2_test})\n",
    "\n",
    "    test_result = test[[\"date\", \"permno\"]].copy()\n",
    "    test_result[\"pred_surprise\"] = y_pred\n",
    "    preds.append(test_result)"
   ]
  },
  {
   "cell_type": "code",
   "execution_count": null,
   "id": "5bbeeef5-0d4e-48ac-bf43-e3d5b4147652",
   "metadata": {},
   "outputs": [],
   "source": [
    "# Save\n",
    "pred_df = pd.concat(preds).reset_index(drop=True)\n",
    "pred_df.to_csv(\"../results/surprise_predictions.csv\", index=False)\n",
    "r2_df = pd.DataFrame(results)\n",
    "r2_df.to_csv(\"../results/surprise_r2_log.csv\", index=False)\n",
    "print(\"\\nAll predictions saved to ../results/surprise_predictions.csv\")"
   ]
  },
  {
   "cell_type": "code",
   "execution_count": 1,
   "id": "e86a70c7-3773-4520-b9da-0b98aa016b84",
   "metadata": {},
   "outputs": [
    {
     "name": "stdout",
     "output_type": "stream",
     "text": [
      "Year 2010: best alpha=0.00010, val R²=0.0249, test R²=-0.0290, selected=17\n"
     ]
    }
   ],
   "source": [
    "import pandas as pd\n",
    "import numpy as np\n",
    "from sklearn.linear_model import Lasso\n",
    "from sklearn.preprocessing import StandardScaler\n",
    "from sklearn.metrics import r2_score\n",
    "\n",
    "firm_df = pd.read_csv(\"../data/raw/mma_sample_v2.csv\", parse_dates=[\"date\"])\n",
    "factor_list = pd.read_csv(\"../data/raw/factor_char_list.csv\")\n",
    "lasso_top20 = pd.read_csv(\"../results/lasso_selected_features.csv\", header=None).iloc[1:, 0].tolist()\n",
    "\n",
    "firm_df = firm_df.dropna(subset=[\"eps_meanest\", \"eps_actual\"])\n",
    "firm_df = firm_df.sort_values([\"permno\", \"date\"])\n",
    "firm_df[\"earning_surprise\"] = firm_df[\"eps_actual\"] - firm_df[\"eps_meanest\"]\n",
    "firm_df[\"earning_surprise\"] = firm_df[\"earning_surprise\"].clip(\n",
    "    lower=firm_df[\"earning_surprise\"].quantile(0.01),\n",
    "    upper=firm_df[\"earning_surprise\"].quantile(0.99))\n",
    "firm_df[\"target_surprise_t+1\"] = firm_df.groupby(\"permno\")[\"earning_surprise\"].shift(-1)\n",
    "model_df = firm_df.dropna(subset=[\"target_surprise_t+1\"]).copy()\n",
    "\n",
    "all_dates = model_df[\"date\"].unique()\n",
    "normalized = []\n",
    "for date in all_dates:\n",
    "    temp = model_df[model_df[\"date\"] == date].copy()\n",
    "    for var in lasso_top20:\n",
    "        median = temp[var].median()\n",
    "        temp[var] = temp[var].fillna(median)\n",
    "        temp[var] = temp[var].rank(method=\"dense\") - 1\n",
    "        max_val = temp[var].max()\n",
    "        temp[var] = (temp[var] / max_val) * 2 - 1 if max_val > 0 else 0\n",
    "    normalized.append(temp)\n",
    "model_df = pd.concat(normalized).reset_index(drop=True)\n",
    "\n",
    "alphas = 10**np.linspace(-4, -1, 20)\n",
    "test_year = 2010\n",
    "\n",
    "train = model_df[model_df[\"date\"] < \"2008-01-01\"]\n",
    "val = model_df[(model_df[\"date\"] >= \"2008-01-01\") & (model_df[\"date\"] < \"2010-01-01\")]\n",
    "test = model_df[(model_df[\"date\"] >= \"2010-01-01\") & (model_df[\"date\"] < \"2011-01-01\")]\n",
    "\n",
    "X_train_feat = train[lasso_top20].values\n",
    "y_train = train[\"target_surprise_t+1\"].values\n",
    "scaler_feat = StandardScaler()\n",
    "X_train_std = scaler_feat.fit_transform(X_train_feat)\n",
    "selector_model = Lasso(alpha=0.001, max_iter=100000)\n",
    "selector_model.fit(X_train_std, y_train)\n",
    "selected_features = [lasso_top20[i] for i, keep in enumerate(selector_model.coef_ != 0) if keep]\n",
    "\n",
    "X_train = train[selected_features].values\n",
    "y_train = train[\"target_surprise_t+1\"].values\n",
    "X_val = val[selected_features].values\n",
    "y_val = val[\"target_surprise_t+1\"].values\n",
    "X_test = test[selected_features].values\n",
    "y_test = test[\"target_surprise_t+1\"].values\n",
    "\n",
    "scaler = StandardScaler()\n",
    "X_train_std = scaler.fit_transform(X_train)\n",
    "X_val_std = scaler.transform(X_val)\n",
    "X_test_std = scaler.transform(X_test)\n",
    "\n",
    "best_r2 = -np.inf\n",
    "best_alpha = None\n",
    "best_model = None\n",
    "for a in alphas:\n",
    "    model = Lasso(alpha=a, max_iter=100000)\n",
    "    model.fit(X_train_std, y_train)\n",
    "    r2_val = r2_score(y_val, model.predict(X_val_std))\n",
    "    if r2_val > best_r2:\n",
    "        best_r2 = r2_val\n",
    "        best_alpha = a\n",
    "        best_model = model\n",
    "\n",
    "# Final model on train + val\n",
    "combined = pd.concat([train, val])\n",
    "X_combined = combined[selected_features].values\n",
    "y_combined = combined[\"target_surprise_t+1\"].values\n",
    "X_test_final = test[selected_features].values\n",
    "\n",
    "scaler_final = StandardScaler()\n",
    "X_combined_std = scaler_final.fit_transform(X_combined)\n",
    "X_test_std = scaler_final.transform(X_test_final)\n",
    "\n",
    "final_model = Lasso(alpha=best_alpha, max_iter=100000)\n",
    "final_model.fit(X_combined_std, y_combined)\n",
    "y_pred = final_model.predict(X_test_std)\n",
    "r2_test = r2_score(y_test, y_pred)\n",
    "\n",
    "print(f\"Year {test_year}: best alpha={best_alpha:.5f}, val R²={best_r2:.4f}, test R²={r2_test:.4f}, selected={len(selected_features)}\")\n",
    "\n",
    "test_result_2010 = test[[\"date\", \"permno\"]].copy()\n",
    "test_result_2010[\"pred_surprise\"] = y_pred"
   ]
  },
  {
   "cell_type": "code",
   "execution_count": 2,
   "id": "e016b8ba-d9bc-4595-a924-0d09024d407f",
   "metadata": {},
   "outputs": [],
   "source": [
    "test_result_2010.to_csv(\"../results/surprise_2010.csv\", index=False)"
   ]
  },
  {
   "cell_type": "code",
   "execution_count": 57,
   "id": "3de91d8f-bb08-433a-852b-4cb6e6b4b8de",
   "metadata": {},
   "outputs": [
    {
     "name": "stdout",
     "output_type": "stream",
     "text": [
      "Normalizing features...\n"
     ]
    },
    {
     "name": "stderr",
     "output_type": "stream",
     "text": [
      "100%|████████████████████████████████████████████████████████████████████████████████| 287/287 [00:07<00:00, 39.61it/s]\n"
     ]
    },
    {
     "name": "stdout",
     "output_type": "stream",
     "text": [
      "\n",
      "Running expanding window with fixed-alpha feature selection and tuned-alpha prediction...\n",
      "\n"
     ]
    },
    {
     "name": "stderr",
     "output_type": "stream",
     "text": [
      "  8%|██████▍                                                                            | 1/13 [00:03<00:45,  3.81s/it]"
     ]
    },
    {
     "name": "stdout",
     "output_type": "stream",
     "text": [
      "Year 2011: best alpha=0.01624, val R²=-0.0236, test R²=0.0041, selected=19\n"
     ]
    },
    {
     "name": "stderr",
     "output_type": "stream",
     "text": [
      " 15%|████████████▊                                                                      | 2/13 [00:06<00:37,  3.41s/it]"
     ]
    },
    {
     "name": "stdout",
     "output_type": "stream",
     "text": [
      "Year 2012: best alpha=0.00379, val R²=-0.0028, test R²=-0.0002, selected=17\n"
     ]
    },
    {
     "name": "stderr",
     "output_type": "stream",
     "text": [
      " 23%|███████████████████▏                                                               | 3/13 [00:09<00:31,  3.18s/it]"
     ]
    },
    {
     "name": "stdout",
     "output_type": "stream",
     "text": [
      "Year 2013: best alpha=0.00379, val R²=0.0048, test R²=-0.0069, selected=15\n"
     ]
    },
    {
     "name": "stderr",
     "output_type": "stream",
     "text": [
      " 31%|█████████████████████████▌                                                         | 4/13 [00:12<00:27,  3.10s/it]"
     ]
    },
    {
     "name": "stdout",
     "output_type": "stream",
     "text": [
      "Year 2014: best alpha=0.01624, val R²=-0.0023, test R²=0.0004, selected=15\n"
     ]
    },
    {
     "name": "stderr",
     "output_type": "stream",
     "text": [
      " 38%|███████████████████████████████▉                                                   | 5/13 [00:15<00:24,  3.10s/it]"
     ]
    },
    {
     "name": "stdout",
     "output_type": "stream",
     "text": [
      "Year 2015: best alpha=0.00785, val R²=-0.0013, test R²=0.0009, selected=15\n"
     ]
    },
    {
     "name": "stderr",
     "output_type": "stream",
     "text": [
      " 46%|██████████████████████████████████████▎                                            | 6/13 [00:19<00:22,  3.21s/it]"
     ]
    },
    {
     "name": "stdout",
     "output_type": "stream",
     "text": [
      "Year 2016: best alpha=0.00785, val R²=0.0015, test R²=0.0002, selected=15\n"
     ]
    },
    {
     "name": "stderr",
     "output_type": "stream",
     "text": [
      " 54%|████████████████████████████████████████████▋                                      | 7/13 [00:23<00:20,  3.41s/it]"
     ]
    },
    {
     "name": "stdout",
     "output_type": "stream",
     "text": [
      "Year 2017: best alpha=0.00379, val R²=0.0018, test R²=-0.0031, selected=15\n"
     ]
    },
    {
     "name": "stderr",
     "output_type": "stream",
     "text": [
      " 62%|███████████████████████████████████████████████████                                | 8/13 [00:26<00:17,  3.48s/it]"
     ]
    },
    {
     "name": "stdout",
     "output_type": "stream",
     "text": [
      "Year 2018: best alpha=0.00264, val R²=0.0007, test R²=-0.0094, selected=15\n"
     ]
    },
    {
     "name": "stderr",
     "output_type": "stream",
     "text": [
      " 69%|█████████████████████████████████████████████████████████▍                         | 9/13 [00:30<00:14,  3.60s/it]"
     ]
    },
    {
     "name": "stdout",
     "output_type": "stream",
     "text": [
      "Year 2019: best alpha=0.00264, val R²=-0.0066, test R²=0.0077, selected=16\n"
     ]
    },
    {
     "name": "stderr",
     "output_type": "stream",
     "text": [
      " 77%|███████████████████████████████████████████████████████████████                   | 10/13 [00:34<00:11,  3.73s/it]"
     ]
    },
    {
     "name": "stdout",
     "output_type": "stream",
     "text": [
      "Year 2020: best alpha=0.00264, val R²=-0.0002, test R²=-0.0536, selected=16\n"
     ]
    },
    {
     "name": "stderr",
     "output_type": "stream",
     "text": [
      " 85%|█████████████████████████████████████████████████████████████████████▍            | 11/13 [00:39<00:07,  3.96s/it]"
     ]
    },
    {
     "name": "stdout",
     "output_type": "stream",
     "text": [
      "Year 2021: best alpha=0.00010, val R²=-0.0211, test R²=-0.0881, selected=16\n"
     ]
    },
    {
     "name": "stderr",
     "output_type": "stream",
     "text": [
      " 92%|███████████████████████████████████████████████████████████████████████████▋      | 12/13 [00:43<00:04,  4.04s/it]"
     ]
    },
    {
     "name": "stdout",
     "output_type": "stream",
     "text": [
      "Year 2022: best alpha=0.00010, val R²=-0.0760, test R²=0.0116, selected=16\n"
     ]
    },
    {
     "name": "stderr",
     "output_type": "stream",
     "text": [
      "100%|██████████████████████████████████████████████████████████████████████████████████| 13/13 [00:47<00:00,  3.62s/it]"
     ]
    },
    {
     "name": "stdout",
     "output_type": "stream",
     "text": [
      "Year 2023: best alpha=0.00010, val R²=-0.0311, test R²=0.0061, selected=15\n"
     ]
    },
    {
     "name": "stderr",
     "output_type": "stream",
     "text": [
      "\n"
     ]
    }
   ],
   "source": [
    "# Expanding window with per-round feature selection using fixed alpha, then tuning alpha\n",
    "\n",
    "import pandas as pd\n",
    "import numpy as np\n",
    "from sklearn.linear_model import Lasso\n",
    "from sklearn.preprocessing import StandardScaler\n",
    "from sklearn.metrics import r2_score\n",
    "from tqdm import tqdm\n",
    "\n",
    "# Load data\n",
    "firm_df = pd.read_csv(\"../data/raw/mma_sample_v2.csv\", parse_dates=[\"date\"])\n",
    "factor_list = pd.read_csv(\"../data/raw/factor_char_list.csv\")\n",
    "lasso_top20 = pd.read_csv(\"../results/lasso_selected_features.csv\", header=None).iloc[1:, 0].tolist()\n",
    "\n",
    "# Preprocess target\n",
    "firm_df = firm_df.dropna(subset=[\"eps_meanest\", \"eps_actual\"])\n",
    "firm_df = firm_df.sort_values([\"permno\", \"date\"])\n",
    "firm_df[\"earning_surprise\"] = firm_df[\"eps_actual\"] - firm_df[\"eps_meanest\"]\n",
    "firm_df[\"earning_surprise\"] = firm_df[\"earning_surprise\"].clip(\n",
    "    lower=firm_df[\"earning_surprise\"].quantile(0.01),\n",
    "    upper=firm_df[\"earning_surprise\"].quantile(0.99))\n",
    "firm_df[\"target_surprise_t+1\"] = firm_df.groupby(\"permno\")[\"earning_surprise\"].shift(-1)\n",
    "model_df = firm_df.dropna(subset=[\"target_surprise_t+1\"]).copy()\n",
    "\n",
    "# Normalize [-1, 1] by month\n",
    "print(\"Normalizing features...\")\n",
    "all_dates = model_df[\"date\"].unique()\n",
    "normalized = []\n",
    "for date in tqdm(all_dates):\n",
    "    temp = model_df[model_df[\"date\"] == date].copy()\n",
    "    for var in lasso_top20:\n",
    "        median = temp[var].median()\n",
    "        temp[var] = temp[var].fillna(median)\n",
    "        temp[var] = temp[var].rank(method=\"dense\") - 1\n",
    "        max_val = temp[var].max()\n",
    "        temp[var] = (temp[var] / max_val) * 2 - 1 if max_val > 0 else 0\n",
    "    normalized.append(temp)\n",
    "model_df = pd.concat(normalized).reset_index(drop=True)\n",
    "\n",
    "# Setup\n",
    "alphas = 10**np.linspace(-4, -1, 20)\n",
    "test_years = list(range(2011, 2024))\n",
    "results = []\n",
    "preds = []\n",
    "feature_logs = []\n",
    "\n",
    "print(\"\\nRunning expanding window with fixed-alpha feature selection and tuned-alpha prediction...\\n\")\n",
    "for test_year in tqdm(test_years):\n",
    "    train = model_df[model_df[\"date\"] < f\"{test_year - 2}-01-01\"]\n",
    "    val = model_df[(model_df[\"date\"] >= f\"{test_year - 2}-01-01\") & (model_df[\"date\"] < f\"{test_year}-01-01\")]\n",
    "    test = model_df[(model_df[\"date\"] >= f\"{test_year}-01-01\") & (model_df[\"date\"] < f\"{test_year + 1}-01-01\")]\n",
    "\n",
    "    # Step 1: use fixed alpha=0.001 to select features\n",
    "    X_train_feat = train[lasso_top20].values\n",
    "    y_train = train[\"target_surprise_t+1\"].values\n",
    "    scaler_feat = StandardScaler()\n",
    "    X_train_std = scaler_feat.fit_transform(X_train_feat)\n",
    "    selector_model = Lasso(alpha=0.001, max_iter=100000)\n",
    "    selector_model.fit(X_train_std, y_train)\n",
    "    selected_features = [lasso_top20[i] for i, keep in enumerate(selector_model.coef_ != 0) if keep]\n",
    "    feature_logs.append({\"year\": test_year, \"selected_features\": selected_features})\n",
    "\n",
    "    # Step 2: tune alpha using selected features\n",
    "    X_train = train[selected_features].values\n",
    "    y_train = train[\"target_surprise_t+1\"].values\n",
    "    X_val = val[selected_features].values\n",
    "    y_val = val[\"target_surprise_t+1\"].values\n",
    "    X_test = test[selected_features].values\n",
    "    y_test = test[\"target_surprise_t+1\"].values\n",
    "\n",
    "    scaler = StandardScaler()\n",
    "    X_train_std = scaler.fit_transform(X_train)\n",
    "    X_val_std = scaler.transform(X_val)\n",
    "    X_test_std = scaler.transform(X_test)\n",
    "\n",
    "    best_r2 = -np.inf\n",
    "    best_alpha = None\n",
    "    best_model = None\n",
    "    for a in alphas:\n",
    "        model = Lasso(alpha=a, max_iter=100000)\n",
    "        model.fit(X_train_std, y_train)\n",
    "        r2_val = r2_score(y_val, model.predict(X_val_std))\n",
    "        if r2_val > best_r2:\n",
    "            best_r2 = r2_val\n",
    "            best_alpha = a\n",
    "            best_model = model\n",
    "\n",
    "    # Final model trained on train+val\n",
    "    combined = pd.concat([train, val])\n",
    "    X_combined = combined[selected_features].values\n",
    "    y_combined = combined[\"target_surprise_t+1\"].values\n",
    "    X_test_final = test[selected_features].values\n",
    "\n",
    "    scaler_final = StandardScaler()\n",
    "    X_combined_std = scaler_final.fit_transform(X_combined)\n",
    "    X_test_std = scaler_final.transform(X_test_final)\n",
    "\n",
    "    final_model = Lasso(alpha=best_alpha, max_iter=100000)\n",
    "    final_model.fit(X_combined_std, y_combined)\n",
    "    y_pred = final_model.predict(X_test_std)\n",
    "    r2_test = r2_score(y_test, y_pred)\n",
    "\n",
    "    print(f\"Year {test_year}: best alpha={best_alpha:.5f}, val R²={best_r2:.4f}, test R²={r2_test:.4f}, selected={len(selected_features)}\")\n",
    "    results.append({\"year\": test_year, \"alpha\": best_alpha, \"val_r2\": best_r2, \"test_r2\": r2_test})\n",
    "\n",
    "    test_result = test[[\"date\", \"permno\"]].copy()\n",
    "    test_result[\"pred_surprise\"] = y_pred\n",
    "    preds.append(test_result)"
   ]
  },
  {
   "cell_type": "code",
   "execution_count": 58,
   "id": "10943af5-97d6-4cb2-a115-2e8c71021acf",
   "metadata": {},
   "outputs": [
    {
     "name": "stdout",
     "output_type": "stream",
     "text": [
      "\n",
      "All predictions and selected features saved.\n"
     ]
    }
   ],
   "source": [
    "# Save\n",
    "pred_df = pd.concat(preds).reset_index(drop=True)\n",
    "pred_df.to_csv(\"../results/surprise_predictions.csv\", index=False)\n",
    "r2_df = pd.DataFrame(results)\n",
    "r2_df.to_csv(\"../results/surprise_r2_log.csv\", index=False)\n",
    "pd.DataFrame(feature_logs).to_json(\"../results/surprise_feature_logs.json\", orient=\"records\", lines=True)\n",
    "print(\"\\nAll predictions and selected features saved.\")"
   ]
  },
  {
   "cell_type": "code",
   "execution_count": 3,
   "id": "e582e449-0c16-41bc-878b-69777d72d16b",
   "metadata": {},
   "outputs": [],
   "source": [
    "# Load existing surprise predictions\n",
    "old_surprise = pd.read_csv(\"../results/surprise_predictions.csv\", parse_dates=[\"date\"])\n",
    "\n",
    "# Ensure both DataFrames have the same columns\n",
    "test_result_2010 = test_result_2010[[\"date\", \"permno\", \"pred_surprise\"]]\n",
    "old_surprise = old_surprise[[\"date\", \"permno\", \"pred_surprise\"]]\n",
    "\n",
    "# Combine the new 2010 predictions with the existing data\n",
    "updated_surprise = pd.concat([test_result_2010, old_surprise], ignore_index=True)\n",
    "\n",
    "# Drop duplicates by permno + date, keeping the first occurrence (i.e., the new 2010 ones)\n",
    "updated_surprise = updated_surprise.drop_duplicates(subset=[\"permno\", \"date\"], keep=\"first\")\n",
    "\n",
    "# Sort the result by date ascending\n",
    "updated_surprise = updated_surprise.sort_values(\"date\").reset_index(drop=True)\n",
    "\n",
    "# Save the final combined surprise prediction file\n",
    "updated_surprise.to_csv(\"../results/surprise_predictions_updated.csv\", index=False)"
   ]
  },
  {
   "cell_type": "code",
   "execution_count": null,
   "id": "79160d9e-daf6-483d-bab8-27804a19ed4e",
   "metadata": {},
   "outputs": [],
   "source": []
  }
 ],
 "metadata": {
  "kernelspec": {
   "display_name": "Python (.venv)",
   "language": "python",
   "name": ".venv"
  },
  "language_info": {
   "codemirror_mode": {
    "name": "ipython",
    "version": 3
   },
   "file_extension": ".py",
   "mimetype": "text/x-python",
   "name": "python",
   "nbconvert_exporter": "python",
   "pygments_lexer": "ipython3",
   "version": "3.11.7"
  }
 },
 "nbformat": 4,
 "nbformat_minor": 5
}
