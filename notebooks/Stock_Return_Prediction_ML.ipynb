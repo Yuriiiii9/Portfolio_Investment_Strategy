{
 "cells": [
  {
   "cell_type": "code",
   "execution_count": 1,
   "id": "4f218d37-888a-4992-9991-25249ed4f3a8",
   "metadata": {},
   "outputs": [],
   "source": [
    "import pandas as pd\n",
    "import numpy as np\n",
    "from sklearn.preprocessing import StandardScaler\n",
    "from sklearn.linear_model import LinearRegression, Lasso, Ridge, ElasticNet\n",
    "from sklearn.metrics import mean_squared_error\n",
    "import datetime\n",
    "from tqdm import tqdm\n",
    "import time"
   ]
  },
  {
   "cell_type": "code",
   "execution_count": 6,
   "id": "109a5a85-0cdc-41ec-88dd-0fcd5dbe691a",
   "metadata": {},
   "outputs": [
    {
     "data": {
      "text/html": [
       "<div>\n",
       "<style scoped>\n",
       "    .dataframe tbody tr th:only-of-type {\n",
       "        vertical-align: middle;\n",
       "    }\n",
       "\n",
       "    .dataframe tbody tr th {\n",
       "        vertical-align: top;\n",
       "    }\n",
       "\n",
       "    .dataframe thead th {\n",
       "        text-align: right;\n",
       "    }\n",
       "</style>\n",
       "<table border=\"1\" class=\"dataframe\">\n",
       "  <thead>\n",
       "    <tr style=\"text-align: right;\">\n",
       "      <th></th>\n",
       "      <th>date</th>\n",
       "      <th>ret_eom</th>\n",
       "      <th>permno</th>\n",
       "      <th>shrcd</th>\n",
       "      <th>exchcd</th>\n",
       "      <th>mspread</th>\n",
       "      <th>year</th>\n",
       "      <th>month</th>\n",
       "      <th>size_port</th>\n",
       "      <th>rf</th>\n",
       "      <th>...</th>\n",
       "      <th>betadown_252d</th>\n",
       "      <th>bidaskhl_21d</th>\n",
       "      <th>corr_1260d</th>\n",
       "      <th>betabab_1260d</th>\n",
       "      <th>rmax5_rvol_21d</th>\n",
       "      <th>age</th>\n",
       "      <th>qmj</th>\n",
       "      <th>qmj_prof</th>\n",
       "      <th>qmj_growth</th>\n",
       "      <th>qmj_safety</th>\n",
       "    </tr>\n",
       "  </thead>\n",
       "  <tbody>\n",
       "    <tr>\n",
       "      <th>0</th>\n",
       "      <td>20000131</td>\n",
       "      <td>20000131</td>\n",
       "      <td>10078</td>\n",
       "      <td>11</td>\n",
       "      <td>3</td>\n",
       "      <td>0.017178</td>\n",
       "      <td>2000</td>\n",
       "      <td>1</td>\n",
       "      <td>B</td>\n",
       "      <td>0.0041</td>\n",
       "      <td>...</td>\n",
       "      <td>2.219037</td>\n",
       "      <td>0.012635</td>\n",
       "      <td>0.504688</td>\n",
       "      <td>1.581540</td>\n",
       "      <td>1.373224</td>\n",
       "      <td>180</td>\n",
       "      <td>1.700939</td>\n",
       "      <td>1.711756</td>\n",
       "      <td>1.476410</td>\n",
       "      <td>1.087626</td>\n",
       "    </tr>\n",
       "    <tr>\n",
       "      <th>1</th>\n",
       "      <td>20000131</td>\n",
       "      <td>20000131</td>\n",
       "      <td>10104</td>\n",
       "      <td>11</td>\n",
       "      <td>3</td>\n",
       "      <td>0.019720</td>\n",
       "      <td>2000</td>\n",
       "      <td>1</td>\n",
       "      <td>B</td>\n",
       "      <td>0.0041</td>\n",
       "      <td>...</td>\n",
       "      <td>1.437330</td>\n",
       "      <td>0.016634</td>\n",
       "      <td>0.473872</td>\n",
       "      <td>1.941648</td>\n",
       "      <td>2.058353</td>\n",
       "      <td>180</td>\n",
       "      <td>0.828930</td>\n",
       "      <td>1.717670</td>\n",
       "      <td>-0.603531</td>\n",
       "      <td>0.608215</td>\n",
       "    </tr>\n",
       "  </tbody>\n",
       "</table>\n",
       "<p>2 rows × 165 columns</p>\n",
       "</div>"
      ],
      "text/plain": [
       "       date   ret_eom  permno  shrcd  exchcd   mspread  year  month size_port  \\\n",
       "0  20000131  20000131   10078     11       3  0.017178  2000      1         B   \n",
       "1  20000131  20000131   10104     11       3  0.019720  2000      1         B   \n",
       "\n",
       "       rf  ...  betadown_252d bidaskhl_21d corr_1260d betabab_1260d  \\\n",
       "0  0.0041  ...       2.219037     0.012635   0.504688      1.581540   \n",
       "1  0.0041  ...       1.437330     0.016634   0.473872      1.941648   \n",
       "\n",
       "   rmax5_rvol_21d  age       qmj  qmj_prof  qmj_growth  qmj_safety  \n",
       "0        1.373224  180  1.700939  1.711756    1.476410    1.087626  \n",
       "1        2.058353  180  0.828930  1.717670   -0.603531    0.608215  \n",
       "\n",
       "[2 rows x 165 columns]"
      ]
     },
     "execution_count": 6,
     "metadata": {},
     "output_type": "execute_result"
    }
   ],
   "source": [
    "firm = pd.read_csv(\"../data/raw/mma_sample_v2.csv\")\n",
    "firm.head(2)"
   ]
  },
  {
   "cell_type": "code",
   "execution_count": 2,
   "id": "23c91c22-0386-4186-91b2-49b969aa7386",
   "metadata": {},
   "outputs": [],
   "source": [
    "# === Step 1: Load and merge data ===\n",
    "# Load firm-level data\n",
    "firm = pd.read_csv(\"../data/raw/mma_sample_v2.csv\", parse_dates=[\"date\", \"ret_eom\"])\n",
    "\n",
    "# Convert ret_eom (return date) to yyyymm for alignment\n",
    "firm[\"yyyymm\"] = firm[\"ret_eom\"].dt.to_period(\"M\").dt.to_timestamp()\n",
    "firm[\"year\"] = firm[\"yyyymm\"].dt.year\n",
    "firm[\"month\"] = firm[\"yyyymm\"].dt.month\n",
    "\n",
    "# Load macroeconomic variables and surprise predictions\n",
    "macro = pd.read_csv(\"../data/macro/macro_monthly.csv\")\n",
    "macro[\"yyyymm\"] = pd.to_datetime(macro[\"yyyymm\"].astype(str), format=\"%Y%m\")\n",
    "\n",
    "surprise = pd.read_csv(\"../results/surprise_predictions.csv\", parse_dates=[\"date\"])\n",
    "surprise[\"yyyymm\"] = surprise[\"date\"].dt.to_period(\"M\").dt.to_timestamp()\n",
    "surprise = surprise.rename(columns={\"predicted_surprise\": \"surprise_pred\"})\n",
    "\n",
    "# Load list of stock characteristic features\n",
    "factor_list = pd.read_csv(\"../data/raw/factor_char_list.csv\")[\"variable\"].tolist()"
   ]
  },
  {
   "cell_type": "code",
   "execution_count": 3,
   "id": "69eb06d9-75a5-4beb-8e0f-b42e1ce9806a",
   "metadata": {},
   "outputs": [],
   "source": [
    "# Filter firm data to include only relevant features\n",
    "firm = firm[[\"permno\", \"yyyymm\", \"stock_exret\", \"year\", \"month\"] + factor_list]\n",
    "\n",
    "# Drop observations with missing target value\n",
    "firm = firm[firm[\"stock_exret\"].notna()].copy()\n",
    "\n",
    "# Merge predicted surprise\n",
    "firm = firm.merge(surprise, on=[\"permno\", \"yyyymm\"], how=\"left\")\n",
    "\n",
    "# Merge macro variables\n",
    "df_full = firm.merge(macro, on=\"yyyymm\", how=\"left\")"
   ]
  },
  {
   "cell_type": "code",
   "execution_count": 18,
   "id": "717fbd4f-c900-45a0-808c-125692bb75cb",
   "metadata": {},
   "outputs": [
    {
     "data": {
      "text/html": [
       "<div>\n",
       "<style scoped>\n",
       "    .dataframe tbody tr th:only-of-type {\n",
       "        vertical-align: middle;\n",
       "    }\n",
       "\n",
       "    .dataframe tbody tr th {\n",
       "        vertical-align: top;\n",
       "    }\n",
       "\n",
       "    .dataframe thead th {\n",
       "        text-align: right;\n",
       "    }\n",
       "</style>\n",
       "<table border=\"1\" class=\"dataframe\">\n",
       "  <thead>\n",
       "    <tr style=\"text-align: right;\">\n",
       "      <th></th>\n",
       "      <th>permno</th>\n",
       "      <th>yyyymm</th>\n",
       "      <th>stock_exret</th>\n",
       "      <th>age</th>\n",
       "      <th>aliq_at</th>\n",
       "      <th>aliq_mat</th>\n",
       "      <th>ami_126d</th>\n",
       "      <th>at_be</th>\n",
       "      <th>at_gr1</th>\n",
       "      <th>at_me</th>\n",
       "      <th>...</th>\n",
       "      <th>date</th>\n",
       "      <th>pred_surprise</th>\n",
       "      <th>dp</th>\n",
       "      <th>ep</th>\n",
       "      <th>bm</th>\n",
       "      <th>ntis</th>\n",
       "      <th>svar</th>\n",
       "      <th>dfy</th>\n",
       "      <th>tms</th>\n",
       "      <th>tbl</th>\n",
       "    </tr>\n",
       "  </thead>\n",
       "  <tbody>\n",
       "    <tr>\n",
       "      <th>0</th>\n",
       "      <td>10078</td>\n",
       "      <td>2000-01-01</td>\n",
       "      <td>0.010428</td>\n",
       "      <td>180</td>\n",
       "      <td>1.1216</td>\n",
       "      <td>0.182049</td>\n",
       "      <td>0.000051</td>\n",
       "      <td>1.749945</td>\n",
       "      <td>0.474393</td>\n",
       "      <td>0.069654</td>\n",
       "      <td>...</td>\n",
       "      <td>NaT</td>\n",
       "      <td>NaN</td>\n",
       "      <td>-4.423938</td>\n",
       "      <td>-3.346471</td>\n",
       "      <td>0.154654</td>\n",
       "      <td>0.025359</td>\n",
       "      <td>0.005206</td>\n",
       "      <td>0.0055</td>\n",
       "      <td>0.0134</td>\n",
       "      <td>0.0532</td>\n",
       "    </tr>\n",
       "    <tr>\n",
       "      <th>1</th>\n",
       "      <td>10104</td>\n",
       "      <td>2000-01-01</td>\n",
       "      <td>-0.112577</td>\n",
       "      <td>180</td>\n",
       "      <td>0.9079</td>\n",
       "      <td>0.117486</td>\n",
       "      <td>0.000083</td>\n",
       "      <td>1.798574</td>\n",
       "      <td>0.156012</td>\n",
       "      <td>0.041240</td>\n",
       "      <td>...</td>\n",
       "      <td>NaT</td>\n",
       "      <td>NaN</td>\n",
       "      <td>-4.423938</td>\n",
       "      <td>-3.346471</td>\n",
       "      <td>0.154654</td>\n",
       "      <td>0.025359</td>\n",
       "      <td>0.005206</td>\n",
       "      <td>0.0055</td>\n",
       "      <td>0.0134</td>\n",
       "      <td>0.0532</td>\n",
       "    </tr>\n",
       "  </tbody>\n",
       "</table>\n",
       "<p>2 rows × 160 columns</p>\n",
       "</div>"
      ],
      "text/plain": [
       "   permno     yyyymm  stock_exret  age  aliq_at  aliq_mat  ami_126d     at_be  \\\n",
       "0   10078 2000-01-01     0.010428  180   1.1216  0.182049  0.000051  1.749945   \n",
       "1   10104 2000-01-01    -0.112577  180   0.9079  0.117486  0.000083  1.798574   \n",
       "\n",
       "     at_gr1     at_me  ...  date  pred_surprise        dp        ep        bm  \\\n",
       "0  0.474393  0.069654  ...   NaT            NaN -4.423938 -3.346471  0.154654   \n",
       "1  0.156012  0.041240  ...   NaT            NaN -4.423938 -3.346471  0.154654   \n",
       "\n",
       "       ntis      svar     dfy     tms     tbl  \n",
       "0  0.025359  0.005206  0.0055  0.0134  0.0532  \n",
       "1  0.025359  0.005206  0.0055  0.0134  0.0532  \n",
       "\n",
       "[2 rows x 160 columns]"
      ]
     },
     "execution_count": 18,
     "metadata": {},
     "output_type": "execute_result"
    }
   ],
   "source": [
    "df_full.head(2)"
   ]
  },
  {
   "cell_type": "code",
   "execution_count": 4,
   "id": "7f816491-107b-489e-a63d-57a2e06e68b3",
   "metadata": {},
   "outputs": [],
   "source": [
    "# === Step 2: Create interaction terms in batches (excluding surprise_pred and date) ===\n",
    "macro_vars = ['dp', 'ep', 'ntis', 'bm', 'svar', 'dfy', 'tms', 'tbl']\n",
    "interaction_terms = []\n",
    "batch_size = 20  # adjust as needed depending on memory capacity\n",
    "\n",
    "for i in range(0, len(factor_list), batch_size):\n",
    "    batch_vars = factor_list[i:i + batch_size]\n",
    "    interaction_data = {}\n",
    "\n",
    "    for macro_var in macro_vars:\n",
    "        for firm_var in batch_vars:\n",
    "            col_name = f\"{firm_var}_{macro_var}\"\n",
    "            interaction_data[col_name] = df_full[firm_var] * df_full[macro_var]\n",
    "            interaction_terms.append(col_name)\n",
    "\n",
    "    interaction_df = pd.DataFrame(interaction_data)\n",
    "    df_full = pd.concat([df_full.reset_index(drop=True), interaction_df.reset_index(drop=True)], axis=1)\n",
    "    del interaction_df, interaction_data  # free memory after each batch"
   ]
  },
  {
   "cell_type": "code",
   "execution_count": 5,
   "id": "baa81b7b-fffc-465a-bfab-104f2dd746ce",
   "metadata": {},
   "outputs": [],
   "source": [
    "# Add surprise_pred as a direct feature (no interaction)\n",
    "if \"surprise_pred\" not in df_full.columns:\n",
    "    df_full[\"surprise_pred\"] = np.nan\n",
    "\n",
    "# Final feature list for modeling\n",
    "all_features = factor_list + interaction_terms + [\"surprise_pred\"]"
   ]
  },
  {
   "cell_type": "code",
   "execution_count": 6,
   "id": "482c3593-93cb-437c-a938-1fc6d30c7e25",
   "metadata": {},
   "outputs": [
    {
     "name": "stderr",
     "output_type": "stream",
     "text": [
      "C:\\Users\\Yuriii\\.venv\\Lib\\site-packages\\numpy\\lib\\nanfunctions.py:1215: RuntimeWarning: Mean of empty slice\n",
      "  return np.nanmean(a, axis, out=out, keepdims=keepdims)\n",
      "C:\\Users\\Yuriii\\.venv\\Lib\\site-packages\\numpy\\lib\\nanfunctions.py:1215: RuntimeWarning: Mean of empty slice\n",
      "  return np.nanmean(a, axis, out=out, keepdims=keepdims)\n",
      "C:\\Users\\Yuriii\\.venv\\Lib\\site-packages\\numpy\\lib\\nanfunctions.py:1215: RuntimeWarning: Mean of empty slice\n",
      "  return np.nanmean(a, axis, out=out, keepdims=keepdims)\n",
      "C:\\Users\\Yuriii\\.venv\\Lib\\site-packages\\numpy\\lib\\nanfunctions.py:1215: RuntimeWarning: Mean of empty slice\n",
      "  return np.nanmean(a, axis, out=out, keepdims=keepdims)\n",
      "C:\\Users\\Yuriii\\.venv\\Lib\\site-packages\\numpy\\lib\\nanfunctions.py:1215: RuntimeWarning: Mean of empty slice\n",
      "  return np.nanmean(a, axis, out=out, keepdims=keepdims)\n",
      "C:\\Users\\Yuriii\\.venv\\Lib\\site-packages\\numpy\\lib\\nanfunctions.py:1215: RuntimeWarning: Mean of empty slice\n",
      "  return np.nanmean(a, axis, out=out, keepdims=keepdims)\n",
      "C:\\Users\\Yuriii\\.venv\\Lib\\site-packages\\numpy\\lib\\nanfunctions.py:1215: RuntimeWarning: Mean of empty slice\n",
      "  return np.nanmean(a, axis, out=out, keepdims=keepdims)\n",
      "C:\\Users\\Yuriii\\.venv\\Lib\\site-packages\\numpy\\lib\\nanfunctions.py:1215: RuntimeWarning: Mean of empty slice\n",
      "  return np.nanmean(a, axis, out=out, keepdims=keepdims)\n",
      "C:\\Users\\Yuriii\\.venv\\Lib\\site-packages\\numpy\\lib\\nanfunctions.py:1215: RuntimeWarning: Mean of empty slice\n",
      "  return np.nanmean(a, axis, out=out, keepdims=keepdims)\n",
      "C:\\Users\\Yuriii\\.venv\\Lib\\site-packages\\numpy\\lib\\nanfunctions.py:1215: RuntimeWarning: Mean of empty slice\n",
      "  return np.nanmean(a, axis, out=out, keepdims=keepdims)\n",
      "C:\\Users\\Yuriii\\.venv\\Lib\\site-packages\\numpy\\lib\\nanfunctions.py:1215: RuntimeWarning: Mean of empty slice\n",
      "  return np.nanmean(a, axis, out=out, keepdims=keepdims)\n",
      "C:\\Users\\Yuriii\\.venv\\Lib\\site-packages\\numpy\\lib\\nanfunctions.py:1215: RuntimeWarning: Mean of empty slice\n",
      "  return np.nanmean(a, axis, out=out, keepdims=keepdims)\n",
      "C:\\Users\\Yuriii\\.venv\\Lib\\site-packages\\numpy\\lib\\nanfunctions.py:1215: RuntimeWarning: Mean of empty slice\n",
      "  return np.nanmean(a, axis, out=out, keepdims=keepdims)\n",
      "C:\\Users\\Yuriii\\.venv\\Lib\\site-packages\\numpy\\lib\\nanfunctions.py:1215: RuntimeWarning: Mean of empty slice\n",
      "  return np.nanmean(a, axis, out=out, keepdims=keepdims)\n",
      "C:\\Users\\Yuriii\\.venv\\Lib\\site-packages\\numpy\\lib\\nanfunctions.py:1215: RuntimeWarning: Mean of empty slice\n",
      "  return np.nanmean(a, axis, out=out, keepdims=keepdims)\n",
      "C:\\Users\\Yuriii\\.venv\\Lib\\site-packages\\numpy\\lib\\nanfunctions.py:1215: RuntimeWarning: Mean of empty slice\n",
      "  return np.nanmean(a, axis, out=out, keepdims=keepdims)\n",
      "C:\\Users\\Yuriii\\.venv\\Lib\\site-packages\\numpy\\lib\\nanfunctions.py:1215: RuntimeWarning: Mean of empty slice\n",
      "  return np.nanmean(a, axis, out=out, keepdims=keepdims)\n",
      "C:\\Users\\Yuriii\\.venv\\Lib\\site-packages\\numpy\\lib\\nanfunctions.py:1215: RuntimeWarning: Mean of empty slice\n",
      "  return np.nanmean(a, axis, out=out, keepdims=keepdims)\n",
      "C:\\Users\\Yuriii\\.venv\\Lib\\site-packages\\numpy\\lib\\nanfunctions.py:1215: RuntimeWarning: Mean of empty slice\n",
      "  return np.nanmean(a, axis, out=out, keepdims=keepdims)\n",
      "C:\\Users\\Yuriii\\.venv\\Lib\\site-packages\\numpy\\lib\\nanfunctions.py:1215: RuntimeWarning: Mean of empty slice\n",
      "  return np.nanmean(a, axis, out=out, keepdims=keepdims)\n",
      "C:\\Users\\Yuriii\\.venv\\Lib\\site-packages\\numpy\\lib\\nanfunctions.py:1215: RuntimeWarning: Mean of empty slice\n",
      "  return np.nanmean(a, axis, out=out, keepdims=keepdims)\n",
      "C:\\Users\\Yuriii\\.venv\\Lib\\site-packages\\numpy\\lib\\nanfunctions.py:1215: RuntimeWarning: Mean of empty slice\n",
      "  return np.nanmean(a, axis, out=out, keepdims=keepdims)\n",
      "C:\\Users\\Yuriii\\.venv\\Lib\\site-packages\\numpy\\lib\\nanfunctions.py:1215: RuntimeWarning: Mean of empty slice\n",
      "  return np.nanmean(a, axis, out=out, keepdims=keepdims)\n",
      "C:\\Users\\Yuriii\\.venv\\Lib\\site-packages\\numpy\\lib\\nanfunctions.py:1215: RuntimeWarning: Mean of empty slice\n",
      "  return np.nanmean(a, axis, out=out, keepdims=keepdims)\n",
      "C:\\Users\\Yuriii\\.venv\\Lib\\site-packages\\numpy\\lib\\nanfunctions.py:1215: RuntimeWarning: Mean of empty slice\n",
      "  return np.nanmean(a, axis, out=out, keepdims=keepdims)\n",
      "C:\\Users\\Yuriii\\.venv\\Lib\\site-packages\\numpy\\lib\\nanfunctions.py:1215: RuntimeWarning: Mean of empty slice\n",
      "  return np.nanmean(a, axis, out=out, keepdims=keepdims)\n",
      "C:\\Users\\Yuriii\\.venv\\Lib\\site-packages\\numpy\\lib\\nanfunctions.py:1215: RuntimeWarning: Mean of empty slice\n",
      "  return np.nanmean(a, axis, out=out, keepdims=keepdims)\n",
      "C:\\Users\\Yuriii\\.venv\\Lib\\site-packages\\numpy\\lib\\nanfunctions.py:1215: RuntimeWarning: Mean of empty slice\n",
      "  return np.nanmean(a, axis, out=out, keepdims=keepdims)\n",
      "C:\\Users\\Yuriii\\.venv\\Lib\\site-packages\\numpy\\lib\\nanfunctions.py:1215: RuntimeWarning: Mean of empty slice\n",
      "  return np.nanmean(a, axis, out=out, keepdims=keepdims)\n",
      "C:\\Users\\Yuriii\\.venv\\Lib\\site-packages\\numpy\\lib\\nanfunctions.py:1215: RuntimeWarning: Mean of empty slice\n",
      "  return np.nanmean(a, axis, out=out, keepdims=keepdims)\n",
      "C:\\Users\\Yuriii\\.venv\\Lib\\site-packages\\numpy\\lib\\nanfunctions.py:1215: RuntimeWarning: Mean of empty slice\n",
      "  return np.nanmean(a, axis, out=out, keepdims=keepdims)\n",
      "C:\\Users\\Yuriii\\.venv\\Lib\\site-packages\\numpy\\lib\\nanfunctions.py:1215: RuntimeWarning: Mean of empty slice\n",
      "  return np.nanmean(a, axis, out=out, keepdims=keepdims)\n",
      "C:\\Users\\Yuriii\\.venv\\Lib\\site-packages\\numpy\\lib\\nanfunctions.py:1215: RuntimeWarning: Mean of empty slice\n",
      "  return np.nanmean(a, axis, out=out, keepdims=keepdims)\n",
      "C:\\Users\\Yuriii\\.venv\\Lib\\site-packages\\numpy\\lib\\nanfunctions.py:1215: RuntimeWarning: Mean of empty slice\n",
      "  return np.nanmean(a, axis, out=out, keepdims=keepdims)\n",
      "C:\\Users\\Yuriii\\.venv\\Lib\\site-packages\\numpy\\lib\\nanfunctions.py:1215: RuntimeWarning: Mean of empty slice\n",
      "  return np.nanmean(a, axis, out=out, keepdims=keepdims)\n",
      "C:\\Users\\Yuriii\\.venv\\Lib\\site-packages\\numpy\\lib\\nanfunctions.py:1215: RuntimeWarning: Mean of empty slice\n",
      "  return np.nanmean(a, axis, out=out, keepdims=keepdims)\n",
      "C:\\Users\\Yuriii\\.venv\\Lib\\site-packages\\numpy\\lib\\nanfunctions.py:1215: RuntimeWarning: Mean of empty slice\n",
      "  return np.nanmean(a, axis, out=out, keepdims=keepdims)\n",
      "C:\\Users\\Yuriii\\.venv\\Lib\\site-packages\\numpy\\lib\\nanfunctions.py:1215: RuntimeWarning: Mean of empty slice\n",
      "  return np.nanmean(a, axis, out=out, keepdims=keepdims)\n",
      "C:\\Users\\Yuriii\\.venv\\Lib\\site-packages\\numpy\\lib\\nanfunctions.py:1215: RuntimeWarning: Mean of empty slice\n",
      "  return np.nanmean(a, axis, out=out, keepdims=keepdims)\n",
      "C:\\Users\\Yuriii\\.venv\\Lib\\site-packages\\numpy\\lib\\nanfunctions.py:1215: RuntimeWarning: Mean of empty slice\n",
      "  return np.nanmean(a, axis, out=out, keepdims=keepdims)\n",
      "C:\\Users\\Yuriii\\.venv\\Lib\\site-packages\\numpy\\lib\\nanfunctions.py:1215: RuntimeWarning: Mean of empty slice\n",
      "  return np.nanmean(a, axis, out=out, keepdims=keepdims)\n",
      "C:\\Users\\Yuriii\\.venv\\Lib\\site-packages\\numpy\\lib\\nanfunctions.py:1215: RuntimeWarning: Mean of empty slice\n",
      "  return np.nanmean(a, axis, out=out, keepdims=keepdims)\n",
      "C:\\Users\\Yuriii\\.venv\\Lib\\site-packages\\numpy\\lib\\nanfunctions.py:1215: RuntimeWarning: Mean of empty slice\n",
      "  return np.nanmean(a, axis, out=out, keepdims=keepdims)\n",
      "C:\\Users\\Yuriii\\.venv\\Lib\\site-packages\\numpy\\lib\\nanfunctions.py:1215: RuntimeWarning: Mean of empty slice\n",
      "  return np.nanmean(a, axis, out=out, keepdims=keepdims)\n",
      "C:\\Users\\Yuriii\\.venv\\Lib\\site-packages\\numpy\\lib\\nanfunctions.py:1215: RuntimeWarning: Mean of empty slice\n",
      "  return np.nanmean(a, axis, out=out, keepdims=keepdims)\n",
      "C:\\Users\\Yuriii\\.venv\\Lib\\site-packages\\numpy\\lib\\nanfunctions.py:1215: RuntimeWarning: Mean of empty slice\n",
      "  return np.nanmean(a, axis, out=out, keepdims=keepdims)\n",
      "C:\\Users\\Yuriii\\.venv\\Lib\\site-packages\\numpy\\lib\\nanfunctions.py:1215: RuntimeWarning: Mean of empty slice\n",
      "  return np.nanmean(a, axis, out=out, keepdims=keepdims)\n",
      "C:\\Users\\Yuriii\\.venv\\Lib\\site-packages\\numpy\\lib\\nanfunctions.py:1215: RuntimeWarning: Mean of empty slice\n",
      "  return np.nanmean(a, axis, out=out, keepdims=keepdims)\n",
      "C:\\Users\\Yuriii\\.venv\\Lib\\site-packages\\numpy\\lib\\nanfunctions.py:1215: RuntimeWarning: Mean of empty slice\n",
      "  return np.nanmean(a, axis, out=out, keepdims=keepdims)\n",
      "C:\\Users\\Yuriii\\.venv\\Lib\\site-packages\\numpy\\lib\\nanfunctions.py:1215: RuntimeWarning: Mean of empty slice\n",
      "  return np.nanmean(a, axis, out=out, keepdims=keepdims)\n",
      "C:\\Users\\Yuriii\\.venv\\Lib\\site-packages\\numpy\\lib\\nanfunctions.py:1215: RuntimeWarning: Mean of empty slice\n",
      "  return np.nanmean(a, axis, out=out, keepdims=keepdims)\n",
      "C:\\Users\\Yuriii\\.venv\\Lib\\site-packages\\numpy\\lib\\nanfunctions.py:1215: RuntimeWarning: Mean of empty slice\n",
      "  return np.nanmean(a, axis, out=out, keepdims=keepdims)\n",
      "C:\\Users\\Yuriii\\.venv\\Lib\\site-packages\\numpy\\lib\\nanfunctions.py:1215: RuntimeWarning: Mean of empty slice\n",
      "  return np.nanmean(a, axis, out=out, keepdims=keepdims)\n",
      "C:\\Users\\Yuriii\\.venv\\Lib\\site-packages\\numpy\\lib\\nanfunctions.py:1215: RuntimeWarning: Mean of empty slice\n",
      "  return np.nanmean(a, axis, out=out, keepdims=keepdims)\n",
      "C:\\Users\\Yuriii\\.venv\\Lib\\site-packages\\numpy\\lib\\nanfunctions.py:1215: RuntimeWarning: Mean of empty slice\n",
      "  return np.nanmean(a, axis, out=out, keepdims=keepdims)\n",
      "C:\\Users\\Yuriii\\.venv\\Lib\\site-packages\\numpy\\lib\\nanfunctions.py:1215: RuntimeWarning: Mean of empty slice\n",
      "  return np.nanmean(a, axis, out=out, keepdims=keepdims)\n",
      "C:\\Users\\Yuriii\\.venv\\Lib\\site-packages\\numpy\\lib\\nanfunctions.py:1215: RuntimeWarning: Mean of empty slice\n",
      "  return np.nanmean(a, axis, out=out, keepdims=keepdims)\n",
      "C:\\Users\\Yuriii\\.venv\\Lib\\site-packages\\numpy\\lib\\nanfunctions.py:1215: RuntimeWarning: Mean of empty slice\n",
      "  return np.nanmean(a, axis, out=out, keepdims=keepdims)\n",
      "C:\\Users\\Yuriii\\.venv\\Lib\\site-packages\\numpy\\lib\\nanfunctions.py:1215: RuntimeWarning: Mean of empty slice\n",
      "  return np.nanmean(a, axis, out=out, keepdims=keepdims)\n",
      "C:\\Users\\Yuriii\\.venv\\Lib\\site-packages\\numpy\\lib\\nanfunctions.py:1215: RuntimeWarning: Mean of empty slice\n",
      "  return np.nanmean(a, axis, out=out, keepdims=keepdims)\n",
      "C:\\Users\\Yuriii\\.venv\\Lib\\site-packages\\numpy\\lib\\nanfunctions.py:1215: RuntimeWarning: Mean of empty slice\n",
      "  return np.nanmean(a, axis, out=out, keepdims=keepdims)\n",
      "C:\\Users\\Yuriii\\.venv\\Lib\\site-packages\\numpy\\lib\\nanfunctions.py:1215: RuntimeWarning: Mean of empty slice\n",
      "  return np.nanmean(a, axis, out=out, keepdims=keepdims)\n",
      "C:\\Users\\Yuriii\\.venv\\Lib\\site-packages\\numpy\\lib\\nanfunctions.py:1215: RuntimeWarning: Mean of empty slice\n",
      "  return np.nanmean(a, axis, out=out, keepdims=keepdims)\n",
      "C:\\Users\\Yuriii\\.venv\\Lib\\site-packages\\numpy\\lib\\nanfunctions.py:1215: RuntimeWarning: Mean of empty slice\n",
      "  return np.nanmean(a, axis, out=out, keepdims=keepdims)\n",
      "C:\\Users\\Yuriii\\.venv\\Lib\\site-packages\\numpy\\lib\\nanfunctions.py:1215: RuntimeWarning: Mean of empty slice\n",
      "  return np.nanmean(a, axis, out=out, keepdims=keepdims)\n",
      "C:\\Users\\Yuriii\\.venv\\Lib\\site-packages\\numpy\\lib\\nanfunctions.py:1215: RuntimeWarning: Mean of empty slice\n",
      "  return np.nanmean(a, axis, out=out, keepdims=keepdims)\n",
      "C:\\Users\\Yuriii\\.venv\\Lib\\site-packages\\numpy\\lib\\nanfunctions.py:1215: RuntimeWarning: Mean of empty slice\n",
      "  return np.nanmean(a, axis, out=out, keepdims=keepdims)\n",
      "C:\\Users\\Yuriii\\.venv\\Lib\\site-packages\\numpy\\lib\\nanfunctions.py:1215: RuntimeWarning: Mean of empty slice\n",
      "  return np.nanmean(a, axis, out=out, keepdims=keepdims)\n",
      "C:\\Users\\Yuriii\\.venv\\Lib\\site-packages\\numpy\\lib\\nanfunctions.py:1215: RuntimeWarning: Mean of empty slice\n",
      "  return np.nanmean(a, axis, out=out, keepdims=keepdims)\n",
      "C:\\Users\\Yuriii\\.venv\\Lib\\site-packages\\numpy\\lib\\nanfunctions.py:1215: RuntimeWarning: Mean of empty slice\n",
      "  return np.nanmean(a, axis, out=out, keepdims=keepdims)\n",
      "C:\\Users\\Yuriii\\.venv\\Lib\\site-packages\\numpy\\lib\\nanfunctions.py:1215: RuntimeWarning: Mean of empty slice\n",
      "  return np.nanmean(a, axis, out=out, keepdims=keepdims)\n",
      "C:\\Users\\Yuriii\\.venv\\Lib\\site-packages\\numpy\\lib\\nanfunctions.py:1215: RuntimeWarning: Mean of empty slice\n",
      "  return np.nanmean(a, axis, out=out, keepdims=keepdims)\n",
      "C:\\Users\\Yuriii\\.venv\\Lib\\site-packages\\numpy\\lib\\nanfunctions.py:1215: RuntimeWarning: Mean of empty slice\n",
      "  return np.nanmean(a, axis, out=out, keepdims=keepdims)\n",
      "C:\\Users\\Yuriii\\.venv\\Lib\\site-packages\\numpy\\lib\\nanfunctions.py:1215: RuntimeWarning: Mean of empty slice\n",
      "  return np.nanmean(a, axis, out=out, keepdims=keepdims)\n",
      "C:\\Users\\Yuriii\\.venv\\Lib\\site-packages\\numpy\\lib\\nanfunctions.py:1215: RuntimeWarning: Mean of empty slice\n",
      "  return np.nanmean(a, axis, out=out, keepdims=keepdims)\n",
      "C:\\Users\\Yuriii\\.venv\\Lib\\site-packages\\numpy\\lib\\nanfunctions.py:1215: RuntimeWarning: Mean of empty slice\n",
      "  return np.nanmean(a, axis, out=out, keepdims=keepdims)\n",
      "C:\\Users\\Yuriii\\.venv\\Lib\\site-packages\\numpy\\lib\\nanfunctions.py:1215: RuntimeWarning: Mean of empty slice\n",
      "  return np.nanmean(a, axis, out=out, keepdims=keepdims)\n",
      "C:\\Users\\Yuriii\\.venv\\Lib\\site-packages\\numpy\\lib\\nanfunctions.py:1215: RuntimeWarning: Mean of empty slice\n",
      "  return np.nanmean(a, axis, out=out, keepdims=keepdims)\n",
      "C:\\Users\\Yuriii\\.venv\\Lib\\site-packages\\numpy\\lib\\nanfunctions.py:1215: RuntimeWarning: Mean of empty slice\n",
      "  return np.nanmean(a, axis, out=out, keepdims=keepdims)\n",
      "C:\\Users\\Yuriii\\.venv\\Lib\\site-packages\\numpy\\lib\\nanfunctions.py:1215: RuntimeWarning: Mean of empty slice\n",
      "  return np.nanmean(a, axis, out=out, keepdims=keepdims)\n",
      "C:\\Users\\Yuriii\\.venv\\Lib\\site-packages\\numpy\\lib\\nanfunctions.py:1215: RuntimeWarning: Mean of empty slice\n",
      "  return np.nanmean(a, axis, out=out, keepdims=keepdims)\n",
      "C:\\Users\\Yuriii\\.venv\\Lib\\site-packages\\numpy\\lib\\nanfunctions.py:1215: RuntimeWarning: Mean of empty slice\n",
      "  return np.nanmean(a, axis, out=out, keepdims=keepdims)\n",
      "C:\\Users\\Yuriii\\.venv\\Lib\\site-packages\\numpy\\lib\\nanfunctions.py:1215: RuntimeWarning: Mean of empty slice\n",
      "  return np.nanmean(a, axis, out=out, keepdims=keepdims)\n",
      "C:\\Users\\Yuriii\\.venv\\Lib\\site-packages\\numpy\\lib\\nanfunctions.py:1215: RuntimeWarning: Mean of empty slice\n",
      "  return np.nanmean(a, axis, out=out, keepdims=keepdims)\n",
      "C:\\Users\\Yuriii\\.venv\\Lib\\site-packages\\numpy\\lib\\nanfunctions.py:1215: RuntimeWarning: Mean of empty slice\n",
      "  return np.nanmean(a, axis, out=out, keepdims=keepdims)\n",
      "C:\\Users\\Yuriii\\.venv\\Lib\\site-packages\\numpy\\lib\\nanfunctions.py:1215: RuntimeWarning: Mean of empty slice\n",
      "  return np.nanmean(a, axis, out=out, keepdims=keepdims)\n",
      "C:\\Users\\Yuriii\\.venv\\Lib\\site-packages\\numpy\\lib\\nanfunctions.py:1215: RuntimeWarning: Mean of empty slice\n",
      "  return np.nanmean(a, axis, out=out, keepdims=keepdims)\n",
      "C:\\Users\\Yuriii\\.venv\\Lib\\site-packages\\numpy\\lib\\nanfunctions.py:1215: RuntimeWarning: Mean of empty slice\n",
      "  return np.nanmean(a, axis, out=out, keepdims=keepdims)\n",
      "C:\\Users\\Yuriii\\.venv\\Lib\\site-packages\\numpy\\lib\\nanfunctions.py:1215: RuntimeWarning: Mean of empty slice\n",
      "  return np.nanmean(a, axis, out=out, keepdims=keepdims)\n",
      "C:\\Users\\Yuriii\\.venv\\Lib\\site-packages\\numpy\\lib\\nanfunctions.py:1215: RuntimeWarning: Mean of empty slice\n",
      "  return np.nanmean(a, axis, out=out, keepdims=keepdims)\n",
      "C:\\Users\\Yuriii\\.venv\\Lib\\site-packages\\numpy\\lib\\nanfunctions.py:1215: RuntimeWarning: Mean of empty slice\n",
      "  return np.nanmean(a, axis, out=out, keepdims=keepdims)\n",
      "C:\\Users\\Yuriii\\.venv\\Lib\\site-packages\\numpy\\lib\\nanfunctions.py:1215: RuntimeWarning: Mean of empty slice\n",
      "  return np.nanmean(a, axis, out=out, keepdims=keepdims)\n",
      "C:\\Users\\Yuriii\\.venv\\Lib\\site-packages\\numpy\\lib\\nanfunctions.py:1215: RuntimeWarning: Mean of empty slice\n",
      "  return np.nanmean(a, axis, out=out, keepdims=keepdims)\n",
      "C:\\Users\\Yuriii\\.venv\\Lib\\site-packages\\numpy\\lib\\nanfunctions.py:1215: RuntimeWarning: Mean of empty slice\n",
      "  return np.nanmean(a, axis, out=out, keepdims=keepdims)\n",
      "C:\\Users\\Yuriii\\.venv\\Lib\\site-packages\\numpy\\lib\\nanfunctions.py:1215: RuntimeWarning: Mean of empty slice\n",
      "  return np.nanmean(a, axis, out=out, keepdims=keepdims)\n",
      "C:\\Users\\Yuriii\\.venv\\Lib\\site-packages\\numpy\\lib\\nanfunctions.py:1215: RuntimeWarning: Mean of empty slice\n",
      "  return np.nanmean(a, axis, out=out, keepdims=keepdims)\n",
      "C:\\Users\\Yuriii\\.venv\\Lib\\site-packages\\numpy\\lib\\nanfunctions.py:1215: RuntimeWarning: Mean of empty slice\n",
      "  return np.nanmean(a, axis, out=out, keepdims=keepdims)\n",
      "C:\\Users\\Yuriii\\.venv\\Lib\\site-packages\\numpy\\lib\\nanfunctions.py:1215: RuntimeWarning: Mean of empty slice\n",
      "  return np.nanmean(a, axis, out=out, keepdims=keepdims)\n",
      "C:\\Users\\Yuriii\\.venv\\Lib\\site-packages\\numpy\\lib\\nanfunctions.py:1215: RuntimeWarning: Mean of empty slice\n",
      "  return np.nanmean(a, axis, out=out, keepdims=keepdims)\n",
      "C:\\Users\\Yuriii\\.venv\\Lib\\site-packages\\numpy\\lib\\nanfunctions.py:1215: RuntimeWarning: Mean of empty slice\n",
      "  return np.nanmean(a, axis, out=out, keepdims=keepdims)\n",
      "C:\\Users\\Yuriii\\.venv\\Lib\\site-packages\\numpy\\lib\\nanfunctions.py:1215: RuntimeWarning: Mean of empty slice\n",
      "  return np.nanmean(a, axis, out=out, keepdims=keepdims)\n",
      "C:\\Users\\Yuriii\\.venv\\Lib\\site-packages\\numpy\\lib\\nanfunctions.py:1215: RuntimeWarning: Mean of empty slice\n",
      "  return np.nanmean(a, axis, out=out, keepdims=keepdims)\n",
      "C:\\Users\\Yuriii\\.venv\\Lib\\site-packages\\numpy\\lib\\nanfunctions.py:1215: RuntimeWarning: Mean of empty slice\n",
      "  return np.nanmean(a, axis, out=out, keepdims=keepdims)\n",
      "C:\\Users\\Yuriii\\.venv\\Lib\\site-packages\\numpy\\lib\\nanfunctions.py:1215: RuntimeWarning: Mean of empty slice\n",
      "  return np.nanmean(a, axis, out=out, keepdims=keepdims)\n",
      "C:\\Users\\Yuriii\\.venv\\Lib\\site-packages\\numpy\\lib\\nanfunctions.py:1215: RuntimeWarning: Mean of empty slice\n",
      "  return np.nanmean(a, axis, out=out, keepdims=keepdims)\n",
      "C:\\Users\\Yuriii\\.venv\\Lib\\site-packages\\numpy\\lib\\nanfunctions.py:1215: RuntimeWarning: Mean of empty slice\n",
      "  return np.nanmean(a, axis, out=out, keepdims=keepdims)\n",
      "C:\\Users\\Yuriii\\.venv\\Lib\\site-packages\\numpy\\lib\\nanfunctions.py:1215: RuntimeWarning: Mean of empty slice\n",
      "  return np.nanmean(a, axis, out=out, keepdims=keepdims)\n",
      "C:\\Users\\Yuriii\\.venv\\Lib\\site-packages\\numpy\\lib\\nanfunctions.py:1215: RuntimeWarning: Mean of empty slice\n",
      "  return np.nanmean(a, axis, out=out, keepdims=keepdims)\n",
      "C:\\Users\\Yuriii\\.venv\\Lib\\site-packages\\numpy\\lib\\nanfunctions.py:1215: RuntimeWarning: Mean of empty slice\n",
      "  return np.nanmean(a, axis, out=out, keepdims=keepdims)\n",
      "C:\\Users\\Yuriii\\.venv\\Lib\\site-packages\\numpy\\lib\\nanfunctions.py:1215: RuntimeWarning: Mean of empty slice\n",
      "  return np.nanmean(a, axis, out=out, keepdims=keepdims)\n",
      "C:\\Users\\Yuriii\\.venv\\Lib\\site-packages\\numpy\\lib\\nanfunctions.py:1215: RuntimeWarning: Mean of empty slice\n",
      "  return np.nanmean(a, axis, out=out, keepdims=keepdims)\n",
      "C:\\Users\\Yuriii\\.venv\\Lib\\site-packages\\numpy\\lib\\nanfunctions.py:1215: RuntimeWarning: Mean of empty slice\n",
      "  return np.nanmean(a, axis, out=out, keepdims=keepdims)\n",
      "C:\\Users\\Yuriii\\.venv\\Lib\\site-packages\\numpy\\lib\\nanfunctions.py:1215: RuntimeWarning: Mean of empty slice\n",
      "  return np.nanmean(a, axis, out=out, keepdims=keepdims)\n",
      "C:\\Users\\Yuriii\\.venv\\Lib\\site-packages\\numpy\\lib\\nanfunctions.py:1215: RuntimeWarning: Mean of empty slice\n",
      "  return np.nanmean(a, axis, out=out, keepdims=keepdims)\n",
      "C:\\Users\\Yuriii\\.venv\\Lib\\site-packages\\numpy\\lib\\nanfunctions.py:1215: RuntimeWarning: Mean of empty slice\n",
      "  return np.nanmean(a, axis, out=out, keepdims=keepdims)\n",
      "C:\\Users\\Yuriii\\.venv\\Lib\\site-packages\\numpy\\lib\\nanfunctions.py:1215: RuntimeWarning: Mean of empty slice\n",
      "  return np.nanmean(a, axis, out=out, keepdims=keepdims)\n",
      "C:\\Users\\Yuriii\\.venv\\Lib\\site-packages\\numpy\\lib\\nanfunctions.py:1215: RuntimeWarning: Mean of empty slice\n",
      "  return np.nanmean(a, axis, out=out, keepdims=keepdims)\n",
      "C:\\Users\\Yuriii\\.venv\\Lib\\site-packages\\numpy\\lib\\nanfunctions.py:1215: RuntimeWarning: Mean of empty slice\n",
      "  return np.nanmean(a, axis, out=out, keepdims=keepdims)\n",
      "C:\\Users\\Yuriii\\.venv\\Lib\\site-packages\\numpy\\lib\\nanfunctions.py:1215: RuntimeWarning: Mean of empty slice\n",
      "  return np.nanmean(a, axis, out=out, keepdims=keepdims)\n",
      "C:\\Users\\Yuriii\\.venv\\Lib\\site-packages\\numpy\\lib\\nanfunctions.py:1215: RuntimeWarning: Mean of empty slice\n",
      "  return np.nanmean(a, axis, out=out, keepdims=keepdims)\n",
      "C:\\Users\\Yuriii\\.venv\\Lib\\site-packages\\numpy\\lib\\nanfunctions.py:1215: RuntimeWarning: Mean of empty slice\n",
      "  return np.nanmean(a, axis, out=out, keepdims=keepdims)\n",
      "C:\\Users\\Yuriii\\.venv\\Lib\\site-packages\\numpy\\lib\\nanfunctions.py:1215: RuntimeWarning: Mean of empty slice\n",
      "  return np.nanmean(a, axis, out=out, keepdims=keepdims)\n",
      "C:\\Users\\Yuriii\\.venv\\Lib\\site-packages\\numpy\\lib\\nanfunctions.py:1215: RuntimeWarning: Mean of empty slice\n",
      "  return np.nanmean(a, axis, out=out, keepdims=keepdims)\n",
      "C:\\Users\\Yuriii\\.venv\\Lib\\site-packages\\numpy\\lib\\nanfunctions.py:1215: RuntimeWarning: Mean of empty slice\n",
      "  return np.nanmean(a, axis, out=out, keepdims=keepdims)\n",
      "C:\\Users\\Yuriii\\.venv\\Lib\\site-packages\\numpy\\lib\\nanfunctions.py:1215: RuntimeWarning: Mean of empty slice\n",
      "  return np.nanmean(a, axis, out=out, keepdims=keepdims)\n",
      "C:\\Users\\Yuriii\\.venv\\Lib\\site-packages\\numpy\\lib\\nanfunctions.py:1215: RuntimeWarning: Mean of empty slice\n",
      "  return np.nanmean(a, axis, out=out, keepdims=keepdims)\n",
      "C:\\Users\\Yuriii\\.venv\\Lib\\site-packages\\numpy\\lib\\nanfunctions.py:1215: RuntimeWarning: Mean of empty slice\n",
      "  return np.nanmean(a, axis, out=out, keepdims=keepdims)\n",
      "C:\\Users\\Yuriii\\.venv\\Lib\\site-packages\\numpy\\lib\\nanfunctions.py:1215: RuntimeWarning: Mean of empty slice\n",
      "  return np.nanmean(a, axis, out=out, keepdims=keepdims)\n",
      "C:\\Users\\Yuriii\\.venv\\Lib\\site-packages\\numpy\\lib\\nanfunctions.py:1215: RuntimeWarning: Mean of empty slice\n",
      "  return np.nanmean(a, axis, out=out, keepdims=keepdims)\n",
      "C:\\Users\\Yuriii\\.venv\\Lib\\site-packages\\numpy\\lib\\nanfunctions.py:1215: RuntimeWarning: Mean of empty slice\n",
      "  return np.nanmean(a, axis, out=out, keepdims=keepdims)\n",
      "C:\\Users\\Yuriii\\.venv\\Lib\\site-packages\\numpy\\lib\\nanfunctions.py:1215: RuntimeWarning: Mean of empty slice\n",
      "  return np.nanmean(a, axis, out=out, keepdims=keepdims)\n",
      "C:\\Users\\Yuriii\\.venv\\Lib\\site-packages\\numpy\\lib\\nanfunctions.py:1215: RuntimeWarning: Mean of empty slice\n",
      "  return np.nanmean(a, axis, out=out, keepdims=keepdims)\n",
      "C:\\Users\\Yuriii\\.venv\\Lib\\site-packages\\numpy\\lib\\nanfunctions.py:1215: RuntimeWarning: Mean of empty slice\n",
      "  return np.nanmean(a, axis, out=out, keepdims=keepdims)\n",
      "C:\\Users\\Yuriii\\.venv\\Lib\\site-packages\\numpy\\lib\\nanfunctions.py:1215: RuntimeWarning: Mean of empty slice\n",
      "  return np.nanmean(a, axis, out=out, keepdims=keepdims)\n",
      "C:\\Users\\Yuriii\\.venv\\Lib\\site-packages\\numpy\\lib\\nanfunctions.py:1215: RuntimeWarning: Mean of empty slice\n",
      "  return np.nanmean(a, axis, out=out, keepdims=keepdims)\n",
      "C:\\Users\\Yuriii\\.venv\\Lib\\site-packages\\numpy\\lib\\nanfunctions.py:1215: RuntimeWarning: Mean of empty slice\n",
      "  return np.nanmean(a, axis, out=out, keepdims=keepdims)\n",
      "C:\\Users\\Yuriii\\.venv\\Lib\\site-packages\\numpy\\lib\\nanfunctions.py:1215: RuntimeWarning: Mean of empty slice\n",
      "  return np.nanmean(a, axis, out=out, keepdims=keepdims)\n",
      "C:\\Users\\Yuriii\\.venv\\Lib\\site-packages\\numpy\\lib\\nanfunctions.py:1215: RuntimeWarning: Mean of empty slice\n",
      "  return np.nanmean(a, axis, out=out, keepdims=keepdims)\n",
      "C:\\Users\\Yuriii\\.venv\\Lib\\site-packages\\numpy\\lib\\nanfunctions.py:1215: RuntimeWarning: Mean of empty slice\n",
      "  return np.nanmean(a, axis, out=out, keepdims=keepdims)\n",
      "C:\\Users\\Yuriii\\.venv\\Lib\\site-packages\\numpy\\lib\\nanfunctions.py:1215: RuntimeWarning: Mean of empty slice\n",
      "  return np.nanmean(a, axis, out=out, keepdims=keepdims)\n",
      "C:\\Users\\Yuriii\\.venv\\Lib\\site-packages\\numpy\\lib\\nanfunctions.py:1215: RuntimeWarning: Mean of empty slice\n",
      "  return np.nanmean(a, axis, out=out, keepdims=keepdims)\n",
      "C:\\Users\\Yuriii\\.venv\\Lib\\site-packages\\numpy\\lib\\nanfunctions.py:1215: RuntimeWarning: Mean of empty slice\n",
      "  return np.nanmean(a, axis, out=out, keepdims=keepdims)\n",
      "C:\\Users\\Yuriii\\.venv\\Lib\\site-packages\\numpy\\lib\\nanfunctions.py:1215: RuntimeWarning: Mean of empty slice\n",
      "  return np.nanmean(a, axis, out=out, keepdims=keepdims)\n",
      "C:\\Users\\Yuriii\\.venv\\Lib\\site-packages\\numpy\\lib\\nanfunctions.py:1215: RuntimeWarning: Mean of empty slice\n",
      "  return np.nanmean(a, axis, out=out, keepdims=keepdims)\n",
      "C:\\Users\\Yuriii\\.venv\\Lib\\site-packages\\numpy\\lib\\nanfunctions.py:1215: RuntimeWarning: Mean of empty slice\n",
      "  return np.nanmean(a, axis, out=out, keepdims=keepdims)\n",
      "C:\\Users\\Yuriii\\.venv\\Lib\\site-packages\\numpy\\lib\\nanfunctions.py:1215: RuntimeWarning: Mean of empty slice\n",
      "  return np.nanmean(a, axis, out=out, keepdims=keepdims)\n",
      "C:\\Users\\Yuriii\\.venv\\Lib\\site-packages\\numpy\\lib\\nanfunctions.py:1215: RuntimeWarning: Mean of empty slice\n",
      "  return np.nanmean(a, axis, out=out, keepdims=keepdims)\n",
      "C:\\Users\\Yuriii\\.venv\\Lib\\site-packages\\numpy\\lib\\nanfunctions.py:1215: RuntimeWarning: Mean of empty slice\n",
      "  return np.nanmean(a, axis, out=out, keepdims=keepdims)\n",
      "C:\\Users\\Yuriii\\.venv\\Lib\\site-packages\\numpy\\lib\\nanfunctions.py:1215: RuntimeWarning: Mean of empty slice\n",
      "  return np.nanmean(a, axis, out=out, keepdims=keepdims)\n",
      "C:\\Users\\Yuriii\\.venv\\Lib\\site-packages\\numpy\\lib\\nanfunctions.py:1215: RuntimeWarning: Mean of empty slice\n",
      "  return np.nanmean(a, axis, out=out, keepdims=keepdims)\n",
      "C:\\Users\\Yuriii\\.venv\\Lib\\site-packages\\numpy\\lib\\nanfunctions.py:1215: RuntimeWarning: Mean of empty slice\n",
      "  return np.nanmean(a, axis, out=out, keepdims=keepdims)\n",
      "C:\\Users\\Yuriii\\.venv\\Lib\\site-packages\\numpy\\lib\\nanfunctions.py:1215: RuntimeWarning: Mean of empty slice\n",
      "  return np.nanmean(a, axis, out=out, keepdims=keepdims)\n",
      "C:\\Users\\Yuriii\\.venv\\Lib\\site-packages\\numpy\\lib\\nanfunctions.py:1215: RuntimeWarning: Mean of empty slice\n",
      "  return np.nanmean(a, axis, out=out, keepdims=keepdims)\n",
      "C:\\Users\\Yuriii\\.venv\\Lib\\site-packages\\numpy\\lib\\nanfunctions.py:1215: RuntimeWarning: Mean of empty slice\n",
      "  return np.nanmean(a, axis, out=out, keepdims=keepdims)\n",
      "C:\\Users\\Yuriii\\.venv\\Lib\\site-packages\\numpy\\lib\\nanfunctions.py:1215: RuntimeWarning: Mean of empty slice\n",
      "  return np.nanmean(a, axis, out=out, keepdims=keepdims)\n",
      "C:\\Users\\Yuriii\\.venv\\Lib\\site-packages\\numpy\\lib\\nanfunctions.py:1215: RuntimeWarning: Mean of empty slice\n",
      "  return np.nanmean(a, axis, out=out, keepdims=keepdims)\n",
      "C:\\Users\\Yuriii\\.venv\\Lib\\site-packages\\numpy\\lib\\nanfunctions.py:1215: RuntimeWarning: Mean of empty slice\n",
      "  return np.nanmean(a, axis, out=out, keepdims=keepdims)\n",
      "C:\\Users\\Yuriii\\.venv\\Lib\\site-packages\\numpy\\lib\\nanfunctions.py:1215: RuntimeWarning: Mean of empty slice\n",
      "  return np.nanmean(a, axis, out=out, keepdims=keepdims)\n",
      "C:\\Users\\Yuriii\\.venv\\Lib\\site-packages\\numpy\\lib\\nanfunctions.py:1215: RuntimeWarning: Mean of empty slice\n",
      "  return np.nanmean(a, axis, out=out, keepdims=keepdims)\n",
      "C:\\Users\\Yuriii\\.venv\\Lib\\site-packages\\numpy\\lib\\nanfunctions.py:1215: RuntimeWarning: Mean of empty slice\n",
      "  return np.nanmean(a, axis, out=out, keepdims=keepdims)\n",
      "C:\\Users\\Yuriii\\.venv\\Lib\\site-packages\\numpy\\lib\\nanfunctions.py:1215: RuntimeWarning: Mean of empty slice\n",
      "  return np.nanmean(a, axis, out=out, keepdims=keepdims)\n",
      "C:\\Users\\Yuriii\\.venv\\Lib\\site-packages\\numpy\\lib\\nanfunctions.py:1215: RuntimeWarning: Mean of empty slice\n",
      "  return np.nanmean(a, axis, out=out, keepdims=keepdims)\n",
      "C:\\Users\\Yuriii\\.venv\\Lib\\site-packages\\numpy\\lib\\nanfunctions.py:1215: RuntimeWarning: Mean of empty slice\n",
      "  return np.nanmean(a, axis, out=out, keepdims=keepdims)\n",
      "C:\\Users\\Yuriii\\.venv\\Lib\\site-packages\\numpy\\lib\\nanfunctions.py:1215: RuntimeWarning: Mean of empty slice\n",
      "  return np.nanmean(a, axis, out=out, keepdims=keepdims)\n",
      "C:\\Users\\Yuriii\\.venv\\Lib\\site-packages\\numpy\\lib\\nanfunctions.py:1215: RuntimeWarning: Mean of empty slice\n",
      "  return np.nanmean(a, axis, out=out, keepdims=keepdims)\n",
      "C:\\Users\\Yuriii\\.venv\\Lib\\site-packages\\numpy\\lib\\nanfunctions.py:1215: RuntimeWarning: Mean of empty slice\n",
      "  return np.nanmean(a, axis, out=out, keepdims=keepdims)\n",
      "C:\\Users\\Yuriii\\.venv\\Lib\\site-packages\\numpy\\lib\\nanfunctions.py:1215: RuntimeWarning: Mean of empty slice\n",
      "  return np.nanmean(a, axis, out=out, keepdims=keepdims)\n",
      "C:\\Users\\Yuriii\\.venv\\Lib\\site-packages\\numpy\\lib\\nanfunctions.py:1215: RuntimeWarning: Mean of empty slice\n",
      "  return np.nanmean(a, axis, out=out, keepdims=keepdims)\n",
      "C:\\Users\\Yuriii\\.venv\\Lib\\site-packages\\numpy\\lib\\nanfunctions.py:1215: RuntimeWarning: Mean of empty slice\n",
      "  return np.nanmean(a, axis, out=out, keepdims=keepdims)\n",
      "C:\\Users\\Yuriii\\.venv\\Lib\\site-packages\\numpy\\lib\\nanfunctions.py:1215: RuntimeWarning: Mean of empty slice\n",
      "  return np.nanmean(a, axis, out=out, keepdims=keepdims)\n",
      "C:\\Users\\Yuriii\\.venv\\Lib\\site-packages\\numpy\\lib\\nanfunctions.py:1215: RuntimeWarning: Mean of empty slice\n",
      "  return np.nanmean(a, axis, out=out, keepdims=keepdims)\n",
      "C:\\Users\\Yuriii\\.venv\\Lib\\site-packages\\numpy\\lib\\nanfunctions.py:1215: RuntimeWarning: Mean of empty slice\n",
      "  return np.nanmean(a, axis, out=out, keepdims=keepdims)\n",
      "C:\\Users\\Yuriii\\.venv\\Lib\\site-packages\\numpy\\lib\\nanfunctions.py:1215: RuntimeWarning: Mean of empty slice\n",
      "  return np.nanmean(a, axis, out=out, keepdims=keepdims)\n",
      "C:\\Users\\Yuriii\\.venv\\Lib\\site-packages\\numpy\\lib\\nanfunctions.py:1215: RuntimeWarning: Mean of empty slice\n",
      "  return np.nanmean(a, axis, out=out, keepdims=keepdims)\n",
      "C:\\Users\\Yuriii\\.venv\\Lib\\site-packages\\numpy\\lib\\nanfunctions.py:1215: RuntimeWarning: Mean of empty slice\n",
      "  return np.nanmean(a, axis, out=out, keepdims=keepdims)\n",
      "C:\\Users\\Yuriii\\.venv\\Lib\\site-packages\\numpy\\lib\\nanfunctions.py:1215: RuntimeWarning: Mean of empty slice\n",
      "  return np.nanmean(a, axis, out=out, keepdims=keepdims)\n",
      "C:\\Users\\Yuriii\\.venv\\Lib\\site-packages\\numpy\\lib\\nanfunctions.py:1215: RuntimeWarning: Mean of empty slice\n",
      "  return np.nanmean(a, axis, out=out, keepdims=keepdims)\n",
      "C:\\Users\\Yuriii\\.venv\\Lib\\site-packages\\numpy\\lib\\nanfunctions.py:1215: RuntimeWarning: Mean of empty slice\n",
      "  return np.nanmean(a, axis, out=out, keepdims=keepdims)\n",
      "C:\\Users\\Yuriii\\.venv\\Lib\\site-packages\\numpy\\lib\\nanfunctions.py:1215: RuntimeWarning: Mean of empty slice\n",
      "  return np.nanmean(a, axis, out=out, keepdims=keepdims)\n",
      "C:\\Users\\Yuriii\\.venv\\Lib\\site-packages\\numpy\\lib\\nanfunctions.py:1215: RuntimeWarning: Mean of empty slice\n",
      "  return np.nanmean(a, axis, out=out, keepdims=keepdims)\n",
      "C:\\Users\\Yuriii\\.venv\\Lib\\site-packages\\numpy\\lib\\nanfunctions.py:1215: RuntimeWarning: Mean of empty slice\n",
      "  return np.nanmean(a, axis, out=out, keepdims=keepdims)\n",
      "C:\\Users\\Yuriii\\.venv\\Lib\\site-packages\\numpy\\lib\\nanfunctions.py:1215: RuntimeWarning: Mean of empty slice\n",
      "  return np.nanmean(a, axis, out=out, keepdims=keepdims)\n",
      "C:\\Users\\Yuriii\\.venv\\Lib\\site-packages\\numpy\\lib\\nanfunctions.py:1215: RuntimeWarning: Mean of empty slice\n",
      "  return np.nanmean(a, axis, out=out, keepdims=keepdims)\n",
      "C:\\Users\\Yuriii\\.venv\\Lib\\site-packages\\numpy\\lib\\nanfunctions.py:1215: RuntimeWarning: Mean of empty slice\n",
      "  return np.nanmean(a, axis, out=out, keepdims=keepdims)\n",
      "C:\\Users\\Yuriii\\.venv\\Lib\\site-packages\\numpy\\lib\\nanfunctions.py:1215: RuntimeWarning: Mean of empty slice\n",
      "  return np.nanmean(a, axis, out=out, keepdims=keepdims)\n",
      "C:\\Users\\Yuriii\\.venv\\Lib\\site-packages\\numpy\\lib\\nanfunctions.py:1215: RuntimeWarning: Mean of empty slice\n",
      "  return np.nanmean(a, axis, out=out, keepdims=keepdims)\n",
      "C:\\Users\\Yuriii\\.venv\\Lib\\site-packages\\numpy\\lib\\nanfunctions.py:1215: RuntimeWarning: Mean of empty slice\n",
      "  return np.nanmean(a, axis, out=out, keepdims=keepdims)\n",
      "C:\\Users\\Yuriii\\.venv\\Lib\\site-packages\\numpy\\lib\\nanfunctions.py:1215: RuntimeWarning: Mean of empty slice\n",
      "  return np.nanmean(a, axis, out=out, keepdims=keepdims)\n",
      "C:\\Users\\Yuriii\\.venv\\Lib\\site-packages\\numpy\\lib\\nanfunctions.py:1215: RuntimeWarning: Mean of empty slice\n",
      "  return np.nanmean(a, axis, out=out, keepdims=keepdims)\n",
      "C:\\Users\\Yuriii\\.venv\\Lib\\site-packages\\numpy\\lib\\nanfunctions.py:1215: RuntimeWarning: Mean of empty slice\n",
      "  return np.nanmean(a, axis, out=out, keepdims=keepdims)\n",
      "C:\\Users\\Yuriii\\.venv\\Lib\\site-packages\\numpy\\lib\\nanfunctions.py:1215: RuntimeWarning: Mean of empty slice\n",
      "  return np.nanmean(a, axis, out=out, keepdims=keepdims)\n",
      "C:\\Users\\Yuriii\\.venv\\Lib\\site-packages\\numpy\\lib\\nanfunctions.py:1215: RuntimeWarning: Mean of empty slice\n",
      "  return np.nanmean(a, axis, out=out, keepdims=keepdims)\n",
      "C:\\Users\\Yuriii\\.venv\\Lib\\site-packages\\numpy\\lib\\nanfunctions.py:1215: RuntimeWarning: Mean of empty slice\n",
      "  return np.nanmean(a, axis, out=out, keepdims=keepdims)\n",
      "C:\\Users\\Yuriii\\.venv\\Lib\\site-packages\\numpy\\lib\\nanfunctions.py:1215: RuntimeWarning: Mean of empty slice\n",
      "  return np.nanmean(a, axis, out=out, keepdims=keepdims)\n",
      "C:\\Users\\Yuriii\\.venv\\Lib\\site-packages\\numpy\\lib\\nanfunctions.py:1215: RuntimeWarning: Mean of empty slice\n",
      "  return np.nanmean(a, axis, out=out, keepdims=keepdims)\n",
      "C:\\Users\\Yuriii\\.venv\\Lib\\site-packages\\numpy\\lib\\nanfunctions.py:1215: RuntimeWarning: Mean of empty slice\n",
      "  return np.nanmean(a, axis, out=out, keepdims=keepdims)\n",
      "C:\\Users\\Yuriii\\.venv\\Lib\\site-packages\\numpy\\lib\\nanfunctions.py:1215: RuntimeWarning: Mean of empty slice\n",
      "  return np.nanmean(a, axis, out=out, keepdims=keepdims)\n",
      "C:\\Users\\Yuriii\\.venv\\Lib\\site-packages\\numpy\\lib\\nanfunctions.py:1215: RuntimeWarning: Mean of empty slice\n",
      "  return np.nanmean(a, axis, out=out, keepdims=keepdims)\n",
      "C:\\Users\\Yuriii\\.venv\\Lib\\site-packages\\numpy\\lib\\nanfunctions.py:1215: RuntimeWarning: Mean of empty slice\n",
      "  return np.nanmean(a, axis, out=out, keepdims=keepdims)\n",
      "C:\\Users\\Yuriii\\.venv\\Lib\\site-packages\\numpy\\lib\\nanfunctions.py:1215: RuntimeWarning: Mean of empty slice\n",
      "  return np.nanmean(a, axis, out=out, keepdims=keepdims)\n",
      "C:\\Users\\Yuriii\\.venv\\Lib\\site-packages\\numpy\\lib\\nanfunctions.py:1215: RuntimeWarning: Mean of empty slice\n",
      "  return np.nanmean(a, axis, out=out, keepdims=keepdims)\n",
      "C:\\Users\\Yuriii\\.venv\\Lib\\site-packages\\numpy\\lib\\nanfunctions.py:1215: RuntimeWarning: Mean of empty slice\n",
      "  return np.nanmean(a, axis, out=out, keepdims=keepdims)\n",
      "C:\\Users\\Yuriii\\.venv\\Lib\\site-packages\\numpy\\lib\\nanfunctions.py:1215: RuntimeWarning: Mean of empty slice\n",
      "  return np.nanmean(a, axis, out=out, keepdims=keepdims)\n",
      "C:\\Users\\Yuriii\\.venv\\Lib\\site-packages\\numpy\\lib\\nanfunctions.py:1215: RuntimeWarning: Mean of empty slice\n",
      "  return np.nanmean(a, axis, out=out, keepdims=keepdims)\n",
      "C:\\Users\\Yuriii\\.venv\\Lib\\site-packages\\numpy\\lib\\nanfunctions.py:1215: RuntimeWarning: Mean of empty slice\n",
      "  return np.nanmean(a, axis, out=out, keepdims=keepdims)\n",
      "C:\\Users\\Yuriii\\.venv\\Lib\\site-packages\\numpy\\lib\\nanfunctions.py:1215: RuntimeWarning: Mean of empty slice\n",
      "  return np.nanmean(a, axis, out=out, keepdims=keepdims)\n",
      "C:\\Users\\Yuriii\\.venv\\Lib\\site-packages\\numpy\\lib\\nanfunctions.py:1215: RuntimeWarning: Mean of empty slice\n",
      "  return np.nanmean(a, axis, out=out, keepdims=keepdims)\n",
      "C:\\Users\\Yuriii\\.venv\\Lib\\site-packages\\numpy\\lib\\nanfunctions.py:1215: RuntimeWarning: Mean of empty slice\n",
      "  return np.nanmean(a, axis, out=out, keepdims=keepdims)\n",
      "C:\\Users\\Yuriii\\.venv\\Lib\\site-packages\\numpy\\lib\\nanfunctions.py:1215: RuntimeWarning: Mean of empty slice\n",
      "  return np.nanmean(a, axis, out=out, keepdims=keepdims)\n",
      "C:\\Users\\Yuriii\\.venv\\Lib\\site-packages\\numpy\\lib\\nanfunctions.py:1215: RuntimeWarning: Mean of empty slice\n",
      "  return np.nanmean(a, axis, out=out, keepdims=keepdims)\n",
      "C:\\Users\\Yuriii\\.venv\\Lib\\site-packages\\numpy\\lib\\nanfunctions.py:1215: RuntimeWarning: Mean of empty slice\n",
      "  return np.nanmean(a, axis, out=out, keepdims=keepdims)\n",
      "C:\\Users\\Yuriii\\.venv\\Lib\\site-packages\\numpy\\lib\\nanfunctions.py:1215: RuntimeWarning: Mean of empty slice\n",
      "  return np.nanmean(a, axis, out=out, keepdims=keepdims)\n",
      "C:\\Users\\Yuriii\\.venv\\Lib\\site-packages\\numpy\\lib\\nanfunctions.py:1215: RuntimeWarning: Mean of empty slice\n",
      "  return np.nanmean(a, axis, out=out, keepdims=keepdims)\n",
      "C:\\Users\\Yuriii\\.venv\\Lib\\site-packages\\numpy\\lib\\nanfunctions.py:1215: RuntimeWarning: Mean of empty slice\n",
      "  return np.nanmean(a, axis, out=out, keepdims=keepdims)\n",
      "C:\\Users\\Yuriii\\.venv\\Lib\\site-packages\\numpy\\lib\\nanfunctions.py:1215: RuntimeWarning: Mean of empty slice\n",
      "  return np.nanmean(a, axis, out=out, keepdims=keepdims)\n",
      "C:\\Users\\Yuriii\\.venv\\Lib\\site-packages\\numpy\\lib\\nanfunctions.py:1215: RuntimeWarning: Mean of empty slice\n",
      "  return np.nanmean(a, axis, out=out, keepdims=keepdims)\n",
      "C:\\Users\\Yuriii\\.venv\\Lib\\site-packages\\numpy\\lib\\nanfunctions.py:1215: RuntimeWarning: Mean of empty slice\n",
      "  return np.nanmean(a, axis, out=out, keepdims=keepdims)\n",
      "C:\\Users\\Yuriii\\.venv\\Lib\\site-packages\\numpy\\lib\\nanfunctions.py:1215: RuntimeWarning: Mean of empty slice\n",
      "  return np.nanmean(a, axis, out=out, keepdims=keepdims)\n",
      "C:\\Users\\Yuriii\\.venv\\Lib\\site-packages\\numpy\\lib\\nanfunctions.py:1215: RuntimeWarning: Mean of empty slice\n",
      "  return np.nanmean(a, axis, out=out, keepdims=keepdims)\n",
      "C:\\Users\\Yuriii\\.venv\\Lib\\site-packages\\numpy\\lib\\nanfunctions.py:1215: RuntimeWarning: Mean of empty slice\n",
      "  return np.nanmean(a, axis, out=out, keepdims=keepdims)\n",
      "C:\\Users\\Yuriii\\.venv\\Lib\\site-packages\\numpy\\lib\\nanfunctions.py:1215: RuntimeWarning: Mean of empty slice\n",
      "  return np.nanmean(a, axis, out=out, keepdims=keepdims)\n",
      "C:\\Users\\Yuriii\\.venv\\Lib\\site-packages\\numpy\\lib\\nanfunctions.py:1215: RuntimeWarning: Mean of empty slice\n",
      "  return np.nanmean(a, axis, out=out, keepdims=keepdims)\n",
      "C:\\Users\\Yuriii\\.venv\\Lib\\site-packages\\numpy\\lib\\nanfunctions.py:1215: RuntimeWarning: Mean of empty slice\n",
      "  return np.nanmean(a, axis, out=out, keepdims=keepdims)\n",
      "C:\\Users\\Yuriii\\.venv\\Lib\\site-packages\\numpy\\lib\\nanfunctions.py:1215: RuntimeWarning: Mean of empty slice\n",
      "  return np.nanmean(a, axis, out=out, keepdims=keepdims)\n",
      "C:\\Users\\Yuriii\\.venv\\Lib\\site-packages\\numpy\\lib\\nanfunctions.py:1215: RuntimeWarning: Mean of empty slice\n",
      "  return np.nanmean(a, axis, out=out, keepdims=keepdims)\n",
      "C:\\Users\\Yuriii\\.venv\\Lib\\site-packages\\numpy\\lib\\nanfunctions.py:1215: RuntimeWarning: Mean of empty slice\n",
      "  return np.nanmean(a, axis, out=out, keepdims=keepdims)\n",
      "C:\\Users\\Yuriii\\.venv\\Lib\\site-packages\\numpy\\lib\\nanfunctions.py:1215: RuntimeWarning: Mean of empty slice\n",
      "  return np.nanmean(a, axis, out=out, keepdims=keepdims)\n",
      "C:\\Users\\Yuriii\\.venv\\Lib\\site-packages\\numpy\\lib\\nanfunctions.py:1215: RuntimeWarning: Mean of empty slice\n",
      "  return np.nanmean(a, axis, out=out, keepdims=keepdims)\n",
      "C:\\Users\\Yuriii\\.venv\\Lib\\site-packages\\numpy\\lib\\nanfunctions.py:1215: RuntimeWarning: Mean of empty slice\n",
      "  return np.nanmean(a, axis, out=out, keepdims=keepdims)\n",
      "C:\\Users\\Yuriii\\.venv\\Lib\\site-packages\\numpy\\lib\\nanfunctions.py:1215: RuntimeWarning: Mean of empty slice\n",
      "  return np.nanmean(a, axis, out=out, keepdims=keepdims)\n",
      "C:\\Users\\Yuriii\\.venv\\Lib\\site-packages\\numpy\\lib\\nanfunctions.py:1215: RuntimeWarning: Mean of empty slice\n",
      "  return np.nanmean(a, axis, out=out, keepdims=keepdims)\n",
      "C:\\Users\\Yuriii\\.venv\\Lib\\site-packages\\numpy\\lib\\nanfunctions.py:1215: RuntimeWarning: Mean of empty slice\n",
      "  return np.nanmean(a, axis, out=out, keepdims=keepdims)\n",
      "C:\\Users\\Yuriii\\.venv\\Lib\\site-packages\\numpy\\lib\\nanfunctions.py:1215: RuntimeWarning: Mean of empty slice\n",
      "  return np.nanmean(a, axis, out=out, keepdims=keepdims)\n",
      "C:\\Users\\Yuriii\\.venv\\Lib\\site-packages\\numpy\\lib\\nanfunctions.py:1215: RuntimeWarning: Mean of empty slice\n",
      "  return np.nanmean(a, axis, out=out, keepdims=keepdims)\n",
      "C:\\Users\\Yuriii\\.venv\\Lib\\site-packages\\numpy\\lib\\nanfunctions.py:1215: RuntimeWarning: Mean of empty slice\n",
      "  return np.nanmean(a, axis, out=out, keepdims=keepdims)\n",
      "C:\\Users\\Yuriii\\.venv\\Lib\\site-packages\\numpy\\lib\\nanfunctions.py:1215: RuntimeWarning: Mean of empty slice\n",
      "  return np.nanmean(a, axis, out=out, keepdims=keepdims)\n",
      "C:\\Users\\Yuriii\\.venv\\Lib\\site-packages\\numpy\\lib\\nanfunctions.py:1215: RuntimeWarning: Mean of empty slice\n",
      "  return np.nanmean(a, axis, out=out, keepdims=keepdims)\n",
      "C:\\Users\\Yuriii\\.venv\\Lib\\site-packages\\numpy\\lib\\nanfunctions.py:1215: RuntimeWarning: Mean of empty slice\n",
      "  return np.nanmean(a, axis, out=out, keepdims=keepdims)\n",
      "C:\\Users\\Yuriii\\.venv\\Lib\\site-packages\\numpy\\lib\\nanfunctions.py:1215: RuntimeWarning: Mean of empty slice\n",
      "  return np.nanmean(a, axis, out=out, keepdims=keepdims)\n",
      "C:\\Users\\Yuriii\\.venv\\Lib\\site-packages\\numpy\\lib\\nanfunctions.py:1215: RuntimeWarning: Mean of empty slice\n",
      "  return np.nanmean(a, axis, out=out, keepdims=keepdims)\n",
      "C:\\Users\\Yuriii\\.venv\\Lib\\site-packages\\numpy\\lib\\nanfunctions.py:1215: RuntimeWarning: Mean of empty slice\n",
      "  return np.nanmean(a, axis, out=out, keepdims=keepdims)\n",
      "C:\\Users\\Yuriii\\.venv\\Lib\\site-packages\\numpy\\lib\\nanfunctions.py:1215: RuntimeWarning: Mean of empty slice\n",
      "  return np.nanmean(a, axis, out=out, keepdims=keepdims)\n",
      "C:\\Users\\Yuriii\\.venv\\Lib\\site-packages\\numpy\\lib\\nanfunctions.py:1215: RuntimeWarning: Mean of empty slice\n",
      "  return np.nanmean(a, axis, out=out, keepdims=keepdims)\n",
      "C:\\Users\\Yuriii\\.venv\\Lib\\site-packages\\numpy\\lib\\nanfunctions.py:1215: RuntimeWarning: Mean of empty slice\n",
      "  return np.nanmean(a, axis, out=out, keepdims=keepdims)\n",
      "C:\\Users\\Yuriii\\.venv\\Lib\\site-packages\\numpy\\lib\\nanfunctions.py:1215: RuntimeWarning: Mean of empty slice\n",
      "  return np.nanmean(a, axis, out=out, keepdims=keepdims)\n",
      "C:\\Users\\Yuriii\\.venv\\Lib\\site-packages\\numpy\\lib\\nanfunctions.py:1215: RuntimeWarning: Mean of empty slice\n",
      "  return np.nanmean(a, axis, out=out, keepdims=keepdims)\n",
      "C:\\Users\\Yuriii\\.venv\\Lib\\site-packages\\numpy\\lib\\nanfunctions.py:1215: RuntimeWarning: Mean of empty slice\n",
      "  return np.nanmean(a, axis, out=out, keepdims=keepdims)\n",
      "C:\\Users\\Yuriii\\.venv\\Lib\\site-packages\\numpy\\lib\\nanfunctions.py:1215: RuntimeWarning: Mean of empty slice\n",
      "  return np.nanmean(a, axis, out=out, keepdims=keepdims)\n",
      "C:\\Users\\Yuriii\\.venv\\Lib\\site-packages\\numpy\\lib\\nanfunctions.py:1215: RuntimeWarning: Mean of empty slice\n",
      "  return np.nanmean(a, axis, out=out, keepdims=keepdims)\n",
      "C:\\Users\\Yuriii\\.venv\\Lib\\site-packages\\numpy\\lib\\nanfunctions.py:1215: RuntimeWarning: Mean of empty slice\n",
      "  return np.nanmean(a, axis, out=out, keepdims=keepdims)\n",
      "C:\\Users\\Yuriii\\.venv\\Lib\\site-packages\\numpy\\lib\\nanfunctions.py:1215: RuntimeWarning: Mean of empty slice\n",
      "  return np.nanmean(a, axis, out=out, keepdims=keepdims)\n",
      "C:\\Users\\Yuriii\\.venv\\Lib\\site-packages\\numpy\\lib\\nanfunctions.py:1215: RuntimeWarning: Mean of empty slice\n",
      "  return np.nanmean(a, axis, out=out, keepdims=keepdims)\n",
      "C:\\Users\\Yuriii\\.venv\\Lib\\site-packages\\numpy\\lib\\nanfunctions.py:1215: RuntimeWarning: Mean of empty slice\n",
      "  return np.nanmean(a, axis, out=out, keepdims=keepdims)\n",
      "C:\\Users\\Yuriii\\.venv\\Lib\\site-packages\\numpy\\lib\\nanfunctions.py:1215: RuntimeWarning: Mean of empty slice\n",
      "  return np.nanmean(a, axis, out=out, keepdims=keepdims)\n",
      "C:\\Users\\Yuriii\\.venv\\Lib\\site-packages\\numpy\\lib\\nanfunctions.py:1215: RuntimeWarning: Mean of empty slice\n",
      "  return np.nanmean(a, axis, out=out, keepdims=keepdims)\n",
      "C:\\Users\\Yuriii\\.venv\\Lib\\site-packages\\numpy\\lib\\nanfunctions.py:1215: RuntimeWarning: Mean of empty slice\n",
      "  return np.nanmean(a, axis, out=out, keepdims=keepdims)\n",
      "C:\\Users\\Yuriii\\.venv\\Lib\\site-packages\\numpy\\lib\\nanfunctions.py:1215: RuntimeWarning: Mean of empty slice\n",
      "  return np.nanmean(a, axis, out=out, keepdims=keepdims)\n",
      "C:\\Users\\Yuriii\\.venv\\Lib\\site-packages\\numpy\\lib\\nanfunctions.py:1215: RuntimeWarning: Mean of empty slice\n",
      "  return np.nanmean(a, axis, out=out, keepdims=keepdims)\n",
      "C:\\Users\\Yuriii\\.venv\\Lib\\site-packages\\numpy\\lib\\nanfunctions.py:1215: RuntimeWarning: Mean of empty slice\n",
      "  return np.nanmean(a, axis, out=out, keepdims=keepdims)\n",
      "C:\\Users\\Yuriii\\.venv\\Lib\\site-packages\\numpy\\lib\\nanfunctions.py:1215: RuntimeWarning: Mean of empty slice\n",
      "  return np.nanmean(a, axis, out=out, keepdims=keepdims)\n",
      "C:\\Users\\Yuriii\\.venv\\Lib\\site-packages\\numpy\\lib\\nanfunctions.py:1215: RuntimeWarning: Mean of empty slice\n",
      "  return np.nanmean(a, axis, out=out, keepdims=keepdims)\n",
      "C:\\Users\\Yuriii\\.venv\\Lib\\site-packages\\numpy\\lib\\nanfunctions.py:1215: RuntimeWarning: Mean of empty slice\n",
      "  return np.nanmean(a, axis, out=out, keepdims=keepdims)\n",
      "C:\\Users\\Yuriii\\.venv\\Lib\\site-packages\\numpy\\lib\\nanfunctions.py:1215: RuntimeWarning: Mean of empty slice\n",
      "  return np.nanmean(a, axis, out=out, keepdims=keepdims)\n",
      "C:\\Users\\Yuriii\\.venv\\Lib\\site-packages\\numpy\\lib\\nanfunctions.py:1215: RuntimeWarning: Mean of empty slice\n",
      "  return np.nanmean(a, axis, out=out, keepdims=keepdims)\n",
      "C:\\Users\\Yuriii\\.venv\\Lib\\site-packages\\numpy\\lib\\nanfunctions.py:1215: RuntimeWarning: Mean of empty slice\n",
      "  return np.nanmean(a, axis, out=out, keepdims=keepdims)\n",
      "C:\\Users\\Yuriii\\.venv\\Lib\\site-packages\\numpy\\lib\\nanfunctions.py:1215: RuntimeWarning: Mean of empty slice\n",
      "  return np.nanmean(a, axis, out=out, keepdims=keepdims)\n",
      "C:\\Users\\Yuriii\\.venv\\Lib\\site-packages\\numpy\\lib\\nanfunctions.py:1215: RuntimeWarning: Mean of empty slice\n",
      "  return np.nanmean(a, axis, out=out, keepdims=keepdims)\n",
      "C:\\Users\\Yuriii\\.venv\\Lib\\site-packages\\numpy\\lib\\nanfunctions.py:1215: RuntimeWarning: Mean of empty slice\n",
      "  return np.nanmean(a, axis, out=out, keepdims=keepdims)\n",
      "C:\\Users\\Yuriii\\.venv\\Lib\\site-packages\\numpy\\lib\\nanfunctions.py:1215: RuntimeWarning: Mean of empty slice\n",
      "  return np.nanmean(a, axis, out=out, keepdims=keepdims)\n",
      "C:\\Users\\Yuriii\\.venv\\Lib\\site-packages\\numpy\\lib\\nanfunctions.py:1215: RuntimeWarning: Mean of empty slice\n",
      "  return np.nanmean(a, axis, out=out, keepdims=keepdims)\n",
      "C:\\Users\\Yuriii\\.venv\\Lib\\site-packages\\numpy\\lib\\nanfunctions.py:1215: RuntimeWarning: Mean of empty slice\n",
      "  return np.nanmean(a, axis, out=out, keepdims=keepdims)\n",
      "C:\\Users\\Yuriii\\.venv\\Lib\\site-packages\\numpy\\lib\\nanfunctions.py:1215: RuntimeWarning: Mean of empty slice\n",
      "  return np.nanmean(a, axis, out=out, keepdims=keepdims)\n",
      "C:\\Users\\Yuriii\\.venv\\Lib\\site-packages\\numpy\\lib\\nanfunctions.py:1215: RuntimeWarning: Mean of empty slice\n",
      "  return np.nanmean(a, axis, out=out, keepdims=keepdims)\n",
      "C:\\Users\\Yuriii\\.venv\\Lib\\site-packages\\numpy\\lib\\nanfunctions.py:1215: RuntimeWarning: Mean of empty slice\n",
      "  return np.nanmean(a, axis, out=out, keepdims=keepdims)\n",
      "C:\\Users\\Yuriii\\.venv\\Lib\\site-packages\\numpy\\lib\\nanfunctions.py:1215: RuntimeWarning: Mean of empty slice\n",
      "  return np.nanmean(a, axis, out=out, keepdims=keepdims)\n",
      "C:\\Users\\Yuriii\\.venv\\Lib\\site-packages\\numpy\\lib\\nanfunctions.py:1215: RuntimeWarning: Mean of empty slice\n",
      "  return np.nanmean(a, axis, out=out, keepdims=keepdims)\n",
      "C:\\Users\\Yuriii\\.venv\\Lib\\site-packages\\numpy\\lib\\nanfunctions.py:1215: RuntimeWarning: Mean of empty slice\n",
      "  return np.nanmean(a, axis, out=out, keepdims=keepdims)\n",
      "C:\\Users\\Yuriii\\.venv\\Lib\\site-packages\\numpy\\lib\\nanfunctions.py:1215: RuntimeWarning: Mean of empty slice\n",
      "  return np.nanmean(a, axis, out=out, keepdims=keepdims)\n",
      "C:\\Users\\Yuriii\\.venv\\Lib\\site-packages\\numpy\\lib\\nanfunctions.py:1215: RuntimeWarning: Mean of empty slice\n",
      "  return np.nanmean(a, axis, out=out, keepdims=keepdims)\n",
      "C:\\Users\\Yuriii\\.venv\\Lib\\site-packages\\numpy\\lib\\nanfunctions.py:1215: RuntimeWarning: Mean of empty slice\n",
      "  return np.nanmean(a, axis, out=out, keepdims=keepdims)\n",
      "C:\\Users\\Yuriii\\.venv\\Lib\\site-packages\\numpy\\lib\\nanfunctions.py:1215: RuntimeWarning: Mean of empty slice\n",
      "  return np.nanmean(a, axis, out=out, keepdims=keepdims)\n",
      "C:\\Users\\Yuriii\\.venv\\Lib\\site-packages\\numpy\\lib\\nanfunctions.py:1215: RuntimeWarning: Mean of empty slice\n",
      "  return np.nanmean(a, axis, out=out, keepdims=keepdims)\n",
      "C:\\Users\\Yuriii\\.venv\\Lib\\site-packages\\numpy\\lib\\nanfunctions.py:1215: RuntimeWarning: Mean of empty slice\n",
      "  return np.nanmean(a, axis, out=out, keepdims=keepdims)\n",
      "C:\\Users\\Yuriii\\.venv\\Lib\\site-packages\\numpy\\lib\\nanfunctions.py:1215: RuntimeWarning: Mean of empty slice\n",
      "  return np.nanmean(a, axis, out=out, keepdims=keepdims)\n",
      "C:\\Users\\Yuriii\\.venv\\Lib\\site-packages\\numpy\\lib\\nanfunctions.py:1215: RuntimeWarning: Mean of empty slice\n",
      "  return np.nanmean(a, axis, out=out, keepdims=keepdims)\n",
      "C:\\Users\\Yuriii\\.venv\\Lib\\site-packages\\numpy\\lib\\nanfunctions.py:1215: RuntimeWarning: Mean of empty slice\n",
      "  return np.nanmean(a, axis, out=out, keepdims=keepdims)\n",
      "C:\\Users\\Yuriii\\.venv\\Lib\\site-packages\\numpy\\lib\\nanfunctions.py:1215: RuntimeWarning: Mean of empty slice\n",
      "  return np.nanmean(a, axis, out=out, keepdims=keepdims)\n",
      "C:\\Users\\Yuriii\\.venv\\Lib\\site-packages\\numpy\\lib\\nanfunctions.py:1215: RuntimeWarning: Mean of empty slice\n",
      "  return np.nanmean(a, axis, out=out, keepdims=keepdims)\n"
     ]
    }
   ],
   "source": [
    "# === Step 3: Monthly standardization with median imputation ===\n",
    "# Ensure all expected features exist before standardization\n",
    "for col in all_features:\n",
    "    if col not in df_full.columns:\n",
    "        df_full[col] = np.nan\n",
    "\n",
    "data = pd.DataFrame()\n",
    "monthly = df_full.groupby(\"yyyymm\")\n",
    "for date, group in monthly:\n",
    "    group = group.copy()\n",
    "    for var in all_features:\n",
    "        median_val = group[var].median(skipna=True)\n",
    "        group[var] = group[var].fillna(median_val)\n",
    "        group[var] = group[var].rank(method=\"dense\") - 1\n",
    "        vmax = group[var].max()\n",
    "        group[var] = (group[var] / vmax) * 2 - 1 if vmax > 0 else 0\n",
    "    data = pd.concat([data, group], ignore_index=True)"
   ]
  },
  {
   "cell_type": "code",
   "execution_count": 7,
   "id": "361a00bd-e47c-4d85-a13c-f4e32865dd9a",
   "metadata": {},
   "outputs": [],
   "source": [
    "# === Chunked Standardization Function ===\n",
    "def chunk_standardize(df_train, df_val, df_test, columns, chunk_size=100):\n",
    "    for i in range(0, len(columns), chunk_size):\n",
    "        subset = columns[i:i+chunk_size]\n",
    "        scaler = StandardScaler().fit(df_train[subset])\n",
    "        df_train.loc[:, subset] = scaler.transform(df_train[subset])\n",
    "        df_val.loc[:, subset] = scaler.transform(df_val[subset])\n",
    "        df_test.loc[:, subset] = scaler.transform(df_test[subset])\n",
    "    return df_train, df_val, df_test"
   ]
  },
  {
   "cell_type": "markdown",
   "id": "9c94f083-ab55-4d26-a828-007dc6251b55",
   "metadata": {},
   "source": [
    "## OLS"
   ]
  },
  {
   "cell_type": "code",
   "execution_count": 9,
   "id": "13806eef-69ad-439a-ab02-49ce49ca6137",
   "metadata": {},
   "outputs": [
    {
     "name": "stdout",
     "output_type": "stream",
     "text": [
      "Starting expanding window prediction (OLS only)...\n"
     ]
    },
    {
     "name": "stderr",
     "output_type": "stream",
     "text": [
      "\n",
      "OLS Rounds:  50%|███████████████████████████████████                                   | 7/14 [20:23<20:23, 174.77s/it]"
     ]
    },
    {
     "name": "stdout",
     "output_type": "stream",
     "text": [
      "\n",
      "=== Round 1: 2000-01 to 2011-01 ===\n"
     ]
    },
    {
     "name": "stderr",
     "output_type": "stream",
     "text": [
      "\n"
     ]
    },
    {
     "name": "stdout",
     "output_type": "stream",
     "text": [
      "Train size: (93496, 1339), Val size: (20897, 1339), Test size: (10563, 1339)\n",
      "Standardizing features (chunked)...\n",
      "Standardization complete.\n",
      "Training OLS...\n"
     ]
    },
    {
     "name": "stderr",
     "output_type": "stream",
     "text": [
      "\n",
      "\u001b[A Rounds:   7%|█████                                                                  | 1/14 [00:37<08:08, 37.59s/it]"
     ]
    },
    {
     "name": "stdout",
     "output_type": "stream",
     "text": [
      "Round 1 completed. R²: -0.0529, Time: 37.59s\n",
      "\n",
      "=== Round 2: 2000-01 to 2012-01 ===\n",
      "Train size: (103876, 1339), Val size: (21080, 1339), Test size: (10458, 1339)\n",
      "Standardizing features (chunked)...\n",
      "Standardization complete.\n",
      "Training OLS...\n"
     ]
    },
    {
     "name": "stderr",
     "output_type": "stream",
     "text": [
      "\n",
      "\u001b[A Rounds:  14%|██████████▏                                                            | 2/14 [01:20<08:08, 40.68s/it]"
     ]
    },
    {
     "name": "stdout",
     "output_type": "stream",
     "text": [
      "Round 2 completed. R²: -0.0272, Time: 42.83s\n",
      "\n",
      "=== Round 3: 2000-01 to 2013-01 ===\n",
      "Train size: (114393, 1339), Val size: (21021, 1339), Test size: (10556, 1339)\n",
      "Standardizing features (chunked)...\n",
      "Standardization complete.\n",
      "Training OLS...\n"
     ]
    },
    {
     "name": "stderr",
     "output_type": "stream",
     "text": [
      "\n",
      "\u001b[A Rounds:  21%|███████████████▏                                                       | 3/14 [02:06<07:56, 43.33s/it]"
     ]
    },
    {
     "name": "stdout",
     "output_type": "stream",
     "text": [
      "Round 3 completed. R²: -0.0610, Time: 46.49s\n",
      "\n",
      "=== Round 4: 2000-01 to 2014-01 ===\n",
      "Train size: (124956, 1339), Val size: (21014, 1339), Test size: (10617, 1339)\n",
      "Standardizing features (chunked)...\n",
      "Standardization complete.\n",
      "Training OLS...\n"
     ]
    },
    {
     "name": "stderr",
     "output_type": "stream",
     "text": [
      "\n",
      "\u001b[A Rounds:  29%|████████████████████▎                                                  | 4/14 [02:58<07:46, 46.63s/it]"
     ]
    },
    {
     "name": "stdout",
     "output_type": "stream",
     "text": [
      "Round 4 completed. R²: -0.1533, Time: 51.67s\n",
      "\n",
      "=== Round 5: 2000-01 to 2015-01 ===\n",
      "Train size: (135414, 1339), Val size: (21173, 1339), Test size: (10974, 1339)\n",
      "Standardizing features (chunked)...\n",
      "Standardization complete.\n",
      "Training OLS...\n"
     ]
    },
    {
     "name": "stderr",
     "output_type": "stream",
     "text": [
      "\n",
      "\u001b[A Rounds:  36%|█████████████████████████▎                                             | 5/14 [03:50<07:17, 48.65s/it]"
     ]
    },
    {
     "name": "stdout",
     "output_type": "stream",
     "text": [
      "Round 5 completed. R²: -0.0384, Time: 52.23s\n",
      "\n",
      "=== Round 6: 2000-01 to 2016-01 ===\n",
      "Train size: (145970, 1339), Val size: (21591, 1339), Test size: (11459, 1339)\n",
      "Standardizing features (chunked)...\n",
      "Standardization complete.\n",
      "Training OLS...\n"
     ]
    },
    {
     "name": "stderr",
     "output_type": "stream",
     "text": [
      "\n",
      "\u001b[A Rounds:  43%|██████████████████████████████▍                                        | 6/14 [04:51<07:01, 52.73s/it]"
     ]
    },
    {
     "name": "stdout",
     "output_type": "stream",
     "text": [
      "Round 6 completed. R²: -0.1779, Time: 60.61s\n",
      "\n",
      "=== Round 7: 2000-01 to 2017-01 ===\n",
      "Train size: (156587, 1339), Val size: (22433, 1339), Test size: (11273, 1339)\n",
      "Standardizing features (chunked)...\n",
      "Standardization complete.\n",
      "Training OLS...\n"
     ]
    },
    {
     "name": "stderr",
     "output_type": "stream",
     "text": [
      "\n",
      "\u001b[A Rounds:  50%|███████████████████████████████████▌                                   | 7/14 [05:54<06:33, 56.23s/it]"
     ]
    },
    {
     "name": "stdout",
     "output_type": "stream",
     "text": [
      "Round 7 completed. R²: -0.1139, Time: 63.39s\n",
      "\n",
      "=== Round 8: 2000-01 to 2018-01 ===\n",
      "Train size: (167561, 1339), Val size: (22732, 1339), Test size: (11054, 1339)\n",
      "Standardizing features (chunked)...\n",
      "Standardization complete.\n",
      "Training OLS...\n"
     ]
    },
    {
     "name": "stderr",
     "output_type": "stream",
     "text": [
      "\n",
      "\u001b[A Rounds:  57%|████████████████████████████████████████▌                              | 8/14 [07:02<05:59, 59.88s/it]"
     ]
    },
    {
     "name": "stdout",
     "output_type": "stream",
     "text": [
      "Round 8 completed. R²: -0.0372, Time: 67.67s\n",
      "\n",
      "=== Round 9: 2000-01 to 2019-01 ===\n",
      "Train size: (179020, 1339), Val size: (22327, 1339), Test size: (11061, 1339)\n",
      "Standardizing features (chunked)...\n",
      "Standardization complete.\n",
      "Training OLS...\n"
     ]
    },
    {
     "name": "stderr",
     "output_type": "stream",
     "text": [
      "\n",
      "\u001b[A Rounds:  64%|█████████████████████████████████████████████▋                         | 9/14 [08:16<05:20, 64.13s/it]"
     ]
    },
    {
     "name": "stdout",
     "output_type": "stream",
     "text": [
      "Round 9 completed. R²: -0.0364, Time: 73.43s\n",
      "\n",
      "=== Round 10: 2000-01 to 2020-01 ===\n",
      "Train size: (190293, 1339), Val size: (22115, 1339), Test size: (11207, 1339)\n",
      "Standardizing features (chunked)...\n",
      "Standardization complete.\n",
      "Training OLS...\n"
     ]
    },
    {
     "name": "stderr",
     "output_type": "stream",
     "text": [
      "\n",
      "\u001b[A Rounds:  71%|██████████████████████████████████████████████████                    | 10/14 [09:36<04:35, 68.99s/it]"
     ]
    },
    {
     "name": "stdout",
     "output_type": "stream",
     "text": [
      "Round 10 completed. R²: -0.0880, Time: 79.85s\n",
      "\n",
      "=== Round 11: 2000-01 to 2021-01 ===\n",
      "Train size: (201347, 1339), Val size: (22268, 1339), Test size: (11729, 1339)\n",
      "Standardizing features (chunked)...\n",
      "Standardization complete.\n",
      "Training OLS...\n"
     ]
    },
    {
     "name": "stderr",
     "output_type": "stream",
     "text": [
      "\n",
      "\u001b[A Rounds:  79%|███████████████████████████████████████████████████████               | 11/14 [10:56<03:37, 72.65s/it]"
     ]
    },
    {
     "name": "stdout",
     "output_type": "stream",
     "text": [
      "Round 11 completed. R²: -0.0246, Time: 80.88s\n",
      "\n",
      "=== Round 12: 2000-01 to 2022-01 ===\n",
      "Train size: (212408, 1339), Val size: (22936, 1339), Test size: (12510, 1339)\n",
      "Standardizing features (chunked)...\n",
      "Standardization complete.\n",
      "Training OLS...\n"
     ]
    },
    {
     "name": "stderr",
     "output_type": "stream",
     "text": [
      "\n",
      "\u001b[A Rounds:  86%|████████████████████████████████████████████████████████████          | 12/14 [12:29<02:37, 78.70s/it]"
     ]
    },
    {
     "name": "stdout",
     "output_type": "stream",
     "text": [
      "Round 12 completed. R²: -0.0011, Time: 92.47s\n",
      "\n",
      "=== Round 13: 2000-01 to 2023-01 ===\n",
      "Train size: (223615, 1339), Val size: (24239, 1339), Test size: (13192, 1339)\n",
      "Standardizing features (chunked)...\n",
      "Standardization complete.\n",
      "Training OLS...\n"
     ]
    },
    {
     "name": "stderr",
     "output_type": "stream",
     "text": [
      "\n",
      "\u001b[A Rounds:  93%|█████████████████████████████████████████████████████████████████     | 13/14 [14:04<01:23, 83.66s/it]"
     ]
    },
    {
     "name": "stdout",
     "output_type": "stream",
     "text": [
      "Round 13 completed. R²: -0.0274, Time: 95.03s\n",
      "\n",
      "=== Round 14: 2000-01 to 2024-01 ===\n",
      "Train size: (235344, 1339), Val size: (25702, 1339), Test size: (12327, 1339)\n",
      "Standardizing features (chunked)...\n",
      "Standardization complete.\n",
      "Training OLS...\n"
     ]
    },
    {
     "name": "stderr",
     "output_type": "stream",
     "text": [
      "\n",
      "\u001b[A Rounds: 100%|██████████████████████████████████████████████████████████████████████| 14/14 [15:44<00:00, 88.48s/it]"
     ]
    },
    {
     "name": "stdout",
     "output_type": "stream",
     "text": [
      "Round 14 completed. R²: -0.0808, Time: 99.55s\n",
      "OLS-only prediction complete.\n"
     ]
    }
   ],
   "source": [
    "# === Step 4: Expanding window OLS-only training and prediction ===\n",
    "data['date'] = data['yyyymm']\n",
    "start_round = 0\n",
    "starting = pd.to_datetime(\"20000101\", format=\"%Y%m%d\")\n",
    "counter = start_round\n",
    "\n",
    "print(\"Starting expanding window prediction (OLS only)...\")\n",
    "\n",
    "# Count total rounds based on full expansion logic\n",
    "end_date = pd.to_datetime(\"20240101\", format=\"%Y%m%d\")\n",
    "total_rounds = 0\n",
    "while (starting + pd.DateOffset(years=11 + total_rounds)) <= end_date:\n",
    "    total_rounds += 1\n",
    "\n",
    "pbar = tqdm(total=total_rounds - start_round, desc=\"OLS Rounds\")\n",
    "\n",
    "while (counter < total_rounds):\n",
    "    round_start_time = time.time()\n",
    "\n",
    "    cutoff = [\n",
    "        starting,\n",
    "        starting + pd.DateOffset(years=8 + counter),\n",
    "        starting + pd.DateOffset(years=10 + counter),\n",
    "        starting + pd.DateOffset(years=11 + counter),\n",
    "    ]\n",
    "\n",
    "    print(f\"\\n=== Round {counter + 1}: {cutoff[0].strftime('%Y-%m')} to {cutoff[3].strftime('%Y-%m')} ===\")\n",
    "\n",
    "    train = data[(data[\"date\"] >= cutoff[0]) & (data[\"date\"] < cutoff[1])]\n",
    "    validate = data[(data[\"date\"] >= cutoff[1]) & (data[\"date\"] < cutoff[2])]\n",
    "    test = data[(data[\"date\"] >= cutoff[2]) & (data[\"date\"] < cutoff[3])]\n",
    "\n",
    "    print(f\"Train size: {train.shape}, Val size: {validate.shape}, Test size: {test.shape}\")\n",
    "\n",
    "    if test.empty or train.empty or validate.empty:\n",
    "        print(f\"Skipping round {counter + 1} due to empty set.\")\n",
    "        counter += 1\n",
    "        pbar.update(1)\n",
    "        continue\n",
    "\n",
    "    print(\"Standardizing features (chunked)...\")\n",
    "    train, validate, test = chunk_standardize(train, validate, test, all_features, chunk_size=100)\n",
    "    print(\"Standardization complete.\")\n",
    "\n",
    "    X_train, Y_train = train[all_features].values, train['stock_exret'].values\n",
    "    X_test, Y_test = test[all_features].values, test['stock_exret'].values\n",
    "\n",
    "    Y_mean = np.mean(Y_train)\n",
    "    Y_train_dm = Y_train - Y_mean\n",
    "\n",
    "    reg_pred = test[[\"permno\", \"yyyymm\", \"stock_exret\"]].copy()\n",
    "\n",
    "    print(\"Training OLS...\")\n",
    "    reg = LinearRegression(fit_intercept=False)\n",
    "    reg.fit(X_train, Y_train_dm)\n",
    "    reg_pred[\"ols\"] = reg.predict(X_test) + Y_mean\n",
    "\n",
    "    r2_ols = 1 - np.sum((reg_pred[\"ols\"] - Y_test) ** 2) / np.sum((Y_test - Y_test.mean()) ** 2)\n",
    "\n",
    "    # Append predictions and R² per round\n",
    "    reg_pred.to_csv(\"../results/ols_predictions_all.csv\", mode=\"a\", header=(counter==start_round), index=False)\n",
    "    pd.DataFrame([{\n",
    "        \"round\": counter + 1,\n",
    "        \"start_date\": cutoff[0],\n",
    "        \"end_date\": cutoff[3],\n",
    "        \"r2_ols\": r2_ols\n",
    "    }]).to_csv(\"../results/ols_r2_all.csv\", mode=\"a\", header=(counter==start_round), index=False)\n",
    "\n",
    "    print(f\"Round {counter + 1} completed. R²: {r2_ols:.4f}, Time: {round(time.time() - round_start_time, 2)}s\")\n",
    "    counter += 1\n",
    "    pbar.update(1)\n",
    "\n",
    "print(\"OLS-only prediction complete.\")"
   ]
  },
  {
   "cell_type": "markdown",
   "id": "191fe56d-7726-4532-ab21-96fbfe378abb",
   "metadata": {},
   "source": [
    "## Lasso"
   ]
  },
  {
   "cell_type": "code",
   "execution_count": 10,
   "id": "7387846d-901c-427f-9ba2-1666a0f6c5a9",
   "metadata": {},
   "outputs": [
    {
     "name": "stdout",
     "output_type": "stream",
     "text": [
      "Starting expanding window prediction (Lasso only)...\n"
     ]
    },
    {
     "name": "stderr",
     "output_type": "stream",
     "text": [
      "OLS Rounds: 100%|█████████████████████████████████████████████████████████████████████| 14/14 [28:20<00:00, 121.49s/it]"
     ]
    },
    {
     "name": "stdout",
     "output_type": "stream",
     "text": [
      "\n",
      "=== Round 1: 2000-01 to 2011-01 ===\n"
     ]
    },
    {
     "name": "stderr",
     "output_type": "stream",
     "text": [
      "\n"
     ]
    },
    {
     "name": "stdout",
     "output_type": "stream",
     "text": [
      "Train size: (93496, 1339), Val size: (20897, 1339), Test size: (10563, 1339)\n",
      "Standardizing features (chunked)...\n",
      "Standardization complete.\n",
      "Tuning Lasso alpha...\n"
     ]
    },
    {
     "name": "stderr",
     "output_type": "stream",
     "text": [
      "\n",
      "\u001b[Aha Grid:   0%|                                                                               | 0/81 [00:00<?, ?it/s]\n",
      "\u001b[Aha Grid:   1%|▊                                                                    | 1/81 [00:56<1:15:38, 56.74s/it]\n",
      "\u001b[Aha Grid:   2%|█▋                                                                   | 2/81 [01:40<1:04:27, 48.96s/it]\n",
      "\u001b[Aha Grid:   4%|██▋                                                                    | 3/81 [02:11<52:52, 40.67s/it]\n",
      "\u001b[Aha Grid:   5%|███▌                                                                   | 4/81 [02:37<44:53, 34.98s/it]\n",
      "\u001b[Aha Grid:   6%|████▍                                                                  | 5/81 [02:57<37:34, 29.67s/it]\n",
      "\u001b[Aha Grid:   7%|█████▎                                                                 | 6/81 [03:16<32:24, 25.93s/it]\n",
      "\u001b[Aha Grid:   9%|██████▏                                                                | 7/81 [03:32<28:04, 22.76s/it]\n",
      "\u001b[Aha Grid:  10%|███████                                                                | 8/81 [03:46<24:24, 20.06s/it]\n",
      "\u001b[Aha Grid:  11%|███████▉                                                               | 9/81 [03:58<20:54, 17.42s/it]\n",
      "\u001b[Aha Grid:  12%|████████▋                                                             | 10/81 [04:07<17:31, 14.80s/it]\n",
      "\u001b[Aha Grid:  14%|█████████▌                                                            | 11/81 [04:14<14:24, 12.35s/it]\n",
      "\u001b[Aha Grid:  15%|██████████▎                                                           | 12/81 [04:19<11:51, 10.31s/it]\n",
      "\u001b[Aha Grid:  16%|███████████▏                                                          | 13/81 [04:25<10:13,  9.02s/it]\n",
      "\u001b[Aha Grid:  17%|████████████                                                          | 14/81 [04:30<08:43,  7.81s/it]\n",
      "\u001b[Aha Grid:  19%|████████████▉                                                         | 15/81 [04:34<07:16,  6.61s/it]\n",
      "\u001b[Aha Grid:  20%|█████████████▊                                                        | 16/81 [04:37<05:54,  5.46s/it]\n",
      "\u001b[Aha Grid:  21%|██████████████▋                                                       | 17/81 [04:39<04:45,  4.47s/it]\n",
      "\u001b[Aha Grid:  22%|███████████████▌                                                      | 18/81 [04:41<03:59,  3.79s/it]\n",
      "\u001b[Aha Grid:  23%|████████████████▍                                                     | 19/81 [04:43<03:13,  3.12s/it]\n",
      "\u001b[Aha Grid:  25%|█████████████████▎                                                    | 20/81 [04:44<02:40,  2.63s/it]\n",
      "\u001b[Aha Grid:  26%|██████████████████▏                                                   | 21/81 [04:46<02:16,  2.28s/it]\n",
      "\u001b[Aha Grid:  27%|███████████████████                                                   | 22/81 [04:47<02:01,  2.05s/it]\n",
      "\u001b[Aha Grid:  28%|███████████████████▉                                                  | 23/81 [04:49<01:49,  1.89s/it]\n",
      "\u001b[Aha Grid:  30%|████████████████████▋                                                 | 24/81 [04:50<01:40,  1.77s/it]\n",
      "\u001b[Aha Grid:  31%|█████████████████████▌                                                | 25/81 [04:52<01:33,  1.68s/it]\n",
      "\u001b[Aha Grid:  32%|██████████████████████▍                                               | 26/81 [04:53<01:28,  1.62s/it]\n",
      "\u001b[Aha Grid:  33%|███████████████████████▎                                              | 27/81 [04:55<01:24,  1.56s/it]\n",
      "\u001b[Aha Grid:  35%|████████████████████████▏                                             | 28/81 [04:56<01:21,  1.53s/it]\n",
      "\u001b[Aha Grid:  36%|█████████████████████████                                             | 29/81 [04:58<01:18,  1.51s/it]\n",
      "\u001b[Aha Grid:  37%|█████████████████████████▉                                            | 30/81 [04:59<01:15,  1.49s/it]\n",
      "\u001b[Aha Grid:  38%|██████████████████████████▊                                           | 31/81 [05:01<01:13,  1.48s/it]\n",
      "\u001b[Aha Grid:  40%|███████████████████████████▋                                          | 32/81 [05:02<01:13,  1.50s/it]\n",
      "\u001b[Aha Grid:  41%|████████████████████████████▌                                         | 33/81 [05:03<01:10,  1.48s/it]\n",
      "\u001b[Aha Grid:  42%|█████████████████████████████▍                                        | 34/81 [05:05<01:08,  1.47s/it]\n",
      "\u001b[Aha Grid:  43%|██████████████████████████████▏                                       | 35/81 [05:06<01:07,  1.47s/it]\n",
      "\u001b[Aha Grid:  44%|███████████████████████████████                                       | 36/81 [05:08<01:05,  1.46s/it]\n",
      "\u001b[Aha Grid:  46%|███████████████████████████████▉                                      | 37/81 [05:09<01:04,  1.46s/it]\n",
      "\u001b[Aha Grid:  47%|████████████████████████████████▊                                     | 38/81 [05:11<01:02,  1.45s/it]\n",
      "\u001b[Aha Grid:  48%|█████████████████████████████████▋                                    | 39/81 [05:12<01:00,  1.45s/it]\n",
      "\u001b[Aha Grid:  49%|██████████████████████████████████▌                                   | 40/81 [05:14<00:59,  1.45s/it]\n",
      "\u001b[Aha Grid:  51%|███████████████████████████████████▍                                  | 41/81 [05:15<00:57,  1.44s/it]\n",
      "\u001b[Aha Grid:  52%|████████████████████████████████████▎                                 | 42/81 [05:17<00:56,  1.45s/it]\n",
      "\u001b[Aha Grid:  53%|█████████████████████████████████████▏                                | 43/81 [05:18<00:54,  1.44s/it]\n",
      "\u001b[Aha Grid:  54%|██████████████████████████████████████                                | 44/81 [05:19<00:54,  1.46s/it]\n",
      "\u001b[Aha Grid:  56%|██████████████████████████████████████▉                               | 45/81 [05:21<00:52,  1.46s/it]\n",
      "\u001b[Aha Grid:  57%|███████████████████████████████████████▊                              | 46/81 [05:22<00:50,  1.45s/it]\n",
      "\u001b[Aha Grid:  58%|████████████████████████████████████████▌                             | 47/81 [05:24<00:49,  1.45s/it]\n",
      "\u001b[Aha Grid:  59%|█████████████████████████████████████████▍                            | 48/81 [05:25<00:47,  1.45s/it]\n",
      "\u001b[Aha Grid:  60%|██████████████████████████████████████████▎                           | 49/81 [05:27<00:46,  1.46s/it]\n",
      "\u001b[Aha Grid:  62%|███████████████████████████████████████████▏                          | 50/81 [05:28<00:45,  1.46s/it]\n",
      "\u001b[Aha Grid:  63%|████████████████████████████████████████████                          | 51/81 [05:30<00:43,  1.45s/it]\n",
      "\u001b[Aha Grid:  64%|████████████████████████████████████████████▉                         | 52/81 [05:31<00:41,  1.45s/it]\n",
      "\u001b[Aha Grid:  65%|█████████████████████████████████████████████▊                        | 53/81 [05:33<00:40,  1.45s/it]\n",
      "\u001b[Aha Grid:  67%|██████████████████████████████████████████████▋                       | 54/81 [05:34<00:39,  1.46s/it]\n",
      "\u001b[Aha Grid:  68%|███████████████████████████████████████████████▌                      | 55/81 [05:36<00:38,  1.50s/it]\n",
      "\u001b[Aha Grid:  69%|████████████████████████████████████████████████▍                     | 56/81 [05:37<00:37,  1.50s/it]\n",
      "\u001b[Aha Grid:  70%|█████████████████████████████████████████████████▎                    | 57/81 [05:39<00:35,  1.48s/it]\n",
      "\u001b[Aha Grid:  72%|██████████████████████████████████████████████████                    | 58/81 [05:40<00:33,  1.48s/it]\n",
      "\u001b[Aha Grid:  73%|██████████████████████████████████████████████████▉                   | 59/81 [05:41<00:32,  1.46s/it]\n",
      "\u001b[Aha Grid:  74%|███████████████████████████████████████████████████▊                  | 60/81 [05:43<00:30,  1.46s/it]\n",
      "\u001b[Aha Grid:  75%|████████████████████████████████████████████████████▋                 | 61/81 [05:44<00:29,  1.46s/it]\n",
      "\u001b[Aha Grid:  77%|█████████████████████████████████████████████████████▌                | 62/81 [05:46<00:27,  1.45s/it]\n",
      "\u001b[Aha Grid:  78%|██████████████████████████████████████████████████████▍               | 63/81 [05:47<00:26,  1.45s/it]\n",
      "\u001b[Aha Grid:  79%|███████████████████████████████████████████████████████▎              | 64/81 [05:49<00:24,  1.45s/it]\n",
      "\u001b[Aha Grid:  80%|████████████████████████████████████████████████████████▏             | 65/81 [05:50<00:23,  1.45s/it]\n",
      "\u001b[Aha Grid:  81%|█████████████████████████████████████████████████████████             | 66/81 [05:52<00:21,  1.45s/it]\n",
      "\u001b[Aha Grid:  83%|█████████████████████████████████████████████████████████▉            | 67/81 [05:53<00:20,  1.45s/it]\n",
      "\u001b[Aha Grid:  84%|██████████████████████████████████████████████████████████▊           | 68/81 [05:54<00:18,  1.45s/it]\n",
      "\u001b[Aha Grid:  85%|███████████████████████████████████████████████████████████▋          | 69/81 [05:56<00:17,  1.45s/it]\n",
      "\u001b[Aha Grid:  86%|████████████████████████████████████████████████████████████▍         | 70/81 [05:57<00:16,  1.46s/it]\n",
      "\u001b[Aha Grid:  88%|█████████████████████████████████████████████████████████████▎        | 71/81 [05:59<00:14,  1.46s/it]\n",
      "\u001b[Aha Grid:  89%|██████████████████████████████████████████████████████████████▏       | 72/81 [06:00<00:13,  1.46s/it]\n",
      "\u001b[Aha Grid:  90%|███████████████████████████████████████████████████████████████       | 73/81 [06:02<00:11,  1.46s/it]\n",
      "\u001b[Aha Grid:  91%|███████████████████████████████████████████████████████████████▉      | 74/81 [06:03<00:10,  1.45s/it]\n",
      "\u001b[Aha Grid:  93%|████████████████████████████████████████████████████████████████▊     | 75/81 [06:05<00:08,  1.45s/it]\n",
      "\u001b[Aha Grid:  94%|█████████████████████████████████████████████████████████████████▋    | 76/81 [06:06<00:07,  1.45s/it]\n",
      "\u001b[Aha Grid:  95%|██████████████████████████████████████████████████████████████████▌   | 77/81 [06:08<00:05,  1.45s/it]\n",
      "\u001b[Aha Grid:  96%|███████████████████████████████████████████████████████████████████▍  | 78/81 [06:09<00:04,  1.45s/it]\n",
      "\u001b[Aha Grid:  98%|████████████████████████████████████████████████████████████████████▎ | 79/81 [06:10<00:02,  1.46s/it]\n",
      "\u001b[Aha Grid:  99%|█████████████████████████████████████████████████████████████████████▏| 80/81 [06:12<00:01,  1.45s/it]\n",
      "Alpha Grid: 100%|██████████████████████████████████████████████████████████████████████| 81/81 [06:13<00:00,  4.62s/it]\n"
     ]
    },
    {
     "name": "stdout",
     "output_type": "stream",
     "text": [
      "Best lambda: 10^-2.40\n"
     ]
    },
    {
     "name": "stderr",
     "output_type": "stream",
     "text": [
      "Lasso Rounds:   7%|████▋                                                             | 1/14 [06:36<1:25:52, 396.34s/it]"
     ]
    },
    {
     "name": "stdout",
     "output_type": "stream",
     "text": [
      "Round 1 completed. R²: -0.0316, Time: 396.34s\n",
      "\n",
      "=== Round 2: 2000-01 to 2012-01 ===\n",
      "Train size: (103876, 1339), Val size: (21080, 1339), Test size: (10458, 1339)\n",
      "Standardizing features (chunked)...\n",
      "Standardization complete.\n",
      "Tuning Lasso alpha...\n"
     ]
    },
    {
     "name": "stderr",
     "output_type": "stream",
     "text": [
      "\n",
      "\u001b[Aha Grid:   0%|                                                                               | 0/81 [00:00<?, ?it/s]\n",
      "\u001b[Aha Grid:   1%|▊                                                                    | 1/81 [01:11<1:34:59, 71.24s/it]\n",
      "\u001b[Aha Grid:   2%|█▋                                                                   | 2/81 [02:12<1:26:18, 65.55s/it]\n",
      "\u001b[Aha Grid:   4%|██▌                                                                  | 3/81 [02:49<1:08:07, 52.41s/it]\n",
      "\u001b[Aha Grid:   5%|███▌                                                                   | 4/81 [03:20<56:34, 44.08s/it]\n",
      "\u001b[Aha Grid:   6%|████▍                                                                  | 5/81 [03:44<46:37, 36.80s/it]\n",
      "\u001b[Aha Grid:   7%|█████▎                                                                 | 6/81 [04:03<38:30, 30.81s/it]\n",
      "\u001b[Aha Grid:   9%|██████▏                                                                | 7/81 [04:22<33:12, 26.92s/it]\n",
      "\u001b[Aha Grid:  10%|███████                                                                | 8/81 [04:38<28:22, 23.33s/it]\n",
      "\u001b[Aha Grid:  11%|███████▉                                                               | 9/81 [04:51<24:10, 20.15s/it]\n",
      "\u001b[Aha Grid:  12%|████████▋                                                             | 10/81 [05:02<20:32, 17.36s/it]\n",
      "\u001b[Aha Grid:  14%|█████████▌                                                            | 11/81 [05:13<17:51, 15.30s/it]\n",
      "\u001b[Aha Grid:  15%|██████████▎                                                           | 12/81 [05:19<14:30, 12.62s/it]\n",
      "\u001b[Aha Grid:  16%|███████████▏                                                          | 13/81 [05:25<11:46, 10.39s/it]\n",
      "\u001b[Aha Grid:  17%|████████████                                                          | 14/81 [05:29<09:28,  8.49s/it]\n",
      "\u001b[Aha Grid:  19%|████████████▉                                                         | 15/81 [05:32<07:39,  6.96s/it]\n",
      "\u001b[Aha Grid:  20%|█████████████▊                                                        | 16/81 [05:35<06:07,  5.66s/it]\n",
      "\u001b[Aha Grid:  21%|██████████████▋                                                       | 17/81 [05:37<05:03,  4.75s/it]\n",
      "\u001b[Aha Grid:  22%|███████████████▌                                                      | 18/81 [05:40<04:10,  3.97s/it]\n",
      "\u001b[Aha Grid:  23%|████████████████▍                                                     | 19/81 [05:41<03:24,  3.30s/it]\n",
      "\u001b[Aha Grid:  25%|█████████████████▎                                                    | 20/81 [05:43<02:50,  2.80s/it]\n",
      "\u001b[Aha Grid:  26%|██████████████████▏                                                   | 21/81 [05:45<02:27,  2.45s/it]\n",
      "\u001b[Aha Grid:  27%|███████████████████                                                   | 22/81 [05:46<02:10,  2.21s/it]\n",
      "\u001b[Aha Grid:  28%|███████████████████▉                                                  | 23/81 [05:48<01:58,  2.04s/it]\n",
      "\u001b[Aha Grid:  30%|████████████████████▋                                                 | 24/81 [05:50<01:49,  1.92s/it]\n",
      "\u001b[Aha Grid:  31%|█████████████████████▌                                                | 25/81 [05:51<01:42,  1.83s/it]\n",
      "\u001b[Aha Grid:  32%|██████████████████████▍                                               | 26/81 [05:53<01:37,  1.77s/it]\n",
      "\u001b[Aha Grid:  33%|███████████████████████▎                                              | 27/81 [05:54<01:33,  1.74s/it]\n",
      "\u001b[Aha Grid:  35%|████████████████████████▏                                             | 28/81 [05:56<01:31,  1.73s/it]\n",
      "\u001b[Aha Grid:  36%|█████████████████████████                                             | 29/81 [05:58<01:28,  1.71s/it]\n",
      "\u001b[Aha Grid:  37%|█████████████████████████▉                                            | 30/81 [06:00<01:27,  1.72s/it]\n",
      "\u001b[Aha Grid:  38%|██████████████████████████▊                                           | 31/81 [06:01<01:25,  1.71s/it]\n",
      "\u001b[Aha Grid:  40%|███████████████████████████▋                                          | 32/81 [06:03<01:23,  1.70s/it]\n",
      "\u001b[Aha Grid:  41%|████████████████████████████▌                                         | 33/81 [06:05<01:21,  1.69s/it]\n",
      "\u001b[Aha Grid:  42%|█████████████████████████████▍                                        | 34/81 [06:06<01:18,  1.67s/it]\n",
      "\u001b[Aha Grid:  43%|██████████████████████████████▏                                       | 35/81 [06:08<01:16,  1.66s/it]\n",
      "\u001b[Aha Grid:  44%|███████████████████████████████                                       | 36/81 [06:10<01:14,  1.66s/it]\n",
      "\u001b[Aha Grid:  46%|███████████████████████████████▉                                      | 37/81 [06:11<01:12,  1.65s/it]\n",
      "\u001b[Aha Grid:  47%|████████████████████████████████▊                                     | 38/81 [06:13<01:10,  1.64s/it]\n",
      "\u001b[Aha Grid:  48%|█████████████████████████████████▋                                    | 39/81 [06:14<01:08,  1.63s/it]\n",
      "\u001b[Aha Grid:  49%|██████████████████████████████████▌                                   | 40/81 [06:16<01:06,  1.63s/it]\n",
      "\u001b[Aha Grid:  51%|███████████████████████████████████▍                                  | 41/81 [06:18<01:05,  1.63s/it]\n",
      "\u001b[Aha Grid:  52%|████████████████████████████████████▎                                 | 42/81 [06:19<01:03,  1.62s/it]\n",
      "\u001b[Aha Grid:  53%|█████████████████████████████████████▏                                | 43/81 [06:21<01:01,  1.63s/it]\n",
      "\u001b[Aha Grid:  54%|██████████████████████████████████████                                | 44/81 [06:23<01:00,  1.65s/it]\n",
      "\u001b[Aha Grid:  56%|██████████████████████████████████████▉                               | 45/81 [06:24<00:59,  1.64s/it]\n",
      "\u001b[Aha Grid:  57%|███████████████████████████████████████▊                              | 46/81 [06:26<00:57,  1.63s/it]\n",
      "\u001b[Aha Grid:  58%|████████████████████████████████████████▌                             | 47/81 [06:28<00:56,  1.67s/it]\n",
      "\u001b[Aha Grid:  59%|█████████████████████████████████████████▍                            | 48/81 [06:29<00:54,  1.66s/it]\n",
      "\u001b[Aha Grid:  60%|██████████████████████████████████████████▎                           | 49/81 [06:31<00:54,  1.70s/it]\n",
      "\u001b[Aha Grid:  62%|███████████████████████████████████████████▏                          | 50/81 [06:33<00:51,  1.67s/it]\n",
      "\u001b[Aha Grid:  63%|████████████████████████████████████████████                          | 51/81 [06:34<00:49,  1.65s/it]\n",
      "\u001b[Aha Grid:  64%|████████████████████████████████████████████▉                         | 52/81 [06:36<00:47,  1.65s/it]\n",
      "\u001b[Aha Grid:  65%|█████████████████████████████████████████████▊                        | 53/81 [06:37<00:45,  1.63s/it]\n",
      "\u001b[Aha Grid:  67%|██████████████████████████████████████████████▋                       | 54/81 [06:39<00:43,  1.63s/it]\n",
      "\u001b[Aha Grid:  68%|███████████████████████████████████████████████▌                      | 55/81 [06:41<00:42,  1.62s/it]\n",
      "\u001b[Aha Grid:  69%|████████████████████████████████████████████████▍                     | 56/81 [06:42<00:40,  1.64s/it]\n",
      "\u001b[Aha Grid:  70%|█████████████████████████████████████████████████▎                    | 57/81 [06:44<00:39,  1.64s/it]\n",
      "\u001b[Aha Grid:  72%|██████████████████████████████████████████████████                    | 58/81 [06:46<00:37,  1.64s/it]\n",
      "\u001b[Aha Grid:  73%|██████████████████████████████████████████████████▉                   | 59/81 [06:47<00:35,  1.63s/it]\n",
      "\u001b[Aha Grid:  74%|███████████████████████████████████████████████████▊                  | 60/81 [06:49<00:34,  1.65s/it]\n",
      "\u001b[Aha Grid:  75%|████████████████████████████████████████████████████▋                 | 61/81 [06:51<00:32,  1.64s/it]\n",
      "\u001b[Aha Grid:  77%|█████████████████████████████████████████████████████▌                | 62/81 [06:52<00:30,  1.63s/it]\n",
      "\u001b[Aha Grid:  78%|██████████████████████████████████████████████████████▍               | 63/81 [06:54<00:29,  1.61s/it]\n",
      "\u001b[Aha Grid:  79%|███████████████████████████████████████████████████████▎              | 64/81 [06:55<00:27,  1.64s/it]\n",
      "\u001b[Aha Grid:  80%|████████████████████████████████████████████████████████▏             | 65/81 [06:57<00:26,  1.63s/it]\n",
      "\u001b[Aha Grid:  81%|█████████████████████████████████████████████████████████             | 66/81 [06:59<00:24,  1.63s/it]\n",
      "\u001b[Aha Grid:  83%|█████████████████████████████████████████████████████████▉            | 67/81 [07:00<00:22,  1.63s/it]\n",
      "\u001b[Aha Grid:  84%|██████████████████████████████████████████████████████████▊           | 68/81 [07:02<00:21,  1.64s/it]\n",
      "\u001b[Aha Grid:  85%|███████████████████████████████████████████████████████████▋          | 69/81 [07:04<00:19,  1.63s/it]\n",
      "\u001b[Aha Grid:  86%|████████████████████████████████████████████████████████████▍         | 70/81 [07:05<00:17,  1.64s/it]\n",
      "\u001b[Aha Grid:  88%|█████████████████████████████████████████████████████████████▎        | 71/81 [07:07<00:16,  1.63s/it]\n",
      "\u001b[Aha Grid:  89%|██████████████████████████████████████████████████████████████▏       | 72/81 [07:08<00:14,  1.62s/it]\n",
      "\u001b[Aha Grid:  90%|███████████████████████████████████████████████████████████████       | 73/81 [07:10<00:12,  1.62s/it]\n",
      "\u001b[Aha Grid:  91%|███████████████████████████████████████████████████████████████▉      | 74/81 [07:12<00:11,  1.62s/it]\n",
      "\u001b[Aha Grid:  93%|████████████████████████████████████████████████████████████████▊     | 75/81 [07:13<00:09,  1.62s/it]\n",
      "\u001b[Aha Grid:  94%|█████████████████████████████████████████████████████████████████▋    | 76/81 [07:15<00:08,  1.65s/it]\n",
      "\u001b[Aha Grid:  95%|██████████████████████████████████████████████████████████████████▌   | 77/81 [07:17<00:06,  1.65s/it]\n",
      "\u001b[Aha Grid:  96%|███████████████████████████████████████████████████████████████████▍  | 78/81 [07:18<00:04,  1.65s/it]\n",
      "\u001b[Aha Grid:  98%|████████████████████████████████████████████████████████████████████▎ | 79/81 [07:20<00:03,  1.65s/it]\n",
      "\u001b[Aha Grid:  99%|█████████████████████████████████████████████████████████████████████▏| 80/81 [07:22<00:01,  1.65s/it]\n",
      "Alpha Grid: 100%|██████████████████████████████████████████████████████████████████████| 81/81 [07:23<00:00,  5.48s/it]\n"
     ]
    },
    {
     "name": "stdout",
     "output_type": "stream",
     "text": [
      "Best lambda: 10^-2.20\n"
     ]
    },
    {
     "name": "stderr",
     "output_type": "stream",
     "text": [
      "Lasso Rounds:  14%|█████████▍                                                        | 2/14 [14:24<1:27:40, 438.35s/it]"
     ]
    },
    {
     "name": "stdout",
     "output_type": "stream",
     "text": [
      "Round 2 completed. R²: -0.0002, Time: 467.76s\n",
      "\n",
      "=== Round 3: 2000-01 to 2013-01 ===\n",
      "Train size: (114393, 1339), Val size: (21021, 1339), Test size: (10556, 1339)\n",
      "Standardizing features (chunked)...\n",
      "Standardization complete.\n",
      "Tuning Lasso alpha...\n"
     ]
    },
    {
     "name": "stderr",
     "output_type": "stream",
     "text": [
      "\n",
      "\u001b[Aha Grid:   0%|                                                                               | 0/81 [00:00<?, ?it/s]\n",
      "\u001b[Aha Grid:   1%|▊                                                                    | 1/81 [01:09<1:32:30, 69.38s/it]\n",
      "\u001b[Aha Grid:   2%|█▋                                                                   | 2/81 [02:10<1:25:15, 64.75s/it]\n",
      "\u001b[Aha Grid:   4%|██▌                                                                  | 3/81 [02:50<1:09:13, 53.26s/it]\n",
      "\u001b[Aha Grid:   5%|███▍                                                                 | 4/81 [03:34<1:03:32, 49.52s/it]\n",
      "\u001b[Aha Grid:   6%|████▍                                                                  | 5/81 [04:02<53:00, 41.84s/it]\n",
      "\u001b[Aha Grid:   7%|█████▎                                                                 | 6/81 [04:26<44:36, 35.68s/it]\n",
      "\u001b[Aha Grid:   9%|██████▏                                                                | 7/81 [04:44<37:02, 30.04s/it]\n",
      "\u001b[Aha Grid:  10%|███████                                                                | 8/81 [05:05<32:53, 27.03s/it]\n",
      "\u001b[Aha Grid:  11%|███████▉                                                               | 9/81 [05:20<28:12, 23.50s/it]\n",
      "\u001b[Aha Grid:  12%|████████▋                                                             | 10/81 [05:31<23:03, 19.48s/it]\n",
      "\u001b[Aha Grid:  14%|█████████▌                                                            | 11/81 [05:41<19:16, 16.52s/it]\n",
      "\u001b[Aha Grid:  15%|██████████▎                                                           | 12/81 [05:47<15:24, 13.39s/it]\n",
      "\u001b[Aha Grid:  16%|███████████▏                                                          | 13/81 [05:52<12:14, 10.80s/it]\n",
      "\u001b[Aha Grid:  17%|████████████                                                          | 14/81 [05:56<09:40,  8.66s/it]\n",
      "\u001b[Aha Grid:  19%|████████████▉                                                         | 15/81 [05:59<07:45,  7.06s/it]\n",
      "\u001b[Aha Grid:  20%|█████████████▊                                                        | 16/81 [06:02<06:13,  5.75s/it]\n",
      "\u001b[Aha Grid:  21%|██████████████▋                                                       | 17/81 [06:04<05:03,  4.75s/it]\n",
      "\u001b[Aha Grid:  22%|███████████████▌                                                      | 18/81 [06:06<04:05,  3.90s/it]\n",
      "\u001b[Aha Grid:  23%|████████████████▍                                                     | 19/81 [06:08<03:24,  3.30s/it]\n",
      "\u001b[Aha Grid:  25%|█████████████████▎                                                    | 20/81 [06:10<02:53,  2.84s/it]\n",
      "\u001b[Aha Grid:  26%|██████████████████▏                                                   | 21/81 [06:11<02:32,  2.54s/it]\n",
      "\u001b[Aha Grid:  27%|███████████████████                                                   | 22/81 [06:13<02:17,  2.33s/it]\n",
      "\u001b[Aha Grid:  28%|███████████████████▉                                                  | 23/81 [06:15<02:06,  2.18s/it]\n",
      "\u001b[Aha Grid:  30%|████████████████████▋                                                 | 24/81 [06:17<01:56,  2.04s/it]\n",
      "\u001b[Aha Grid:  31%|█████████████████████▌                                                | 25/81 [06:19<01:51,  1.99s/it]\n",
      "\u001b[Aha Grid:  32%|██████████████████████▍                                               | 26/81 [06:21<01:46,  1.93s/it]\n",
      "\u001b[Aha Grid:  33%|███████████████████████▎                                              | 27/81 [06:22<01:41,  1.88s/it]\n",
      "\u001b[Aha Grid:  35%|████████████████████████▏                                             | 28/81 [06:24<01:38,  1.86s/it]\n",
      "\u001b[Aha Grid:  36%|█████████████████████████                                             | 29/81 [06:26<01:35,  1.83s/it]\n",
      "\u001b[Aha Grid:  37%|█████████████████████████▉                                            | 30/81 [06:28<01:32,  1.81s/it]\n",
      "\u001b[Aha Grid:  38%|██████████████████████████▊                                           | 31/81 [06:29<01:30,  1.80s/it]\n",
      "\u001b[Aha Grid:  40%|███████████████████████████▋                                          | 32/81 [06:31<01:27,  1.79s/it]\n",
      "\u001b[Aha Grid:  41%|████████████████████████████▌                                         | 33/81 [06:33<01:25,  1.77s/it]\n",
      "\u001b[Aha Grid:  42%|█████████████████████████████▍                                        | 34/81 [06:35<01:23,  1.78s/it]\n",
      "\u001b[Aha Grid:  43%|██████████████████████████████▏                                       | 35/81 [06:36<01:21,  1.78s/it]\n",
      "\u001b[Aha Grid:  44%|███████████████████████████████                                       | 36/81 [06:38<01:19,  1.77s/it]\n",
      "\u001b[Aha Grid:  46%|███████████████████████████████▉                                      | 37/81 [06:40<01:18,  1.78s/it]\n",
      "\u001b[Aha Grid:  47%|████████████████████████████████▊                                     | 38/81 [06:42<01:16,  1.77s/it]\n",
      "\u001b[Aha Grid:  48%|█████████████████████████████████▋                                    | 39/81 [06:44<01:14,  1.78s/it]\n",
      "\u001b[Aha Grid:  49%|██████████████████████████████████▌                                   | 40/81 [06:45<01:12,  1.77s/it]\n",
      "\u001b[Aha Grid:  51%|███████████████████████████████████▍                                  | 41/81 [06:47<01:12,  1.81s/it]\n",
      "\u001b[Aha Grid:  52%|████████████████████████████████████▎                                 | 42/81 [06:49<01:09,  1.79s/it]\n",
      "\u001b[Aha Grid:  53%|█████████████████████████████████████▏                                | 43/81 [06:51<01:07,  1.78s/it]\n",
      "\u001b[Aha Grid:  54%|██████████████████████████████████████                                | 44/81 [06:52<01:06,  1.79s/it]\n",
      "\u001b[Aha Grid:  56%|██████████████████████████████████████▉                               | 45/81 [06:54<01:04,  1.78s/it]\n",
      "\u001b[Aha Grid:  57%|███████████████████████████████████████▊                              | 46/81 [06:56<01:02,  1.78s/it]\n",
      "\u001b[Aha Grid:  58%|████████████████████████████████████████▌                             | 47/81 [06:58<00:59,  1.76s/it]\n",
      "\u001b[Aha Grid:  59%|█████████████████████████████████████████▍                            | 48/81 [07:00<00:58,  1.78s/it]\n",
      "\u001b[Aha Grid:  60%|██████████████████████████████████████████▎                           | 49/81 [07:01<00:56,  1.77s/it]\n",
      "\u001b[Aha Grid:  62%|███████████████████████████████████████████▏                          | 50/81 [07:03<00:54,  1.77s/it]\n",
      "\u001b[Aha Grid:  63%|████████████████████████████████████████████                          | 51/81 [07:05<00:53,  1.77s/it]\n",
      "\u001b[Aha Grid:  64%|████████████████████████████████████████████▉                         | 52/81 [07:07<00:51,  1.77s/it]\n",
      "\u001b[Aha Grid:  65%|█████████████████████████████████████████████▊                        | 53/81 [07:08<00:49,  1.78s/it]\n",
      "\u001b[Aha Grid:  67%|██████████████████████████████████████████████▋                       | 54/81 [07:10<00:48,  1.79s/it]\n",
      "\u001b[Aha Grid:  68%|███████████████████████████████████████████████▌                      | 55/81 [07:12<00:46,  1.80s/it]\n",
      "\u001b[Aha Grid:  69%|████████████████████████████████████████████████▍                     | 56/81 [07:14<00:44,  1.79s/it]\n",
      "\u001b[Aha Grid:  70%|█████████████████████████████████████████████████▎                    | 57/81 [07:16<00:42,  1.78s/it]\n",
      "\u001b[Aha Grid:  72%|██████████████████████████████████████████████████                    | 58/81 [07:17<00:40,  1.77s/it]\n",
      "\u001b[Aha Grid:  73%|██████████████████████████████████████████████████▉                   | 59/81 [07:19<00:38,  1.76s/it]\n",
      "\u001b[Aha Grid:  74%|███████████████████████████████████████████████████▊                  | 60/81 [07:21<00:37,  1.78s/it]\n",
      "\u001b[Aha Grid:  75%|████████████████████████████████████████████████████▋                 | 61/81 [07:23<00:35,  1.78s/it]\n",
      "\u001b[Aha Grid:  77%|█████████████████████████████████████████████████████▌                | 62/81 [07:24<00:33,  1.78s/it]\n",
      "\u001b[Aha Grid:  78%|██████████████████████████████████████████████████████▍               | 63/81 [07:26<00:31,  1.77s/it]\n",
      "\u001b[Aha Grid:  79%|███████████████████████████████████████████████████████▎              | 64/81 [07:28<00:30,  1.77s/it]\n",
      "\u001b[Aha Grid:  80%|████████████████████████████████████████████████████████▏             | 65/81 [07:30<00:28,  1.76s/it]\n",
      "\u001b[Aha Grid:  81%|█████████████████████████████████████████████████████████             | 66/81 [07:32<00:26,  1.78s/it]\n",
      "\u001b[Aha Grid:  83%|█████████████████████████████████████████████████████████▉            | 67/81 [07:33<00:24,  1.77s/it]\n",
      "\u001b[Aha Grid:  84%|██████████████████████████████████████████████████████████▊           | 68/81 [07:35<00:23,  1.78s/it]\n",
      "\u001b[Aha Grid:  85%|███████████████████████████████████████████████████████████▋          | 69/81 [07:37<00:21,  1.79s/it]\n",
      "\u001b[Aha Grid:  86%|████████████████████████████████████████████████████████████▍         | 70/81 [07:39<00:19,  1.78s/it]\n",
      "\u001b[Aha Grid:  88%|█████████████████████████████████████████████████████████████▎        | 71/81 [07:40<00:17,  1.78s/it]\n",
      "\u001b[Aha Grid:  89%|██████████████████████████████████████████████████████████████▏       | 72/81 [07:42<00:15,  1.77s/it]\n",
      "\u001b[Aha Grid:  90%|███████████████████████████████████████████████████████████████       | 73/81 [07:44<00:14,  1.77s/it]\n",
      "\u001b[Aha Grid:  91%|███████████████████████████████████████████████████████████████▉      | 74/81 [07:46<00:12,  1.77s/it]\n",
      "\u001b[Aha Grid:  93%|████████████████████████████████████████████████████████████████▊     | 75/81 [07:48<00:10,  1.78s/it]\n",
      "\u001b[Aha Grid:  94%|█████████████████████████████████████████████████████████████████▋    | 76/81 [07:49<00:08,  1.78s/it]\n",
      "\u001b[Aha Grid:  95%|██████████████████████████████████████████████████████████████████▌   | 77/81 [07:51<00:07,  1.77s/it]\n",
      "\u001b[Aha Grid:  96%|███████████████████████████████████████████████████████████████████▍  | 78/81 [07:53<00:05,  1.78s/it]\n",
      "\u001b[Aha Grid:  98%|████████████████████████████████████████████████████████████████████▎ | 79/81 [07:55<00:03,  1.82s/it]\n",
      "\u001b[Aha Grid:  99%|█████████████████████████████████████████████████████████████████████▏| 80/81 [07:57<00:01,  1.97s/it]\n",
      "Alpha Grid: 100%|██████████████████████████████████████████████████████████████████████| 81/81 [07:59<00:00,  5.92s/it]\n"
     ]
    },
    {
     "name": "stdout",
     "output_type": "stream",
     "text": [
      "Best lambda: 10^-2.20\n"
     ]
    },
    {
     "name": "stderr",
     "output_type": "stream",
     "text": [
      "Lasso Rounds:  21%|██████████████▏                                                   | 3/14 [22:46<1:25:41, 467.37s/it]"
     ]
    },
    {
     "name": "stdout",
     "output_type": "stream",
     "text": [
      "Round 3 completed. R²: -0.0198, Time: 501.91s\n",
      "\n",
      "=== Round 4: 2000-01 to 2014-01 ===\n",
      "Train size: (124956, 1339), Val size: (21014, 1339), Test size: (10617, 1339)\n",
      "Standardizing features (chunked)...\n",
      "Standardization complete.\n",
      "Tuning Lasso alpha...\n"
     ]
    },
    {
     "name": "stderr",
     "output_type": "stream",
     "text": [
      "\n",
      "\u001b[Aha Grid:   0%|                                                                               | 0/81 [00:00<?, ?it/s]\n",
      "\u001b[Aha Grid:   1%|▊                                                                    | 1/81 [01:13<1:37:26, 73.08s/it]\n",
      "\u001b[Aha Grid:   2%|█▋                                                                   | 2/81 [02:12<1:25:45, 65.14s/it]\n",
      "\u001b[Aha Grid:   4%|██▌                                                                  | 3/81 [03:21<1:26:47, 66.77s/it]\n",
      "\u001b[Aha Grid:   5%|███▍                                                                 | 4/81 [04:10<1:16:44, 59.80s/it]\n",
      "\u001b[Aha Grid:   6%|████▎                                                                | 5/81 [04:36<1:00:09, 47.50s/it]\n",
      "\u001b[Aha Grid:   7%|█████▎                                                                 | 6/81 [05:00<49:19, 39.46s/it]\n",
      "\u001b[Aha Grid:   9%|██████▏                                                                | 7/81 [05:19<40:47, 33.08s/it]\n",
      "\u001b[Aha Grid:  10%|███████                                                                | 8/81 [05:37<34:24, 28.28s/it]\n",
      "\u001b[Aha Grid:  11%|███████▉                                                               | 9/81 [05:58<30:52, 25.73s/it]\n",
      "\u001b[Aha Grid:  12%|████████▋                                                             | 10/81 [06:09<25:22, 21.44s/it]\n",
      "\u001b[Aha Grid:  14%|█████████▌                                                            | 11/81 [06:18<20:20, 17.44s/it]\n",
      "\u001b[Aha Grid:  15%|██████████▎                                                           | 12/81 [06:24<16:05, 14.00s/it]\n",
      "\u001b[Aha Grid:  16%|███████████▏                                                          | 13/81 [06:30<13:09, 11.61s/it]\n",
      "\u001b[Aha Grid:  17%|████████████                                                          | 14/81 [06:34<10:16,  9.21s/it]\n",
      "\u001b[Aha Grid:  19%|████████████▉                                                         | 15/81 [06:37<08:11,  7.45s/it]\n",
      "\u001b[Aha Grid:  20%|█████████████▊                                                        | 16/81 [06:40<06:35,  6.09s/it]\n",
      "\u001b[Aha Grid:  21%|██████████████▋                                                       | 17/81 [06:42<05:13,  4.89s/it]\n",
      "\u001b[Aha Grid:  22%|███████████████▌                                                      | 18/81 [06:44<04:14,  4.04s/it]\n",
      "\u001b[Aha Grid:  23%|████████████████▍                                                     | 19/81 [06:46<03:32,  3.44s/it]\n",
      "\u001b[Aha Grid:  25%|█████████████████▎                                                    | 20/81 [06:48<03:01,  2.97s/it]\n",
      "\u001b[Aha Grid:  26%|██████████████████▏                                                   | 21/81 [06:50<02:39,  2.65s/it]\n",
      "\u001b[Aha Grid:  27%|███████████████████                                                   | 22/81 [06:52<02:23,  2.44s/it]\n",
      "\u001b[Aha Grid:  28%|███████████████████▉                                                  | 23/81 [06:54<02:11,  2.27s/it]\n",
      "\u001b[Aha Grid:  30%|████████████████████▋                                                 | 24/81 [06:56<02:03,  2.16s/it]\n",
      "\u001b[Aha Grid:  31%|█████████████████████▌                                                | 25/81 [06:58<01:57,  2.09s/it]\n",
      "\u001b[Aha Grid:  32%|██████████████████████▍                                               | 26/81 [07:00<01:52,  2.04s/it]\n",
      "\u001b[Aha Grid:  33%|███████████████████████▎                                              | 27/81 [07:02<01:49,  2.03s/it]\n",
      "\u001b[Aha Grid:  35%|████████████████████████▏                                             | 28/81 [07:04<01:46,  2.02s/it]\n",
      "\u001b[Aha Grid:  36%|█████████████████████████                                             | 29/81 [07:06<01:44,  2.01s/it]\n",
      "\u001b[Aha Grid:  37%|█████████████████████████▉                                            | 30/81 [07:08<01:41,  1.99s/it]\n",
      "\u001b[Aha Grid:  38%|██████████████████████████▊                                           | 31/81 [07:09<01:38,  1.97s/it]\n",
      "\u001b[Aha Grid:  40%|███████████████████████████▋                                          | 32/81 [07:11<01:36,  1.97s/it]\n",
      "\u001b[Aha Grid:  41%|████████████████████████████▌                                         | 33/81 [07:13<01:34,  1.97s/it]\n",
      "\u001b[Aha Grid:  42%|█████████████████████████████▍                                        | 34/81 [07:15<01:32,  1.96s/it]\n",
      "\u001b[Aha Grid:  43%|██████████████████████████████▏                                       | 35/81 [07:17<01:29,  1.95s/it]\n",
      "\u001b[Aha Grid:  44%|███████████████████████████████                                       | 36/81 [07:19<01:26,  1.93s/it]\n",
      "\u001b[Aha Grid:  46%|███████████████████████████████▉                                      | 37/81 [07:21<01:25,  1.93s/it]\n",
      "\u001b[Aha Grid:  47%|████████████████████████████████▊                                     | 38/81 [07:23<01:23,  1.93s/it]\n",
      "\u001b[Aha Grid:  48%|█████████████████████████████████▋                                    | 39/81 [07:25<01:21,  1.93s/it]\n",
      "\u001b[Aha Grid:  49%|██████████████████████████████████▌                                   | 40/81 [07:27<01:20,  1.96s/it]\n",
      "\u001b[Aha Grid:  51%|███████████████████████████████████▍                                  | 41/81 [07:29<01:18,  1.96s/it]\n",
      "\u001b[Aha Grid:  52%|████████████████████████████████████▎                                 | 42/81 [07:31<01:15,  1.94s/it]\n",
      "\u001b[Aha Grid:  53%|█████████████████████████████████████▏                                | 43/81 [07:33<01:13,  1.94s/it]\n",
      "\u001b[Aha Grid:  54%|██████████████████████████████████████                                | 44/81 [07:35<01:10,  1.90s/it]\n",
      "\u001b[Aha Grid:  56%|██████████████████████████████████████▉                               | 45/81 [07:37<01:10,  1.94s/it]\n",
      "\u001b[Aha Grid:  57%|███████████████████████████████████████▊                              | 46/81 [07:39<01:07,  1.94s/it]\n",
      "\u001b[Aha Grid:  58%|████████████████████████████████████████▌                             | 47/81 [07:40<01:05,  1.93s/it]\n",
      "\u001b[Aha Grid:  59%|█████████████████████████████████████████▍                            | 48/81 [07:42<01:03,  1.93s/it]\n",
      "\u001b[Aha Grid:  60%|██████████████████████████████████████████▎                           | 49/81 [07:44<01:01,  1.94s/it]\n",
      "\u001b[Aha Grid:  62%|███████████████████████████████████████████▏                          | 50/81 [07:46<00:59,  1.93s/it]\n",
      "\u001b[Aha Grid:  63%|████████████████████████████████████████████                          | 51/81 [07:48<00:57,  1.93s/it]\n",
      "\u001b[Aha Grid:  64%|████████████████████████████████████████████▉                         | 52/81 [07:50<00:55,  1.93s/it]\n",
      "\u001b[Aha Grid:  65%|█████████████████████████████████████████████▊                        | 53/81 [07:52<00:54,  1.94s/it]\n",
      "\u001b[Aha Grid:  67%|██████████████████████████████████████████████▋                       | 54/81 [07:54<00:51,  1.92s/it]\n",
      "\u001b[Aha Grid:  68%|███████████████████████████████████████████████▌                      | 55/81 [07:56<00:50,  1.94s/it]\n",
      "\u001b[Aha Grid:  69%|████████████████████████████████████████████████▍                     | 56/81 [07:58<00:49,  1.99s/it]\n",
      "\u001b[Aha Grid:  70%|█████████████████████████████████████████████████▎                    | 57/81 [08:00<00:48,  2.03s/it]\n",
      "\u001b[Aha Grid:  72%|██████████████████████████████████████████████████                    | 58/81 [08:02<00:46,  2.01s/it]\n",
      "\u001b[Aha Grid:  73%|██████████████████████████████████████████████████▉                   | 59/81 [08:04<00:43,  1.97s/it]\n",
      "\u001b[Aha Grid:  74%|███████████████████████████████████████████████████▊                  | 60/81 [08:06<00:40,  1.94s/it]\n",
      "\u001b[Aha Grid:  75%|████████████████████████████████████████████████████▋                 | 61/81 [08:08<00:39,  1.96s/it]\n",
      "\u001b[Aha Grid:  77%|█████████████████████████████████████████████████████▌                | 62/81 [08:10<00:37,  1.95s/it]\n",
      "\u001b[Aha Grid:  78%|██████████████████████████████████████████████████████▍               | 63/81 [08:12<00:35,  1.95s/it]\n",
      "\u001b[Aha Grid:  79%|███████████████████████████████████████████████████████▎              | 64/81 [08:14<00:32,  1.94s/it]\n",
      "\u001b[Aha Grid:  80%|████████████████████████████████████████████████████████▏             | 65/81 [08:16<00:31,  1.94s/it]\n",
      "\u001b[Aha Grid:  81%|█████████████████████████████████████████████████████████             | 66/81 [08:18<00:29,  1.95s/it]\n",
      "\u001b[Aha Grid:  83%|█████████████████████████████████████████████████████████▉            | 67/81 [08:19<00:27,  1.94s/it]\n",
      "\u001b[Aha Grid:  84%|██████████████████████████████████████████████████████████▊           | 68/81 [08:21<00:24,  1.91s/it]\n",
      "\u001b[Aha Grid:  85%|███████████████████████████████████████████████████████████▋          | 69/81 [08:23<00:23,  1.94s/it]\n",
      "\u001b[Aha Grid:  86%|████████████████████████████████████████████████████████████▍         | 70/81 [08:25<00:21,  1.93s/it]\n",
      "\u001b[Aha Grid:  88%|█████████████████████████████████████████████████████████████▎        | 71/81 [08:27<00:19,  1.92s/it]\n",
      "\u001b[Aha Grid:  89%|██████████████████████████████████████████████████████████████▏       | 72/81 [08:29<00:17,  1.94s/it]\n",
      "\u001b[Aha Grid:  90%|███████████████████████████████████████████████████████████████       | 73/81 [08:31<00:15,  1.94s/it]\n",
      "\u001b[Aha Grid:  91%|███████████████████████████████████████████████████████████████▉      | 74/81 [08:33<00:13,  1.94s/it]\n",
      "\u001b[Aha Grid:  93%|████████████████████████████████████████████████████████████████▊     | 75/81 [08:35<00:11,  1.93s/it]\n",
      "\u001b[Aha Grid:  94%|█████████████████████████████████████████████████████████████████▋    | 76/81 [08:37<00:09,  1.91s/it]\n",
      "\u001b[Aha Grid:  95%|██████████████████████████████████████████████████████████████████▌   | 77/81 [08:39<00:07,  1.92s/it]\n",
      "\u001b[Aha Grid:  96%|███████████████████████████████████████████████████████████████████▍  | 78/81 [08:41<00:05,  1.92s/it]\n",
      "\u001b[Aha Grid:  98%|████████████████████████████████████████████████████████████████████▎ | 79/81 [08:43<00:03,  1.93s/it]\n",
      "\u001b[Aha Grid:  99%|█████████████████████████████████████████████████████████████████████▏| 80/81 [08:45<00:01,  1.93s/it]\n",
      "Alpha Grid: 100%|██████████████████████████████████████████████████████████████████████| 81/81 [08:46<00:00,  6.51s/it]\n"
     ]
    },
    {
     "name": "stdout",
     "output_type": "stream",
     "text": [
      "Best lambda: 10^-2.20\n"
     ]
    },
    {
     "name": "stderr",
     "output_type": "stream",
     "text": [
      "Lasso Rounds:  29%|██████████████████▊                                               | 4/14 [31:57<1:23:26, 500.65s/it]"
     ]
    },
    {
     "name": "stdout",
     "output_type": "stream",
     "text": [
      "Round 4 completed. R²: -0.1136, Time: 551.67s\n",
      "\n",
      "=== Round 5: 2000-01 to 2015-01 ===\n",
      "Train size: (135414, 1339), Val size: (21173, 1339), Test size: (10974, 1339)\n",
      "Standardizing features (chunked)...\n",
      "Standardization complete.\n",
      "Tuning Lasso alpha...\n"
     ]
    },
    {
     "name": "stderr",
     "output_type": "stream",
     "text": [
      "\n",
      "\u001b[Aha Grid:   0%|                                                                               | 0/81 [00:00<?, ?it/s]\n",
      "\u001b[Aha Grid:   1%|▊                                                                    | 1/81 [01:21<1:48:26, 81.34s/it]\n",
      "\u001b[Aha Grid:   2%|█▋                                                                   | 2/81 [02:16<1:27:02, 66.10s/it]\n",
      "\u001b[Aha Grid:   4%|██▌                                                                  | 3/81 [03:01<1:12:59, 56.15s/it]\n",
      "\u001b[Aha Grid:   5%|███▍                                                                 | 4/81 [03:39<1:02:59, 49.09s/it]\n",
      "\u001b[Aha Grid:   6%|████▍                                                                  | 5/81 [04:14<55:46, 44.04s/it]\n",
      "\u001b[Aha Grid:   7%|█████▎                                                                 | 6/81 [04:39<46:51, 37.48s/it]\n",
      "\u001b[Aha Grid:   9%|██████▏                                                                | 7/81 [04:59<39:10, 31.76s/it]\n",
      "\u001b[Aha Grid:  10%|███████                                                                | 8/81 [05:21<35:02, 28.80s/it]\n",
      "\u001b[Aha Grid:  11%|███████▉                                                               | 9/81 [05:35<28:49, 24.02s/it]\n",
      "\u001b[Aha Grid:  12%|████████▋                                                             | 10/81 [05:46<23:47, 20.11s/it]\n",
      "\u001b[Aha Grid:  14%|█████████▌                                                            | 11/81 [05:56<19:45, 16.94s/it]\n",
      "\u001b[Aha Grid:  15%|██████████▎                                                           | 12/81 [06:02<15:46, 13.72s/it]\n",
      "\u001b[Aha Grid:  16%|███████████▏                                                          | 13/81 [06:08<12:58, 11.45s/it]\n",
      "\u001b[Aha Grid:  17%|████████████                                                          | 14/81 [06:13<10:27,  9.37s/it]\n",
      "\u001b[Aha Grid:  19%|████████████▉                                                         | 15/81 [06:16<08:21,  7.59s/it]\n",
      "\u001b[Aha Grid:  20%|█████████████▊                                                        | 16/81 [06:19<06:36,  6.09s/it]\n",
      "\u001b[Aha Grid:  21%|██████████████▋                                                       | 17/81 [06:21<05:15,  4.93s/it]\n",
      "\u001b[Aha Grid:  22%|███████████████▌                                                      | 18/81 [06:23<04:19,  4.11s/it]\n",
      "\u001b[Aha Grid:  23%|████████████████▍                                                     | 19/81 [06:26<03:37,  3.51s/it]\n",
      "\u001b[Aha Grid:  25%|█████████████████▎                                                    | 20/81 [06:28<03:08,  3.10s/it]\n",
      "\u001b[Aha Grid:  26%|██████████████████▏                                                   | 21/81 [06:30<02:46,  2.77s/it]\n",
      "\u001b[Aha Grid:  27%|███████████████████                                                   | 22/81 [06:32<02:32,  2.59s/it]\n",
      "\u001b[Aha Grid:  28%|███████████████████▉                                                  | 23/81 [06:34<02:19,  2.41s/it]\n",
      "\u001b[Aha Grid:  30%|████████████████████▋                                                 | 24/81 [06:36<02:12,  2.32s/it]\n",
      "\u001b[Aha Grid:  31%|█████████████████████▌                                                | 25/81 [06:38<02:07,  2.28s/it]\n",
      "\u001b[Aha Grid:  32%|██████████████████████▍                                               | 26/81 [06:40<02:01,  2.21s/it]\n",
      "\u001b[Aha Grid:  33%|███████████████████████▎                                              | 27/81 [06:42<01:56,  2.16s/it]\n",
      "\u001b[Aha Grid:  35%|████████████████████████▏                                             | 28/81 [06:44<01:52,  2.13s/it]\n",
      "\u001b[Aha Grid:  36%|█████████████████████████                                             | 29/81 [06:46<01:49,  2.10s/it]\n",
      "\u001b[Aha Grid:  37%|█████████████████████████▉                                            | 30/81 [06:48<01:47,  2.10s/it]\n",
      "\u001b[Aha Grid:  38%|██████████████████████████▊                                           | 31/81 [06:50<01:45,  2.10s/it]\n",
      "\u001b[Aha Grid:  40%|███████████████████████████▋                                          | 32/81 [06:53<01:41,  2.08s/it]\n",
      "\u001b[Aha Grid:  41%|████████████████████████████▌                                         | 33/81 [06:55<01:40,  2.10s/it]\n",
      "\u001b[Aha Grid:  42%|█████████████████████████████▍                                        | 34/81 [06:57<01:37,  2.08s/it]\n",
      "\u001b[Aha Grid:  43%|██████████████████████████████▏                                       | 35/81 [06:59<01:34,  2.06s/it]\n",
      "\u001b[Aha Grid:  44%|███████████████████████████████                                       | 36/81 [07:01<01:33,  2.08s/it]\n",
      "\u001b[Aha Grid:  46%|███████████████████████████████▉                                      | 37/81 [07:03<01:30,  2.06s/it]\n",
      "\u001b[Aha Grid:  47%|████████████████████████████████▊                                     | 38/81 [07:05<01:29,  2.09s/it]\n",
      "\u001b[Aha Grid:  48%|█████████████████████████████████▋                                    | 39/81 [07:07<01:28,  2.11s/it]\n",
      "\u001b[Aha Grid:  49%|██████████████████████████████████▌                                   | 40/81 [07:09<01:26,  2.11s/it]\n",
      "\u001b[Aha Grid:  51%|███████████████████████████████████▍                                  | 41/81 [07:11<01:23,  2.09s/it]\n",
      "\u001b[Aha Grid:  52%|████████████████████████████████████▎                                 | 42/81 [07:13<01:21,  2.10s/it]\n",
      "\u001b[Aha Grid:  53%|█████████████████████████████████████▏                                | 43/81 [07:16<01:19,  2.10s/it]\n",
      "\u001b[Aha Grid:  54%|██████████████████████████████████████                                | 44/81 [07:18<01:17,  2.09s/it]\n",
      "\u001b[Aha Grid:  56%|██████████████████████████████████████▉                               | 45/81 [07:20<01:14,  2.07s/it]\n",
      "\u001b[Aha Grid:  57%|███████████████████████████████████████▊                              | 46/81 [07:22<01:12,  2.07s/it]\n",
      "\u001b[Aha Grid:  58%|████████████████████████████████████████▌                             | 47/81 [07:24<01:10,  2.06s/it]\n",
      "\u001b[Aha Grid:  59%|█████████████████████████████████████████▍                            | 48/81 [07:26<01:08,  2.06s/it]\n",
      "\u001b[Aha Grid:  60%|██████████████████████████████████████████▎                           | 49/81 [07:28<01:06,  2.08s/it]\n",
      "\u001b[Aha Grid:  62%|███████████████████████████████████████████▏                          | 50/81 [07:30<01:04,  2.09s/it]\n",
      "\u001b[Aha Grid:  63%|████████████████████████████████████████████                          | 51/81 [07:32<01:02,  2.09s/it]\n",
      "\u001b[Aha Grid:  64%|████████████████████████████████████████████▉                         | 52/81 [07:34<01:00,  2.09s/it]\n",
      "\u001b[Aha Grid:  65%|█████████████████████████████████████████████▊                        | 53/81 [07:36<00:58,  2.08s/it]\n",
      "\u001b[Aha Grid:  67%|██████████████████████████████████████████████▋                       | 54/81 [07:38<00:56,  2.09s/it]\n",
      "\u001b[Aha Grid:  68%|███████████████████████████████████████████████▌                      | 55/81 [07:41<00:54,  2.09s/it]\n",
      "\u001b[Aha Grid:  69%|████████████████████████████████████████████████▍                     | 56/81 [07:43<00:52,  2.08s/it]\n",
      "\u001b[Aha Grid:  70%|█████████████████████████████████████████████████▎                    | 57/81 [07:45<00:49,  2.07s/it]\n",
      "\u001b[Aha Grid:  72%|██████████████████████████████████████████████████                    | 58/81 [07:47<00:47,  2.08s/it]\n",
      "\u001b[Aha Grid:  73%|██████████████████████████████████████████████████▉                   | 59/81 [07:49<00:45,  2.06s/it]\n",
      "\u001b[Aha Grid:  74%|███████████████████████████████████████████████████▊                  | 60/81 [07:51<00:43,  2.06s/it]\n",
      "\u001b[Aha Grid:  75%|████████████████████████████████████████████████████▋                 | 61/81 [07:53<00:41,  2.05s/it]\n",
      "\u001b[Aha Grid:  77%|█████████████████████████████████████████████████████▌                | 62/81 [07:55<00:39,  2.07s/it]\n",
      "\u001b[Aha Grid:  78%|██████████████████████████████████████████████████████▍               | 63/81 [07:57<00:37,  2.07s/it]\n",
      "\u001b[Aha Grid:  79%|███████████████████████████████████████████████████████▎              | 64/81 [07:59<00:36,  2.12s/it]\n",
      "\u001b[Aha Grid:  80%|████████████████████████████████████████████████████████▏             | 65/81 [08:01<00:33,  2.10s/it]\n",
      "\u001b[Aha Grid:  81%|█████████████████████████████████████████████████████████             | 66/81 [08:03<00:31,  2.09s/it]\n",
      "\u001b[Aha Grid:  83%|█████████████████████████████████████████████████████████▉            | 67/81 [08:05<00:29,  2.10s/it]\n",
      "\u001b[Aha Grid:  84%|██████████████████████████████████████████████████████████▊           | 68/81 [08:08<00:27,  2.12s/it]\n",
      "\u001b[Aha Grid:  85%|███████████████████████████████████████████████████████████▋          | 69/81 [08:10<00:25,  2.10s/it]\n",
      "\u001b[Aha Grid:  86%|████████████████████████████████████████████████████████████▍         | 70/81 [08:12<00:22,  2.09s/it]\n",
      "\u001b[Aha Grid:  88%|█████████████████████████████████████████████████████████████▎        | 71/81 [08:14<00:20,  2.07s/it]\n",
      "\u001b[Aha Grid:  89%|██████████████████████████████████████████████████████████████▏       | 72/81 [08:16<00:18,  2.07s/it]\n",
      "\u001b[Aha Grid:  90%|███████████████████████████████████████████████████████████████       | 73/81 [08:18<00:16,  2.07s/it]\n",
      "\u001b[Aha Grid:  91%|███████████████████████████████████████████████████████████████▉      | 74/81 [08:20<00:14,  2.07s/it]\n",
      "\u001b[Aha Grid:  93%|████████████████████████████████████████████████████████████████▊     | 75/81 [08:22<00:12,  2.10s/it]\n",
      "\u001b[Aha Grid:  94%|█████████████████████████████████████████████████████████████████▋    | 76/81 [08:24<00:10,  2.09s/it]\n",
      "\u001b[Aha Grid:  95%|██████████████████████████████████████████████████████████████████▌   | 77/81 [08:26<00:08,  2.08s/it]\n",
      "\u001b[Aha Grid:  96%|███████████████████████████████████████████████████████████████████▍  | 78/81 [08:28<00:06,  2.06s/it]\n",
      "\u001b[Aha Grid:  98%|████████████████████████████████████████████████████████████████████▎ | 79/81 [08:30<00:04,  2.10s/it]\n",
      "\u001b[Aha Grid:  99%|█████████████████████████████████████████████████████████████████████▏| 80/81 [08:33<00:02,  2.10s/it]\n",
      "Alpha Grid: 100%|██████████████████████████████████████████████████████████████████████| 81/81 [08:35<00:00,  6.36s/it]\n"
     ]
    },
    {
     "name": "stdout",
     "output_type": "stream",
     "text": [
      "Best lambda: 10^-2.30\n"
     ]
    },
    {
     "name": "stderr",
     "output_type": "stream",
     "text": [
      "Lasso Rounds:  36%|███████████████████████▌                                          | 5/14 [40:59<1:17:18, 515.36s/it]"
     ]
    },
    {
     "name": "stdout",
     "output_type": "stream",
     "text": [
      "Round 5 completed. R²: -0.0052, Time: 541.42s\n",
      "\n",
      "=== Round 6: 2000-01 to 2016-01 ===\n",
      "Train size: (145970, 1339), Val size: (21591, 1339), Test size: (11459, 1339)\n",
      "Standardizing features (chunked)...\n",
      "Standardization complete.\n",
      "Tuning Lasso alpha...\n"
     ]
    },
    {
     "name": "stderr",
     "output_type": "stream",
     "text": [
      "\n",
      "\u001b[Aha Grid:   0%|                                                                               | 0/81 [00:00<?, ?it/s]\n",
      "\u001b[Aha Grid:   1%|▊                                                                   | 1/81 [01:56<2:35:54, 116.93s/it]\n",
      "\u001b[Aha Grid:   2%|█▋                                                                   | 2/81 [03:03<1:55:16, 87.56s/it]\n",
      "\u001b[Aha Grid:   4%|██▌                                                                  | 3/81 [03:38<1:22:05, 63.14s/it]\n",
      "\u001b[Aha Grid:   5%|███▍                                                                 | 4/81 [04:06<1:03:33, 49.53s/it]\n",
      "\u001b[Aha Grid:   6%|████▍                                                                  | 5/81 [04:32<52:04, 41.11s/it]\n",
      "\u001b[Aha Grid:   7%|█████▎                                                                 | 6/81 [04:55<43:21, 34.68s/it]\n",
      "\u001b[Aha Grid:   9%|██████▏                                                                | 7/81 [05:12<36:01, 29.21s/it]\n",
      "\u001b[Aha Grid:  10%|███████                                                                | 8/81 [05:28<30:22, 24.96s/it]\n",
      "\u001b[Aha Grid:  11%|███████▉                                                               | 9/81 [05:42<25:50, 21.53s/it]\n",
      "\u001b[Aha Grid:  12%|████████▋                                                             | 10/81 [05:56<22:26, 18.97s/it]\n",
      "\u001b[Aha Grid:  14%|█████████▌                                                            | 11/81 [06:06<18:59, 16.28s/it]\n",
      "\u001b[Aha Grid:  15%|██████████▎                                                           | 12/81 [06:11<14:59, 13.03s/it]\n",
      "\u001b[Aha Grid:  16%|███████████▏                                                          | 13/81 [06:18<12:32, 11.06s/it]\n",
      "\u001b[Aha Grid:  17%|████████████                                                          | 14/81 [06:22<09:58,  8.93s/it]\n",
      "\u001b[Aha Grid:  19%|████████████▉                                                         | 15/81 [06:26<08:04,  7.35s/it]\n",
      "\u001b[Aha Grid:  20%|█████████████▊                                                        | 16/81 [06:28<06:28,  5.98s/it]\n",
      "\u001b[Aha Grid:  21%|██████████████▋                                                       | 17/81 [06:31<05:12,  4.89s/it]\n",
      "\u001b[Aha Grid:  22%|███████████████▌                                                      | 18/81 [06:33<04:19,  4.12s/it]\n",
      "\u001b[Aha Grid:  23%|████████████████▍                                                     | 19/81 [06:35<03:39,  3.54s/it]\n",
      "\u001b[Aha Grid:  25%|█████████████████▎                                                    | 20/81 [06:38<03:12,  3.16s/it]\n",
      "\u001b[Aha Grid:  26%|██████████████████▏                                                   | 21/81 [06:40<02:55,  2.92s/it]\n",
      "\u001b[Aha Grid:  27%|███████████████████                                                   | 22/81 [06:42<02:38,  2.69s/it]\n",
      "\u001b[Aha Grid:  28%|███████████████████▉                                                  | 23/81 [06:44<02:28,  2.56s/it]\n",
      "\u001b[Aha Grid:  30%|████████████████████▋                                                 | 24/81 [06:47<02:30,  2.65s/it]\n",
      "\u001b[Aha Grid:  31%|█████████████████████▌                                                | 25/81 [06:50<02:26,  2.61s/it]\n",
      "\u001b[Aha Grid:  32%|██████████████████████▍                                               | 26/81 [06:52<02:20,  2.56s/it]\n",
      "\u001b[Aha Grid:  33%|███████████████████████▎                                              | 27/81 [06:54<02:13,  2.47s/it]\n",
      "\u001b[Aha Grid:  35%|████████████████████████▏                                             | 28/81 [06:57<02:16,  2.58s/it]\n",
      "\u001b[Aha Grid:  36%|█████████████████████████                                             | 29/81 [06:59<02:08,  2.47s/it]\n",
      "\u001b[Aha Grid:  37%|█████████████████████████▉                                            | 30/81 [07:02<02:02,  2.40s/it]\n",
      "\u001b[Aha Grid:  38%|██████████████████████████▊                                           | 31/81 [07:04<01:56,  2.34s/it]\n",
      "\u001b[Aha Grid:  40%|███████████████████████████▋                                          | 32/81 [07:06<01:53,  2.32s/it]\n",
      "\u001b[Aha Grid:  41%|████████████████████████████▌                                         | 33/81 [07:08<01:49,  2.29s/it]\n",
      "\u001b[Aha Grid:  42%|█████████████████████████████▍                                        | 34/81 [07:11<01:46,  2.28s/it]\n",
      "\u001b[Aha Grid:  43%|██████████████████████████████▏                                       | 35/81 [07:13<01:44,  2.27s/it]\n",
      "\u001b[Aha Grid:  44%|███████████████████████████████                                       | 36/81 [07:15<01:41,  2.25s/it]\n",
      "\u001b[Aha Grid:  46%|███████████████████████████████▉                                      | 37/81 [07:17<01:39,  2.27s/it]\n",
      "\u001b[Aha Grid:  47%|████████████████████████████████▊                                     | 38/81 [07:20<01:37,  2.27s/it]\n",
      "\u001b[Aha Grid:  48%|█████████████████████████████████▋                                    | 39/81 [07:22<01:35,  2.26s/it]\n",
      "\u001b[Aha Grid:  49%|██████████████████████████████████▌                                   | 40/81 [07:24<01:31,  2.24s/it]\n",
      "\u001b[Aha Grid:  51%|███████████████████████████████████▍                                  | 41/81 [07:26<01:29,  2.23s/it]\n",
      "\u001b[Aha Grid:  52%|████████████████████████████████████▎                                 | 42/81 [07:29<01:26,  2.23s/it]\n",
      "\u001b[Aha Grid:  53%|█████████████████████████████████████▏                                | 43/81 [07:31<01:24,  2.23s/it]\n",
      "\u001b[Aha Grid:  54%|██████████████████████████████████████                                | 44/81 [07:33<01:22,  2.22s/it]\n",
      "\u001b[Aha Grid:  56%|██████████████████████████████████████▉                               | 45/81 [07:35<01:18,  2.19s/it]\n",
      "\u001b[Aha Grid:  57%|███████████████████████████████████████▊                              | 46/81 [07:37<01:18,  2.24s/it]\n",
      "\u001b[Aha Grid:  58%|████████████████████████████████████████▌                             | 47/81 [07:40<01:14,  2.20s/it]\n",
      "\u001b[Aha Grid:  59%|█████████████████████████████████████████▍                            | 48/81 [07:42<01:13,  2.24s/it]\n",
      "\u001b[Aha Grid:  60%|██████████████████████████████████████████▎                           | 49/81 [07:44<01:11,  2.24s/it]\n",
      "\u001b[Aha Grid:  62%|███████████████████████████████████████████▏                          | 50/81 [07:46<01:08,  2.21s/it]\n",
      "\u001b[Aha Grid:  63%|████████████████████████████████████████████                          | 51/81 [07:48<01:06,  2.21s/it]\n",
      "\u001b[Aha Grid:  64%|████████████████████████████████████████████▉                         | 52/81 [07:51<01:04,  2.22s/it]\n",
      "\u001b[Aha Grid:  65%|█████████████████████████████████████████████▊                        | 53/81 [07:53<01:01,  2.21s/it]\n",
      "\u001b[Aha Grid:  67%|██████████████████████████████████████████████▋                       | 54/81 [07:55<01:00,  2.24s/it]\n",
      "\u001b[Aha Grid:  68%|███████████████████████████████████████████████▌                      | 55/81 [07:57<00:58,  2.24s/it]\n",
      "\u001b[Aha Grid:  69%|████████████████████████████████████████████████▍                     | 56/81 [08:00<00:55,  2.22s/it]\n",
      "\u001b[Aha Grid:  70%|█████████████████████████████████████████████████▎                    | 57/81 [08:02<00:53,  2.22s/it]\n",
      "\u001b[Aha Grid:  72%|██████████████████████████████████████████████████                    | 58/81 [08:04<00:51,  2.22s/it]\n",
      "\u001b[Aha Grid:  73%|██████████████████████████████████████████████████▉                   | 59/81 [08:06<00:47,  2.18s/it]\n",
      "\u001b[Aha Grid:  74%|███████████████████████████████████████████████████▊                  | 60/81 [08:08<00:46,  2.22s/it]\n",
      "\u001b[Aha Grid:  75%|████████████████████████████████████████████████████▋                 | 61/81 [08:11<00:44,  2.21s/it]\n",
      "\u001b[Aha Grid:  77%|█████████████████████████████████████████████████████▌                | 62/81 [08:13<00:41,  2.20s/it]\n",
      "\u001b[Aha Grid:  78%|██████████████████████████████████████████████████████▍               | 63/81 [08:15<00:39,  2.22s/it]\n",
      "\u001b[Aha Grid:  79%|███████████████████████████████████████████████████████▎              | 64/81 [08:17<00:37,  2.22s/it]\n",
      "\u001b[Aha Grid:  80%|████████████████████████████████████████████████████████▏             | 65/81 [08:20<00:35,  2.23s/it]\n",
      "\u001b[Aha Grid:  81%|█████████████████████████████████████████████████████████             | 66/81 [08:22<00:33,  2.22s/it]\n",
      "\u001b[Aha Grid:  83%|█████████████████████████████████████████████████████████▉            | 67/81 [08:24<00:31,  2.22s/it]\n",
      "\u001b[Aha Grid:  84%|██████████████████████████████████████████████████████████▊           | 68/81 [08:26<00:28,  2.20s/it]\n",
      "\u001b[Aha Grid:  85%|███████████████████████████████████████████████████████████▋          | 69/81 [08:28<00:26,  2.21s/it]\n",
      "\u001b[Aha Grid:  86%|████████████████████████████████████████████████████████████▍         | 70/81 [08:30<00:24,  2.18s/it]\n",
      "\u001b[Aha Grid:  88%|█████████████████████████████████████████████████████████████▎        | 71/81 [08:33<00:21,  2.19s/it]\n",
      "\u001b[Aha Grid:  89%|██████████████████████████████████████████████████████████████▏       | 72/81 [08:35<00:19,  2.21s/it]\n",
      "\u001b[Aha Grid:  90%|███████████████████████████████████████████████████████████████       | 73/81 [08:37<00:17,  2.21s/it]\n",
      "\u001b[Aha Grid:  91%|███████████████████████████████████████████████████████████████▉      | 74/81 [08:39<00:15,  2.20s/it]\n",
      "\u001b[Aha Grid:  93%|████████████████████████████████████████████████████████████████▊     | 75/81 [08:42<00:13,  2.20s/it]\n",
      "\u001b[Aha Grid:  94%|█████████████████████████████████████████████████████████████████▋    | 76/81 [08:44<00:10,  2.19s/it]\n",
      "\u001b[Aha Grid:  95%|██████████████████████████████████████████████████████████████████▌   | 77/81 [08:46<00:08,  2.19s/it]\n",
      "\u001b[Aha Grid:  96%|███████████████████████████████████████████████████████████████████▍  | 78/81 [08:48<00:06,  2.19s/it]\n",
      "\u001b[Aha Grid:  98%|████████████████████████████████████████████████████████████████████▎ | 79/81 [08:50<00:04,  2.21s/it]\n",
      "\u001b[Aha Grid:  99%|█████████████████████████████████████████████████████████████████████▏| 80/81 [08:53<00:02,  2.21s/it]\n",
      "Alpha Grid: 100%|██████████████████████████████████████████████████████████████████████| 81/81 [08:55<00:00,  6.61s/it]\n"
     ]
    },
    {
     "name": "stdout",
     "output_type": "stream",
     "text": [
      "Best lambda: 10^-2.30\n"
     ]
    },
    {
     "name": "stderr",
     "output_type": "stream",
     "text": [
      "Lasso Rounds:  43%|████████████████████████████▎                                     | 6/14 [50:25<1:11:01, 532.63s/it]"
     ]
    },
    {
     "name": "stdout",
     "output_type": "stream",
     "text": [
      "Round 6 completed. R²: -0.0057, Time: 566.16s\n",
      "\n",
      "=== Round 7: 2000-01 to 2017-01 ===\n",
      "Train size: (156587, 1339), Val size: (22433, 1339), Test size: (11273, 1339)\n",
      "Standardizing features (chunked)...\n",
      "Standardization complete.\n",
      "Tuning Lasso alpha...\n"
     ]
    },
    {
     "name": "stderr",
     "output_type": "stream",
     "text": [
      "\n",
      "\u001b[Aha Grid:   0%|                                                                               | 0/81 [00:00<?, ?it/s]\n",
      "\u001b[Aha Grid:   1%|▊                                                                   | 1/81 [01:48<2:24:17, 108.22s/it]\n",
      "\u001b[Aha Grid:   2%|█▋                                                                   | 2/81 [02:55<1:50:56, 84.26s/it]\n",
      "\u001b[Aha Grid:   4%|██▌                                                                  | 3/81 [03:24<1:16:47, 59.07s/it]\n",
      "\u001b[Aha Grid:   5%|███▍                                                                 | 4/81 [03:52<1:00:06, 46.83s/it]\n",
      "\u001b[Aha Grid:   6%|████▍                                                                  | 5/81 [04:15<48:17, 38.13s/it]\n",
      "\u001b[Aha Grid:   7%|█████▎                                                                 | 6/81 [04:34<39:27, 31.57s/it]\n",
      "\u001b[Aha Grid:   9%|██████▏                                                                | 7/81 [04:53<33:44, 27.36s/it]\n",
      "\u001b[Aha Grid:  10%|███████                                                                | 8/81 [05:11<29:55, 24.59s/it]\n",
      "\u001b[Aha Grid:  11%|███████▉                                                               | 9/81 [05:25<25:24, 21.18s/it]\n",
      "\u001b[Aha Grid:  12%|████████▋                                                             | 10/81 [05:37<21:34, 18.23s/it]\n",
      "\u001b[Aha Grid:  14%|█████████▌                                                            | 11/81 [05:46<17:59, 15.43s/it]\n",
      "\u001b[Aha Grid:  15%|██████████▎                                                           | 12/81 [05:54<15:06, 13.14s/it]\n",
      "\u001b[Aha Grid:  16%|███████████▏                                                          | 13/81 [05:59<12:11, 10.76s/it]\n",
      "\u001b[Aha Grid:  17%|████████████                                                          | 14/81 [06:03<09:51,  8.82s/it]\n",
      "\u001b[Aha Grid:  19%|████████████▉                                                         | 15/81 [06:07<07:59,  7.27s/it]\n",
      "\u001b[Aha Grid:  20%|█████████████▊                                                        | 16/81 [06:10<06:23,  5.89s/it]\n",
      "\u001b[Aha Grid:  21%|██████████████▋                                                       | 17/81 [06:12<05:09,  4.84s/it]\n",
      "\u001b[Aha Grid:  22%|███████████████▌                                                      | 18/81 [06:15<04:23,  4.17s/it]\n",
      "\u001b[Aha Grid:  23%|████████████████▍                                                     | 19/81 [06:17<03:45,  3.63s/it]\n",
      "\u001b[Aha Grid:  25%|█████████████████▎                                                    | 20/81 [06:19<03:17,  3.24s/it]\n",
      "\u001b[Aha Grid:  26%|██████████████████▏                                                   | 21/81 [06:22<02:58,  2.97s/it]\n",
      "\u001b[Aha Grid:  27%|███████████████████                                                   | 22/81 [06:24<02:45,  2.80s/it]\n",
      "\u001b[Aha Grid:  28%|███████████████████▉                                                  | 23/81 [06:26<02:35,  2.68s/it]\n",
      "\u001b[Aha Grid:  30%|████████████████████▋                                                 | 24/81 [06:29<02:26,  2.57s/it]\n",
      "\u001b[Aha Grid:  31%|█████████████████████▌                                                | 25/81 [06:31<02:21,  2.52s/it]\n",
      "\u001b[Aha Grid:  32%|██████████████████████▍                                               | 26/81 [06:33<02:15,  2.46s/it]\n",
      "\u001b[Aha Grid:  33%|███████████████████████▎                                              | 27/81 [06:36<02:12,  2.45s/it]\n",
      "\u001b[Aha Grid:  35%|████████████████████████▏                                             | 28/81 [06:38<02:08,  2.42s/it]\n",
      "\u001b[Aha Grid:  36%|█████████████████████████                                             | 29/81 [06:41<02:07,  2.46s/it]\n",
      "\u001b[Aha Grid:  37%|█████████████████████████▉                                            | 30/81 [06:43<02:03,  2.43s/it]\n",
      "\u001b[Aha Grid:  38%|██████████████████████████▊                                           | 31/81 [06:45<02:00,  2.41s/it]\n",
      "\u001b[Aha Grid:  40%|███████████████████████████▋                                          | 32/81 [06:48<01:56,  2.37s/it]\n",
      "\u001b[Aha Grid:  41%|████████████████████████████▌                                         | 33/81 [06:50<01:55,  2.40s/it]\n",
      "\u001b[Aha Grid:  42%|█████████████████████████████▍                                        | 34/81 [06:53<01:53,  2.41s/it]\n",
      "\u001b[Aha Grid:  43%|██████████████████████████████▏                                       | 35/81 [06:55<01:49,  2.39s/it]\n",
      "\u001b[Aha Grid:  44%|███████████████████████████████                                       | 36/81 [06:57<01:46,  2.38s/it]\n",
      "\u001b[Aha Grid:  46%|███████████████████████████████▉                                      | 37/81 [07:00<01:45,  2.40s/it]\n",
      "\u001b[Aha Grid:  47%|████████████████████████████████▊                                     | 38/81 [07:02<01:43,  2.41s/it]\n",
      "\u001b[Aha Grid:  48%|█████████████████████████████████▋                                    | 39/81 [07:05<01:41,  2.43s/it]\n",
      "\u001b[Aha Grid:  49%|██████████████████████████████████▌                                   | 40/81 [07:07<01:39,  2.42s/it]\n",
      "\u001b[Aha Grid:  51%|███████████████████████████████████▍                                  | 41/81 [07:09<01:34,  2.37s/it]\n",
      "\u001b[Aha Grid:  52%|████████████████████████████████████▎                                 | 42/81 [07:12<01:34,  2.41s/it]\n",
      "\u001b[Aha Grid:  53%|█████████████████████████████████████▏                                | 43/81 [07:14<01:31,  2.40s/it]\n",
      "\u001b[Aha Grid:  54%|██████████████████████████████████████                                | 44/81 [07:17<01:28,  2.40s/it]\n",
      "\u001b[Aha Grid:  56%|██████████████████████████████████████▉                               | 45/81 [07:19<01:26,  2.39s/it]\n",
      "\u001b[Aha Grid:  57%|███████████████████████████████████████▊                              | 46/81 [07:21<01:23,  2.37s/it]\n",
      "\u001b[Aha Grid:  58%|████████████████████████████████████████▌                             | 47/81 [07:24<01:19,  2.35s/it]\n",
      "\u001b[Aha Grid:  59%|█████████████████████████████████████████▍                            | 48/81 [07:26<01:17,  2.36s/it]\n",
      "\u001b[Aha Grid:  60%|██████████████████████████████████████████▎                           | 49/81 [07:28<01:15,  2.36s/it]\n",
      "\u001b[Aha Grid:  62%|███████████████████████████████████████████▏                          | 50/81 [07:31<01:13,  2.36s/it]\n",
      "\u001b[Aha Grid:  63%|████████████████████████████████████████████                          | 51/81 [07:33<01:12,  2.41s/it]\n",
      "\u001b[Aha Grid:  64%|████████████████████████████████████████████▉                         | 52/81 [07:36<01:09,  2.39s/it]\n",
      "\u001b[Aha Grid:  65%|█████████████████████████████████████████████▊                        | 53/81 [07:38<01:06,  2.39s/it]\n",
      "\u001b[Aha Grid:  67%|██████████████████████████████████████████████▋                       | 54/81 [07:40<01:04,  2.38s/it]\n",
      "\u001b[Aha Grid:  68%|███████████████████████████████████████████████▌                      | 55/81 [07:43<01:01,  2.37s/it]\n",
      "\u001b[Aha Grid:  69%|████████████████████████████████████████████████▍                     | 56/81 [07:45<00:59,  2.38s/it]\n",
      "\u001b[Aha Grid:  70%|█████████████████████████████████████████████████▎                    | 57/81 [07:47<00:56,  2.36s/it]\n",
      "\u001b[Aha Grid:  72%|██████████████████████████████████████████████████                    | 58/81 [07:50<00:54,  2.37s/it]\n",
      "\u001b[Aha Grid:  73%|██████████████████████████████████████████████████▉                   | 59/81 [07:52<00:52,  2.37s/it]\n",
      "\u001b[Aha Grid:  74%|███████████████████████████████████████████████████▊                  | 60/81 [07:55<00:49,  2.37s/it]\n",
      "\u001b[Aha Grid:  75%|████████████████████████████████████████████████████▋                 | 61/81 [07:57<00:47,  2.38s/it]\n",
      "\u001b[Aha Grid:  77%|█████████████████████████████████████████████████████▌                | 62/81 [07:59<00:45,  2.40s/it]\n",
      "\u001b[Aha Grid:  78%|██████████████████████████████████████████████████████▍               | 63/81 [08:02<00:43,  2.41s/it]\n",
      "\u001b[Aha Grid:  79%|███████████████████████████████████████████████████████▎              | 64/81 [08:04<00:40,  2.40s/it]\n",
      "\u001b[Aha Grid:  80%|████████████████████████████████████████████████████████▏             | 65/81 [08:07<00:38,  2.41s/it]\n",
      "\u001b[Aha Grid:  81%|█████████████████████████████████████████████████████████             | 66/81 [08:09<00:35,  2.39s/it]\n",
      "\u001b[Aha Grid:  83%|█████████████████████████████████████████████████████████▉            | 67/81 [08:11<00:33,  2.38s/it]\n",
      "\u001b[Aha Grid:  84%|██████████████████████████████████████████████████████████▊           | 68/81 [08:14<00:30,  2.38s/it]\n",
      "\u001b[Aha Grid:  85%|███████████████████████████████████████████████████████████▋          | 69/81 [08:16<00:28,  2.38s/it]\n",
      "\u001b[Aha Grid:  86%|████████████████████████████████████████████████████████████▍         | 70/81 [08:18<00:26,  2.38s/it]\n",
      "\u001b[Aha Grid:  88%|█████████████████████████████████████████████████████████████▎        | 71/81 [08:21<00:23,  2.35s/it]\n",
      "\u001b[Aha Grid:  89%|██████████████████████████████████████████████████████████████▏       | 72/81 [08:23<00:21,  2.36s/it]\n",
      "\u001b[Aha Grid:  90%|███████████████████████████████████████████████████████████████       | 73/81 [08:26<00:18,  2.37s/it]\n",
      "\u001b[Aha Grid:  91%|███████████████████████████████████████████████████████████████▉      | 74/81 [08:28<00:16,  2.38s/it]\n",
      "\u001b[Aha Grid:  93%|████████████████████████████████████████████████████████████████▊     | 75/81 [08:30<00:14,  2.39s/it]\n",
      "\u001b[Aha Grid:  94%|█████████████████████████████████████████████████████████████████▋    | 76/81 [08:33<00:11,  2.38s/it]\n",
      "\u001b[Aha Grid:  95%|██████████████████████████████████████████████████████████████████▌   | 77/81 [08:35<00:10,  2.50s/it]\n",
      "\u001b[Aha Grid:  96%|███████████████████████████████████████████████████████████████████▍  | 78/81 [08:38<00:07,  2.57s/it]\n",
      "\u001b[Aha Grid:  98%|████████████████████████████████████████████████████████████████████▎ | 79/81 [08:41<00:05,  2.55s/it]\n",
      "\u001b[Aha Grid:  99%|█████████████████████████████████████████████████████████████████████▏| 80/81 [08:43<00:02,  2.52s/it]\n",
      "Alpha Grid: 100%|██████████████████████████████████████████████████████████████████████| 81/81 [08:46<00:00,  6.49s/it]\n"
     ]
    },
    {
     "name": "stdout",
     "output_type": "stream",
     "text": [
      "Best lambda: 10^-2.20\n"
     ]
    },
    {
     "name": "stderr",
     "output_type": "stream",
     "text": [
      "Lasso Rounds:  50%|█████████████████████████████████                                 | 7/14 [59:44<1:03:08, 541.27s/it]"
     ]
    },
    {
     "name": "stdout",
     "output_type": "stream",
     "text": [
      "Round 7 completed. R²: -0.0054, Time: 559.04s\n",
      "\n",
      "=== Round 8: 2000-01 to 2018-01 ===\n",
      "Train size: (167561, 1339), Val size: (22732, 1339), Test size: (11054, 1339)\n",
      "Standardizing features (chunked)...\n",
      "Standardization complete.\n",
      "Tuning Lasso alpha...\n"
     ]
    },
    {
     "name": "stderr",
     "output_type": "stream",
     "text": [
      "\n",
      "\u001b[Aha Grid:   0%|                                                                               | 0/81 [00:00<?, ?it/s]\n",
      "\u001b[Aha Grid:   1%|▊                                                                    | 1/81 [01:22<1:49:23, 82.05s/it]\n",
      "\u001b[Aha Grid:   2%|█▋                                                                   | 2/81 [02:16<1:26:22, 65.60s/it]\n",
      "\u001b[Aha Grid:   4%|██▌                                                                  | 3/81 [02:47<1:04:48, 49.85s/it]\n",
      "\u001b[Aha Grid:   5%|███▌                                                                   | 4/81 [03:14<52:29, 40.91s/it]\n",
      "\u001b[Aha Grid:   6%|████▍                                                                  | 5/81 [03:37<43:51, 34.63s/it]\n",
      "\u001b[Aha Grid:   7%|█████▎                                                                 | 6/81 [03:58<37:14, 29.79s/it]\n",
      "\u001b[Aha Grid:   9%|██████▏                                                                | 7/81 [04:18<33:02, 26.79s/it]\n",
      "\u001b[Aha Grid:  10%|███████                                                                | 8/81 [04:39<30:05, 24.74s/it]\n",
      "\u001b[Aha Grid:  11%|███████▉                                                               | 9/81 [04:53<25:54, 21.59s/it]\n",
      "\u001b[Aha Grid:  12%|████████▋                                                             | 10/81 [05:04<21:27, 18.14s/it]\n",
      "\u001b[Aha Grid:  14%|█████████▌                                                            | 11/81 [05:13<17:49, 15.28s/it]\n",
      "\u001b[Aha Grid:  15%|██████████▎                                                           | 12/81 [05:20<14:49, 12.89s/it]\n",
      "\u001b[Aha Grid:  16%|███████████▏                                                          | 13/81 [05:28<12:45, 11.26s/it]\n",
      "\u001b[Aha Grid:  17%|████████████                                                          | 14/81 [05:32<10:25,  9.33s/it]\n",
      "\u001b[Aha Grid:  19%|████████████▉                                                         | 15/81 [05:37<08:36,  7.83s/it]\n",
      "\u001b[Aha Grid:  20%|█████████████▊                                                        | 16/81 [05:40<06:49,  6.30s/it]\n",
      "\u001b[Aha Grid:  21%|██████████████▋                                                       | 17/81 [05:42<05:36,  5.26s/it]\n",
      "\u001b[Aha Grid:  22%|███████████████▌                                                      | 18/81 [05:45<04:44,  4.52s/it]\n",
      "\u001b[Aha Grid:  23%|████████████████▍                                                     | 19/81 [05:48<04:02,  3.92s/it]\n",
      "\u001b[Aha Grid:  25%|█████████████████▎                                                    | 20/81 [05:50<03:36,  3.55s/it]\n",
      "\u001b[Aha Grid:  26%|██████████████████▏                                                   | 21/81 [05:53<03:14,  3.25s/it]\n",
      "\u001b[Aha Grid:  27%|███████████████████                                                   | 22/81 [05:56<03:01,  3.07s/it]\n",
      "\u001b[Aha Grid:  28%|███████████████████▉                                                  | 23/81 [05:58<02:51,  2.95s/it]\n",
      "\u001b[Aha Grid:  30%|████████████████████▋                                                 | 24/81 [06:01<02:41,  2.83s/it]\n",
      "\u001b[Aha Grid:  31%|█████████████████████▌                                                | 25/81 [06:03<02:33,  2.75s/it]\n",
      "\u001b[Aha Grid:  32%|██████████████████████▍                                               | 26/81 [06:06<02:27,  2.68s/it]\n",
      "\u001b[Aha Grid:  33%|███████████████████████▎                                              | 27/81 [06:09<02:22,  2.65s/it]\n",
      "\u001b[Aha Grid:  35%|████████████████████████▏                                             | 28/81 [06:11<02:17,  2.60s/it]\n",
      "\u001b[Aha Grid:  36%|█████████████████████████                                             | 29/81 [06:13<02:13,  2.56s/it]\n",
      "\u001b[Aha Grid:  37%|█████████████████████████▉                                            | 30/81 [06:16<02:11,  2.57s/it]\n",
      "\u001b[Aha Grid:  38%|██████████████████████████▊                                           | 31/81 [06:19<02:07,  2.55s/it]\n",
      "\u001b[Aha Grid:  40%|███████████████████████████▋                                          | 32/81 [06:21<02:03,  2.52s/it]\n",
      "\u001b[Aha Grid:  41%|████████████████████████████▌                                         | 33/81 [06:24<02:01,  2.53s/it]\n",
      "\u001b[Aha Grid:  42%|█████████████████████████████▍                                        | 34/81 [06:26<01:58,  2.51s/it]\n",
      "\u001b[Aha Grid:  43%|██████████████████████████████▏                                       | 35/81 [06:29<01:55,  2.52s/it]\n",
      "\u001b[Aha Grid:  44%|███████████████████████████████                                       | 36/81 [06:31<01:52,  2.50s/it]\n",
      "\u001b[Aha Grid:  46%|███████████████████████████████▉                                      | 37/81 [06:34<01:50,  2.50s/it]\n",
      "\u001b[Aha Grid:  47%|████████████████████████████████▊                                     | 38/81 [06:36<01:48,  2.52s/it]\n",
      "\u001b[Aha Grid:  48%|█████████████████████████████████▋                                    | 39/81 [06:39<01:45,  2.50s/it]\n",
      "\u001b[Aha Grid:  49%|██████████████████████████████████▌                                   | 40/81 [06:41<01:42,  2.50s/it]\n",
      "\u001b[Aha Grid:  51%|███████████████████████████████████▍                                  | 41/81 [06:44<01:40,  2.51s/it]\n",
      "\u001b[Aha Grid:  52%|████████████████████████████████████▎                                 | 42/81 [06:46<01:37,  2.50s/it]\n",
      "\u001b[Aha Grid:  53%|█████████████████████████████████████▏                                | 43/81 [06:49<01:35,  2.51s/it]\n",
      "\u001b[Aha Grid:  54%|██████████████████████████████████████                                | 44/81 [06:51<01:32,  2.50s/it]\n",
      "\u001b[Aha Grid:  56%|██████████████████████████████████████▉                               | 45/81 [06:54<01:30,  2.50s/it]\n",
      "\u001b[Aha Grid:  57%|███████████████████████████████████████▊                              | 46/81 [06:56<01:27,  2.50s/it]\n",
      "\u001b[Aha Grid:  58%|████████████████████████████████████████▌                             | 47/81 [06:59<01:25,  2.50s/it]\n",
      "\u001b[Aha Grid:  59%|█████████████████████████████████████████▍                            | 48/81 [07:01<01:22,  2.50s/it]\n",
      "\u001b[Aha Grid:  60%|██████████████████████████████████████████▎                           | 49/81 [07:04<01:19,  2.50s/it]\n",
      "\u001b[Aha Grid:  62%|███████████████████████████████████████████▏                          | 50/81 [07:06<01:17,  2.49s/it]\n",
      "\u001b[Aha Grid:  63%|████████████████████████████████████████████                          | 51/81 [07:09<01:15,  2.50s/it]\n",
      "\u001b[Aha Grid:  64%|████████████████████████████████████████████▉                         | 52/81 [07:11<01:12,  2.50s/it]\n",
      "\u001b[Aha Grid:  65%|█████████████████████████████████████████████▊                        | 53/81 [07:14<01:09,  2.50s/it]\n",
      "\u001b[Aha Grid:  67%|██████████████████████████████████████████████▋                       | 54/81 [07:16<01:07,  2.49s/it]\n",
      "\u001b[Aha Grid:  68%|███████████████████████████████████████████████▌                      | 55/81 [07:19<01:05,  2.51s/it]\n",
      "\u001b[Aha Grid:  69%|████████████████████████████████████████████████▍                     | 56/81 [07:21<01:02,  2.50s/it]\n",
      "\u001b[Aha Grid:  70%|█████████████████████████████████████████████████▎                    | 57/81 [07:24<01:00,  2.50s/it]\n",
      "\u001b[Aha Grid:  72%|██████████████████████████████████████████████████                    | 58/81 [07:26<00:57,  2.50s/it]\n",
      "\u001b[Aha Grid:  73%|██████████████████████████████████████████████████▉                   | 59/81 [07:29<00:54,  2.49s/it]\n",
      "\u001b[Aha Grid:  74%|███████████████████████████████████████████████████▊                  | 60/81 [07:31<00:52,  2.52s/it]\n",
      "\u001b[Aha Grid:  75%|████████████████████████████████████████████████████▋                 | 61/81 [07:34<00:49,  2.50s/it]\n",
      "\u001b[Aha Grid:  77%|█████████████████████████████████████████████████████▌                | 62/81 [07:36<00:47,  2.49s/it]\n",
      "\u001b[Aha Grid:  78%|██████████████████████████████████████████████████████▍               | 63/81 [07:39<00:45,  2.53s/it]\n",
      "\u001b[Aha Grid:  79%|███████████████████████████████████████████████████████▎              | 64/81 [07:41<00:42,  2.52s/it]\n",
      "\u001b[Aha Grid:  80%|████████████████████████████████████████████████████████▏             | 65/81 [07:44<00:40,  2.52s/it]\n",
      "\u001b[Aha Grid:  81%|█████████████████████████████████████████████████████████             | 66/81 [07:46<00:37,  2.50s/it]\n",
      "\u001b[Aha Grid:  83%|█████████████████████████████████████████████████████████▉            | 67/81 [07:49<00:35,  2.50s/it]\n",
      "\u001b[Aha Grid:  84%|██████████████████████████████████████████████████████████▊           | 68/81 [07:51<00:32,  2.49s/it]\n",
      "\u001b[Aha Grid:  85%|███████████████████████████████████████████████████████████▋          | 69/81 [07:54<00:29,  2.49s/it]\n",
      "\u001b[Aha Grid:  86%|████████████████████████████████████████████████████████████▍         | 70/81 [07:56<00:27,  2.50s/it]\n",
      "\u001b[Aha Grid:  88%|█████████████████████████████████████████████████████████████▎        | 71/81 [07:59<00:24,  2.49s/it]\n",
      "\u001b[Aha Grid:  89%|██████████████████████████████████████████████████████████████▏       | 72/81 [08:01<00:22,  2.50s/it]\n",
      "\u001b[Aha Grid:  90%|███████████████████████████████████████████████████████████████       | 73/81 [08:04<00:19,  2.49s/it]\n",
      "\u001b[Aha Grid:  91%|███████████████████████████████████████████████████████████████▉      | 74/81 [08:06<00:17,  2.52s/it]\n",
      "\u001b[Aha Grid:  93%|████████████████████████████████████████████████████████████████▊     | 75/81 [08:09<00:15,  2.53s/it]\n",
      "\u001b[Aha Grid:  94%|█████████████████████████████████████████████████████████████████▋    | 76/81 [08:11<00:12,  2.52s/it]\n",
      "\u001b[Aha Grid:  95%|██████████████████████████████████████████████████████████████████▌   | 77/81 [08:14<00:10,  2.51s/it]\n",
      "\u001b[Aha Grid:  96%|███████████████████████████████████████████████████████████████████▍  | 78/81 [08:16<00:07,  2.51s/it]\n",
      "\u001b[Aha Grid:  98%|████████████████████████████████████████████████████████████████████▎ | 79/81 [08:19<00:05,  2.51s/it]\n",
      "\u001b[Aha Grid:  99%|█████████████████████████████████████████████████████████████████████▏| 80/81 [08:21<00:02,  2.50s/it]\n",
      "Alpha Grid: 100%|██████████████████████████████████████████████████████████████████████| 81/81 [08:24<00:00,  6.22s/it]\n"
     ]
    },
    {
     "name": "stdout",
     "output_type": "stream",
     "text": [
      "Best lambda: 10^-2.40\n"
     ]
    },
    {
     "name": "stderr",
     "output_type": "stream",
     "text": [
      "Lasso Rounds:  57%|█████████████████████████████████████▋                            | 8/14 [1:08:42<54:02, 540.42s/it]"
     ]
    },
    {
     "name": "stdout",
     "output_type": "stream",
     "text": [
      "Round 8 completed. R²: -0.0171, Time: 538.6s\n",
      "\n",
      "=== Round 9: 2000-01 to 2019-01 ===\n",
      "Train size: (179020, 1339), Val size: (22327, 1339), Test size: (11061, 1339)\n",
      "Standardizing features (chunked)...\n",
      "Standardization complete.\n",
      "Tuning Lasso alpha...\n"
     ]
    },
    {
     "name": "stderr",
     "output_type": "stream",
     "text": [
      "\n",
      "\u001b[Aha Grid:   0%|                                                                               | 0/81 [00:00<?, ?it/s]\n",
      "\u001b[Aha Grid:   1%|▊                                                                    | 1/81 [01:24<1:53:12, 84.90s/it]\n",
      "\u001b[Aha Grid:   2%|█▋                                                                   | 2/81 [03:00<2:00:07, 91.24s/it]\n",
      "\u001b[Aha Grid:   4%|██▌                                                                  | 3/81 [04:14<1:48:16, 83.29s/it]\n",
      "\u001b[Aha Grid:   5%|███▍                                                                 | 4/81 [04:44<1:19:59, 62.34s/it]\n",
      "\u001b[Aha Grid:   6%|████▎                                                                | 5/81 [05:06<1:00:18, 47.61s/it]\n",
      "\u001b[Aha Grid:   7%|█████▎                                                                 | 6/81 [05:24<47:00, 37.61s/it]\n",
      "\u001b[Aha Grid:   9%|██████▏                                                                | 7/81 [05:46<40:15, 32.64s/it]\n",
      "\u001b[Aha Grid:  10%|███████                                                                | 8/81 [06:08<35:20, 29.05s/it]\n",
      "\u001b[Aha Grid:  11%|███████▉                                                               | 9/81 [06:22<29:32, 24.62s/it]\n",
      "\u001b[Aha Grid:  12%|████████▋                                                             | 10/81 [06:34<24:21, 20.59s/it]\n",
      "\u001b[Aha Grid:  14%|█████████▌                                                            | 11/81 [06:41<19:02, 16.33s/it]\n",
      "\u001b[Aha Grid:  15%|██████████▎                                                           | 12/81 [06:46<15:00, 13.06s/it]\n",
      "\u001b[Aha Grid:  16%|███████████▏                                                          | 13/81 [06:51<12:04, 10.65s/it]\n",
      "\u001b[Aha Grid:  17%|████████████                                                          | 14/81 [06:56<09:55,  8.88s/it]\n",
      "\u001b[Aha Grid:  19%|████████████▉                                                         | 15/81 [07:00<08:01,  7.30s/it]\n",
      "\u001b[Aha Grid:  20%|█████████████▊                                                        | 16/81 [07:03<06:36,  6.10s/it]\n",
      "\u001b[Aha Grid:  21%|██████████████▋                                                       | 17/81 [07:06<05:27,  5.11s/it]\n",
      "\u001b[Aha Grid:  22%|███████████████▌                                                      | 18/81 [07:09<04:37,  4.41s/it]\n",
      "\u001b[Aha Grid:  23%|████████████████▍                                                     | 19/81 [07:11<04:02,  3.91s/it]\n",
      "\u001b[Aha Grid:  25%|█████████████████▎                                                    | 20/81 [07:14<03:36,  3.55s/it]\n",
      "\u001b[Aha Grid:  26%|██████████████████▏                                                   | 21/81 [07:17<03:18,  3.30s/it]\n",
      "\u001b[Aha Grid:  27%|███████████████████                                                   | 22/81 [07:20<03:05,  3.15s/it]\n",
      "\u001b[Aha Grid:  28%|███████████████████▉                                                  | 23/81 [07:23<02:59,  3.10s/it]\n",
      "\u001b[Aha Grid:  30%|████████████████████▋                                                 | 24/81 [07:25<02:49,  2.97s/it]\n",
      "\u001b[Aha Grid:  31%|█████████████████████▌                                                | 25/81 [07:28<02:42,  2.90s/it]\n",
      "\u001b[Aha Grid:  32%|██████████████████████▍                                               | 26/81 [07:31<02:37,  2.87s/it]\n",
      "\u001b[Aha Grid:  33%|███████████████████████▎                                              | 27/81 [07:33<02:30,  2.78s/it]\n",
      "\u001b[Aha Grid:  35%|████████████████████████▏                                             | 28/81 [07:36<02:26,  2.76s/it]\n",
      "\u001b[Aha Grid:  36%|█████████████████████████                                             | 29/81 [07:39<02:22,  2.75s/it]\n",
      "\u001b[Aha Grid:  37%|█████████████████████████▉                                            | 30/81 [07:42<02:18,  2.72s/it]\n",
      "\u001b[Aha Grid:  38%|██████████████████████████▊                                           | 31/81 [07:44<02:15,  2.70s/it]\n",
      "\u001b[Aha Grid:  40%|███████████████████████████▋                                          | 32/81 [07:47<02:11,  2.69s/it]\n",
      "\u001b[Aha Grid:  41%|████████████████████████████▌                                         | 33/81 [07:50<02:09,  2.70s/it]\n",
      "\u001b[Aha Grid:  42%|█████████████████████████████▍                                        | 34/81 [07:52<02:05,  2.66s/it]\n",
      "\u001b[Aha Grid:  43%|██████████████████████████████▏                                       | 35/81 [07:55<02:04,  2.70s/it]\n",
      "\u001b[Aha Grid:  44%|███████████████████████████████                                       | 36/81 [07:58<02:01,  2.71s/it]\n",
      "\u001b[Aha Grid:  46%|███████████████████████████████▉                                      | 37/81 [08:00<01:57,  2.67s/it]\n",
      "\u001b[Aha Grid:  47%|████████████████████████████████▊                                     | 38/81 [08:03<01:57,  2.73s/it]\n",
      "\u001b[Aha Grid:  48%|█████████████████████████████████▋                                    | 39/81 [08:06<01:55,  2.74s/it]\n",
      "\u001b[Aha Grid:  49%|██████████████████████████████████▌                                   | 40/81 [08:08<01:50,  2.70s/it]\n",
      "\u001b[Aha Grid:  51%|███████████████████████████████████▍                                  | 41/81 [08:11<01:48,  2.71s/it]\n",
      "\u001b[Aha Grid:  52%|████████████████████████████████████▎                                 | 42/81 [08:14<01:45,  2.70s/it]\n",
      "\u001b[Aha Grid:  53%|█████████████████████████████████████▏                                | 43/81 [08:17<01:42,  2.70s/it]\n",
      "\u001b[Aha Grid:  54%|██████████████████████████████████████                                | 44/81 [08:19<01:38,  2.68s/it]\n",
      "\u001b[Aha Grid:  56%|██████████████████████████████████████▉                               | 45/81 [08:22<01:35,  2.66s/it]\n",
      "\u001b[Aha Grid:  57%|███████████████████████████████████████▊                              | 46/81 [08:25<01:34,  2.70s/it]\n",
      "\u001b[Aha Grid:  58%|████████████████████████████████████████▌                             | 47/81 [08:27<01:32,  2.72s/it]\n",
      "\u001b[Aha Grid:  59%|█████████████████████████████████████████▍                            | 48/81 [08:30<01:28,  2.69s/it]\n",
      "\u001b[Aha Grid:  60%|██████████████████████████████████████████▎                           | 49/81 [08:33<01:26,  2.70s/it]\n",
      "\u001b[Aha Grid:  62%|███████████████████████████████████████████▏                          | 50/81 [08:35<01:22,  2.65s/it]\n",
      "\u001b[Aha Grid:  63%|████████████████████████████████████████████                          | 51/81 [08:40<01:39,  3.30s/it]\n",
      "\u001b[Aha Grid:  64%|████████████████████████████████████████████▉                         | 52/81 [08:46<02:00,  4.15s/it]\n",
      "\u001b[Aha Grid:  65%|█████████████████████████████████████████████▊                        | 53/81 [08:50<01:56,  4.17s/it]\n",
      "\u001b[Aha Grid:  67%|██████████████████████████████████████████████▋                       | 54/81 [08:53<01:42,  3.80s/it]\n",
      "\u001b[Aha Grid:  68%|███████████████████████████████████████████████▌                      | 55/81 [08:58<01:40,  3.88s/it]\n",
      "\u001b[Aha Grid:  69%|████████████████████████████████████████████████▍                     | 56/81 [09:01<01:35,  3.83s/it]\n",
      "\u001b[Aha Grid:  70%|█████████████████████████████████████████████████▎                    | 57/81 [09:04<01:25,  3.56s/it]\n",
      "\u001b[Aha Grid:  72%|██████████████████████████████████████████████████                    | 58/81 [09:07<01:18,  3.40s/it]\n",
      "\u001b[Aha Grid:  73%|██████████████████████████████████████████████████▉                   | 59/81 [09:10<01:12,  3.28s/it]\n",
      "\u001b[Aha Grid:  74%|███████████████████████████████████████████████████▊                  | 60/81 [09:13<01:08,  3.28s/it]\n",
      "\u001b[Aha Grid:  75%|████████████████████████████████████████████████████▋                 | 61/81 [09:16<01:02,  3.14s/it]\n",
      "\u001b[Aha Grid:  77%|█████████████████████████████████████████████████████▌                | 62/81 [09:19<00:57,  3.03s/it]\n",
      "\u001b[Aha Grid:  78%|██████████████████████████████████████████████████████▍               | 63/81 [09:22<00:54,  3.05s/it]\n",
      "\u001b[Aha Grid:  79%|███████████████████████████████████████████████████████▎              | 64/81 [09:25<00:51,  3.01s/it]\n",
      "\u001b[Aha Grid:  80%|████████████████████████████████████████████████████████▏             | 65/81 [09:28<00:46,  2.92s/it]\n",
      "\u001b[Aha Grid:  81%|█████████████████████████████████████████████████████████             | 66/81 [09:30<00:43,  2.88s/it]\n",
      "\u001b[Aha Grid:  83%|█████████████████████████████████████████████████████████▉            | 67/81 [09:33<00:40,  2.88s/it]\n",
      "\u001b[Aha Grid:  84%|██████████████████████████████████████████████████████████▊           | 68/81 [09:36<00:36,  2.81s/it]\n",
      "\u001b[Aha Grid:  85%|███████████████████████████████████████████████████████████▋          | 69/81 [09:39<00:33,  2.83s/it]\n",
      "\u001b[Aha Grid:  86%|████████████████████████████████████████████████████████████▍         | 70/81 [09:42<00:30,  2.79s/it]\n",
      "\u001b[Aha Grid:  88%|█████████████████████████████████████████████████████████████▎        | 71/81 [09:44<00:28,  2.82s/it]\n",
      "\u001b[Aha Grid:  89%|██████████████████████████████████████████████████████████████▏       | 72/81 [09:47<00:25,  2.80s/it]\n",
      "\u001b[Aha Grid:  90%|███████████████████████████████████████████████████████████████       | 73/81 [09:50<00:22,  2.82s/it]\n",
      "\u001b[Aha Grid:  91%|███████████████████████████████████████████████████████████████▉      | 74/81 [09:53<00:19,  2.77s/it]\n",
      "\u001b[Aha Grid:  93%|████████████████████████████████████████████████████████████████▊     | 75/81 [09:56<00:16,  2.80s/it]\n",
      "\u001b[Aha Grid:  94%|█████████████████████████████████████████████████████████████████▋    | 76/81 [09:58<00:14,  2.82s/it]\n",
      "\u001b[Aha Grid:  95%|██████████████████████████████████████████████████████████████████▌   | 77/81 [10:03<00:12,  3.18s/it]\n",
      "\u001b[Aha Grid:  96%|███████████████████████████████████████████████████████████████████▍  | 78/81 [10:06<00:09,  3.25s/it]\n",
      "\u001b[Aha Grid:  98%|████████████████████████████████████████████████████████████████████▎ | 79/81 [10:09<00:06,  3.26s/it]\n",
      "\u001b[Aha Grid:  99%|█████████████████████████████████████████████████████████████████████▏| 80/81 [10:12<00:03,  3.15s/it]\n",
      "Alpha Grid: 100%|██████████████████████████████████████████████████████████████████████| 81/81 [10:15<00:00,  7.60s/it]\n"
     ]
    },
    {
     "name": "stdout",
     "output_type": "stream",
     "text": [
      "Best lambda: 10^-2.60\n"
     ]
    },
    {
     "name": "stderr",
     "output_type": "stream",
     "text": [
      "Lasso Rounds:  64%|██████████████████████████████████████████▍                       | 9/14 [1:19:36<47:58, 575.66s/it]"
     ]
    },
    {
     "name": "stdout",
     "output_type": "stream",
     "text": [
      "Round 9 completed. R²: -0.0276, Time: 653.14s\n",
      "\n",
      "=== Round 10: 2000-01 to 2020-01 ===\n",
      "Train size: (190293, 1339), Val size: (22115, 1339), Test size: (11207, 1339)\n",
      "Standardizing features (chunked)...\n",
      "Standardization complete.\n",
      "Tuning Lasso alpha...\n"
     ]
    },
    {
     "name": "stderr",
     "output_type": "stream",
     "text": [
      "\n",
      "\u001b[Aha Grid:   0%|                                                                               | 0/81 [00:00<?, ?it/s]\n",
      "\u001b[Aha Grid:   1%|▊                                                                   | 1/81 [01:44<2:18:46, 104.08s/it]\n",
      "\u001b[Aha Grid:   2%|█▋                                                                   | 2/81 [02:46<1:44:43, 79.54s/it]\n",
      "\u001b[Aha Grid:   4%|██▌                                                                  | 3/81 [03:23<1:18:19, 60.24s/it]\n",
      "\u001b[Aha Grid:   5%|███▍                                                                 | 4/81 [03:57<1:03:42, 49.64s/it]\n",
      "\u001b[Aha Grid:   6%|████▍                                                                  | 5/81 [04:21<51:14, 40.45s/it]\n",
      "\u001b[Aha Grid:   7%|█████▎                                                                 | 6/81 [04:44<43:14, 34.60s/it]\n",
      "\u001b[Aha Grid:   9%|██████▏                                                                | 7/81 [05:10<39:08, 31.74s/it]\n",
      "\u001b[Aha Grid:  10%|███████                                                                | 8/81 [05:36<36:22, 29.90s/it]\n",
      "\u001b[Aha Grid:  11%|███████▉                                                               | 9/81 [05:54<31:23, 26.16s/it]\n",
      "\u001b[Aha Grid:  12%|████████▋                                                             | 10/81 [06:07<26:16, 22.21s/it]\n",
      "\u001b[Aha Grid:  14%|█████████▌                                                            | 11/81 [06:18<21:49, 18.70s/it]\n",
      "\u001b[Aha Grid:  15%|██████████▎                                                           | 12/81 [06:28<18:22, 15.97s/it]\n",
      "\u001b[Aha Grid:  16%|███████████▏                                                          | 13/81 [06:35<15:06, 13.33s/it]\n",
      "\u001b[Aha Grid:  17%|████████████                                                          | 14/81 [06:42<12:39, 11.33s/it]\n",
      "\u001b[Aha Grid:  19%|████████████▉                                                         | 15/81 [06:47<10:32,  9.58s/it]\n",
      "\u001b[Aha Grid:  20%|█████████████▊                                                        | 16/81 [06:51<08:40,  8.01s/it]\n",
      "\u001b[Aha Grid:  21%|██████████████▋                                                       | 17/81 [06:55<07:06,  6.66s/it]\n",
      "\u001b[Aha Grid:  22%|███████████████▌                                                      | 18/81 [07:00<06:28,  6.17s/it]\n",
      "\u001b[Aha Grid:  23%|████████████████▍                                                     | 19/81 [07:03<05:24,  5.24s/it]\n",
      "\u001b[Aha Grid:  25%|█████████████████▎                                                    | 20/81 [07:06<04:39,  4.58s/it]\n",
      "\u001b[Aha Grid:  26%|██████████████████▏                                                   | 21/81 [07:09<04:08,  4.13s/it]\n",
      "\u001b[Aha Grid:  27%|███████████████████                                                   | 22/81 [07:12<03:44,  3.80s/it]\n",
      "\u001b[Aha Grid:  28%|███████████████████▉                                                  | 23/81 [07:16<03:38,  3.77s/it]\n",
      "\u001b[Aha Grid:  30%|████████████████████▋                                                 | 24/81 [07:20<03:33,  3.75s/it]\n",
      "\u001b[Aha Grid:  31%|█████████████████████▌                                                | 25/81 [07:23<03:26,  3.69s/it]\n",
      "\u001b[Aha Grid:  32%|██████████████████████▍                                               | 26/81 [07:26<03:15,  3.55s/it]\n",
      "\u001b[Aha Grid:  33%|███████████████████████▎                                              | 27/81 [07:29<03:01,  3.36s/it]\n",
      "\u001b[Aha Grid:  35%|████████████████████████▏                                             | 28/81 [07:32<02:54,  3.29s/it]\n",
      "\u001b[Aha Grid:  36%|█████████████████████████                                             | 29/81 [07:36<02:51,  3.29s/it]\n",
      "\u001b[Aha Grid:  37%|█████████████████████████▉                                            | 30/81 [07:39<02:51,  3.36s/it]\n",
      "\u001b[Aha Grid:  38%|██████████████████████████▊                                           | 31/81 [07:42<02:42,  3.25s/it]\n",
      "\u001b[Aha Grid:  40%|███████████████████████████▋                                          | 32/81 [07:46<02:40,  3.27s/it]\n",
      "\u001b[Aha Grid:  41%|████████████████████████████▌                                         | 33/81 [07:49<02:38,  3.31s/it]\n",
      "\u001b[Aha Grid:  42%|█████████████████████████████▍                                        | 34/81 [07:53<02:42,  3.46s/it]\n",
      "\u001b[Aha Grid:  43%|██████████████████████████████▏                                       | 35/81 [07:56<02:31,  3.28s/it]\n",
      "\u001b[Aha Grid:  44%|███████████████████████████████                                       | 36/81 [07:59<02:24,  3.21s/it]\n",
      "\u001b[Aha Grid:  46%|███████████████████████████████▉                                      | 37/81 [08:02<02:17,  3.12s/it]\n",
      "\u001b[Aha Grid:  47%|████████████████████████████████▊                                     | 38/81 [08:05<02:19,  3.25s/it]\n",
      "\u001b[Aha Grid:  48%|█████████████████████████████████▋                                    | 39/81 [08:08<02:15,  3.23s/it]\n",
      "\u001b[Aha Grid:  49%|██████████████████████████████████▌                                   | 40/81 [08:12<02:12,  3.23s/it]\n",
      "\u001b[Aha Grid:  51%|███████████████████████████████████▍                                  | 41/81 [08:15<02:07,  3.18s/it]\n",
      "\u001b[Aha Grid:  52%|████████████████████████████████████▎                                 | 42/81 [08:19<02:16,  3.50s/it]\n",
      "\u001b[Aha Grid:  53%|█████████████████████████████████████▏                                | 43/81 [08:22<02:11,  3.47s/it]\n",
      "\u001b[Aha Grid:  54%|██████████████████████████████████████                                | 44/81 [08:25<02:03,  3.33s/it]\n",
      "\u001b[Aha Grid:  56%|██████████████████████████████████████▉                               | 45/81 [08:28<01:55,  3.21s/it]\n",
      "\u001b[Aha Grid:  57%|███████████████████████████████████████▊                              | 46/81 [08:33<02:09,  3.71s/it]\n",
      "\u001b[Aha Grid:  58%|████████████████████████████████████████▌                             | 47/81 [08:37<02:10,  3.83s/it]\n",
      "\u001b[Aha Grid:  59%|█████████████████████████████████████████▍                            | 48/81 [08:42<02:12,  4.02s/it]\n",
      "\u001b[Aha Grid:  60%|██████████████████████████████████████████▎                           | 49/81 [08:47<02:19,  4.35s/it]\n",
      "\u001b[Aha Grid:  62%|███████████████████████████████████████████▏                          | 50/81 [08:51<02:12,  4.27s/it]\n",
      "\u001b[Aha Grid:  63%|████████████████████████████████████████████                          | 51/81 [08:56<02:15,  4.52s/it]\n",
      "\u001b[Aha Grid:  64%|████████████████████████████████████████████▉                         | 52/81 [09:00<02:05,  4.34s/it]\n",
      "\u001b[Aha Grid:  65%|█████████████████████████████████████████████▊                        | 53/81 [09:03<01:54,  4.10s/it]\n",
      "\u001b[Aha Grid:  67%|██████████████████████████████████████████████▋                       | 54/81 [09:06<01:42,  3.79s/it]\n",
      "\u001b[Aha Grid:  68%|███████████████████████████████████████████████▌                      | 55/81 [09:10<01:33,  3.58s/it]\n",
      "\u001b[Aha Grid:  69%|████████████████████████████████████████████████▍                     | 56/81 [09:13<01:24,  3.39s/it]\n",
      "\u001b[Aha Grid:  70%|█████████████████████████████████████████████████▎                    | 57/81 [09:15<01:18,  3.25s/it]\n",
      "\u001b[Aha Grid:  72%|██████████████████████████████████████████████████                    | 58/81 [09:18<01:12,  3.14s/it]\n",
      "\u001b[Aha Grid:  73%|██████████████████████████████████████████████████▉                   | 59/81 [09:21<01:09,  3.14s/it]\n",
      "\u001b[Aha Grid:  74%|███████████████████████████████████████████████████▊                  | 60/81 [09:25<01:07,  3.22s/it]\n",
      "\u001b[Aha Grid:  75%|████████████████████████████████████████████████████▋                 | 61/81 [09:29<01:09,  3.46s/it]\n",
      "\u001b[Aha Grid:  77%|█████████████████████████████████████████████████████▌                | 62/81 [09:33<01:08,  3.62s/it]\n",
      "\u001b[Aha Grid:  78%|██████████████████████████████████████████████████████▍               | 63/81 [09:36<01:02,  3.49s/it]\n",
      "\u001b[Aha Grid:  79%|███████████████████████████████████████████████████████▎              | 64/81 [09:40<01:03,  3.74s/it]\n",
      "\u001b[Aha Grid:  80%|████████████████████████████████████████████████████████▏             | 65/81 [09:44<00:59,  3.75s/it]\n",
      "\u001b[Aha Grid:  81%|█████████████████████████████████████████████████████████             | 66/81 [09:47<00:52,  3.52s/it]\n",
      "\u001b[Aha Grid:  83%|█████████████████████████████████████████████████████████▉            | 67/81 [09:51<00:50,  3.62s/it]\n",
      "\u001b[Aha Grid:  84%|██████████████████████████████████████████████████████████▊           | 68/81 [09:55<00:46,  3.59s/it]\n",
      "\u001b[Aha Grid:  85%|███████████████████████████████████████████████████████████▋          | 69/81 [09:58<00:42,  3.51s/it]\n",
      "\u001b[Aha Grid:  86%|████████████████████████████████████████████████████████████▍         | 70/81 [10:02<00:39,  3.60s/it]\n",
      "\u001b[Aha Grid:  88%|█████████████████████████████████████████████████████████████▎        | 71/81 [10:05<00:34,  3.42s/it]\n",
      "\u001b[Aha Grid:  89%|██████████████████████████████████████████████████████████████▏       | 72/81 [10:08<00:29,  3.25s/it]\n",
      "\u001b[Aha Grid:  90%|███████████████████████████████████████████████████████████████       | 73/81 [10:11<00:25,  3.20s/it]\n",
      "\u001b[Aha Grid:  91%|███████████████████████████████████████████████████████████████▉      | 74/81 [10:13<00:21,  3.10s/it]\n",
      "\u001b[Aha Grid:  93%|████████████████████████████████████████████████████████████████▊     | 75/81 [10:16<00:18,  3.05s/it]\n",
      "\u001b[Aha Grid:  94%|█████████████████████████████████████████████████████████████████▋    | 76/81 [10:19<00:15,  3.05s/it]\n",
      "\u001b[Aha Grid:  95%|██████████████████████████████████████████████████████████████████▌   | 77/81 [10:23<00:12,  3.11s/it]\n",
      "\u001b[Aha Grid:  96%|███████████████████████████████████████████████████████████████████▍  | 78/81 [10:26<00:09,  3.11s/it]\n",
      "\u001b[Aha Grid:  98%|████████████████████████████████████████████████████████████████████▎ | 79/81 [10:29<00:06,  3.23s/it]\n",
      "\u001b[Aha Grid:  99%|█████████████████████████████████████████████████████████████████████▏| 80/81 [10:33<00:03,  3.50s/it]\n",
      "Alpha Grid: 100%|██████████████████████████████████████████████████████████████████████| 81/81 [10:37<00:00,  7.87s/it]\n"
     ]
    },
    {
     "name": "stdout",
     "output_type": "stream",
     "text": [
      "Best lambda: 10^-2.30\n"
     ]
    },
    {
     "name": "stderr",
     "output_type": "stream",
     "text": [
      "Lasso Rounds:  71%|██████████████████████████████████████████████▍                  | 10/14 [1:30:58<40:34, 608.70s/it]"
     ]
    },
    {
     "name": "stdout",
     "output_type": "stream",
     "text": [
      "Round 10 completed. R²: -0.0293, Time: 682.67s\n",
      "\n",
      "=== Round 11: 2000-01 to 2021-01 ===\n",
      "Train size: (201347, 1339), Val size: (22268, 1339), Test size: (11729, 1339)\n",
      "Standardizing features (chunked)...\n",
      "Standardization complete.\n",
      "Tuning Lasso alpha...\n"
     ]
    },
    {
     "name": "stderr",
     "output_type": "stream",
     "text": [
      "\n",
      "\u001b[Aha Grid:   0%|                                                                               | 0/81 [00:00<?, ?it/s]\n",
      "\u001b[Aha Grid:   1%|▊                                                                    | 1/81 [01:39<2:13:00, 99.76s/it]\n",
      "\u001b[Aha Grid:   2%|█▋                                                                   | 2/81 [02:37<1:38:34, 74.87s/it]\n",
      "\u001b[Aha Grid:   4%|██▌                                                                  | 3/81 [03:13<1:14:39, 57.43s/it]\n",
      "\u001b[Aha Grid:   5%|███▍                                                                 | 4/81 [03:47<1:01:24, 47.85s/it]\n",
      "\u001b[Aha Grid:   6%|████▍                                                                  | 5/81 [04:10<49:36, 39.17s/it]\n",
      "\u001b[Aha Grid:   7%|█████▎                                                                 | 6/81 [04:37<43:44, 34.99s/it]\n",
      "\u001b[Aha Grid:   9%|██████▏                                                                | 7/81 [05:07<40:55, 33.18s/it]\n",
      "\u001b[Aha Grid:  10%|███████                                                                | 8/81 [05:35<38:27, 31.60s/it]\n",
      "\u001b[Aha Grid:  11%|███████▉                                                               | 9/81 [05:56<34:00, 28.33s/it]\n",
      "\u001b[Aha Grid:  12%|████████▋                                                             | 10/81 [06:10<28:19, 23.94s/it]\n",
      "\u001b[Aha Grid:  14%|█████████▌                                                            | 11/81 [06:23<24:06, 20.66s/it]\n",
      "\u001b[Aha Grid:  15%|██████████▎                                                           | 12/81 [06:34<20:20, 17.69s/it]\n",
      "\u001b[Aha Grid:  16%|███████████▏                                                          | 13/81 [06:44<17:14, 15.21s/it]\n",
      "\u001b[Aha Grid:  17%|████████████                                                          | 14/81 [06:51<14:21, 12.85s/it]\n",
      "\u001b[Aha Grid:  19%|████████████▉                                                         | 15/81 [06:59<12:19, 11.21s/it]\n",
      "\u001b[Aha Grid:  20%|█████████████▊                                                        | 16/81 [07:05<10:29,  9.69s/it]\n",
      "\u001b[Aha Grid:  21%|██████████████▋                                                       | 17/81 [07:10<09:04,  8.50s/it]\n",
      "\u001b[Aha Grid:  22%|███████████████▌                                                      | 18/81 [07:16<08:06,  7.72s/it]\n",
      "\u001b[Aha Grid:  23%|████████████████▍                                                     | 19/81 [07:23<07:29,  7.25s/it]\n",
      "\u001b[Aha Grid:  25%|█████████████████▎                                                    | 20/81 [07:29<07:09,  7.05s/it]\n",
      "\u001b[Aha Grid:  26%|██████████████████▏                                                   | 21/81 [07:35<06:39,  6.65s/it]\n",
      "\u001b[Aha Grid:  27%|███████████████████                                                   | 22/81 [07:41<06:17,  6.40s/it]\n",
      "\u001b[Aha Grid:  28%|███████████████████▉                                                  | 23/81 [07:47<06:11,  6.40s/it]\n",
      "\u001b[Aha Grid:  30%|████████████████████▋                                                 | 24/81 [07:53<05:49,  6.13s/it]\n",
      "\u001b[Aha Grid:  31%|█████████████████████▌                                                | 25/81 [07:57<05:16,  5.66s/it]\n",
      "\u001b[Aha Grid:  32%|██████████████████████▍                                               | 26/81 [08:01<04:47,  5.22s/it]\n",
      "\u001b[Aha Grid:  33%|███████████████████████▎                                              | 27/81 [08:05<04:19,  4.80s/it]\n",
      "\u001b[Aha Grid:  35%|████████████████████████▏                                             | 28/81 [08:11<04:26,  5.02s/it]\n",
      "\u001b[Aha Grid:  36%|█████████████████████████                                             | 29/81 [08:16<04:22,  5.04s/it]\n",
      "\u001b[Aha Grid:  37%|█████████████████████████▉                                            | 30/81 [08:21<04:16,  5.03s/it]\n",
      "\u001b[Aha Grid:  38%|██████████████████████████▊                                           | 31/81 [08:27<04:31,  5.44s/it]\n",
      "\u001b[Aha Grid:  40%|███████████████████████████▋                                          | 32/81 [08:33<04:30,  5.51s/it]\n",
      "\u001b[Aha Grid:  41%|████████████████████████████▌                                         | 33/81 [08:38<04:12,  5.26s/it]\n",
      "\u001b[Aha Grid:  42%|█████████████████████████████▍                                        | 34/81 [08:42<04:00,  5.12s/it]\n",
      "\u001b[Aha Grid:  43%|██████████████████████████████▏                                       | 35/81 [08:48<03:59,  5.21s/it]\n",
      "\u001b[Aha Grid:  44%|███████████████████████████████                                       | 36/81 [08:52<03:48,  5.07s/it]\n",
      "\u001b[Aha Grid:  46%|███████████████████████████████▉                                      | 37/81 [08:57<03:41,  5.02s/it]\n",
      "\u001b[Aha Grid:  47%|████████████████████████████████▊                                     | 38/81 [09:03<03:47,  5.29s/it]\n",
      "\u001b[Aha Grid:  48%|█████████████████████████████████▋                                    | 39/81 [09:08<03:36,  5.16s/it]\n",
      "\u001b[Aha Grid:  49%|██████████████████████████████████▌                                   | 40/81 [09:15<03:55,  5.73s/it]\n",
      "\u001b[Aha Grid:  51%|███████████████████████████████████▍                                  | 41/81 [09:20<03:39,  5.49s/it]\n",
      "\u001b[Aha Grid:  52%|████████████████████████████████████▎                                 | 42/81 [09:25<03:27,  5.32s/it]\n",
      "\u001b[Aha Grid:  53%|█████████████████████████████████████▏                                | 43/81 [09:30<03:15,  5.15s/it]\n",
      "\u001b[Aha Grid:  54%|██████████████████████████████████████                                | 44/81 [09:34<03:04,  4.98s/it]\n",
      "\u001b[Aha Grid:  56%|██████████████████████████████████████▉                               | 45/81 [09:39<02:52,  4.80s/it]\n",
      "\u001b[Aha Grid:  57%|███████████████████████████████████████▊                              | 46/81 [09:43<02:40,  4.58s/it]\n",
      "\u001b[Aha Grid:  58%|████████████████████████████████████████▌                             | 47/81 [09:47<02:32,  4.48s/it]\n",
      "\u001b[Aha Grid:  59%|█████████████████████████████████████████▍                            | 48/81 [09:53<02:38,  4.82s/it]\n",
      "\u001b[Aha Grid:  60%|██████████████████████████████████████████▎                           | 49/81 [09:57<02:29,  4.67s/it]\n",
      "\u001b[Aha Grid:  62%|███████████████████████████████████████████▏                          | 50/81 [10:03<02:34,  4.98s/it]\n",
      "\u001b[Aha Grid:  63%|████████████████████████████████████████████                          | 51/81 [10:09<02:40,  5.35s/it]\n",
      "\u001b[Aha Grid:  64%|████████████████████████████████████████████▉                         | 52/81 [10:15<02:37,  5.43s/it]\n",
      "\u001b[Aha Grid:  65%|█████████████████████████████████████████████▊                        | 53/81 [10:23<02:53,  6.21s/it]\n",
      "\u001b[Aha Grid:  67%|██████████████████████████████████████████████▋                       | 54/81 [10:30<02:58,  6.60s/it]\n",
      "\u001b[Aha Grid:  68%|███████████████████████████████████████████████▌                      | 55/81 [10:37<02:53,  6.68s/it]\n",
      "\u001b[Aha Grid:  69%|████████████████████████████████████████████████▍                     | 56/81 [10:44<02:48,  6.75s/it]\n",
      "\u001b[Aha Grid:  70%|█████████████████████████████████████████████████▎                    | 57/81 [10:51<02:44,  6.85s/it]\n",
      "\u001b[Aha Grid:  72%|██████████████████████████████████████████████████                    | 58/81 [10:57<02:32,  6.62s/it]\n",
      "\u001b[Aha Grid:  73%|██████████████████████████████████████████████████▉                   | 59/81 [11:01<02:08,  5.84s/it]\n",
      "\u001b[Aha Grid:  74%|███████████████████████████████████████████████████▊                  | 60/81 [11:05<01:49,  5.21s/it]\n",
      "\u001b[Aha Grid:  75%|████████████████████████████████████████████████████▋                 | 61/81 [11:09<01:39,  4.99s/it]\n",
      "\u001b[Aha Grid:  77%|█████████████████████████████████████████████████████▌                | 62/81 [11:14<01:31,  4.82s/it]\n",
      "\u001b[Aha Grid:  78%|██████████████████████████████████████████████████████▍               | 63/81 [11:18<01:26,  4.79s/it]\n",
      "\u001b[Aha Grid:  79%|███████████████████████████████████████████████████████▎              | 64/81 [11:24<01:22,  4.87s/it]\n",
      "\u001b[Aha Grid:  80%|████████████████████████████████████████████████████████▏             | 65/81 [11:27<01:12,  4.56s/it]\n",
      "\u001b[Aha Grid:  81%|█████████████████████████████████████████████████████████             | 66/81 [11:33<01:13,  4.91s/it]\n",
      "\u001b[Aha Grid:  83%|█████████████████████████████████████████████████████████▉            | 67/81 [11:39<01:13,  5.25s/it]\n",
      "\u001b[Aha Grid:  84%|██████████████████████████████████████████████████████████▊           | 68/81 [11:44<01:08,  5.26s/it]\n",
      "\u001b[Aha Grid:  85%|███████████████████████████████████████████████████████████▋          | 69/81 [11:49<00:59,  5.00s/it]\n",
      "\u001b[Aha Grid:  86%|████████████████████████████████████████████████████████████▍         | 70/81 [11:54<00:55,  5.01s/it]\n",
      "\u001b[Aha Grid:  88%|█████████████████████████████████████████████████████████████▎        | 71/81 [11:59<00:50,  5.07s/it]\n",
      "\u001b[Aha Grid:  89%|██████████████████████████████████████████████████████████████▏       | 72/81 [12:03<00:42,  4.77s/it]\n",
      "\u001b[Aha Grid:  90%|███████████████████████████████████████████████████████████████       | 73/81 [12:09<00:41,  5.25s/it]\n",
      "\u001b[Aha Grid:  91%|███████████████████████████████████████████████████████████████▉      | 74/81 [12:14<00:36,  5.17s/it]\n",
      "\u001b[Aha Grid:  93%|████████████████████████████████████████████████████████████████▊     | 75/81 [12:18<00:28,  4.78s/it]\n",
      "\u001b[Aha Grid:  94%|█████████████████████████████████████████████████████████████████▋    | 76/81 [12:24<00:25,  5.03s/it]\n",
      "\u001b[Aha Grid:  95%|██████████████████████████████████████████████████████████████████▌   | 77/81 [12:30<00:21,  5.37s/it]\n",
      "\u001b[Aha Grid:  96%|███████████████████████████████████████████████████████████████████▍  | 78/81 [12:34<00:14,  4.93s/it]\n",
      "\u001b[Aha Grid:  98%|████████████████████████████████████████████████████████████████████▎ | 79/81 [12:39<00:09,  4.99s/it]\n",
      "\u001b[Aha Grid:  99%|█████████████████████████████████████████████████████████████████████▏| 80/81 [12:44<00:04,  4.85s/it]\n",
      "Alpha Grid: 100%|██████████████████████████████████████████████████████████████████████| 81/81 [12:48<00:00,  9.49s/it]\n"
     ]
    },
    {
     "name": "stdout",
     "output_type": "stream",
     "text": [
      "Best lambda: 10^-2.30\n"
     ]
    },
    {
     "name": "stderr",
     "output_type": "stream",
     "text": [
      "Lasso Rounds:  79%|███████████████████████████████████████████████████              | 11/14 [1:44:29<33:31, 670.60s/it]"
     ]
    },
    {
     "name": "stdout",
     "output_type": "stream",
     "text": [
      "Round 11 completed. R²: -0.0104, Time: 810.95s\n",
      "\n",
      "=== Round 12: 2000-01 to 2022-01 ===\n",
      "Train size: (212408, 1339), Val size: (22936, 1339), Test size: (12510, 1339)\n",
      "Standardizing features (chunked)...\n",
      "Standardization complete.\n",
      "Tuning Lasso alpha...\n"
     ]
    },
    {
     "name": "stderr",
     "output_type": "stream",
     "text": [
      "\n",
      "\u001b[Aha Grid:   0%|                                                                               | 0/81 [00:00<?, ?it/s]\n",
      "\u001b[Aha Grid:   1%|▊                                                                    | 1/81 [01:28<1:57:37, 88.22s/it]\n",
      "\u001b[Aha Grid:   2%|█▋                                                                   | 2/81 [02:32<1:37:51, 74.32s/it]\n",
      "\u001b[Aha Grid:   4%|██▌                                                                  | 3/81 [03:13<1:16:32, 58.88s/it]\n",
      "\u001b[Aha Grid:   5%|███▍                                                                 | 4/81 [03:47<1:02:55, 49.03s/it]\n",
      "\u001b[Aha Grid:   6%|████▍                                                                  | 5/81 [04:13<51:41, 40.81s/it]\n",
      "\u001b[Aha Grid:   7%|█████▎                                                                 | 6/81 [04:45<47:26, 37.95s/it]\n",
      "\u001b[Aha Grid:   9%|██████▏                                                                | 7/81 [05:16<43:55, 35.62s/it]\n",
      "\u001b[Aha Grid:  10%|███████                                                                | 8/81 [05:47<41:20, 33.98s/it]\n",
      "\u001b[Aha Grid:  11%|███████▉                                                               | 9/81 [06:09<36:31, 30.44s/it]\n",
      "\u001b[Aha Grid:  12%|████████▋                                                             | 10/81 [06:24<30:05, 25.43s/it]\n",
      "\u001b[Aha Grid:  14%|█████████▌                                                            | 11/81 [06:36<24:54, 21.35s/it]\n",
      "\u001b[Aha Grid:  15%|██████████▎                                                           | 12/81 [06:44<19:58, 17.37s/it]\n",
      "\u001b[Aha Grid:  16%|███████████▏                                                          | 13/81 [06:55<17:24, 15.36s/it]\n",
      "\u001b[Aha Grid:  17%|████████████                                                          | 14/81 [07:04<15:06, 13.53s/it]\n",
      "\u001b[Aha Grid:  19%|████████████▉                                                         | 15/81 [07:15<14:12, 12.91s/it]\n",
      "\u001b[Aha Grid:  20%|█████████████▊                                                        | 16/81 [07:23<12:09, 11.23s/it]\n",
      "\u001b[Aha Grid:  21%|██████████████▋                                                       | 17/81 [07:29<10:24,  9.75s/it]\n",
      "\u001b[Aha Grid:  22%|███████████████▌                                                      | 18/81 [07:37<09:37,  9.16s/it]\n",
      "\u001b[Aha Grid:  23%|████████████████▍                                                     | 19/81 [07:44<08:57,  8.67s/it]\n",
      "\u001b[Aha Grid:  25%|█████████████████▎                                                    | 20/81 [07:52<08:23,  8.25s/it]\n",
      "\u001b[Aha Grid:  26%|██████████████████▏                                                   | 21/81 [08:02<08:43,  8.73s/it]\n",
      "\u001b[Aha Grid:  27%|███████████████████                                                   | 22/81 [08:07<07:38,  7.77s/it]\n",
      "\u001b[Aha Grid:  28%|███████████████████▉                                                  | 23/81 [08:15<07:38,  7.90s/it]\n",
      "\u001b[Aha Grid:  30%|████████████████████▋                                                 | 24/81 [08:26<08:18,  8.75s/it]\n",
      "\u001b[Aha Grid:  31%|█████████████████████▌                                                | 25/81 [08:35<08:13,  8.81s/it]\n",
      "\u001b[Aha Grid:  32%|██████████████████████▍                                               | 26/81 [08:41<07:27,  8.13s/it]\n",
      "\u001b[Aha Grid:  33%|███████████████████████▎                                              | 27/81 [08:48<06:55,  7.69s/it]\n",
      "\u001b[Aha Grid:  35%|████████████████████████▏                                             | 28/81 [08:54<06:22,  7.21s/it]\n",
      "\u001b[Aha Grid:  36%|█████████████████████████                                             | 29/81 [09:03<06:42,  7.74s/it]\n",
      "\u001b[Aha Grid:  37%|█████████████████████████▉                                            | 30/81 [09:11<06:41,  7.87s/it]\n",
      "\u001b[Aha Grid:  38%|██████████████████████████▊                                           | 31/81 [09:20<06:45,  8.11s/it]\n",
      "\u001b[Aha Grid:  40%|███████████████████████████▋                                          | 32/81 [09:28<06:36,  8.09s/it]\n",
      "\u001b[Aha Grid:  41%|████████████████████████████▌                                         | 33/81 [09:36<06:31,  8.15s/it]\n",
      "\u001b[Aha Grid:  42%|█████████████████████████████▍                                        | 34/81 [09:44<06:08,  7.84s/it]\n",
      "\u001b[Aha Grid:  43%|██████████████████████████████▏                                       | 35/81 [09:49<05:25,  7.08s/it]\n",
      "\u001b[Aha Grid:  44%|███████████████████████████████                                       | 36/81 [09:55<05:12,  6.95s/it]\n",
      "\u001b[Aha Grid:  46%|███████████████████████████████▉                                      | 37/81 [10:02<04:57,  6.76s/it]\n",
      "\u001b[Aha Grid:  47%|████████████████████████████████▊                                     | 38/81 [10:07<04:28,  6.24s/it]\n",
      "\u001b[Aha Grid:  48%|█████████████████████████████████▋                                    | 39/81 [10:15<04:46,  6.83s/it]\n",
      "\u001b[Aha Grid:  49%|██████████████████████████████████▌                                   | 40/81 [10:22<04:37,  6.78s/it]\n",
      "\u001b[Aha Grid:  51%|███████████████████████████████████▍                                  | 41/81 [10:30<04:53,  7.34s/it]\n",
      "\u001b[Aha Grid:  52%|████████████████████████████████████▎                                 | 42/81 [10:35<04:12,  6.46s/it]\n",
      "\u001b[Aha Grid:  53%|█████████████████████████████████████▏                                | 43/81 [10:43<04:22,  6.92s/it]\n",
      "\u001b[Aha Grid:  54%|██████████████████████████████████████                                | 44/81 [10:49<04:10,  6.76s/it]\n",
      "\u001b[Aha Grid:  56%|██████████████████████████████████████▉                               | 45/81 [10:56<04:03,  6.75s/it]\n",
      "\u001b[Aha Grid:  57%|███████████████████████████████████████▊                              | 46/81 [11:04<04:15,  7.31s/it]\n",
      "\u001b[Aha Grid:  58%|████████████████████████████████████████▌                             | 47/81 [11:09<03:42,  6.55s/it]\n",
      "\u001b[Aha Grid:  59%|█████████████████████████████████████████▍                            | 48/81 [11:19<04:06,  7.48s/it]\n",
      "\u001b[Aha Grid:  60%|██████████████████████████████████████████▎                           | 49/81 [11:27<04:08,  7.77s/it]\n",
      "\u001b[Aha Grid:  62%|███████████████████████████████████████████▏                          | 50/81 [11:34<03:50,  7.43s/it]\n",
      "\u001b[Aha Grid:  63%|████████████████████████████████████████████                          | 51/81 [11:43<03:54,  7.81s/it]\n",
      "\u001b[Aha Grid:  64%|████████████████████████████████████████████▉                         | 52/81 [11:49<03:36,  7.48s/it]\n",
      "\u001b[Aha Grid:  65%|█████████████████████████████████████████████▊                        | 53/81 [11:57<03:27,  7.43s/it]\n",
      "\u001b[Aha Grid:  67%|██████████████████████████████████████████████▋                       | 54/81 [12:03<03:07,  6.96s/it]\n",
      "\u001b[Aha Grid:  68%|███████████████████████████████████████████████▌                      | 55/81 [12:09<02:57,  6.82s/it]\n",
      "\u001b[Aha Grid:  69%|████████████████████████████████████████████████▍                     | 56/81 [12:17<03:01,  7.24s/it]\n",
      "\u001b[Aha Grid:  70%|█████████████████████████████████████████████████▎                    | 57/81 [12:25<03:00,  7.51s/it]\n",
      "\u001b[Aha Grid:  72%|██████████████████████████████████████████████████                    | 58/81 [12:31<02:41,  7.01s/it]\n",
      "\u001b[Aha Grid:  73%|██████████████████████████████████████████████████▉                   | 59/81 [12:40<02:45,  7.53s/it]\n",
      "\u001b[Aha Grid:  74%|███████████████████████████████████████████████████▊                  | 60/81 [12:47<02:34,  7.34s/it]\n",
      "\u001b[Aha Grid:  75%|████████████████████████████████████████████████████▋                 | 61/81 [12:55<02:31,  7.57s/it]\n",
      "\u001b[Aha Grid:  77%|█████████████████████████████████████████████████████▌                | 62/81 [13:03<02:26,  7.70s/it]\n",
      "\u001b[Aha Grid:  78%|██████████████████████████████████████████████████████▍               | 63/81 [13:10<02:15,  7.53s/it]\n",
      "\u001b[Aha Grid:  79%|███████████████████████████████████████████████████████▎              | 64/81 [13:17<02:06,  7.44s/it]\n",
      "\u001b[Aha Grid:  80%|████████████████████████████████████████████████████████▏             | 65/81 [13:25<01:59,  7.45s/it]\n",
      "\u001b[Aha Grid:  81%|█████████████████████████████████████████████████████████             | 66/81 [13:31<01:45,  7.02s/it]\n",
      "\u001b[Aha Grid:  83%|█████████████████████████████████████████████████████████▉            | 67/81 [13:40<01:46,  7.58s/it]\n",
      "\u001b[Aha Grid:  84%|██████████████████████████████████████████████████████████▊           | 68/81 [13:47<01:36,  7.43s/it]\n",
      "\u001b[Aha Grid:  85%|███████████████████████████████████████████████████████████▋          | 69/81 [13:54<01:28,  7.37s/it]\n",
      "\u001b[Aha Grid:  86%|████████████████████████████████████████████████████████████▍         | 70/81 [13:59<01:11,  6.53s/it]\n",
      "\u001b[Aha Grid:  88%|█████████████████████████████████████████████████████████████▎        | 71/81 [14:07<01:09,  6.94s/it]\n",
      "\u001b[Aha Grid:  89%|██████████████████████████████████████████████████████████████▏       | 72/81 [14:13<01:01,  6.82s/it]\n",
      "\u001b[Aha Grid:  90%|███████████████████████████████████████████████████████████████       | 73/81 [14:20<00:55,  6.92s/it]\n",
      "\u001b[Aha Grid:  91%|███████████████████████████████████████████████████████████████▉      | 74/81 [14:26<00:46,  6.62s/it]\n",
      "\u001b[Aha Grid:  93%|████████████████████████████████████████████████████████████████▊     | 75/81 [14:34<00:42,  7.00s/it]\n",
      "\u001b[Aha Grid:  94%|█████████████████████████████████████████████████████████████████▋    | 76/81 [14:39<00:31,  6.30s/it]\n",
      "\u001b[Aha Grid:  95%|██████████████████████████████████████████████████████████████████▌   | 77/81 [14:47<00:27,  6.86s/it]\n",
      "\u001b[Aha Grid:  96%|███████████████████████████████████████████████████████████████████▍  | 78/81 [14:54<00:20,  6.91s/it]\n",
      "\u001b[Aha Grid:  98%|████████████████████████████████████████████████████████████████████▎ | 79/81 [15:01<00:13,  6.92s/it]\n",
      "\u001b[Aha Grid:  99%|█████████████████████████████████████████████████████████████████████▏| 80/81 [15:06<00:06,  6.46s/it]\n",
      "Alpha Grid: 100%|██████████████████████████████████████████████████████████████████████| 81/81 [15:14<00:00, 11.29s/it]\n"
     ]
    },
    {
     "name": "stdout",
     "output_type": "stream",
     "text": [
      "Best lambda: 10^-2.40\n"
     ]
    },
    {
     "name": "stderr",
     "output_type": "stream",
     "text": [
      "Lasso Rounds:  86%|███████████████████████████████████████████████████████▋         | 12/14 [2:00:30<25:17, 758.88s/it]"
     ]
    },
    {
     "name": "stdout",
     "output_type": "stream",
     "text": [
      "Round 12 completed. R²: -0.0076, Time: 960.77s\n",
      "\n",
      "=== Round 13: 2000-01 to 2023-01 ===\n",
      "Train size: (223615, 1339), Val size: (24239, 1339), Test size: (13192, 1339)\n",
      "Standardizing features (chunked)...\n",
      "Standardization complete.\n",
      "Tuning Lasso alpha...\n"
     ]
    },
    {
     "name": "stderr",
     "output_type": "stream",
     "text": [
      "\n",
      "\u001b[Aha Grid:   0%|                                                                               | 0/81 [00:00<?, ?it/s]\n",
      "\u001b[Aha Grid:   1%|▊                                                                    | 1/81 [01:27<1:56:36, 87.46s/it]\n",
      "\u001b[Aha Grid:   2%|█▋                                                                   | 2/81 [02:39<1:42:52, 78.13s/it]\n",
      "\u001b[Aha Grid:   4%|██▌                                                                  | 3/81 [03:30<1:25:25, 65.71s/it]\n",
      "\u001b[Aha Grid:   5%|███▍                                                                 | 4/81 [04:18<1:15:49, 59.08s/it]\n",
      "\u001b[Aha Grid:   6%|████▎                                                                | 5/81 [05:03<1:08:12, 53.85s/it]\n",
      "\u001b[Aha Grid:   7%|█████                                                                | 6/81 [05:45<1:02:07, 49.69s/it]\n",
      "\u001b[Aha Grid:   9%|██████▏                                                                | 7/81 [06:22<56:07, 45.51s/it]\n",
      "\u001b[Aha Grid:  10%|███████                                                                | 8/81 [06:51<49:09, 40.40s/it]\n",
      "\u001b[Aha Grid:  11%|███████▉                                                               | 9/81 [07:15<42:18, 35.25s/it]\n",
      "\u001b[Aha Grid:  12%|████████▋                                                             | 10/81 [07:34<35:45, 30.21s/it]\n",
      "\u001b[Aha Grid:  14%|█████████▌                                                            | 11/81 [07:53<31:14, 26.79s/it]\n",
      "\u001b[Aha Grid:  15%|██████████▎                                                           | 12/81 [08:07<26:31, 23.06s/it]\n",
      "\u001b[Aha Grid:  16%|███████████▏                                                          | 13/81 [08:23<23:29, 20.73s/it]\n",
      "\u001b[Aha Grid:  17%|████████████                                                          | 14/81 [08:37<20:56, 18.76s/it]\n",
      "\u001b[Aha Grid:  19%|████████████▉                                                         | 15/81 [08:53<19:39, 17.87s/it]\n",
      "\u001b[Aha Grid:  20%|█████████████▊                                                        | 16/81 [09:04<17:01, 15.72s/it]\n",
      "\u001b[Aha Grid:  21%|██████████████▋                                                       | 17/81 [09:15<15:28, 14.50s/it]\n",
      "\u001b[Aha Grid:  22%|███████████████▌                                                      | 18/81 [09:29<14:56, 14.24s/it]\n",
      "\u001b[Aha Grid:  23%|████████████████▍                                                     | 19/81 [09:41<13:58, 13.53s/it]\n",
      "\u001b[Aha Grid:  25%|█████████████████▎                                                    | 20/81 [09:51<12:50, 12.63s/it]\n",
      "\u001b[Aha Grid:  26%|██████████████████▏                                                   | 21/81 [10:06<13:21, 13.35s/it]\n",
      "\u001b[Aha Grid:  27%|███████████████████                                                   | 22/81 [10:18<12:44, 12.96s/it]\n",
      "\u001b[Aha Grid:  28%|███████████████████▉                                                  | 23/81 [10:29<11:50, 12.25s/it]\n",
      "\u001b[Aha Grid:  30%|████████████████████▋                                                 | 24/81 [10:40<11:13, 11.81s/it]\n",
      "\u001b[Aha Grid:  31%|█████████████████████▌                                                | 25/81 [10:50<10:41, 11.45s/it]\n",
      "\u001b[Aha Grid:  32%|██████████████████████▍                                               | 26/81 [11:01<10:16, 11.20s/it]\n",
      "\u001b[Aha Grid:  33%|███████████████████████▎                                              | 27/81 [11:12<10:07, 11.25s/it]\n",
      "\u001b[Aha Grid:  35%|████████████████████████▏                                             | 28/81 [11:22<09:29, 10.74s/it]\n",
      "\u001b[Aha Grid:  36%|█████████████████████████                                             | 29/81 [11:33<09:25, 10.88s/it]\n",
      "\u001b[Aha Grid:  37%|█████████████████████████▉                                            | 30/81 [11:43<08:53, 10.46s/it]\n",
      "\u001b[Aha Grid:  38%|██████████████████████████▊                                           | 31/81 [11:54<08:55, 10.71s/it]\n",
      "\u001b[Aha Grid:  40%|███████████████████████████▋                                          | 32/81 [12:05<08:47, 10.76s/it]\n",
      "\u001b[Aha Grid:  41%|████████████████████████████▌                                         | 33/81 [12:15<08:36, 10.76s/it]\n",
      "\u001b[Aha Grid:  42%|█████████████████████████████▍                                        | 34/81 [12:28<08:48, 11.24s/it]\n",
      "\u001b[Aha Grid:  43%|██████████████████████████████▏                                       | 35/81 [12:41<09:02, 11.79s/it]\n",
      "\u001b[Aha Grid:  44%|███████████████████████████████                                       | 36/81 [12:53<08:55, 11.91s/it]\n",
      "\u001b[Aha Grid:  46%|███████████████████████████████▉                                      | 37/81 [13:03<08:22, 11.43s/it]\n",
      "\u001b[Aha Grid:  47%|████████████████████████████████▊                                     | 38/81 [13:14<07:56, 11.07s/it]\n",
      "\u001b[Aha Grid:  48%|█████████████████████████████████▋                                    | 39/81 [13:25<07:42, 11.01s/it]\n",
      "\u001b[Aha Grid:  49%|██████████████████████████████████▌                                   | 40/81 [13:34<07:17, 10.68s/it]\n",
      "\u001b[Aha Grid:  51%|███████████████████████████████████▍                                  | 41/81 [13:45<07:05, 10.64s/it]\n",
      "\u001b[Aha Grid:  52%|████████████████████████████████████▎                                 | 42/81 [13:55<06:49, 10.50s/it]\n",
      "\u001b[Aha Grid:  53%|█████████████████████████████████████▏                                | 43/81 [14:07<06:55, 10.95s/it]\n",
      "\u001b[Aha Grid:  54%|██████████████████████████████████████                                | 44/81 [14:16<06:23, 10.38s/it]\n",
      "\u001b[Aha Grid:  56%|██████████████████████████████████████▉                               | 45/81 [14:26<06:08, 10.25s/it]\n",
      "\u001b[Aha Grid:  57%|███████████████████████████████████████▊                              | 46/81 [14:36<05:55, 10.17s/it]\n",
      "\u001b[Aha Grid:  58%|████████████████████████████████████████▌                             | 47/81 [14:46<05:46, 10.19s/it]\n",
      "\u001b[Aha Grid:  59%|█████████████████████████████████████████▍                            | 48/81 [14:57<05:36, 10.20s/it]\n",
      "\u001b[Aha Grid:  60%|██████████████████████████████████████████▎                           | 49/81 [15:06<05:23, 10.12s/it]\n",
      "\u001b[Aha Grid:  62%|███████████████████████████████████████████▏                          | 50/81 [15:17<05:22, 10.39s/it]\n",
      "\u001b[Aha Grid:  63%|████████████████████████████████████████████                          | 51/81 [15:28<05:14, 10.49s/it]\n",
      "\u001b[Aha Grid:  64%|████████████████████████████████████████████▉                         | 52/81 [15:42<05:31, 11.43s/it]\n",
      "\u001b[Aha Grid:  65%|█████████████████████████████████████████████▊                        | 53/81 [15:56<05:42, 12.24s/it]\n",
      "\u001b[Aha Grid:  67%|██████████████████████████████████████████████▋                       | 54/81 [16:11<05:49, 12.95s/it]\n",
      "\u001b[Aha Grid:  68%|███████████████████████████████████████████████▌                      | 55/81 [16:24<05:39, 13.07s/it]\n",
      "\u001b[Aha Grid:  69%|████████████████████████████████████████████████▍                     | 56/81 [16:36<05:16, 12.65s/it]\n",
      "\u001b[Aha Grid:  70%|█████████████████████████████████████████████████▎                    | 57/81 [16:49<05:07, 12.79s/it]\n",
      "\u001b[Aha Grid:  72%|██████████████████████████████████████████████████                    | 58/81 [17:00<04:43, 12.31s/it]\n",
      "\u001b[Aha Grid:  73%|██████████████████████████████████████████████████▉                   | 59/81 [17:13<04:33, 12.44s/it]\n",
      "\u001b[Aha Grid:  74%|███████████████████████████████████████████████████▊                  | 60/81 [17:25<04:18, 12.29s/it]\n",
      "\u001b[Aha Grid:  75%|████████████████████████████████████████████████████▋                 | 61/81 [17:35<03:55, 11.80s/it]\n",
      "\u001b[Aha Grid:  77%|█████████████████████████████████████████████████████▌                | 62/81 [17:48<03:48, 12.04s/it]\n",
      "\u001b[Aha Grid:  78%|██████████████████████████████████████████████████████▍               | 63/81 [17:59<03:31, 11.73s/it]\n",
      "\u001b[Aha Grid:  79%|███████████████████████████████████████████████████████▎              | 64/81 [18:09<03:11, 11.27s/it]\n",
      "\u001b[Aha Grid:  80%|████████████████████████████████████████████████████████▏             | 65/81 [18:20<02:56, 11.02s/it]\n",
      "\u001b[Aha Grid:  81%|█████████████████████████████████████████████████████████             | 66/81 [18:32<02:50, 11.34s/it]\n",
      "\u001b[Aha Grid:  83%|█████████████████████████████████████████████████████████▉            | 67/81 [18:44<02:42, 11.60s/it]\n",
      "\u001b[Aha Grid:  84%|██████████████████████████████████████████████████████████▊           | 68/81 [18:55<02:30, 11.55s/it]\n",
      "\u001b[Aha Grid:  85%|███████████████████████████████████████████████████████████▋          | 69/81 [19:05<02:13, 11.11s/it]\n",
      "\u001b[Aha Grid:  86%|████████████████████████████████████████████████████████████▍         | 70/81 [19:17<02:05, 11.37s/it]\n",
      "\u001b[Aha Grid:  88%|█████████████████████████████████████████████████████████████▎        | 71/81 [19:27<01:49, 10.96s/it]\n",
      "\u001b[Aha Grid:  89%|██████████████████████████████████████████████████████████████▏       | 72/81 [19:39<01:39, 11.11s/it]\n",
      "\u001b[Aha Grid:  90%|███████████████████████████████████████████████████████████████       | 73/81 [19:49<01:27, 10.97s/it]\n",
      "\u001b[Aha Grid:  91%|███████████████████████████████████████████████████████████████▉      | 74/81 [20:00<01:15, 10.77s/it]\n",
      "\u001b[Aha Grid:  93%|████████████████████████████████████████████████████████████████▊     | 75/81 [20:10<01:02, 10.50s/it]\n",
      "\u001b[Aha Grid:  94%|█████████████████████████████████████████████████████████████████▋    | 76/81 [20:19<00:51, 10.23s/it]\n",
      "\u001b[Aha Grid:  95%|██████████████████████████████████████████████████████████████████▌   | 77/81 [20:29<00:40, 10.01s/it]\n",
      "\u001b[Aha Grid:  96%|███████████████████████████████████████████████████████████████████▍  | 78/81 [20:39<00:29,  9.97s/it]\n",
      "\u001b[Aha Grid:  98%|████████████████████████████████████████████████████████████████████▎ | 79/81 [20:49<00:20, 10.03s/it]\n",
      "\u001b[Aha Grid:  99%|█████████████████████████████████████████████████████████████████████▏| 80/81 [20:59<00:10, 10.10s/it]\n",
      "Alpha Grid: 100%|██████████████████████████████████████████████████████████████████████| 81/81 [21:08<00:00, 15.67s/it]\n"
     ]
    },
    {
     "name": "stdout",
     "output_type": "stream",
     "text": [
      "Best lambda: 10^-2.40\n"
     ]
    },
    {
     "name": "stderr",
     "output_type": "stream",
     "text": [
      "Lasso Rounds:  93%|████████████████████████████████████████████████████████████▎    | 13/14 [2:22:32<15:29, 929.44s/it]"
     ]
    },
    {
     "name": "stdout",
     "output_type": "stream",
     "text": [
      "Round 13 completed. R²: -0.0299, Time: 1321.91s\n",
      "\n",
      "=== Round 14: 2000-01 to 2024-01 ===\n",
      "Train size: (235344, 1339), Val size: (25702, 1339), Test size: (12327, 1339)\n",
      "Standardizing features (chunked)...\n",
      "Standardization complete.\n",
      "Tuning Lasso alpha...\n"
     ]
    },
    {
     "name": "stderr",
     "output_type": "stream",
     "text": [
      "\n",
      "\u001b[Aha Grid:   0%|                                                                               | 0/81 [00:00<?, ?it/s]\n",
      "\u001b[Aha Grid:   1%|▊                                                                   | 1/81 [02:09<2:53:09, 129.87s/it]\n",
      "\u001b[Aha Grid:   2%|█▋                                                                   | 2/81 [03:27<2:10:33, 99.16s/it]\n",
      "\u001b[Aha Grid:   4%|██▌                                                                  | 3/81 [05:03<2:07:14, 97.88s/it]\n",
      "\u001b[Aha Grid:   5%|███▍                                                                 | 4/81 [05:54<1:41:24, 79.02s/it]\n",
      "\u001b[Aha Grid:   6%|████▎                                                                | 5/81 [06:36<1:23:26, 65.87s/it]\n",
      "\u001b[Aha Grid:   7%|█████                                                                | 6/81 [07:18<1:12:02, 57.63s/it]\n",
      "\u001b[Aha Grid:   9%|█████▉                                                               | 7/81 [07:57<1:03:28, 51.47s/it]\n",
      "\u001b[Aha Grid:  10%|███████                                                                | 8/81 [08:29<55:09, 45.34s/it]\n",
      "\u001b[Aha Grid:  11%|███████▉                                                               | 9/81 [08:51<45:38, 38.04s/it]\n",
      "\u001b[Aha Grid:  12%|████████▋                                                             | 10/81 [09:09<37:55, 32.05s/it]\n",
      "\u001b[Aha Grid:  14%|█████████▌                                                            | 11/81 [09:27<32:14, 27.64s/it]\n",
      "\u001b[Aha Grid:  15%|██████████▎                                                           | 12/81 [09:53<31:11, 27.12s/it]\n",
      "\u001b[Aha Grid:  16%|███████████▏                                                          | 13/81 [10:09<26:51, 23.69s/it]\n",
      "\u001b[Aha Grid:  17%|████████████                                                          | 14/81 [10:22<23:01, 20.62s/it]\n",
      "\u001b[Aha Grid:  19%|████████████▉                                                         | 15/81 [10:51<25:18, 23.01s/it]\n",
      "\u001b[Aha Grid:  20%|█████████████▊                                                        | 16/81 [11:02<21:14, 19.60s/it]\n",
      "\u001b[Aha Grid:  21%|██████████████▋                                                       | 17/81 [11:17<19:16, 18.07s/it]\n",
      "\u001b[Aha Grid:  22%|███████████████▌                                                      | 18/81 [11:30<17:20, 16.52s/it]\n",
      "\u001b[Aha Grid:  23%|████████████████▍                                                     | 19/81 [11:44<16:13, 15.70s/it]\n",
      "\u001b[Aha Grid:  25%|█████████████████▎                                                    | 20/81 [11:58<15:29, 15.24s/it]\n",
      "\u001b[Aha Grid:  26%|██████████████████▏                                                   | 21/81 [12:14<15:28, 15.48s/it]\n",
      "\u001b[Aha Grid:  27%|███████████████████                                                   | 22/81 [12:33<16:13, 16.49s/it]\n",
      "\u001b[Aha Grid:  28%|███████████████████▉                                                  | 23/81 [12:48<15:32, 16.08s/it]\n",
      "\u001b[Aha Grid:  30%|████████████████████▋                                                 | 24/81 [12:59<13:53, 14.63s/it]\n",
      "\u001b[Aha Grid:  31%|█████████████████████▌                                                | 25/81 [13:12<13:05, 14.03s/it]\n",
      "\u001b[Aha Grid:  32%|██████████████████████▍                                               | 26/81 [13:26<12:55, 14.10s/it]\n",
      "\u001b[Aha Grid:  33%|███████████████████████▎                                              | 27/81 [13:38<12:07, 13.46s/it]\n",
      "\u001b[Aha Grid:  35%|████████████████████████▏                                             | 28/81 [13:51<11:48, 13.36s/it]\n",
      "\u001b[Aha Grid:  36%|█████████████████████████                                             | 29/81 [14:04<11:32, 13.32s/it]\n",
      "\u001b[Aha Grid:  37%|█████████████████████████▉                                            | 30/81 [14:17<11:03, 13.01s/it]\n",
      "\u001b[Aha Grid:  38%|██████████████████████████▊                                           | 31/81 [14:29<10:39, 12.79s/it]\n",
      "\u001b[Aha Grid:  40%|███████████████████████████▋                                          | 32/81 [14:51<12:43, 15.59s/it]\n",
      "\u001b[Aha Grid:  41%|████████████████████████████▌                                         | 33/81 [15:13<13:55, 17.41s/it]\n",
      "\u001b[Aha Grid:  42%|█████████████████████████████▍                                        | 34/81 [15:26<12:41, 16.20s/it]\n",
      "\u001b[Aha Grid:  43%|██████████████████████████████▏                                       | 35/81 [15:38<11:32, 15.06s/it]\n",
      "\u001b[Aha Grid:  44%|███████████████████████████████                                       | 36/81 [15:51<10:46, 14.37s/it]\n",
      "\u001b[Aha Grid:  46%|███████████████████████████████▉                                      | 37/81 [16:05<10:22, 14.16s/it]\n",
      "\u001b[Aha Grid:  47%|████████████████████████████████▊                                     | 38/81 [16:17<09:48, 13.68s/it]\n",
      "\u001b[Aha Grid:  48%|█████████████████████████████████▋                                    | 39/81 [16:32<09:41, 13.84s/it]\n",
      "\u001b[Aha Grid:  49%|██████████████████████████████████▌                                   | 40/81 [16:47<09:41, 14.19s/it]\n",
      "\u001b[Aha Grid:  51%|███████████████████████████████████▍                                  | 41/81 [16:59<09:01, 13.53s/it]\n",
      "\u001b[Aha Grid:  52%|████████████████████████████████████▎                                 | 42/81 [17:14<09:08, 14.07s/it]\n",
      "\u001b[Aha Grid:  53%|█████████████████████████████████████▏                                | 43/81 [17:24<08:04, 12.75s/it]\n",
      "\u001b[Aha Grid:  54%|██████████████████████████████████████                                | 44/81 [17:38<08:04, 13.08s/it]\n",
      "\u001b[Aha Grid:  56%|██████████████████████████████████████▉                               | 45/81 [17:50<07:49, 13.04s/it]\n",
      "\u001b[Aha Grid:  57%|███████████████████████████████████████▊                              | 46/81 [18:03<07:34, 12.98s/it]\n",
      "\u001b[Aha Grid:  58%|████████████████████████████████████████▌                             | 47/81 [18:18<07:39, 13.52s/it]\n",
      "\u001b[Aha Grid:  59%|█████████████████████████████████████████▍                            | 48/81 [18:32<07:33, 13.75s/it]\n",
      "\u001b[Aha Grid:  60%|██████████████████████████████████████████▎                           | 49/81 [18:43<06:46, 12.72s/it]\n",
      "\u001b[Aha Grid:  62%|███████████████████████████████████████████▏                          | 50/81 [18:55<06:31, 12.64s/it]\n",
      "\u001b[Aha Grid:  63%|████████████████████████████████████████████                          | 51/81 [19:07<06:13, 12.44s/it]\n",
      "\u001b[Aha Grid:  64%|████████████████████████████████████████████▉                         | 52/81 [19:19<05:55, 12.25s/it]\n",
      "\u001b[Aha Grid:  65%|█████████████████████████████████████████████▊                        | 53/81 [19:31<05:38, 12.10s/it]\n",
      "\u001b[Aha Grid:  67%|██████████████████████████████████████████████▋                       | 54/81 [19:42<05:21, 11.89s/it]\n",
      "\u001b[Aha Grid:  68%|███████████████████████████████████████████████▌                      | 55/81 [19:53<05:03, 11.68s/it]\n",
      "\u001b[Aha Grid:  69%|████████████████████████████████████████████████▍                     | 56/81 [20:06<04:56, 11.85s/it]\n",
      "\u001b[Aha Grid:  70%|█████████████████████████████████████████████████▎                    | 57/81 [20:18<04:49, 12.07s/it]\n",
      "\u001b[Aha Grid:  72%|██████████████████████████████████████████████████                    | 58/81 [20:29<04:31, 11.82s/it]\n",
      "\u001b[Aha Grid:  73%|██████████████████████████████████████████████████▉                   | 59/81 [20:42<04:28, 12.21s/it]\n",
      "\u001b[Aha Grid:  74%|███████████████████████████████████████████████████▊                  | 60/81 [20:57<04:32, 12.99s/it]\n",
      "\u001b[Aha Grid:  75%|████████████████████████████████████████████████████▋                 | 61/81 [21:08<04:08, 12.40s/it]\n",
      "\u001b[Aha Grid:  77%|█████████████████████████████████████████████████████▌                | 62/81 [21:20<03:52, 12.25s/it]\n",
      "\u001b[Aha Grid:  78%|██████████████████████████████████████████████████████▍               | 63/81 [21:33<03:42, 12.35s/it]\n",
      "\u001b[Aha Grid:  79%|███████████████████████████████████████████████████████▎              | 64/81 [21:48<03:43, 13.13s/it]\n",
      "\u001b[Aha Grid:  80%|████████████████████████████████████████████████████████▏             | 65/81 [22:02<03:36, 13.51s/it]\n",
      "\u001b[Aha Grid:  81%|█████████████████████████████████████████████████████████             | 66/81 [22:14<03:15, 13.05s/it]\n",
      "\u001b[Aha Grid:  83%|█████████████████████████████████████████████████████████▉            | 67/81 [22:26<02:57, 12.65s/it]\n",
      "\u001b[Aha Grid:  84%|██████████████████████████████████████████████████████████▊           | 68/81 [22:38<02:40, 12.37s/it]\n",
      "\u001b[Aha Grid:  85%|███████████████████████████████████████████████████████████▋          | 69/81 [22:50<02:27, 12.28s/it]\n",
      "\u001b[Aha Grid:  86%|████████████████████████████████████████████████████████████▍         | 70/81 [23:02<02:13, 12.18s/it]\n",
      "\u001b[Aha Grid:  88%|█████████████████████████████████████████████████████████████▎        | 71/81 [23:15<02:04, 12.44s/it]\n",
      "\u001b[Aha Grid:  89%|██████████████████████████████████████████████████████████████▏       | 72/81 [23:27<01:50, 12.30s/it]\n",
      "\u001b[Aha Grid:  90%|███████████████████████████████████████████████████████████████       | 73/81 [23:39<01:38, 12.29s/it]\n",
      "\u001b[Aha Grid:  91%|███████████████████████████████████████████████████████████████▉      | 74/81 [24:01<01:46, 15.15s/it]\n",
      "\u001b[Aha Grid:  93%|████████████████████████████████████████████████████████████████▊     | 75/81 [24:15<01:30, 15.03s/it]\n",
      "\u001b[Aha Grid:  94%|█████████████████████████████████████████████████████████████████▋    | 76/81 [24:29<01:13, 14.69s/it]\n",
      "\u001b[Aha Grid:  95%|██████████████████████████████████████████████████████████████████▌   | 77/81 [24:39<00:53, 13.34s/it]\n",
      "\u001b[Aha Grid:  96%|███████████████████████████████████████████████████████████████████▍  | 78/81 [24:52<00:39, 13.20s/it]\n",
      "\u001b[Aha Grid:  98%|████████████████████████████████████████████████████████████████████▎ | 79/81 [25:07<00:27, 13.77s/it]\n",
      "\u001b[Aha Grid:  99%|█████████████████████████████████████████████████████████████████████▏| 80/81 [25:19<00:13, 13.22s/it]\n",
      "Alpha Grid: 100%|██████████████████████████████████████████████████████████████████████| 81/81 [25:34<00:00, 18.95s/it]\n"
     ]
    },
    {
     "name": "stdout",
     "output_type": "stream",
     "text": [
      "Best lambda: 10^-3.40\n"
     ]
    },
    {
     "name": "stderr",
     "output_type": "stream",
     "text": [
      "Lasso Rounds: 100%|████████████████████████████████████████████████████████████████| 14/14 [2:49:32<00:00, 1138.05s/it]"
     ]
    },
    {
     "name": "stdout",
     "output_type": "stream",
     "text": [
      "Round 14 completed. R²: -0.0104, Time: 1620.04s\n",
      "Lasso-only prediction complete.\n"
     ]
    }
   ],
   "source": [
    "# === Step 4: Expanding window Lasso-only training and prediction ===\n",
    "data['date'] = data['yyyymm']\n",
    "start_round = 0\n",
    "starting = pd.to_datetime(\"20000101\", format=\"%Y%m%d\")\n",
    "counter = start_round\n",
    "\n",
    "print(\"Starting expanding window prediction (Lasso only)...\")\n",
    "\n",
    "# Determine total number of rounds\n",
    "end_date = pd.to_datetime(\"20240101\", format=\"%Y%m%d\")\n",
    "total_rounds = 0\n",
    "temp_start = starting\n",
    "while (temp_start + pd.DateOffset(years=11 + total_rounds)) <= end_date:\n",
    "    total_rounds += 1\n",
    "\n",
    "pbar = tqdm(total=total_rounds - start_round, desc=\"Lasso Rounds\")\n",
    "\n",
    "while (counter < total_rounds):\n",
    "    round_start_time = time.time()\n",
    "\n",
    "    cutoff = [\n",
    "        starting,\n",
    "        starting + pd.DateOffset(years=8 + counter),\n",
    "        starting + pd.DateOffset(years=10 + counter),\n",
    "        starting + pd.DateOffset(years=11 + counter),\n",
    "    ]\n",
    "\n",
    "    print(f\"\\n=== Round {counter + 1}: {cutoff[0].strftime('%Y-%m')} to {cutoff[3].strftime('%Y-%m')} ===\")\n",
    "\n",
    "    train = data[(data[\"date\"] >= cutoff[0]) & (data[\"date\"] < cutoff[1])]\n",
    "    validate = data[(data[\"date\"] >= cutoff[1]) & (data[\"date\"] < cutoff[2])]\n",
    "    test = data[(data[\"date\"] >= cutoff[2]) & (data[\"date\"] < cutoff[3])]\n",
    "\n",
    "    print(f\"Train size: {train.shape}, Val size: {validate.shape}, Test size: {test.shape}\")\n",
    "\n",
    "    if test.empty or train.empty or validate.empty:\n",
    "        print(f\"Skipping round {counter + 1} due to empty set.\")\n",
    "        counter += 1\n",
    "        pbar.update(1)\n",
    "        continue\n",
    "\n",
    "    print(\"Standardizing features (chunked)...\")\n",
    "    train, validate, test = chunk_standardize(train, validate, test, all_features, chunk_size=100)\n",
    "    print(\"Standardization complete.\")\n",
    "\n",
    "    X_train, Y_train = train[all_features].values, train['stock_exret'].values\n",
    "    X_val, Y_val = validate[all_features].values, validate['stock_exret'].values\n",
    "    X_test, Y_test = test[all_features].values, test['stock_exret'].values\n",
    "\n",
    "    Y_mean = np.mean(Y_train)\n",
    "    Y_train_dm = Y_train - Y_mean\n",
    "\n",
    "    reg_pred = test[[\"permno\", \"yyyymm\", \"stock_exret\"]].copy()\n",
    "\n",
    "    print(\"Tuning Lasso alpha...\")\n",
    "    lambdas = np.arange(-4, 4.1, 0.1)\n",
    "    val_mse = np.zeros(len(lambdas))\n",
    "    for ind, i in enumerate(tqdm(lambdas, desc=\"Alpha Grid\")):\n",
    "        reg = Lasso(alpha=10**i, max_iter=1000000, fit_intercept=False)\n",
    "        reg.fit(X_train, Y_train_dm)\n",
    "        val_mse[ind] = mean_squared_error(Y_val, reg.predict(X_val) + Y_mean)\n",
    "    best_lambda = lambdas[np.argmin(val_mse)]\n",
    "\n",
    "    print(f\"Best lambda: 10^{best_lambda:.2f}\")\n",
    "    reg = Lasso(alpha=10**best_lambda, max_iter=1000000, fit_intercept=False)\n",
    "    reg.fit(X_train, Y_train_dm)\n",
    "    reg_pred[\"lasso\"] = reg.predict(X_test) + Y_mean\n",
    "\n",
    "    r2_lasso = 1 - np.sum((reg_pred[\"lasso\"] - Y_test) ** 2) / np.sum((Y_test - Y_test.mean()) ** 2)\n",
    "\n",
    "    # Save prediction and r2 per round\n",
    "    reg_pred.to_csv(\"../results/lasso_predictions_all.csv\", mode=\"a\", header=(counter==start_round), index=False)\n",
    "    pd.DataFrame([{\n",
    "        \"round\": counter + 1,\n",
    "        \"start_date\": cutoff[0],\n",
    "        \"end_date\": cutoff[3],\n",
    "        \"r2_lasso\": r2_lasso\n",
    "    }]).to_csv(\"../results/lasso_r2_all.csv\", mode=\"a\", header=(counter==start_round), index=False)\n",
    "\n",
    "    print(f\"Round {counter + 1} completed. R²: {r2_lasso:.4f}, Time: {round(time.time() - round_start_time, 2)}s\")\n",
    "    counter += 1\n",
    "    pbar.update(1)\n",
    "\n",
    "print(\"Lasso-only prediction complete.\")"
   ]
  },
  {
   "cell_type": "code",
   "execution_count": 23,
   "id": "254cba3d-b721-45f6-a749-651eed6a2e5c",
   "metadata": {},
   "outputs": [
    {
     "data": {
      "text/html": [
       "<div>\n",
       "<style scoped>\n",
       "    .dataframe tbody tr th:only-of-type {\n",
       "        vertical-align: middle;\n",
       "    }\n",
       "\n",
       "    .dataframe tbody tr th {\n",
       "        vertical-align: top;\n",
       "    }\n",
       "\n",
       "    .dataframe thead th {\n",
       "        text-align: right;\n",
       "    }\n",
       "</style>\n",
       "<table border=\"1\" class=\"dataframe\">\n",
       "  <thead>\n",
       "    <tr style=\"text-align: right;\">\n",
       "      <th></th>\n",
       "      <th>Round</th>\n",
       "      <th>Best Lambda (Alpha)</th>\n",
       "    </tr>\n",
       "  </thead>\n",
       "  <tbody>\n",
       "    <tr>\n",
       "      <th>0</th>\n",
       "      <td>1</td>\n",
       "      <td>10^-2.40</td>\n",
       "    </tr>\n",
       "    <tr>\n",
       "      <th>1</th>\n",
       "      <td>2</td>\n",
       "      <td>10^-2.20</td>\n",
       "    </tr>\n",
       "  </tbody>\n",
       "</table>\n",
       "</div>"
      ],
      "text/plain": [
       "   Round Best Lambda (Alpha)\n",
       "0      1            10^-2.40\n",
       "1      2            10^-2.20"
      ]
     },
     "execution_count": 23,
     "metadata": {},
     "output_type": "execute_result"
    }
   ],
   "source": [
    "import pandas as pd\n",
    "import numpy as np\n",
    "\n",
    "lambda_df = pd.read_csv(\"../results/best_lambda_by_round.csv\")\n",
    "lambda_raw = lambda_df[\"Best Lambda (Alpha)\"].astype(str)\n",
    "\n",
    "lambda_df.head(2)"
   ]
  },
  {
   "cell_type": "markdown",
   "id": "0961592c-c48e-474c-a3bf-84016fc65dd1",
   "metadata": {},
   "source": [
    "### Lasso Feature Selection"
   ]
  },
  {
   "cell_type": "code",
   "execution_count": 8,
   "id": "298ffa66-134d-4051-98cc-98f1a28983ed",
   "metadata": {},
   "outputs": [
    {
     "name": "stderr",
     "output_type": "stream",
     "text": [
      "Refitting Lasso:   7%|████▋                                                             | 1/14 [00:06<01:24,  6.47s/it]"
     ]
    },
    {
     "name": "stdout",
     "output_type": "stream",
     "text": [
      "Round 1: alpha=0.00398, nonzero features=3\n"
     ]
    },
    {
     "name": "stderr",
     "output_type": "stream",
     "text": [
      "Refitting Lasso:  14%|█████████▍                                                        | 2/14 [00:13<01:19,  6.66s/it]"
     ]
    },
    {
     "name": "stdout",
     "output_type": "stream",
     "text": [
      "Round 2: alpha=0.00631, nonzero features=0\n"
     ]
    },
    {
     "name": "stderr",
     "output_type": "stream",
     "text": [
      "Refitting Lasso:  21%|██████████████▏                                                   | 3/14 [00:21<01:19,  7.19s/it]"
     ]
    },
    {
     "name": "stdout",
     "output_type": "stream",
     "text": [
      "Round 3: alpha=0.00631, nonzero features=0\n"
     ]
    },
    {
     "name": "stderr",
     "output_type": "stream",
     "text": [
      "Refitting Lasso:  29%|██████████████████▊                                               | 4/14 [00:32<01:30,  9.04s/it]"
     ]
    },
    {
     "name": "stdout",
     "output_type": "stream",
     "text": [
      "Round 4: alpha=0.00631, nonzero features=0\n"
     ]
    },
    {
     "name": "stderr",
     "output_type": "stream",
     "text": [
      "Refitting Lasso:  36%|███████████████████████▌                                          | 5/14 [00:45<01:34, 10.47s/it]"
     ]
    },
    {
     "name": "stdout",
     "output_type": "stream",
     "text": [
      "Round 5: alpha=0.00501, nonzero features=0\n"
     ]
    },
    {
     "name": "stderr",
     "output_type": "stream",
     "text": [
      "Refitting Lasso:  43%|████████████████████████████▎                                     | 6/14 [01:05<01:48, 13.57s/it]"
     ]
    },
    {
     "name": "stdout",
     "output_type": "stream",
     "text": [
      "Round 6: alpha=0.00501, nonzero features=0\n"
     ]
    },
    {
     "name": "stderr",
     "output_type": "stream",
     "text": [
      "Refitting Lasso:  50%|█████████████████████████████████                                 | 7/14 [01:24<01:47, 15.33s/it]"
     ]
    },
    {
     "name": "stdout",
     "output_type": "stream",
     "text": [
      "Round 7: alpha=0.00631, nonzero features=0\n"
     ]
    },
    {
     "name": "stderr",
     "output_type": "stream",
     "text": [
      "Refitting Lasso:  57%|█████████████████████████████████████▋                            | 8/14 [01:47<01:46, 17.68s/it]"
     ]
    },
    {
     "name": "stdout",
     "output_type": "stream",
     "text": [
      "Round 8: alpha=0.00398, nonzero features=0\n"
     ]
    },
    {
     "name": "stderr",
     "output_type": "stream",
     "text": [
      "Refitting Lasso:  64%|██████████████████████████████████████████▍                       | 9/14 [02:10<01:37, 19.52s/it]"
     ]
    },
    {
     "name": "stdout",
     "output_type": "stream",
     "text": [
      "Round 9: alpha=0.00251, nonzero features=1\n"
     ]
    },
    {
     "name": "stderr",
     "output_type": "stream",
     "text": [
      "Refitting Lasso:  71%|██████████████████████████████████████████████▍                  | 10/14 [02:35<01:25, 21.26s/it]"
     ]
    },
    {
     "name": "stdout",
     "output_type": "stream",
     "text": [
      "Round 10: alpha=0.00501, nonzero features=0\n"
     ]
    },
    {
     "name": "stderr",
     "output_type": "stream",
     "text": [
      "Refitting Lasso:  79%|███████████████████████████████████████████████████              | 11/14 [03:22<01:26, 28.88s/it]"
     ]
    },
    {
     "name": "stdout",
     "output_type": "stream",
     "text": [
      "Round 11: alpha=0.00501, nonzero features=0\n"
     ]
    },
    {
     "name": "stderr",
     "output_type": "stream",
     "text": [
      "Refitting Lasso:  86%|███████████████████████████████████████████████████████▋         | 12/14 [04:01<01:03, 31.94s/it]"
     ]
    },
    {
     "name": "stdout",
     "output_type": "stream",
     "text": [
      "Round 12: alpha=0.00398, nonzero features=0\n"
     ]
    },
    {
     "name": "stderr",
     "output_type": "stream",
     "text": [
      "Refitting Lasso:  93%|████████████████████████████████████████████████████████████▎    | 13/14 [04:45<00:35, 35.79s/it]"
     ]
    },
    {
     "name": "stdout",
     "output_type": "stream",
     "text": [
      "Round 13: alpha=0.00398, nonzero features=0\n"
     ]
    },
    {
     "name": "stderr",
     "output_type": "stream",
     "text": [
      "Refitting Lasso: 100%|█████████████████████████████████████████████████████████████████| 14/14 [05:33<00:00, 23.79s/it]"
     ]
    },
    {
     "name": "stdout",
     "output_type": "stream",
     "text": [
      "Round 14: alpha=0.00040, nonzero features=129\n"
     ]
    },
    {
     "name": "stderr",
     "output_type": "stream",
     "text": [
      "\n"
     ]
    },
    {
     "name": "stdout",
     "output_type": "stream",
     "text": [
      "Finished! Total selected features: 131\n",
      "Top feature frequency saved to ../results/lasso_top_features.csv\n"
     ]
    }
   ],
   "source": [
    "import pandas as pd\n",
    "import numpy as np\n",
    "from sklearn.linear_model import Lasso\n",
    "from collections import Counter\n",
    "from tqdm import tqdm\n",
    "\n",
    "# === Step 0: Load and parse lambda values correctly ===\n",
    "lambda_df = pd.read_csv(\"../results/best_lambda_by_round.csv\", skiprows=1, header=None)\n",
    "\n",
    "# This will convert \"10^-2.4\" → 10 ** -2.4 → 0.00398 (numeric alpha)\n",
    "def parse_lambda(expr):\n",
    "    try:\n",
    "        exponent = float(expr.split(\"^\")[1])\n",
    "        return 10 ** exponent\n",
    "    except:\n",
    "        return np.nan\n",
    "\n",
    "best_lambdas = lambda_df.iloc[:, 1].apply(parse_lambda).dropna().values\n",
    "\n",
    "# === Step 1: Initialize ===\n",
    "feature_counter = Counter()\n",
    "data['date'] = data['yyyymm']\n",
    "starting = pd.to_datetime(\"20000101\", format=\"%Y%m%d\")\n",
    "\n",
    "# === Step 2: Loop through all rounds ===\n",
    "for counter in tqdm(range(len(best_lambdas)), desc=\"Refitting Lasso\"):\n",
    "    cutoff = [\n",
    "        starting,\n",
    "        starting + pd.DateOffset(years=8 + counter),\n",
    "        starting + pd.DateOffset(years=10 + counter),\n",
    "        starting + pd.DateOffset(years=11 + counter),\n",
    "    ]\n",
    "\n",
    "    train = data[(data[\"date\"] >= cutoff[0]) & (data[\"date\"] < cutoff[1])]\n",
    "    validate = data[(data[\"date\"] >= cutoff[1]) & (data[\"date\"] < cutoff[2])]\n",
    "\n",
    "    if train.empty or validate.empty:\n",
    "        print(f\"Skipping round {counter + 1} due to empty set.\")\n",
    "        continue\n",
    "\n",
    "    X_train = train[all_features].values\n",
    "    Y_train = train['stock_exret'].values\n",
    "    Y_mean = np.mean(Y_train)\n",
    "    Y_train_dm = Y_train - Y_mean\n",
    "\n",
    "    # alpha is already numeric\n",
    "    alpha = best_lambdas[counter]\n",
    "    reg = Lasso(alpha=alpha, max_iter=1000000, fit_intercept=False)\n",
    "    reg.fit(X_train, Y_train_dm)\n",
    "\n",
    "    nonzero_mask = reg.coef_ != 0\n",
    "    nonzero_vars = np.array(all_features)[nonzero_mask]\n",
    "    feature_counter.update(nonzero_vars)\n",
    "\n",
    "    print(f\"Round {counter+1}: alpha={alpha:.5f}, nonzero features={len(nonzero_vars)}\")\n",
    "\n",
    "# === Step 4: Output top feature frequency ===\n",
    "freq_df = pd.DataFrame.from_dict(feature_counter, orient='index', columns=['count'])\n",
    "freq_df = freq_df.sort_values('count', ascending=False)\n",
    "freq_df.to_csv(\"../results/lasso_top_features.csv\")\n",
    "\n",
    "print(f\"Finished! Total selected features: {len(freq_df)}\")\n",
    "print(\"Top feature frequency saved to ../results/lasso_top_features.csv\")"
   ]
  },
  {
   "cell_type": "markdown",
   "id": "cae4c97a-c4a8-4f41-a528-6847b6bbd40b",
   "metadata": {},
   "source": [
    "## OLS Reduced Feature"
   ]
  },
  {
   "cell_type": "code",
   "execution_count": 11,
   "id": "cb376f34-f6ec-425c-ab6d-f6ddc56654ae",
   "metadata": {},
   "outputs": [
    {
     "name": "stdout",
     "output_type": "stream",
     "text": [
      "Starting expanding window prediction (OLS with reduced features)...\n"
     ]
    },
    {
     "name": "stderr",
     "output_type": "stream",
     "text": [
      "Ridge Rounds: 100%|████████████████████████████████████████████████████████████████████| 14/14 [12:14<00:00, 52.48s/it]"
     ]
    },
    {
     "name": "stdout",
     "output_type": "stream",
     "text": [
      "\n",
      "=== Round 1: 2000-01 to 2011-01 ===\n"
     ]
    },
    {
     "name": "stderr",
     "output_type": "stream",
     "text": [
      "\n"
     ]
    },
    {
     "name": "stdout",
     "output_type": "stream",
     "text": [
      "Train size: (93496, 1339), Val size: (20897, 1339), Test size: (10563, 1339)\n",
      "Standardizing reduced features (chunked)...\n",
      "Standardization complete.\n",
      "Training OLS...\n"
     ]
    },
    {
     "name": "stderr",
     "output_type": "stream",
     "text": [
      "OLS Rounds:   7%|█████                                                                  | 1/14 [00:12<02:39, 12.27s/it]"
     ]
    },
    {
     "name": "stdout",
     "output_type": "stream",
     "text": [
      "Round 1 completed. R²: -0.0472, Time: 12.27s\n",
      "\n",
      "=== Round 2: 2000-01 to 2012-01 ===\n",
      "Train size: (103876, 1339), Val size: (21080, 1339), Test size: (10458, 1339)\n",
      "Standardizing reduced features (chunked)...\n",
      "Standardization complete.\n",
      "Training OLS...\n"
     ]
    },
    {
     "name": "stderr",
     "output_type": "stream",
     "text": [
      "OLS Rounds:  14%|██████████▏                                                            | 2/14 [00:20<01:55,  9.60s/it]"
     ]
    },
    {
     "name": "stdout",
     "output_type": "stream",
     "text": [
      "Round 2 completed. R²: -0.0149, Time: 7.73s\n",
      "\n",
      "=== Round 3: 2000-01 to 2013-01 ===\n",
      "Train size: (114393, 1339), Val size: (21021, 1339), Test size: (10556, 1339)\n",
      "Standardizing reduced features (chunked)...\n",
      "Standardization complete.\n",
      "Training OLS...\n"
     ]
    },
    {
     "name": "stderr",
     "output_type": "stream",
     "text": [
      "OLS Rounds:  21%|███████████████▏                                                       | 3/14 [00:29<01:44,  9.53s/it]"
     ]
    },
    {
     "name": "stdout",
     "output_type": "stream",
     "text": [
      "Round 3 completed. R²: -0.0339, Time: 9.43s\n",
      "\n",
      "=== Round 4: 2000-01 to 2014-01 ===\n",
      "Train size: (124956, 1339), Val size: (21014, 1339), Test size: (10617, 1339)\n",
      "Standardizing reduced features (chunked)...\n",
      "Standardization complete.\n",
      "Training OLS...\n"
     ]
    },
    {
     "name": "stderr",
     "output_type": "stream",
     "text": [
      "OLS Rounds:  29%|████████████████████▎                                                  | 4/14 [00:38<01:34,  9.44s/it]"
     ]
    },
    {
     "name": "stdout",
     "output_type": "stream",
     "text": [
      "Round 4 completed. R²: -0.1303, Time: 9.32s\n",
      "\n",
      "=== Round 5: 2000-01 to 2015-01 ===\n",
      "Train size: (135414, 1339), Val size: (21173, 1339), Test size: (10974, 1339)\n",
      "Standardizing reduced features (chunked)...\n",
      "Standardization complete.\n",
      "Training OLS...\n"
     ]
    },
    {
     "name": "stderr",
     "output_type": "stream",
     "text": [
      "OLS Rounds:  36%|█████████████████████████▎                                             | 5/14 [00:48<01:25,  9.47s/it]"
     ]
    },
    {
     "name": "stdout",
     "output_type": "stream",
     "text": [
      "Round 5 completed. R²: -0.0257, Time: 9.5s\n",
      "\n",
      "=== Round 6: 2000-01 to 2016-01 ===\n",
      "Train size: (145970, 1339), Val size: (21591, 1339), Test size: (11459, 1339)\n",
      "Standardizing reduced features (chunked)...\n",
      "Standardization complete.\n",
      "Training OLS...\n"
     ]
    },
    {
     "name": "stderr",
     "output_type": "stream",
     "text": [
      "OLS Rounds:  43%|██████████████████████████████▍                                        | 6/14 [00:59<01:21, 10.21s/it]"
     ]
    },
    {
     "name": "stdout",
     "output_type": "stream",
     "text": [
      "Round 6 completed. R²: -0.0170, Time: 11.63s\n",
      "\n",
      "=== Round 7: 2000-01 to 2017-01 ===\n",
      "Train size: (156587, 1339), Val size: (22433, 1339), Test size: (11273, 1339)\n",
      "Standardizing reduced features (chunked)...\n",
      "Standardization complete.\n",
      "Training OLS...\n"
     ]
    },
    {
     "name": "stderr",
     "output_type": "stream",
     "text": [
      "OLS Rounds:  50%|███████████████████████████████████▌                                   | 7/14 [01:17<01:27, 12.46s/it]"
     ]
    },
    {
     "name": "stdout",
     "output_type": "stream",
     "text": [
      "Round 7 completed. R²: -0.0068, Time: 17.08s\n",
      "\n",
      "=== Round 8: 2000-01 to 2018-01 ===\n",
      "Train size: (167561, 1339), Val size: (22732, 1339), Test size: (11054, 1339)\n",
      "Standardizing reduced features (chunked)...\n",
      "Standardization complete.\n",
      "Training OLS...\n"
     ]
    },
    {
     "name": "stderr",
     "output_type": "stream",
     "text": [
      "OLS Rounds:  57%|████████████████████████████████████████▌                              | 8/14 [01:33<01:22, 13.70s/it]"
     ]
    },
    {
     "name": "stdout",
     "output_type": "stream",
     "text": [
      "Round 8 completed. R²: -0.0196, Time: 16.34s\n",
      "\n",
      "=== Round 9: 2000-01 to 2019-01 ===\n",
      "Train size: (179020, 1339), Val size: (22327, 1339), Test size: (11061, 1339)\n",
      "Standardizing reduced features (chunked)...\n",
      "Standardization complete.\n",
      "Training OLS...\n"
     ]
    },
    {
     "name": "stderr",
     "output_type": "stream",
     "text": [
      "OLS Rounds:  64%|█████████████████████████████████████████████▋                         | 9/14 [01:53<01:19, 15.85s/it]"
     ]
    },
    {
     "name": "stdout",
     "output_type": "stream",
     "text": [
      "Round 9 completed. R²: -0.0286, Time: 20.58s\n",
      "\n",
      "=== Round 10: 2000-01 to 2020-01 ===\n",
      "Train size: (190293, 1339), Val size: (22115, 1339), Test size: (11207, 1339)\n",
      "Standardizing reduced features (chunked)...\n",
      "Standardization complete.\n",
      "Training OLS...\n"
     ]
    },
    {
     "name": "stderr",
     "output_type": "stream",
     "text": [
      "OLS Rounds:  71%|██████████████████████████████████████████████████                    | 10/14 [02:19<01:15, 18.83s/it]"
     ]
    },
    {
     "name": "stdout",
     "output_type": "stream",
     "text": [
      "Round 10 completed. R²: -0.0349, Time: 25.5s\n",
      "\n",
      "=== Round 11: 2000-01 to 2021-01 ===\n",
      "Train size: (201347, 1339), Val size: (22268, 1339), Test size: (11729, 1339)\n",
      "Standardizing reduced features (chunked)...\n",
      "Standardization complete.\n",
      "Training OLS...\n"
     ]
    },
    {
     "name": "stderr",
     "output_type": "stream",
     "text": [
      "OLS Rounds:  79%|███████████████████████████████████████████████████████               | 11/14 [02:46<01:04, 21.35s/it]"
     ]
    },
    {
     "name": "stdout",
     "output_type": "stream",
     "text": [
      "Round 11 completed. R²: -0.0167, Time: 27.04s\n",
      "\n",
      "=== Round 12: 2000-01 to 2022-01 ===\n",
      "Train size: (212408, 1339), Val size: (22936, 1339), Test size: (12510, 1339)\n",
      "Standardizing reduced features (chunked)...\n",
      "Standardization complete.\n",
      "Training OLS...\n"
     ]
    },
    {
     "name": "stderr",
     "output_type": "stream",
     "text": [
      "OLS Rounds:  86%|████████████████████████████████████████████████████████████          | 12/14 [03:14<00:46, 23.34s/it]"
     ]
    },
    {
     "name": "stdout",
     "output_type": "stream",
     "text": [
      "Round 12 completed. R²: 0.0027, Time: 27.88s\n",
      "\n",
      "=== Round 13: 2000-01 to 2023-01 ===\n",
      "Train size: (223615, 1339), Val size: (24239, 1339), Test size: (13192, 1339)\n",
      "Standardizing reduced features (chunked)...\n",
      "Standardization complete.\n",
      "Training OLS...\n"
     ]
    },
    {
     "name": "stderr",
     "output_type": "stream",
     "text": [
      "OLS Rounds:  93%|█████████████████████████████████████████████████████████████████     | 13/14 [03:43<00:25, 25.06s/it]"
     ]
    },
    {
     "name": "stdout",
     "output_type": "stream",
     "text": [
      "Round 13 completed. R²: -0.0262, Time: 29.02s\n",
      "\n",
      "=== Round 14: 2000-01 to 2024-01 ===\n",
      "Train size: (235344, 1339), Val size: (25702, 1339), Test size: (12327, 1339)\n",
      "Standardizing reduced features (chunked)...\n",
      "Standardization complete.\n",
      "Training OLS...\n"
     ]
    },
    {
     "name": "stderr",
     "output_type": "stream",
     "text": [
      "OLS Rounds: 100%|██████████████████████████████████████████████████████████████████████| 14/14 [04:14<00:00, 26.98s/it]"
     ]
    },
    {
     "name": "stdout",
     "output_type": "stream",
     "text": [
      "Round 14 completed. R²: -0.0157, Time: 31.42s\n",
      "OLS (Reduced) prediction complete.\n"
     ]
    }
   ],
   "source": [
    "import pandas as pd\n",
    "import numpy as np\n",
    "from sklearn.linear_model import LinearRegression\n",
    "from sklearn.preprocessing import StandardScaler\n",
    "from tqdm import tqdm\n",
    "import time\n",
    "\n",
    "# === Load reduced features ===\n",
    "reduced_features = pd.read_csv(\"../results/lasso_top_features.csv\")\n",
    "reduced_feature_list = reduced_features.iloc[:, 0].tolist()\n",
    "\n",
    "# === Chunked Standardization Function ===\n",
    "def chunk_standardize(df_train, df_val, df_test, columns, chunk_size=100):\n",
    "    for i in range(0, len(columns), chunk_size):\n",
    "        subset = columns[i:i+chunk_size]\n",
    "        scaler = StandardScaler().fit(df_train[subset])\n",
    "        df_train.loc[:, subset] = scaler.transform(df_train[subset])\n",
    "        df_val.loc[:, subset] = scaler.transform(df_val[subset])\n",
    "        df_test.loc[:, subset] = scaler.transform(df_test[subset])\n",
    "    return df_train, df_val, df_test\n",
    "\n",
    "# === Step 4: Expanding window OLS (Reduced) ===\n",
    "data['date'] = data['yyyymm']\n",
    "start_round = 0\n",
    "starting = pd.to_datetime(\"20000101\", format=\"%Y%m%d\")\n",
    "counter = start_round\n",
    "\n",
    "print(\"Starting expanding window prediction (OLS with reduced features)...\")\n",
    "\n",
    "# Determine total number of rounds\n",
    "end_date = pd.to_datetime(\"20240101\", format=\"%Y%m%d\")\n",
    "total_rounds = 0\n",
    "temp_start = starting\n",
    "while (temp_start + pd.DateOffset(years=11 + total_rounds)) <= end_date:\n",
    "    total_rounds += 1\n",
    "\n",
    "pbar = tqdm(total=total_rounds - start_round, desc=\"OLS Rounds\")\n",
    "\n",
    "while (counter < total_rounds):\n",
    "    round_start_time = time.time()\n",
    "\n",
    "    cutoff = [\n",
    "        starting,\n",
    "        starting + pd.DateOffset(years=8 + counter),\n",
    "        starting + pd.DateOffset(years=10 + counter),\n",
    "        starting + pd.DateOffset(years=11 + counter),\n",
    "    ]\n",
    "\n",
    "    print(f\"\\n=== Round {counter + 1}: {cutoff[0].strftime('%Y-%m')} to {cutoff[3].strftime('%Y-%m')} ===\")\n",
    "\n",
    "    train = data[(data[\"date\"] >= cutoff[0]) & (data[\"date\"] < cutoff[1])]\n",
    "    validate = data[(data[\"date\"] >= cutoff[1]) & (data[\"date\"] < cutoff[2])]\n",
    "    test = data[(data[\"date\"] >= cutoff[2]) & (data[\"date\"] < cutoff[3])]\n",
    "\n",
    "    print(f\"Train size: {train.shape}, Val size: {validate.shape}, Test size: {test.shape}\")\n",
    "\n",
    "    if test.empty or train.empty or validate.empty:\n",
    "        print(f\"Skipping round {counter + 1} due to empty set.\")\n",
    "        counter += 1\n",
    "        pbar.update(1)\n",
    "        continue\n",
    "\n",
    "    print(\"Standardizing reduced features (chunked)...\")\n",
    "    train, validate, test = chunk_standardize(train, validate, test, reduced_feature_list, chunk_size=100)\n",
    "    print(\"Standardization complete.\")\n",
    "\n",
    "    X_train = train[reduced_feature_list].values\n",
    "    Y_train = train['stock_exret'].values\n",
    "    X_test = test[reduced_feature_list].values\n",
    "    Y_test = test['stock_exret'].values\n",
    "\n",
    "    Y_mean = np.mean(Y_train)\n",
    "    Y_train_dm = Y_train - Y_mean\n",
    "\n",
    "    reg_pred = test[[\"permno\", \"yyyymm\", \"stock_exret\"]].copy()\n",
    "\n",
    "    print(\"Training OLS...\")\n",
    "    reg = LinearRegression(fit_intercept=False)\n",
    "    reg.fit(X_train, Y_train_dm)\n",
    "    reg_pred[\"ols\"] = reg.predict(X_test) + Y_mean\n",
    "\n",
    "    r2_ols = 1 - np.sum((reg_pred[\"ols\"] - Y_test) ** 2) / np.sum((Y_test - Y_test.mean()) ** 2)\n",
    "\n",
    "    # Save prediction and r2 per round\n",
    "    reg_pred.to_csv(\"../results/ols_predictions_reduced.csv\", mode=\"a\", header=(counter==start_round), index=False)\n",
    "    pd.DataFrame([{\n",
    "        \"round\": counter + 1,\n",
    "        \"start_date\": cutoff[0],\n",
    "        \"end_date\": cutoff[3],\n",
    "        \"r2_ols\": r2_ols\n",
    "    }]).to_csv(\"../results/ols_r2_reduced.csv\", mode=\"a\", header=(counter==start_round), index=False)\n",
    "\n",
    "    print(f\"Round {counter + 1} completed. R²: {r2_ols:.4f}, Time: {round(time.time() - round_start_time, 2)}s\")\n",
    "    counter += 1\n",
    "    pbar.update(1)\n",
    "\n",
    "print(\"OLS (Reduced) prediction complete.\")"
   ]
  },
  {
   "cell_type": "markdown",
   "id": "2e55a371-837f-43dc-a409-dc6221271c1f",
   "metadata": {},
   "source": [
    "## XGBoost Reduced Feature"
   ]
  },
  {
   "cell_type": "code",
   "execution_count": 17,
   "id": "0587133b-25d3-4042-8f29-d698f258378f",
   "metadata": {},
   "outputs": [
    {
     "name": "stdout",
     "output_type": "stream",
     "text": [
      "Starting expanding window prediction (XGBoost with reduced features)...\n"
     ]
    },
    {
     "name": "stderr",
     "output_type": "stream",
     "text": [
      "\n",
      "XGBoost Rounds:  14%|█████████▌                                                         | 2/14 [01:49<10:58, 54.87s/it]"
     ]
    },
    {
     "name": "stdout",
     "output_type": "stream",
     "text": [
      "\n",
      "=== Round 1: 2000-01 to 2011-01 ===\n"
     ]
    },
    {
     "name": "stderr",
     "output_type": "stream",
     "text": [
      "\n"
     ]
    },
    {
     "name": "stdout",
     "output_type": "stream",
     "text": [
      "Train size: (93496, 1339), Val size: (20897, 1339), Test size: (10563, 1339)\n",
      "Training XGBoost...\n"
     ]
    },
    {
     "name": "stderr",
     "output_type": "stream",
     "text": [
      "\n",
      "\u001b[Aoost Rounds:   7%|████▊                                                              | 1/14 [00:21<04:36, 21.27s/it]"
     ]
    },
    {
     "name": "stdout",
     "output_type": "stream",
     "text": [
      "Round 1 completed. R²: -0.0626, Time: 21.26s\n",
      "\n",
      "=== Round 2: 2000-01 to 2012-01 ===\n",
      "Train size: (103876, 1339), Val size: (21080, 1339), Test size: (10458, 1339)\n",
      "Training XGBoost...\n"
     ]
    },
    {
     "name": "stderr",
     "output_type": "stream",
     "text": [
      "\n",
      "\u001b[Aoost Rounds:  14%|█████████▌                                                         | 2/14 [00:42<04:16, 21.39s/it]"
     ]
    },
    {
     "name": "stdout",
     "output_type": "stream",
     "text": [
      "Round 2 completed. R²: -0.0455, Time: 21.48s\n",
      "\n",
      "=== Round 3: 2000-01 to 2013-01 ===\n",
      "Train size: (114393, 1339), Val size: (21021, 1339), Test size: (10556, 1339)\n",
      "Training XGBoost...\n"
     ]
    },
    {
     "name": "stderr",
     "output_type": "stream",
     "text": [
      "\n",
      "\u001b[Aoost Rounds:  21%|██████████████▎                                                    | 3/14 [01:10<04:28, 24.42s/it]"
     ]
    },
    {
     "name": "stdout",
     "output_type": "stream",
     "text": [
      "Round 3 completed. R²: -0.1194, Time: 28.01s\n",
      "\n",
      "=== Round 4: 2000-01 to 2014-01 ===\n",
      "Train size: (124956, 1339), Val size: (21014, 1339), Test size: (10617, 1339)\n",
      "Training XGBoost...\n"
     ]
    },
    {
     "name": "stderr",
     "output_type": "stream",
     "text": [
      "\n",
      "\u001b[Aoost Rounds:  29%|███████████████████▏                                               | 4/14 [01:35<04:05, 24.59s/it]"
     ]
    },
    {
     "name": "stdout",
     "output_type": "stream",
     "text": [
      "Round 4 completed. R²: -0.1458, Time: 24.85s\n",
      "\n",
      "=== Round 5: 2000-01 to 2015-01 ===\n",
      "Train size: (135414, 1339), Val size: (21173, 1339), Test size: (10974, 1339)\n",
      "Training XGBoost...\n"
     ]
    },
    {
     "name": "stderr",
     "output_type": "stream",
     "text": [
      "\n",
      "\u001b[Aoost Rounds:  36%|███████████████████████▉                                           | 5/14 [02:04<03:55, 26.12s/it]"
     ]
    },
    {
     "name": "stdout",
     "output_type": "stream",
     "text": [
      "Round 5 completed. R²: -0.0908, Time: 28.84s\n",
      "\n",
      "=== Round 6: 2000-01 to 2016-01 ===\n",
      "Train size: (145970, 1339), Val size: (21591, 1339), Test size: (11459, 1339)\n",
      "Training XGBoost...\n"
     ]
    },
    {
     "name": "stderr",
     "output_type": "stream",
     "text": [
      "\n",
      "\u001b[Aoost Rounds:  43%|████████████████████████████▋                                      | 6/14 [02:35<03:43, 27.91s/it]"
     ]
    },
    {
     "name": "stdout",
     "output_type": "stream",
     "text": [
      "Round 6 completed. R²: -0.0720, Time: 31.35s\n",
      "\n",
      "=== Round 7: 2000-01 to 2017-01 ===\n",
      "Train size: (156587, 1339), Val size: (22433, 1339), Test size: (11273, 1339)\n",
      "Training XGBoost...\n"
     ]
    },
    {
     "name": "stderr",
     "output_type": "stream",
     "text": [
      "\n",
      "\u001b[Aoost Rounds:  50%|█████████████████████████████████▌                                 | 7/14 [03:13<03:38, 31.25s/it]"
     ]
    },
    {
     "name": "stdout",
     "output_type": "stream",
     "text": [
      "Round 7 completed. R²: -0.0023, Time: 38.14s\n",
      "\n",
      "=== Round 8: 2000-01 to 2018-01 ===\n",
      "Train size: (167561, 1339), Val size: (22732, 1339), Test size: (11054, 1339)\n",
      "Training XGBoost...\n"
     ]
    },
    {
     "name": "stderr",
     "output_type": "stream",
     "text": [
      "\n",
      "\u001b[Aoost Rounds:  57%|██████████████████████████████████████▎                            | 8/14 [03:50<03:18, 33.01s/it]"
     ]
    },
    {
     "name": "stdout",
     "output_type": "stream",
     "text": [
      "Round 8 completed. R²: -0.1405, Time: 36.78s\n",
      "\n",
      "=== Round 9: 2000-01 to 2019-01 ===\n",
      "Train size: (179020, 1339), Val size: (22327, 1339), Test size: (11061, 1339)\n",
      "Training XGBoost...\n"
     ]
    },
    {
     "name": "stderr",
     "output_type": "stream",
     "text": [
      "\n",
      "\u001b[Aoost Rounds:  64%|███████████████████████████████████████████                        | 9/14 [04:31<02:57, 35.58s/it]"
     ]
    },
    {
     "name": "stdout",
     "output_type": "stream",
     "text": [
      "Round 9 completed. R²: -0.0657, Time: 41.23s\n",
      "\n",
      "=== Round 10: 2000-01 to 2020-01 ===\n",
      "Train size: (190293, 1339), Val size: (22115, 1339), Test size: (11207, 1339)\n",
      "Training XGBoost...\n"
     ]
    },
    {
     "name": "stderr",
     "output_type": "stream",
     "text": [
      "\n",
      "\u001b[Aoost Rounds:  71%|███████████████████████████████████████████████▏                  | 10/14 [05:17<02:34, 38.58s/it]"
     ]
    },
    {
     "name": "stdout",
     "output_type": "stream",
     "text": [
      "Round 10 completed. R²: -0.1127, Time: 45.29s\n",
      "\n",
      "=== Round 11: 2000-01 to 2021-01 ===\n",
      "Train size: (201347, 1339), Val size: (22268, 1339), Test size: (11729, 1339)\n",
      "Training XGBoost...\n"
     ]
    },
    {
     "name": "stderr",
     "output_type": "stream",
     "text": [
      "\n",
      "\u001b[Aoost Rounds:  79%|███████████████████████████████████████████████████▊              | 11/14 [06:11<02:09, 43.23s/it]"
     ]
    },
    {
     "name": "stdout",
     "output_type": "stream",
     "text": [
      "Round 11 completed. R²: -0.0208, Time: 53.76s\n",
      "\n",
      "=== Round 12: 2000-01 to 2022-01 ===\n",
      "Train size: (212408, 1339), Val size: (22936, 1339), Test size: (12510, 1339)\n",
      "Training XGBoost...\n"
     ]
    },
    {
     "name": "stderr",
     "output_type": "stream",
     "text": [
      "\n",
      "\u001b[Aoost Rounds:  86%|████████████████████████████████████████████████████████▌         | 12/14 [07:03<01:32, 46.04s/it]"
     ]
    },
    {
     "name": "stdout",
     "output_type": "stream",
     "text": [
      "Round 12 completed. R²: -0.0519, Time: 52.46s\n",
      "\n",
      "=== Round 13: 2000-01 to 2023-01 ===\n",
      "Train size: (223615, 1339), Val size: (24239, 1339), Test size: (13192, 1339)\n",
      "Training XGBoost...\n"
     ]
    },
    {
     "name": "stderr",
     "output_type": "stream",
     "text": [
      "\n",
      "\u001b[Aoost Rounds:  93%|█████████████████████████████████████████████████████████████▎    | 13/14 [08:08<00:51, 51.66s/it]"
     ]
    },
    {
     "name": "stdout",
     "output_type": "stream",
     "text": [
      "Round 13 completed. R²: -0.0454, Time: 64.58s\n",
      "\n",
      "=== Round 14: 2000-01 to 2024-01 ===\n",
      "Train size: (235344, 1339), Val size: (25702, 1339), Test size: (12327, 1339)\n",
      "Training XGBoost...\n"
     ]
    },
    {
     "name": "stderr",
     "output_type": "stream",
     "text": [
      "\n",
      "\u001b[Aoost Rounds: 100%|██████████████████████████████████████████████████████████████████| 14/14 [09:07<00:00, 54.01s/it]"
     ]
    },
    {
     "name": "stdout",
     "output_type": "stream",
     "text": [
      "Round 14 completed. R²: -0.0814, Time: 59.43s\n",
      "XGBoost (Reduced) prediction complete.\n"
     ]
    }
   ],
   "source": [
    "# === Step 4: Expanding window XGBoost (Reduced) ===\n",
    "data['date'] = data['yyyymm']\n",
    "start_round = 0\n",
    "starting = pd.to_datetime(\"20000101\", format=\"%Y%m%d\")\n",
    "counter = start_round\n",
    "\n",
    "print(\"Starting expanding window prediction (XGBoost with reduced features)...\")\n",
    "\n",
    "# Determine total number of rounds\n",
    "end_date = pd.to_datetime(\"20240101\", format=\"%Y%m%d\")\n",
    "total_rounds = 0\n",
    "temp_start = starting\n",
    "while (temp_start + pd.DateOffset(years=11 + total_rounds)) <= end_date:\n",
    "    total_rounds += 1\n",
    "\n",
    "pbar = tqdm(total=total_rounds - start_round, desc=\"XGBoost Rounds\")\n",
    "\n",
    "while (counter < total_rounds):\n",
    "    round_start_time = time.time()\n",
    "\n",
    "    cutoff = [\n",
    "        starting,\n",
    "        starting + pd.DateOffset(years=8 + counter),\n",
    "        starting + pd.DateOffset(years=10 + counter),\n",
    "        starting + pd.DateOffset(years=11 + counter),\n",
    "    ]\n",
    "\n",
    "    print(f\"\\n=== Round {counter + 1}: {cutoff[0].strftime('%Y-%m')} to {cutoff[3].strftime('%Y-%m')} ===\")\n",
    "\n",
    "    train = data[(data[\"date\"] >= cutoff[0]) & (data[\"date\"] < cutoff[1])]\n",
    "    validate = data[(data[\"date\"] >= cutoff[1]) & (data[\"date\"] < cutoff[2])]\n",
    "    test = data[(data[\"date\"] >= cutoff[2]) & (data[\"date\"] < cutoff[3])]\n",
    "\n",
    "    print(f\"Train size: {train.shape}, Val size: {validate.shape}, Test size: {test.shape}\")\n",
    "\n",
    "    if test.empty or train.empty or validate.empty:\n",
    "        print(f\"Skipping round {counter + 1} due to empty set.\")\n",
    "        counter += 1\n",
    "        pbar.update(1)\n",
    "        continue\n",
    "\n",
    "    X_train = train[reduced_feature_list].values\n",
    "    Y_train = train['stock_exret'].values\n",
    "    X_val = validate[reduced_feature_list].values\n",
    "    Y_val = validate['stock_exret'].values\n",
    "    X_test = test[reduced_feature_list].values\n",
    "    Y_test = test['stock_exret'].values\n",
    "\n",
    "    Y_mean = np.mean(Y_train)\n",
    "    Y_train_dm = Y_train - Y_mean\n",
    "\n",
    "    reg_pred = test[[\"permno\", \"yyyymm\", \"stock_exret\"]].copy()\n",
    "\n",
    "    print(\"Training XGBoost...\")\n",
    "    model = xgb.XGBRegressor(\n",
    "        objective='reg:squarederror',\n",
    "        n_estimators=1000,\n",
    "        learning_rate=0.05,\n",
    "        max_depth=4,\n",
    "        subsample=0.8,\n",
    "        colsample_bytree=0.8,\n",
    "        random_state=42\n",
    "    )\n",
    "    model.fit(X_train, Y_train_dm)\n",
    "\n",
    "    reg_pred[\"xgb\"] = model.predict(X_test) + Y_mean\n",
    "\n",
    "    r2_xgb = 1 - np.sum((reg_pred[\"xgb\"] - Y_test) ** 2) / np.sum((Y_test - Y_test.mean()) ** 2)\n",
    "\n",
    "    # Save prediction and r2 per round\n",
    "    reg_pred.to_csv(\"../results/xgb_predictions_reduced.csv\", mode=\"a\", header=(counter==start_round), index=False)\n",
    "    pd.DataFrame([{\n",
    "        \"round\": counter + 1,\n",
    "        \"start_date\": cutoff[0],\n",
    "        \"end_date\": cutoff[3],\n",
    "        \"r2_xgb\": r2_xgb\n",
    "    }]).to_csv(\"../results/xgb_r2_reduced.csv\", mode=\"a\", header=(counter==start_round), index=False)\n",
    "\n",
    "    print(f\"Round {counter + 1} completed. R²: {r2_xgb:.4f}, Time: {round(time.time() - round_start_time, 2)}s\")\n",
    "    counter += 1\n",
    "    pbar.update(1)\n",
    "\n",
    "print(\"XGBoost (Reduced) prediction complete.\")"
   ]
  },
  {
   "cell_type": "markdown",
   "id": "527f9dff-9930-4172-99ed-3a8cf611c9e3",
   "metadata": {},
   "source": [
    "## Elastic Net Reduced Feature"
   ]
  },
  {
   "cell_type": "code",
   "execution_count": 19,
   "id": "3c023b13-d64b-44df-9d68-e120677eb43c",
   "metadata": {},
   "outputs": [
    {
     "name": "stdout",
     "output_type": "stream",
     "text": [
      "Starting expanding window prediction (ElasticNet simplified)...\n"
     ]
    },
    {
     "name": "stderr",
     "output_type": "stream",
     "text": [
      "\n",
      "ElasticNet Rounds:   7%|████▎                                                       | 1/14 [17:52<3:52:27, 1072.91s/it]"
     ]
    },
    {
     "name": "stdout",
     "output_type": "stream",
     "text": [
      "\n",
      "=== Round 1: 2000-01 to 2011-01 ===\n"
     ]
    },
    {
     "name": "stderr",
     "output_type": "stream",
     "text": [
      "\n"
     ]
    },
    {
     "name": "stdout",
     "output_type": "stream",
     "text": [
      "Train size: (93496, 1339), Val size: (20897, 1339), Test size: (10563, 1339)\n",
      "Standardizing features (chunked)...\n",
      "Standardization complete.\n",
      "Tuning ElasticNet (alpha only)...\n"
     ]
    },
    {
     "name": "stderr",
     "output_type": "stream",
     "text": [
      "\n",
      "\u001b[AsticNet Rounds:   7%|████▎                                                        | 1/14 [15:20<3:19:27, 920.58s/it]"
     ]
    },
    {
     "name": "stdout",
     "output_type": "stream",
     "text": [
      "Round 1 completed. R²: -0.0327, Time: 920.57s\n",
      "\n",
      "=== Round 2: 2000-01 to 2012-01 ===\n",
      "Train size: (103876, 1339), Val size: (21080, 1339), Test size: (10458, 1339)\n",
      "Standardizing features (chunked)...\n",
      "Standardization complete.\n",
      "Tuning ElasticNet (alpha only)...\n"
     ]
    },
    {
     "name": "stderr",
     "output_type": "stream",
     "text": [
      "\n",
      "\u001b[AsticNet Rounds:  14%|████████▋                                                    | 2/14 [30:44<3:04:27, 922.33s/it]"
     ]
    },
    {
     "name": "stdout",
     "output_type": "stream",
     "text": [
      "Round 2 completed. R²: -0.0002, Time: 923.55s\n",
      "\n",
      "=== Round 3: 2000-01 to 2013-01 ===\n",
      "Train size: (114393, 1339), Val size: (21021, 1339), Test size: (10556, 1339)\n",
      "Standardizing features (chunked)...\n",
      "Standardization complete.\n",
      "Tuning ElasticNet (alpha only)...\n"
     ]
    },
    {
     "name": "stderr",
     "output_type": "stream",
     "text": [
      "\n",
      "\u001b[AsticNet Rounds:  21%|█████████████                                                | 3/14 [47:52<2:57:58, 970.73s/it]"
     ]
    },
    {
     "name": "stdout",
     "output_type": "stream",
     "text": [
      "Round 3 completed. R²: -0.0198, Time: 1028.31s\n",
      "\n",
      "=== Round 4: 2000-01 to 2014-01 ===\n",
      "Train size: (124956, 1339), Val size: (21014, 1339), Test size: (10617, 1339)\n",
      "Standardizing features (chunked)...\n",
      "Standardization complete.\n",
      "Tuning ElasticNet (alpha only)...\n"
     ]
    },
    {
     "name": "stderr",
     "output_type": "stream",
     "text": [
      "\n",
      "\u001b[AsticNet Rounds:  29%|████████████████▊                                          | 4/14 [1:03:42<2:40:26, 962.69s/it]"
     ]
    },
    {
     "name": "stdout",
     "output_type": "stream",
     "text": [
      "Round 4 completed. R²: -0.1136, Time: 950.35s\n",
      "\n",
      "=== Round 5: 2000-01 to 2015-01 ===\n",
      "Train size: (135414, 1339), Val size: (21173, 1339), Test size: (10974, 1339)\n",
      "Standardizing features (chunked)...\n",
      "Standardization complete.\n",
      "Tuning ElasticNet (alpha only)...\n"
     ]
    },
    {
     "name": "stderr",
     "output_type": "stream",
     "text": [
      "\n",
      "\u001b[AsticNet Rounds:  36%|█████████████████████                                      | 5/14 [1:20:19<2:26:14, 974.95s/it]"
     ]
    },
    {
     "name": "stdout",
     "output_type": "stream",
     "text": [
      "Round 5 completed. R²: -0.0052, Time: 996.69s\n",
      "\n",
      "=== Round 6: 2000-01 to 2016-01 ===\n",
      "Train size: (145970, 1339), Val size: (21591, 1339), Test size: (11459, 1339)\n",
      "Standardizing features (chunked)...\n",
      "Standardization complete.\n",
      "Tuning ElasticNet (alpha only)...\n"
     ]
    },
    {
     "name": "stderr",
     "output_type": "stream",
     "text": [
      "\n",
      "\u001b[AsticNet Rounds:  43%|█████████████████████████▎                                 | 6/14 [1:36:37<2:10:08, 976.04s/it]"
     ]
    },
    {
     "name": "stdout",
     "output_type": "stream",
     "text": [
      "Round 6 completed. R²: -0.0057, Time: 978.16s\n",
      "\n",
      "=== Round 7: 2000-01 to 2017-01 ===\n",
      "Train size: (156587, 1339), Val size: (22433, 1339), Test size: (11273, 1339)\n",
      "Standardizing features (chunked)...\n",
      "Standardization complete.\n",
      "Tuning ElasticNet (alpha only)...\n"
     ]
    },
    {
     "name": "stderr",
     "output_type": "stream",
     "text": [
      "\n",
      "\u001b[AsticNet Rounds:  50%|█████████████████████████████▌                             | 7/14 [1:52:39<1:53:19, 971.29s/it]"
     ]
    },
    {
     "name": "stdout",
     "output_type": "stream",
     "text": [
      "Round 7 completed. R²: -0.0054, Time: 961.5s\n",
      "\n",
      "=== Round 8: 2000-01 to 2018-01 ===\n",
      "Train size: (167561, 1339), Val size: (22732, 1339), Test size: (11054, 1339)\n",
      "Standardizing features (chunked)...\n",
      "Standardization complete.\n",
      "Tuning ElasticNet (alpha only)...\n"
     ]
    },
    {
     "name": "stderr",
     "output_type": "stream",
     "text": [
      "\n",
      "\u001b[AsticNet Rounds:  57%|█████████████████████████████████▋                         | 8/14 [2:10:18<1:39:55, 999.19s/it]"
     ]
    },
    {
     "name": "stdout",
     "output_type": "stream",
     "text": [
      "Round 8 completed. R²: -0.0164, Time: 1058.9s\n",
      "\n",
      "=== Round 9: 2000-01 to 2019-01 ===\n",
      "Train size: (179020, 1339), Val size: (22327, 1339), Test size: (11061, 1339)\n",
      "Standardizing features (chunked)...\n",
      "Standardization complete.\n",
      "Tuning ElasticNet (alpha only)...\n"
     ]
    },
    {
     "name": "stderr",
     "output_type": "stream",
     "text": [
      "\n",
      "\u001b[AsticNet Rounds:  64%|█████████████████████████████████████▎                    | 9/14 [2:29:27<1:27:10, 1046.09s/it]"
     ]
    },
    {
     "name": "stdout",
     "output_type": "stream",
     "text": [
      "Round 9 completed. R²: -0.0277, Time: 1149.21s\n",
      "\n",
      "=== Round 10: 2000-01 to 2020-01 ===\n",
      "Train size: (190293, 1339), Val size: (22115, 1339), Test size: (11207, 1339)\n",
      "Standardizing features (chunked)...\n",
      "Standardization complete.\n",
      "Tuning ElasticNet (alpha only)...\n"
     ]
    },
    {
     "name": "stderr",
     "output_type": "stream",
     "text": [
      "\n",
      "\u001b[AsticNet Rounds:  71%|████████████████████████████████████████▋                | 10/14 [2:46:14<1:08:55, 1033.99s/it]"
     ]
    },
    {
     "name": "stdout",
     "output_type": "stream",
     "text": [
      "Round 10 completed. R²: -0.0293, Time: 1006.9s\n",
      "\n",
      "=== Round 11: 2000-01 to 2021-01 ===\n",
      "Train size: (201347, 1339), Val size: (22268, 1339), Test size: (11729, 1339)\n",
      "Standardizing features (chunked)...\n",
      "Standardization complete.\n",
      "Tuning ElasticNet (alpha only)...\n"
     ]
    },
    {
     "name": "stderr",
     "output_type": "stream",
     "text": [
      "\n",
      "\u001b[AsticNet Rounds:  79%|██████████████████████████████████████████████▎            | 11/14 [3:06:08<54:08, 1082.90s/it]"
     ]
    },
    {
     "name": "stdout",
     "output_type": "stream",
     "text": [
      "Round 11 completed. R²: -0.0104, Time: 1193.79s\n",
      "\n",
      "=== Round 12: 2000-01 to 2022-01 ===\n",
      "Train size: (212408, 1339), Val size: (22936, 1339), Test size: (12510, 1339)\n",
      "Standardizing features (chunked)...\n",
      "Standardization complete.\n",
      "Tuning ElasticNet (alpha only)...\n"
     ]
    },
    {
     "name": "stderr",
     "output_type": "stream",
     "text": [
      "\n",
      "\u001b[AsticNet Rounds:  86%|██████████████████████████████████████████████████▌        | 12/14 [3:27:32<38:08, 1144.34s/it]"
     ]
    },
    {
     "name": "stdout",
     "output_type": "stream",
     "text": [
      "Round 12 completed. R²: -0.0076, Time: 1284.86s\n",
      "\n",
      "=== Round 13: 2000-01 to 2023-01 ===\n",
      "Train size: (223615, 1339), Val size: (24239, 1339), Test size: (13192, 1339)\n",
      "Standardizing features (chunked)...\n",
      "Standardization complete.\n",
      "Tuning ElasticNet (alpha only)...\n"
     ]
    },
    {
     "name": "stderr",
     "output_type": "stream",
     "text": [
      "\n",
      "\u001b[AsticNet Rounds:  93%|██████████████████████████████████████████████████████▊    | 13/14 [3:53:59<21:18, 1278.45s/it]"
     ]
    },
    {
     "name": "stdout",
     "output_type": "stream",
     "text": [
      "Round 13 completed. R²: -0.0256, Time: 1587.01s\n",
      "\n",
      "=== Round 14: 2000-01 to 2024-01 ===\n",
      "Train size: (235344, 1339), Val size: (25702, 1339), Test size: (12327, 1339)\n",
      "Standardizing features (chunked)...\n",
      "Standardization complete.\n",
      "Tuning ElasticNet (alpha only)...\n"
     ]
    },
    {
     "name": "stderr",
     "output_type": "stream",
     "text": [
      "\n",
      "\u001b[AsticNet Rounds: 100%|███████████████████████████████████████████████████████████| 14/14 [4:22:40<00:00, 1411.85s/it]"
     ]
    },
    {
     "name": "stdout",
     "output_type": "stream",
     "text": [
      "Round 14 completed. R²: -0.0092, Time: 1720.09s\n",
      "ElasticNet simplified prediction complete.\n"
     ]
    }
   ],
   "source": [
    "from sklearn.linear_model import ElasticNet\n",
    "from sklearn.metrics import mean_squared_error\n",
    "import numpy as np\n",
    "import pandas as pd\n",
    "from tqdm import tqdm\n",
    "import time\n",
    "\n",
    "# === Load 131 reduced features ===\n",
    "reduced_features = pd.read_csv(\"../results/lasso_top_features.csv\")\n",
    "reduced_feature_list = reduced_features.iloc[:, 0].tolist()\n",
    "\n",
    "data['date'] = data['yyyymm']\n",
    "starting = pd.to_datetime(\"20000101\", format=\"%Y%m%d\")\n",
    "start_round = 0\n",
    "counter = start_round\n",
    "\n",
    "print(\"Starting expanding window prediction (ElasticNet simplified)...\")\n",
    "\n",
    "# Determine total number of rounds\n",
    "end_date = pd.to_datetime(\"20240101\", format=\"%Y%m%d\")\n",
    "total_rounds = 0\n",
    "temp_start = starting\n",
    "while (temp_start + pd.DateOffset(years=11 + total_rounds)) <= end_date:\n",
    "    total_rounds += 1\n",
    "\n",
    "pbar = tqdm(total=total_rounds - start_round, desc=\"ElasticNet Rounds\")\n",
    "\n",
    "while (counter < total_rounds):\n",
    "    round_start_time = time.time()\n",
    "\n",
    "    cutoff = [\n",
    "        starting,\n",
    "        starting + pd.DateOffset(years=8 + counter),\n",
    "        starting + pd.DateOffset(years=10 + counter),\n",
    "        starting + pd.DateOffset(years=11 + counter),\n",
    "    ]\n",
    "\n",
    "    print(f\"\\n=== Round {counter + 1}: {cutoff[0].strftime('%Y-%m')} to {cutoff[3].strftime('%Y-%m')} ===\")\n",
    "\n",
    "    train = data[(data[\"date\"] >= cutoff[0]) & (data[\"date\"] < cutoff[1])]\n",
    "    validate = data[(data[\"date\"] >= cutoff[1]) & (data[\"date\"] < cutoff[2])]\n",
    "    test = data[(data[\"date\"] >= cutoff[2]) & (data[\"date\"] < cutoff[3])]\n",
    "\n",
    "    print(f\"Train size: {train.shape}, Val size: {validate.shape}, Test size: {test.shape}\")\n",
    "\n",
    "    if test.empty or train.empty or validate.empty:\n",
    "        print(f\"Skipping round {counter + 1} due to empty set.\")\n",
    "        counter += 1\n",
    "        pbar.update(1)\n",
    "        continue\n",
    "\n",
    "    print(\"Standardizing features (chunked)...\")\n",
    "    train, validate, test = chunk_standardize(train, validate, test, reduced_feature_list, chunk_size=100)\n",
    "    print(\"Standardization complete.\")\n",
    "\n",
    "    X_train = train[reduced_feature_list].values\n",
    "    Y_train = train['stock_exret'].values\n",
    "    X_val = validate[reduced_feature_list].values\n",
    "    Y_val = validate['stock_exret'].values\n",
    "    X_test = test[reduced_feature_list].values\n",
    "    Y_test = test['stock_exret'].values\n",
    "\n",
    "    Y_mean = np.mean(Y_train)\n",
    "    Y_train_dm = Y_train - Y_mean\n",
    "\n",
    "    reg_pred = test[[\"permno\", \"yyyymm\", \"stock_exret\"]].copy()\n",
    "\n",
    "    print(\"Tuning ElasticNet (alpha only)...\")\n",
    "    lambdas = np.arange(-4, 4.1, 0.1)\n",
    "    val_mse = np.zeros(len(lambdas))\n",
    "    for ind, i in enumerate(lambdas):\n",
    "        reg = ElasticNet(alpha=(10**i), l1_ratio=0.5, max_iter=1000000, fit_intercept=False)\n",
    "        reg.fit(X_train, Y_train_dm)\n",
    "        val_mse[ind] = mean_squared_error(Y_val, reg.predict(X_val) + Y_mean)\n",
    "\n",
    "    best_lambda = lambdas[np.argmin(val_mse)]\n",
    "    reg = ElasticNet(alpha=(10**best_lambda), l1_ratio=0.5, max_iter=1000000, fit_intercept=False)\n",
    "    reg.fit(X_train, Y_train_dm)\n",
    "    reg_pred[\"enet_simple\"] = reg.predict(X_test) + Y_mean\n",
    "\n",
    "    r2_enet = 1 - np.sum((reg_pred[\"enet_simple\"] - Y_test) ** 2) / np.sum((Y_test - Y_test.mean()) ** 2)\n",
    "\n",
    "    # Save predictions and R2\n",
    "    reg_pred.to_csv(\"../results/enet_predictions_reduced_simple.csv\", mode=\"a\", header=(counter==start_round), index=False)\n",
    "    pd.DataFrame([{\n",
    "        \"round\": counter + 1,\n",
    "        \"start_date\": cutoff[0],\n",
    "        \"end_date\": cutoff[3],\n",
    "        \"r2_enet_simple\": r2_enet\n",
    "    }]).to_csv(\"../results/enet_r2_reduced_simple.csv\", mode=\"a\", header=(counter==start_round), index=False)\n",
    "\n",
    "    print(f\"Round {counter + 1} completed. R²: {r2_enet:.4f}, Time: {round(time.time() - round_start_time, 2)}s\")\n",
    "    counter += 1\n",
    "    pbar.update(1)\n",
    "\n",
    "print(\"ElasticNet simplified prediction complete.\")"
   ]
  },
  {
   "cell_type": "markdown",
   "id": "8e1ac76d-b038-497c-8f4f-a24e747f414e",
   "metadata": {},
   "source": [
    "## Ridge"
   ]
  },
  {
   "cell_type": "code",
   "execution_count": 10,
   "id": "df2c1b07-9b82-46a9-966d-129e798cba53",
   "metadata": {},
   "outputs": [
    {
     "name": "stdout",
     "output_type": "stream",
     "text": [
      "Starting expanding window prediction (Ridge with reduced features)...\n"
     ]
    },
    {
     "name": "stderr",
     "output_type": "stream",
     "text": [
      "\n",
      "Ridge Rounds:   0%|                                                                             | 0/14 [01:28<?, ?it/s]"
     ]
    },
    {
     "name": "stdout",
     "output_type": "stream",
     "text": [
      "\n",
      "=== Round 1: 2000-01 to 2011-01 ===\n"
     ]
    },
    {
     "name": "stderr",
     "output_type": "stream",
     "text": [
      "\n"
     ]
    },
    {
     "name": "stdout",
     "output_type": "stream",
     "text": [
      "Train size: (93496, 1339), Val size: (20897, 1339), Test size: (10563, 1339)\n",
      "Standardizing reduced features (chunked)...\n",
      "Standardization complete.\n",
      "Tuning Ridge alpha...\n"
     ]
    },
    {
     "name": "stderr",
     "output_type": "stream",
     "text": [
      "Ridge Alpha Grid: 100%|████████████████████████████████████████████████████████████████| 91/91 [00:14<00:00,  6.38it/s]\n",
      "\n"
     ]
    },
    {
     "name": "stdout",
     "output_type": "stream",
     "text": [
      "Best Ridge alpha: 500000.000000\n",
      "Round 1 completed. R²: -0.0364, Time: 19.07s\n"
     ]
    },
    {
     "name": "stderr",
     "output_type": "stream",
     "text": [
      "\u001b[Age Rounds:   7%|████▉                                                                | 1/14 [00:19<04:07, 19.07s/it]"
     ]
    },
    {
     "name": "stdout",
     "output_type": "stream",
     "text": [
      "\n",
      "=== Round 2: 2000-01 to 2012-01 ===\n",
      "Train size: (103876, 1339), Val size: (21080, 1339), Test size: (10458, 1339)\n",
      "Standardizing reduced features (chunked)...\n",
      "Standardization complete.\n",
      "Tuning Ridge alpha...\n"
     ]
    },
    {
     "name": "stderr",
     "output_type": "stream",
     "text": [
      "Ridge Alpha Grid: 100%|████████████████████████████████████████████████████████████████| 91/91 [00:13<00:00,  6.86it/s]\n",
      "\n"
     ]
    },
    {
     "name": "stdout",
     "output_type": "stream",
     "text": [
      "Best Ridge alpha: 50000000.000000\n",
      "Round 2 completed. R²: -0.0004, Time: 19.11s\n"
     ]
    },
    {
     "name": "stderr",
     "output_type": "stream",
     "text": [
      "\u001b[Age Rounds:  14%|█████████▊                                                           | 2/14 [00:38<03:49, 19.10s/it]"
     ]
    },
    {
     "name": "stdout",
     "output_type": "stream",
     "text": [
      "\n",
      "=== Round 3: 2000-01 to 2013-01 ===\n",
      "Train size: (114393, 1339), Val size: (21021, 1339), Test size: (10556, 1339)\n",
      "Standardizing reduced features (chunked)...\n",
      "Standardization complete.\n",
      "Tuning Ridge alpha...\n"
     ]
    },
    {
     "name": "stderr",
     "output_type": "stream",
     "text": [
      "Ridge Alpha Grid: 100%|████████████████████████████████████████████████████████████████| 91/91 [00:14<00:00,  6.37it/s]\n",
      "\n"
     ]
    },
    {
     "name": "stdout",
     "output_type": "stream",
     "text": [
      "Best Ridge alpha: 7924465.962306\n",
      "Round 3 completed. R²: -0.0192, Time: 20.22s\n"
     ]
    },
    {
     "name": "stderr",
     "output_type": "stream",
     "text": [
      "\u001b[Age Rounds:  21%|██████████████▊                                                      | 3/14 [00:58<03:35, 19.61s/it]"
     ]
    },
    {
     "name": "stdout",
     "output_type": "stream",
     "text": [
      "\n",
      "=== Round 4: 2000-01 to 2014-01 ===\n",
      "Train size: (124956, 1339), Val size: (21014, 1339), Test size: (10617, 1339)\n",
      "Standardizing reduced features (chunked)...\n",
      "Standardization complete.\n",
      "Tuning Ridge alpha...\n"
     ]
    },
    {
     "name": "stderr",
     "output_type": "stream",
     "text": [
      "Ridge Alpha Grid: 100%|████████████████████████████████████████████████████████████████| 91/91 [00:16<00:00,  5.64it/s]\n"
     ]
    },
    {
     "name": "stdout",
     "output_type": "stream",
     "text": [
      "Best Ridge alpha: 3971641.173621\n"
     ]
    },
    {
     "name": "stderr",
     "output_type": "stream",
     "text": [
      "\n",
      "\u001b[Age Rounds:  29%|███████████████████▋                                                 | 4/14 [01:20<03:26, 20.65s/it]"
     ]
    },
    {
     "name": "stdout",
     "output_type": "stream",
     "text": [
      "Round 4 completed. R²: -0.1129, Time: 22.25s\n",
      "\n",
      "=== Round 5: 2000-01 to 2015-01 ===\n",
      "Train size: (135414, 1339), Val size: (21173, 1339), Test size: (10974, 1339)\n",
      "Standardizing reduced features (chunked)...\n",
      "Standardization complete.\n",
      "Tuning Ridge alpha...\n"
     ]
    },
    {
     "name": "stderr",
     "output_type": "stream",
     "text": [
      "Ridge Alpha Grid: 100%|████████████████████████████████████████████████████████████████| 91/91 [00:18<00:00,  4.83it/s]\n"
     ]
    },
    {
     "name": "stdout",
     "output_type": "stream",
     "text": [
      "Best Ridge alpha: 6294627.058971\n"
     ]
    },
    {
     "name": "stderr",
     "output_type": "stream",
     "text": [
      "\n",
      "\u001b[Age Rounds:  36%|████████████████████████▋                                            | 5/14 [01:50<03:34, 23.82s/it]"
     ]
    },
    {
     "name": "stdout",
     "output_type": "stream",
     "text": [
      "Round 5 completed. R²: -0.0039, Time: 29.45s\n",
      "\n",
      "=== Round 6: 2000-01 to 2016-01 ===\n",
      "Train size: (145970, 1339), Val size: (21591, 1339), Test size: (11459, 1339)\n",
      "Standardizing reduced features (chunked)...\n",
      "Standardization complete.\n",
      "Tuning Ridge alpha...\n"
     ]
    },
    {
     "name": "stderr",
     "output_type": "stream",
     "text": [
      "Ridge Alpha Grid: 100%|████████████████████████████████████████████████████████████████| 91/91 [00:21<00:00,  4.25it/s]\n"
     ]
    },
    {
     "name": "stdout",
     "output_type": "stream",
     "text": [
      "Best Ridge alpha: 3971641.173621\n"
     ]
    },
    {
     "name": "stderr",
     "output_type": "stream",
     "text": [
      "\n",
      "\u001b[Age Rounds:  43%|█████████████████████████████▌                                       | 6/14 [02:21<03:30, 26.30s/it]"
     ]
    },
    {
     "name": "stdout",
     "output_type": "stream",
     "text": [
      "Round 6 completed. R²: -0.0056, Time: 31.1s\n",
      "\n",
      "=== Round 7: 2000-01 to 2017-01 ===\n",
      "Train size: (156587, 1339), Val size: (22433, 1339), Test size: (11273, 1339)\n",
      "Standardizing reduced features (chunked)...\n",
      "Standardization complete.\n",
      "Tuning Ridge alpha...\n"
     ]
    },
    {
     "name": "stderr",
     "output_type": "stream",
     "text": [
      "Ridge Alpha Grid: 100%|████████████████████████████████████████████████████████████████| 91/91 [00:20<00:00,  4.48it/s]\n"
     ]
    },
    {
     "name": "stdout",
     "output_type": "stream",
     "text": [
      "Best Ridge alpha: 9976311.574844\n"
     ]
    },
    {
     "name": "stderr",
     "output_type": "stream",
     "text": [
      "\n",
      "\u001b[Age Rounds:  50%|██████████████████████████████████▌                                  | 7/14 [02:53<03:17, 28.23s/it]"
     ]
    },
    {
     "name": "stdout",
     "output_type": "stream",
     "text": [
      "Round 7 completed. R²: -0.0043, Time: 32.2s\n",
      "\n",
      "=== Round 8: 2000-01 to 2018-01 ===\n",
      "Train size: (167561, 1339), Val size: (22732, 1339), Test size: (11054, 1339)\n",
      "Standardizing reduced features (chunked)...\n",
      "Standardization complete.\n",
      "Tuning Ridge alpha...\n"
     ]
    },
    {
     "name": "stderr",
     "output_type": "stream",
     "text": [
      "Ridge Alpha Grid: 100%|████████████████████████████████████████████████████████████████| 91/91 [00:20<00:00,  4.46it/s]\n"
     ]
    },
    {
     "name": "stdout",
     "output_type": "stream",
     "text": [
      "Best Ridge alpha: 3971641.173621\n"
     ]
    },
    {
     "name": "stderr",
     "output_type": "stream",
     "text": [
      "\n",
      "\u001b[Age Rounds:  57%|███████████████████████████████████████▍                             | 8/14 [03:28<03:02, 30.40s/it]"
     ]
    },
    {
     "name": "stdout",
     "output_type": "stream",
     "text": [
      "Round 8 completed. R²: -0.0165, Time: 35.04s\n",
      "\n",
      "=== Round 9: 2000-01 to 2019-01 ===\n",
      "Train size: (179020, 1339), Val size: (22327, 1339), Test size: (11061, 1339)\n",
      "Standardizing reduced features (chunked)...\n",
      "Standardization complete.\n",
      "Tuning Ridge alpha...\n"
     ]
    },
    {
     "name": "stderr",
     "output_type": "stream",
     "text": [
      "Ridge Alpha Grid: 100%|████████████████████████████████████████████████████████████████| 91/91 [00:24<00:00,  3.73it/s]\n"
     ]
    },
    {
     "name": "stdout",
     "output_type": "stream",
     "text": [
      "Best Ridge alpha: 1990535.852767\n"
     ]
    },
    {
     "name": "stderr",
     "output_type": "stream",
     "text": [
      "\n",
      "\u001b[Age Rounds:  64%|████████████████████████████████████████████▎                        | 9/14 [04:07<02:45, 33.15s/it]"
     ]
    },
    {
     "name": "stdout",
     "output_type": "stream",
     "text": [
      "Round 9 completed. R²: -0.0258, Time: 39.19s\n",
      "\n",
      "=== Round 10: 2000-01 to 2020-01 ===\n",
      "Train size: (190293, 1339), Val size: (22115, 1339), Test size: (11207, 1339)\n",
      "Standardizing reduced features (chunked)...\n",
      "Standardization complete.\n",
      "Tuning Ridge alpha...\n"
     ]
    },
    {
     "name": "stderr",
     "output_type": "stream",
     "text": [
      "Ridge Alpha Grid: 100%|████████████████████████████████████████████████████████████████| 91/91 [00:26<00:00,  3.41it/s]\n"
     ]
    },
    {
     "name": "stdout",
     "output_type": "stream",
     "text": [
      "Best Ridge alpha: 50000000.000000\n"
     ]
    },
    {
     "name": "stderr",
     "output_type": "stream",
     "text": [
      "\n",
      "\u001b[Age Rounds:  71%|████████████████████████████████████████████████▌                   | 10/14 [05:01<02:38, 39.67s/it]"
     ]
    },
    {
     "name": "stdout",
     "output_type": "stream",
     "text": [
      "Round 10 completed. R²: -0.0293, Time: 54.26s\n",
      "\n",
      "=== Round 11: 2000-01 to 2021-01 ===\n",
      "Train size: (201347, 1339), Val size: (22268, 1339), Test size: (11729, 1339)\n",
      "Standardizing reduced features (chunked)...\n",
      "Standardization complete.\n",
      "Tuning Ridge alpha...\n"
     ]
    },
    {
     "name": "stderr",
     "output_type": "stream",
     "text": [
      "Ridge Alpha Grid: 100%|████████████████████████████████████████████████████████████████| 91/91 [00:28<00:00,  3.16it/s]\n"
     ]
    },
    {
     "name": "stdout",
     "output_type": "stream",
     "text": [
      "Best Ridge alpha: 50000000.000000\n"
     ]
    },
    {
     "name": "stderr",
     "output_type": "stream",
     "text": [
      "\n",
      "\u001b[Age Rounds:  79%|█████████████████████████████████████████████████████▍              | 11/14 [05:52<02:09, 43.10s/it]"
     ]
    },
    {
     "name": "stdout",
     "output_type": "stream",
     "text": [
      "Round 11 completed. R²: -0.0107, Time: 50.88s\n",
      "\n",
      "=== Round 12: 2000-01 to 2022-01 ===\n",
      "Train size: (212408, 1339), Val size: (22936, 1339), Test size: (12510, 1339)\n",
      "Standardizing reduced features (chunked)...\n",
      "Standardization complete.\n",
      "Tuning Ridge alpha...\n"
     ]
    },
    {
     "name": "stderr",
     "output_type": "stream",
     "text": [
      "Ridge Alpha Grid: 100%|████████████████████████████████████████████████████████████████| 91/91 [00:33<00:00,  2.70it/s]\n"
     ]
    },
    {
     "name": "stdout",
     "output_type": "stream",
     "text": [
      "Best Ridge alpha: 50000000.000000\n"
     ]
    },
    {
     "name": "stderr",
     "output_type": "stream",
     "text": [
      "\n",
      "\u001b[Age Rounds:  86%|██████████████████████████████████████████████████████████▎         | 12/14 [06:50<01:34, 47.42s/it]"
     ]
    },
    {
     "name": "stdout",
     "output_type": "stream",
     "text": [
      "Round 12 completed. R²: -0.0068, Time: 57.28s\n",
      "\n",
      "=== Round 13: 2000-01 to 2023-01 ===\n",
      "Train size: (223615, 1339), Val size: (24239, 1339), Test size: (13192, 1339)\n",
      "Standardizing reduced features (chunked)...\n",
      "Standardization complete.\n",
      "Tuning Ridge alpha...\n"
     ]
    },
    {
     "name": "stderr",
     "output_type": "stream",
     "text": [
      "Ridge Alpha Grid: 100%|████████████████████████████████████████████████████████████████| 91/91 [00:30<00:00,  2.97it/s]\n"
     ]
    },
    {
     "name": "stdout",
     "output_type": "stream",
     "text": [
      "Best Ridge alpha: 315478.672240\n"
     ]
    },
    {
     "name": "stderr",
     "output_type": "stream",
     "text": [
      "\n",
      "\u001b[Age Rounds:  93%|███████████████████████████████████████████████████████████████▏    | 13/14 [07:52<00:52, 52.02s/it]"
     ]
    },
    {
     "name": "stdout",
     "output_type": "stream",
     "text": [
      "Round 13 completed. R²: -0.0246, Time: 62.62s\n",
      "\n",
      "=== Round 14: 2000-01 to 2024-01 ===\n",
      "Train size: (235344, 1339), Val size: (25702, 1339), Test size: (12327, 1339)\n",
      "Standardizing reduced features (chunked)...\n",
      "Standardization complete.\n",
      "Tuning Ridge alpha...\n"
     ]
    },
    {
     "name": "stderr",
     "output_type": "stream",
     "text": [
      "Ridge Alpha Grid: 100%|████████████████████████████████████████████████████████████████| 91/91 [00:36<00:00,  2.51it/s]\n"
     ]
    },
    {
     "name": "stdout",
     "output_type": "stream",
     "text": [
      "Best Ridge alpha: 500000.000000\n"
     ]
    },
    {
     "name": "stderr",
     "output_type": "stream",
     "text": [
      "\n",
      "\u001b[Age Rounds: 100%|████████████████████████████████████████████████████████████████████| 14/14 [09:04<00:00, 58.10s/it]"
     ]
    },
    {
     "name": "stdout",
     "output_type": "stream",
     "text": [
      "Round 14 completed. R²: -0.0038, Time: 72.14s\n",
      "Ridge (Reduced) prediction complete.\n"
     ]
    }
   ],
   "source": [
    "# === 04_predict_return_ridge_reduced.ipynb ===\n",
    "\n",
    "import pandas as pd\n",
    "import numpy as np\n",
    "from sklearn.linear_model import Ridge\n",
    "from sklearn.metrics import mean_squared_error\n",
    "from sklearn.preprocessing import StandardScaler\n",
    "from tqdm import tqdm\n",
    "import datetime\n",
    "import time\n",
    "\n",
    "# === Load reduced features ===\n",
    "reduced_features = pd.read_csv(\"../results/lasso_top_features.csv\")\n",
    "reduced_feature_list = reduced_features.iloc[:, 0].tolist()\n",
    "\n",
    "# === Chunked Standardization Function ===\n",
    "def chunk_standardize(df_train, df_val, df_test, columns, chunk_size=100):\n",
    "    for i in range(0, len(columns), chunk_size):\n",
    "        subset = columns[i:i+chunk_size]\n",
    "        scaler = StandardScaler().fit(df_train[subset])\n",
    "        df_train.loc[:, subset] = scaler.transform(df_train[subset])\n",
    "        df_val.loc[:, subset] = scaler.transform(df_val[subset])\n",
    "        df_test.loc[:, subset] = scaler.transform(df_test[subset])\n",
    "    return df_train, df_val, df_test\n",
    "\n",
    "# === Step 4: Expanding window Ridge (Reduced) ===\n",
    "data['date'] = data['yyyymm']\n",
    "start_round = 0\n",
    "starting = pd.to_datetime(\"20000101\", format=\"%Y%m%d\")\n",
    "counter = start_round\n",
    "\n",
    "print(\"Starting expanding window prediction (Ridge with reduced features)...\")\n",
    "\n",
    "# Determine total number of rounds\n",
    "end_date = pd.to_datetime(\"20240101\", format=\"%Y%m%d\")\n",
    "total_rounds = 0\n",
    "temp_start = starting\n",
    "while (temp_start + pd.DateOffset(years=11 + total_rounds)) <= end_date:\n",
    "    total_rounds += 1\n",
    "\n",
    "pbar = tqdm(total=total_rounds - start_round, desc=\"Ridge Rounds\")\n",
    "\n",
    "while (counter < total_rounds):\n",
    "    round_start_time = time.time()\n",
    "\n",
    "    cutoff = [\n",
    "        starting,\n",
    "        starting + pd.DateOffset(years=8 + counter),\n",
    "        starting + pd.DateOffset(years=10 + counter),\n",
    "        starting + pd.DateOffset(years=11 + counter),\n",
    "    ]\n",
    "\n",
    "    print(f\"\\n=== Round {counter + 1}: {cutoff[0].strftime('%Y-%m')} to {cutoff[3].strftime('%Y-%m')} ===\")\n",
    "\n",
    "    train = data[(data[\"date\"] >= cutoff[0]) & (data[\"date\"] < cutoff[1])]\n",
    "    validate = data[(data[\"date\"] >= cutoff[1]) & (data[\"date\"] < cutoff[2])]\n",
    "    test = data[(data[\"date\"] >= cutoff[2]) & (data[\"date\"] < cutoff[3])]\n",
    "\n",
    "    print(f\"Train size: {train.shape}, Val size: {validate.shape}, Test size: {test.shape}\")\n",
    "\n",
    "    if test.empty or train.empty or validate.empty:\n",
    "        print(f\"Skipping round {counter + 1} due to empty set.\")\n",
    "        counter += 1\n",
    "        pbar.update(1)\n",
    "        continue\n",
    "\n",
    "    print(\"Standardizing reduced features (chunked)...\")\n",
    "    train, validate, test = chunk_standardize(train, validate, test, reduced_feature_list, chunk_size=100)\n",
    "    print(\"Standardization complete.\")\n",
    "\n",
    "    X_train, Y_train = train[reduced_feature_list].values, train['stock_exret'].values\n",
    "    X_val, Y_val = validate[reduced_feature_list].values, validate['stock_exret'].values\n",
    "    X_test, Y_test = test[reduced_feature_list].values, test['stock_exret'].values\n",
    "\n",
    "    Y_mean = np.mean(Y_train)\n",
    "    Y_train_dm = Y_train - Y_mean\n",
    "\n",
    "    reg_pred = test[[\"permno\", \"yyyymm\", \"stock_exret\"]].copy()\n",
    "\n",
    "    print(\"Tuning Ridge alpha...\")\n",
    "    lambdas = np.arange(-1, 8.1, 0.1)\n",
    "    val_mse = np.zeros(len(lambdas))\n",
    "    for ind, i in enumerate(tqdm(lambdas, desc=\"Ridge Alpha Grid\")):\n",
    "        reg = Ridge(alpha=(10**i) * 0.5, fit_intercept=False)\n",
    "        reg.fit(X_train, Y_train_dm)\n",
    "        val_mse[ind] = mean_squared_error(Y_val, reg.predict(X_val) + Y_mean)\n",
    "    best_lambda = lambdas[np.argmin(val_mse)]\n",
    "    best_alpha = (10**best_lambda) * 0.5\n",
    "\n",
    "    print(f\"Best Ridge alpha: {best_alpha:.6f}\")\n",
    "    reg = Ridge(alpha=best_alpha, fit_intercept=False)\n",
    "    reg.fit(X_train, Y_train_dm)\n",
    "    reg_pred[\"ridge\"] = reg.predict(X_test) + Y_mean\n",
    "\n",
    "    r2_ridge = 1 - np.sum((reg_pred[\"ridge\"] - Y_test) ** 2) / np.sum((Y_test - Y_test.mean()) ** 2)\n",
    "\n",
    "    # Save prediction and r2 per round\n",
    "    reg_pred.to_csv(\"../results/ridge_predictions_reduced.csv\", mode=\"a\", header=(counter==start_round), index=False)\n",
    "    pd.DataFrame([{\n",
    "        \"round\": counter + 1,\n",
    "        \"start_date\": cutoff[0],\n",
    "        \"end_date\": cutoff[3],\n",
    "        \"r2_ridge\": r2_ridge,\n",
    "        \"best_alpha\": best_alpha\n",
    "    }]).to_csv(\"../results/ridge_r2_reduced.csv\", mode=\"a\", header=(counter==start_round), index=False)\n",
    "\n",
    "    print(f\"Round {counter + 1} completed. R²: {r2_ridge:.4f}, Time: {round(time.time() - round_start_time, 2)}s\")\n",
    "    counter += 1\n",
    "    pbar.update(1)\n",
    "\n",
    "print(\"Ridge (Reduced) prediction complete.\")"
   ]
  },
  {
   "cell_type": "code",
   "execution_count": 7,
   "id": "6887a699-8d86-44c1-99a0-f3a57ddba2f0",
   "metadata": {},
   "outputs": [
    {
     "name": "stdout",
     "output_type": "stream",
     "text": [
      "Starting expanding window prediction...\n",
      "\n",
      "=== Round 1: 2000-01 to 2011-01 ===\n",
      "Train size: (93496, 1339), Val size: (20897, 1339), Test size: (10563, 1339)\n",
      "Standardizing features...\n",
      "Standardization complete.\n",
      "Training OLS...\n",
      "Tuning Lasso alpha...\n"
     ]
    },
    {
     "name": "stderr",
     "output_type": "stream",
     "text": [
      "Lasso alpha: 100%|█████████████████████████████████████████████████████████████████████| 81/81 [06:45<00:00,  5.01s/it]\n"
     ]
    },
    {
     "name": "stdout",
     "output_type": "stream",
     "text": [
      "Tuning Ridge alpha...\n"
     ]
    },
    {
     "name": "stderr",
     "output_type": "stream",
     "text": [
      "Ridge alpha: 100%|█████████████████████████████████████████████████████████████████████| 91/91 [04:18<00:00,  2.84s/it]\n"
     ]
    },
    {
     "name": "stdout",
     "output_type": "stream",
     "text": [
      "Tuning ElasticNet alpha (fast mode)...\n"
     ]
    },
    {
     "name": "stderr",
     "output_type": "stream",
     "text": [
      "ElasticNet alpha: 100%|████████████████████████████████████████████████████████████████| 21/21 [05:32<00:00, 15.84s/it]\n"
     ]
    },
    {
     "name": "stdout",
     "output_type": "stream",
     "text": [
      "\n",
      "=== Round 2: 2000-01 to 2012-01 ===\n",
      "Train size: (103876, 1339), Val size: (21080, 1339), Test size: (10458, 1339)\n",
      "Standardizing features...\n",
      "Standardization complete.\n",
      "Training OLS...\n",
      "Tuning Lasso alpha...\n"
     ]
    },
    {
     "name": "stderr",
     "output_type": "stream",
     "text": [
      "Lasso alpha: 100%|█████████████████████████████████████████████████████████████████████| 81/81 [07:15<00:00,  5.38s/it]\n"
     ]
    },
    {
     "name": "stdout",
     "output_type": "stream",
     "text": [
      "Tuning Ridge alpha...\n"
     ]
    },
    {
     "name": "stderr",
     "output_type": "stream",
     "text": [
      "Ridge alpha: 100%|█████████████████████████████████████████████████████████████████████| 91/91 [04:42<00:00,  3.11s/it]\n"
     ]
    },
    {
     "name": "stdout",
     "output_type": "stream",
     "text": [
      "Tuning ElasticNet alpha (fast mode)...\n"
     ]
    },
    {
     "name": "stderr",
     "output_type": "stream",
     "text": [
      "ElasticNet alpha: 100%|████████████████████████████████████████████████████████████████| 21/21 [08:05<00:00, 23.11s/it]\n"
     ]
    },
    {
     "name": "stdout",
     "output_type": "stream",
     "text": [
      "\n",
      "=== Round 3: 2000-01 to 2013-01 ===\n",
      "Train size: (114393, 1339), Val size: (21021, 1339), Test size: (10556, 1339)\n",
      "Standardizing features...\n",
      "Standardization complete.\n",
      "Training OLS...\n",
      "Tuning Lasso alpha...\n"
     ]
    },
    {
     "name": "stderr",
     "output_type": "stream",
     "text": [
      "Lasso alpha: 100%|█████████████████████████████████████████████████████████████████████| 81/81 [08:20<00:00,  6.17s/it]\n"
     ]
    },
    {
     "name": "stdout",
     "output_type": "stream",
     "text": [
      "Tuning Ridge alpha...\n"
     ]
    },
    {
     "name": "stderr",
     "output_type": "stream",
     "text": [
      "Ridge alpha: 100%|█████████████████████████████████████████████████████████████████████| 91/91 [05:21<00:00,  3.53s/it]\n"
     ]
    },
    {
     "name": "stdout",
     "output_type": "stream",
     "text": [
      "Tuning ElasticNet alpha (fast mode)...\n"
     ]
    },
    {
     "name": "stderr",
     "output_type": "stream",
     "text": [
      "ElasticNet alpha: 100%|████████████████████████████████████████████████████████████████| 21/21 [07:00<00:00, 20.01s/it]\n"
     ]
    },
    {
     "name": "stdout",
     "output_type": "stream",
     "text": [
      "\n",
      "=== Round 4: 2000-01 to 2014-01 ===\n",
      "Train size: (124956, 1339), Val size: (21014, 1339), Test size: (10617, 1339)\n",
      "Standardizing features...\n",
      "Standardization complete.\n",
      "Training OLS...\n",
      "Tuning Lasso alpha...\n"
     ]
    },
    {
     "name": "stderr",
     "output_type": "stream",
     "text": [
      "Lasso alpha: 100%|█████████████████████████████████████████████████████████████████████| 81/81 [09:27<00:00,  7.01s/it]\n"
     ]
    },
    {
     "name": "stdout",
     "output_type": "stream",
     "text": [
      "Tuning Ridge alpha...\n"
     ]
    },
    {
     "name": "stderr",
     "output_type": "stream",
     "text": [
      "Ridge alpha: 100%|█████████████████████████████████████████████████████████████████████| 91/91 [05:49<00:00,  3.84s/it]\n"
     ]
    },
    {
     "name": "stdout",
     "output_type": "stream",
     "text": [
      "Tuning ElasticNet alpha (fast mode)...\n"
     ]
    },
    {
     "name": "stderr",
     "output_type": "stream",
     "text": [
      "ElasticNet alpha: 100%|████████████████████████████████████████████████████████████████| 21/21 [07:28<00:00, 21.36s/it]\n"
     ]
    },
    {
     "name": "stdout",
     "output_type": "stream",
     "text": [
      "\n",
      "=== Round 5: 2000-01 to 2015-01 ===\n",
      "Train size: (135414, 1339), Val size: (21173, 1339), Test size: (10974, 1339)\n",
      "Standardizing features...\n",
      "Standardization complete.\n",
      "Training OLS...\n",
      "Tuning Lasso alpha...\n"
     ]
    },
    {
     "name": "stderr",
     "output_type": "stream",
     "text": [
      "Lasso alpha: 100%|█████████████████████████████████████████████████████████████████████| 81/81 [09:04<00:00,  6.72s/it]\n"
     ]
    },
    {
     "name": "stdout",
     "output_type": "stream",
     "text": [
      "Tuning Ridge alpha...\n"
     ]
    },
    {
     "name": "stderr",
     "output_type": "stream",
     "text": [
      "Ridge alpha: 100%|█████████████████████████████████████████████████████████████████████| 91/91 [06:39<00:00,  4.39s/it]\n"
     ]
    },
    {
     "name": "stdout",
     "output_type": "stream",
     "text": [
      "Tuning ElasticNet alpha (fast mode)...\n"
     ]
    },
    {
     "name": "stderr",
     "output_type": "stream",
     "text": [
      "ElasticNet alpha: 100%|████████████████████████████████████████████████████████████████| 21/21 [08:11<00:00, 23.41s/it]\n"
     ]
    },
    {
     "name": "stdout",
     "output_type": "stream",
     "text": [
      "\n",
      "=== Round 6: 2000-01 to 2016-01 ===\n",
      "Train size: (145970, 1339), Val size: (21591, 1339), Test size: (11459, 1339)\n",
      "Standardizing features...\n",
      "Standardization complete.\n",
      "Training OLS...\n",
      "Tuning Lasso alpha...\n"
     ]
    },
    {
     "name": "stderr",
     "output_type": "stream",
     "text": [
      "Lasso alpha: 100%|█████████████████████████████████████████████████████████████████████| 81/81 [08:35<00:00,  6.36s/it]\n"
     ]
    },
    {
     "name": "stdout",
     "output_type": "stream",
     "text": [
      "Tuning Ridge alpha...\n"
     ]
    },
    {
     "name": "stderr",
     "output_type": "stream",
     "text": [
      "Ridge alpha: 100%|█████████████████████████████████████████████████████████████████████| 91/91 [06:26<00:00,  4.24s/it]\n"
     ]
    },
    {
     "name": "stdout",
     "output_type": "stream",
     "text": [
      "Tuning ElasticNet alpha (fast mode)...\n"
     ]
    },
    {
     "name": "stderr",
     "output_type": "stream",
     "text": [
      "ElasticNet alpha: 100%|████████████████████████████████████████████████████████████████| 21/21 [07:52<00:00, 22.52s/it]\n"
     ]
    },
    {
     "name": "stdout",
     "output_type": "stream",
     "text": [
      "\n",
      "=== Round 7: 2000-01 to 2017-01 ===\n",
      "Train size: (156587, 1339), Val size: (22433, 1339), Test size: (11273, 1339)\n",
      "Standardizing features...\n",
      "Standardization complete.\n",
      "Training OLS...\n",
      "Tuning Lasso alpha...\n"
     ]
    },
    {
     "name": "stderr",
     "output_type": "stream",
     "text": [
      "Lasso alpha: 100%|█████████████████████████████████████████████████████████████████████| 81/81 [08:55<00:00,  6.61s/it]\n"
     ]
    },
    {
     "name": "stdout",
     "output_type": "stream",
     "text": [
      "Tuning Ridge alpha...\n"
     ]
    },
    {
     "name": "stderr",
     "output_type": "stream",
     "text": [
      "Ridge alpha: 100%|█████████████████████████████████████████████████████████████████████| 91/91 [07:11<00:00,  4.74s/it]\n"
     ]
    },
    {
     "name": "stdout",
     "output_type": "stream",
     "text": [
      "Tuning ElasticNet alpha (fast mode)...\n"
     ]
    },
    {
     "name": "stderr",
     "output_type": "stream",
     "text": [
      "ElasticNet alpha: 100%|████████████████████████████████████████████████████████████████| 21/21 [08:47<00:00, 25.10s/it]\n"
     ]
    },
    {
     "name": "stdout",
     "output_type": "stream",
     "text": [
      "\n",
      "=== Round 8: 2000-01 to 2018-01 ===\n",
      "Train size: (167561, 1339), Val size: (22732, 1339), Test size: (11054, 1339)\n",
      "Standardizing features...\n",
      "Standardization complete.\n",
      "Training OLS...\n",
      "Tuning Lasso alpha...\n"
     ]
    },
    {
     "name": "stderr",
     "output_type": "stream",
     "text": [
      "Lasso alpha: 100%|█████████████████████████████████████████████████████████████████████| 81/81 [08:18<00:00,  6.16s/it]\n"
     ]
    },
    {
     "name": "stdout",
     "output_type": "stream",
     "text": [
      "Tuning Ridge alpha...\n"
     ]
    },
    {
     "name": "stderr",
     "output_type": "stream",
     "text": [
      "Ridge alpha: 100%|█████████████████████████████████████████████████████████████████████| 91/91 [07:29<00:00,  4.94s/it]\n"
     ]
    },
    {
     "name": "stdout",
     "output_type": "stream",
     "text": [
      "Tuning ElasticNet alpha (fast mode)...\n"
     ]
    },
    {
     "name": "stderr",
     "output_type": "stream",
     "text": [
      "ElasticNet alpha: 100%|████████████████████████████████████████████████████████████████| 21/21 [09:04<00:00, 25.94s/it]\n"
     ]
    },
    {
     "name": "stdout",
     "output_type": "stream",
     "text": [
      "\n",
      "=== Round 9: 2000-01 to 2019-01 ===\n",
      "Train size: (179020, 1339), Val size: (22327, 1339), Test size: (11061, 1339)\n",
      "Standardizing features...\n",
      "Standardization complete.\n",
      "Training OLS...\n",
      "Tuning Lasso alpha...\n"
     ]
    },
    {
     "name": "stderr",
     "output_type": "stream",
     "text": [
      "Lasso alpha: 100%|█████████████████████████████████████████████████████████████████████| 81/81 [09:57<00:00,  7.38s/it]\n"
     ]
    },
    {
     "name": "stdout",
     "output_type": "stream",
     "text": [
      "Tuning Ridge alpha...\n"
     ]
    },
    {
     "name": "stderr",
     "output_type": "stream",
     "text": [
      "Ridge alpha: 100%|█████████████████████████████████████████████████████████████████████| 91/91 [08:06<00:00,  5.34s/it]\n"
     ]
    },
    {
     "name": "stdout",
     "output_type": "stream",
     "text": [
      "Tuning ElasticNet alpha (fast mode)...\n"
     ]
    },
    {
     "name": "stderr",
     "output_type": "stream",
     "text": [
      "ElasticNet alpha: 100%|████████████████████████████████████████████████████████████████| 21/21 [07:41<00:00, 21.96s/it]\n"
     ]
    },
    {
     "name": "stdout",
     "output_type": "stream",
     "text": [
      "\n",
      "=== Round 10: 2000-01 to 2020-01 ===\n",
      "Train size: (190293, 1339), Val size: (22115, 1339), Test size: (11207, 1339)\n",
      "Standardizing features...\n",
      "Standardization complete.\n",
      "Training OLS...\n",
      "Tuning Lasso alpha...\n"
     ]
    },
    {
     "name": "stderr",
     "output_type": "stream",
     "text": [
      "Lasso alpha: 100%|█████████████████████████████████████████████████████████████████████| 81/81 [11:03<00:00,  8.19s/it]\n"
     ]
    },
    {
     "name": "stdout",
     "output_type": "stream",
     "text": [
      "Tuning Ridge alpha...\n"
     ]
    },
    {
     "name": "stderr",
     "output_type": "stream",
     "text": [
      "Ridge alpha: 100%|█████████████████████████████████████████████████████████████████████| 91/91 [08:58<00:00,  5.92s/it]\n"
     ]
    },
    {
     "name": "stdout",
     "output_type": "stream",
     "text": [
      "Tuning ElasticNet alpha (fast mode)...\n"
     ]
    },
    {
     "name": "stderr",
     "output_type": "stream",
     "text": [
      "ElasticNet alpha: 100%|████████████████████████████████████████████████████████████████| 21/21 [07:51<00:00, 22.44s/it]\n"
     ]
    },
    {
     "name": "stdout",
     "output_type": "stream",
     "text": [
      "\n",
      "=== Round 11: 2000-01 to 2021-01 ===\n",
      "Train size: (201347, 1339), Val size: (22268, 1339), Test size: (11729, 1339)\n",
      "Standardizing features...\n"
     ]
    },
    {
     "ename": "MemoryError",
     "evalue": "Unable to allocate 1.99 GiB for an array with shape (201347, 1324) and data type float64",
     "output_type": "error",
     "traceback": [
      "\u001b[1;31m---------------------------------------------------------------------------\u001b[0m",
      "\u001b[1;31mMemoryError\u001b[0m                               Traceback (most recent call last)",
      "Cell \u001b[1;32mIn[7], line 32\u001b[0m\n\u001b[0;32m     29\u001b[0m     \u001b[38;5;28;01mcontinue\u001b[39;00m\n\u001b[0;32m     31\u001b[0m \u001b[38;5;28mprint\u001b[39m(\u001b[38;5;124m\"\u001b[39m\u001b[38;5;124mStandardizing features...\u001b[39m\u001b[38;5;124m\"\u001b[39m)\n\u001b[1;32m---> 32\u001b[0m scaler \u001b[38;5;241m=\u001b[39m \u001b[43mStandardScaler\u001b[49m\u001b[43m(\u001b[49m\u001b[43m)\u001b[49m\u001b[38;5;241;43m.\u001b[39;49m\u001b[43mfit\u001b[49m\u001b[43m(\u001b[49m\u001b[43mtrain\u001b[49m\u001b[43m[\u001b[49m\u001b[43mall_features\u001b[49m\u001b[43m]\u001b[49m\u001b[43m)\u001b[49m\n\u001b[0;32m     33\u001b[0m train\u001b[38;5;241m.\u001b[39mloc[:, all_features] \u001b[38;5;241m=\u001b[39m scaler\u001b[38;5;241m.\u001b[39mtransform(train[all_features])\n\u001b[0;32m     34\u001b[0m validate\u001b[38;5;241m.\u001b[39mloc[:, all_features] \u001b[38;5;241m=\u001b[39m scaler\u001b[38;5;241m.\u001b[39mtransform(validate[all_features])\n",
      "File \u001b[1;32m~\\.venv\\Lib\\site-packages\\sklearn\\preprocessing\\_data.py:894\u001b[0m, in \u001b[0;36mStandardScaler.fit\u001b[1;34m(self, X, y, sample_weight)\u001b[0m\n\u001b[0;32m    892\u001b[0m \u001b[38;5;66;03m# Reset internal state before fitting\u001b[39;00m\n\u001b[0;32m    893\u001b[0m \u001b[38;5;28mself\u001b[39m\u001b[38;5;241m.\u001b[39m_reset()\n\u001b[1;32m--> 894\u001b[0m \u001b[38;5;28;01mreturn\u001b[39;00m \u001b[38;5;28;43mself\u001b[39;49m\u001b[38;5;241;43m.\u001b[39;49m\u001b[43mpartial_fit\u001b[49m\u001b[43m(\u001b[49m\u001b[43mX\u001b[49m\u001b[43m,\u001b[49m\u001b[43m \u001b[49m\u001b[43my\u001b[49m\u001b[43m,\u001b[49m\u001b[43m \u001b[49m\u001b[43msample_weight\u001b[49m\u001b[43m)\u001b[49m\n",
      "File \u001b[1;32m~\\.venv\\Lib\\site-packages\\sklearn\\base.py:1389\u001b[0m, in \u001b[0;36m_fit_context.<locals>.decorator.<locals>.wrapper\u001b[1;34m(estimator, *args, **kwargs)\u001b[0m\n\u001b[0;32m   1382\u001b[0m     estimator\u001b[38;5;241m.\u001b[39m_validate_params()\n\u001b[0;32m   1384\u001b[0m \u001b[38;5;28;01mwith\u001b[39;00m config_context(\n\u001b[0;32m   1385\u001b[0m     skip_parameter_validation\u001b[38;5;241m=\u001b[39m(\n\u001b[0;32m   1386\u001b[0m         prefer_skip_nested_validation \u001b[38;5;129;01mor\u001b[39;00m global_skip_validation\n\u001b[0;32m   1387\u001b[0m     )\n\u001b[0;32m   1388\u001b[0m ):\n\u001b[1;32m-> 1389\u001b[0m     \u001b[38;5;28;01mreturn\u001b[39;00m \u001b[43mfit_method\u001b[49m\u001b[43m(\u001b[49m\u001b[43mestimator\u001b[49m\u001b[43m,\u001b[49m\u001b[43m \u001b[49m\u001b[38;5;241;43m*\u001b[39;49m\u001b[43margs\u001b[49m\u001b[43m,\u001b[49m\u001b[43m \u001b[49m\u001b[38;5;241;43m*\u001b[39;49m\u001b[38;5;241;43m*\u001b[39;49m\u001b[43mkwargs\u001b[49m\u001b[43m)\u001b[49m\n",
      "File \u001b[1;32m~\\.venv\\Lib\\site-packages\\sklearn\\preprocessing\\_data.py:1016\u001b[0m, in \u001b[0;36mStandardScaler.partial_fit\u001b[1;34m(self, X, y, sample_weight)\u001b[0m\n\u001b[0;32m   1013\u001b[0m         \u001b[38;5;28mself\u001b[39m\u001b[38;5;241m.\u001b[39mn_samples_seen_ \u001b[38;5;241m+\u001b[39m\u001b[38;5;241m=\u001b[39m X\u001b[38;5;241m.\u001b[39mshape[\u001b[38;5;241m0\u001b[39m] \u001b[38;5;241m-\u001b[39m np\u001b[38;5;241m.\u001b[39misnan(X)\u001b[38;5;241m.\u001b[39msum(axis\u001b[38;5;241m=\u001b[39m\u001b[38;5;241m0\u001b[39m)\n\u001b[0;32m   1015\u001b[0m     \u001b[38;5;28;01melse\u001b[39;00m:\n\u001b[1;32m-> 1016\u001b[0m         \u001b[38;5;28mself\u001b[39m\u001b[38;5;241m.\u001b[39mmean_, \u001b[38;5;28mself\u001b[39m\u001b[38;5;241m.\u001b[39mvar_, \u001b[38;5;28mself\u001b[39m\u001b[38;5;241m.\u001b[39mn_samples_seen_ \u001b[38;5;241m=\u001b[39m \u001b[43m_incremental_mean_and_var\u001b[49m\u001b[43m(\u001b[49m\n\u001b[0;32m   1017\u001b[0m \u001b[43m            \u001b[49m\u001b[43mX\u001b[49m\u001b[43m,\u001b[49m\n\u001b[0;32m   1018\u001b[0m \u001b[43m            \u001b[49m\u001b[38;5;28;43mself\u001b[39;49m\u001b[38;5;241;43m.\u001b[39;49m\u001b[43mmean_\u001b[49m\u001b[43m,\u001b[49m\n\u001b[0;32m   1019\u001b[0m \u001b[43m            \u001b[49m\u001b[38;5;28;43mself\u001b[39;49m\u001b[38;5;241;43m.\u001b[39;49m\u001b[43mvar_\u001b[49m\u001b[43m,\u001b[49m\n\u001b[0;32m   1020\u001b[0m \u001b[43m            \u001b[49m\u001b[38;5;28;43mself\u001b[39;49m\u001b[38;5;241;43m.\u001b[39;49m\u001b[43mn_samples_seen_\u001b[49m\u001b[43m,\u001b[49m\n\u001b[0;32m   1021\u001b[0m \u001b[43m            \u001b[49m\u001b[43msample_weight\u001b[49m\u001b[38;5;241;43m=\u001b[39;49m\u001b[43msample_weight\u001b[49m\u001b[43m,\u001b[49m\n\u001b[0;32m   1022\u001b[0m \u001b[43m        \u001b[49m\u001b[43m)\u001b[49m\n\u001b[0;32m   1024\u001b[0m \u001b[38;5;66;03m# for backward-compatibility, reduce n_samples_seen_ to an integer\u001b[39;00m\n\u001b[0;32m   1025\u001b[0m \u001b[38;5;66;03m# if the number of samples is the same for each feature (i.e. no\u001b[39;00m\n\u001b[0;32m   1026\u001b[0m \u001b[38;5;66;03m# missing values)\u001b[39;00m\n\u001b[0;32m   1027\u001b[0m \u001b[38;5;28;01mif\u001b[39;00m np\u001b[38;5;241m.\u001b[39mptp(\u001b[38;5;28mself\u001b[39m\u001b[38;5;241m.\u001b[39mn_samples_seen_) \u001b[38;5;241m==\u001b[39m \u001b[38;5;241m0\u001b[39m:\n",
      "File \u001b[1;32m~\\.venv\\Lib\\site-packages\\sklearn\\utils\\extmath.py:1107\u001b[0m, in \u001b[0;36m_incremental_mean_and_var\u001b[1;34m(X, last_mean, last_variance, last_sample_count, sample_weight)\u001b[0m\n\u001b[0;32m   1105\u001b[0m \u001b[38;5;28;01melse\u001b[39;00m:\n\u001b[0;32m   1106\u001b[0m     T \u001b[38;5;241m=\u001b[39m new_sum \u001b[38;5;241m/\u001b[39m new_sample_count\n\u001b[1;32m-> 1107\u001b[0m     temp \u001b[38;5;241m=\u001b[39m \u001b[43mX\u001b[49m\u001b[43m \u001b[49m\u001b[38;5;241;43m-\u001b[39;49m\u001b[43m \u001b[49m\u001b[43mT\u001b[49m\n\u001b[0;32m   1108\u001b[0m     \u001b[38;5;28;01mif\u001b[39;00m sample_weight \u001b[38;5;129;01mis\u001b[39;00m \u001b[38;5;129;01mnot\u001b[39;00m \u001b[38;5;28;01mNone\u001b[39;00m:\n\u001b[0;32m   1109\u001b[0m         \u001b[38;5;66;03m# equivalent to np.nansum((X-T)**2 * sample_weight, axis=0)\u001b[39;00m\n\u001b[0;32m   1110\u001b[0m         \u001b[38;5;66;03m# safer because np.float64(X*W) != np.float64(X)*np.float64(W)\u001b[39;00m\n\u001b[0;32m   1111\u001b[0m         correction \u001b[38;5;241m=\u001b[39m _safe_accumulator_op(\n\u001b[0;32m   1112\u001b[0m             np\u001b[38;5;241m.\u001b[39mmatmul, sample_weight, np\u001b[38;5;241m.\u001b[39mwhere(X_nan_mask, \u001b[38;5;241m0\u001b[39m, temp)\n\u001b[0;32m   1113\u001b[0m         )\n",
      "\u001b[1;31mMemoryError\u001b[0m: Unable to allocate 1.99 GiB for an array with shape (201347, 1324) and data type float64"
     ]
    }
   ],
   "source": [
    "# === Step 4: Expanding window model training and prediction ===\n",
    "data['date'] = data['yyyymm']\n",
    "starting = pd.to_datetime(\"20000101\", format=\"%Y%m%d\")\n",
    "counter = 0\n",
    "pred_out = pd.DataFrame()\n",
    "r2_records = []\n",
    "\n",
    "print(\"Starting expanding window prediction...\")\n",
    "\n",
    "while (starting + pd.DateOffset(years=11 + counter)) <= pd.to_datetime(\"20240101\", format=\"%Y%m%d\"):\n",
    "    print(f\"\\n=== Round {counter + 1}: {starting.strftime('%Y-%m')} to {(starting + pd.DateOffset(years=11 + counter)).strftime('%Y-%m')} ===\")\n",
    "\n",
    "    cutoff = [\n",
    "        starting,\n",
    "        starting + pd.DateOffset(years=8 + counter),\n",
    "        starting + pd.DateOffset(years=10 + counter),\n",
    "        starting + pd.DateOffset(years=11 + counter),\n",
    "    ]\n",
    "\n",
    "    train = data[(data[\"date\"] >= cutoff[0]) & (data[\"date\"] < cutoff[1])]\n",
    "    validate = data[(data[\"date\"] >= cutoff[1]) & (data[\"date\"] < cutoff[2])]\n",
    "    test = data[(data[\"date\"] >= cutoff[2]) & (data[\"date\"] < cutoff[3])]\n",
    "\n",
    "    print(f\"Train size: {train.shape}, Val size: {validate.shape}, Test size: {test.shape}\")\n",
    "\n",
    "    if test.empty or train.empty or validate.empty:\n",
    "        print(f\"Skipping round {counter + 1} due to empty set.\")\n",
    "        counter += 1\n",
    "        continue\n",
    "\n",
    "    print(\"Standardizing features...\")\n",
    "    scaler = StandardScaler().fit(train[all_features])\n",
    "    train.loc[:, all_features] = scaler.transform(train[all_features])\n",
    "    validate.loc[:, all_features] = scaler.transform(validate[all_features])\n",
    "    test.loc[:, all_features] = scaler.transform(test[all_features])\n",
    "    print(\"Standardization complete.\")\n",
    "\n",
    "    X_train, Y_train = train[all_features].values, train['stock_exret'].values\n",
    "    X_val, Y_val = validate[all_features].values, validate['stock_exret'].values\n",
    "    X_test, Y_test = test[all_features].values, test['stock_exret'].values\n",
    "\n",
    "    Y_mean = np.mean(Y_train)\n",
    "    Y_train_dm = Y_train - Y_mean\n",
    "\n",
    "    reg_pred = test[[\"permno\", \"yyyymm\", \"stock_exret\"]].copy()\n",
    "\n",
    "    # === OLS ===\n",
    "    print(\"Training OLS...\")\n",
    "    reg = LinearRegression(fit_intercept=False)\n",
    "    reg.fit(X_train, Y_train_dm)\n",
    "    reg_pred[\"ols\"] = reg.predict(X_test) + Y_mean\n",
    "    r2_ols = 1 - np.sum((reg_pred[\"ols\"] - Y_test) ** 2) / np.sum((Y_test - Y_test.mean()) ** 2)\n",
    "\n",
    "    # === Lasso ===\n",
    "    print(\"Tuning Lasso alpha...\")\n",
    "    lambdas = np.arange(-4, 4.1, 0.1)\n",
    "    val_mse = np.zeros(len(lambdas))\n",
    "    for ind, i in enumerate(tqdm(lambdas, desc=\"Lasso alpha\")):\n",
    "        reg = Lasso(alpha=10**i, max_iter=1000000, fit_intercept=False)\n",
    "        reg.fit(X_train, Y_train_dm)\n",
    "        val_mse[ind] = mean_squared_error(Y_val, reg.predict(X_val) + Y_mean)\n",
    "    best_lambda = lambdas[np.argmin(val_mse)]\n",
    "    reg = Lasso(alpha=10**best_lambda, max_iter=1000000, fit_intercept=False)\n",
    "    reg.fit(X_train, Y_train_dm)\n",
    "    reg_pred[\"lasso\"] = reg.predict(X_test) + Y_mean\n",
    "    r2_lasso = 1 - np.sum((reg_pred[\"lasso\"] - Y_test) ** 2) / np.sum((Y_test - Y_test.mean()) ** 2)\n",
    "\n",
    "    # === Ridge ===\n",
    "    print(\"Tuning Ridge alpha...\")\n",
    "    lambdas = np.arange(-1, 8.1, 0.1)\n",
    "    val_mse = np.zeros(len(lambdas))\n",
    "    for ind, i in enumerate(tqdm(lambdas, desc=\"Ridge alpha\")):\n",
    "        reg = Ridge(alpha=(10**i) * 0.5, fit_intercept=False)\n",
    "        reg.fit(X_train, Y_train_dm)\n",
    "        val_mse[ind] = mean_squared_error(Y_val, reg.predict(X_val) + Y_mean)\n",
    "    best_lambda = lambdas[np.argmin(val_mse)]\n",
    "    reg = Ridge(alpha=(10**best_lambda) * 0.5, fit_intercept=False)\n",
    "    reg.fit(X_train, Y_train_dm)\n",
    "    reg_pred[\"ridge\"] = reg.predict(X_test) + Y_mean\n",
    "    r2_ridge = 1 - np.sum((reg_pred[\"ridge\"] - Y_test) ** 2) / np.sum((Y_test - Y_test.mean()) ** 2)\n",
    "\n",
    "    # === ElasticNet (with early stopping and reduced grid) ===\n",
    "    print(\"Tuning ElasticNet alpha (fast mode)...\")\n",
    "    lambdas = np.arange(-3, 2.25, 0.25)  # reduced grid\n",
    "    val_mse = np.zeros(len(lambdas))\n",
    "    for ind, i in enumerate(tqdm(lambdas, desc=\"ElasticNet alpha\")):\n",
    "        reg = ElasticNet(alpha=10**i, max_iter=5000, tol=1e-3, fit_intercept=False)\n",
    "        reg.fit(X_train, Y_train_dm)\n",
    "        val_mse[ind] = mean_squared_error(Y_val, reg.predict(X_val) + Y_mean)\n",
    "    best_lambda = lambdas[np.argmin(val_mse)]\n",
    "    reg = ElasticNet(alpha=10**best_lambda, max_iter=5000, tol=1e-3, fit_intercept=False)\n",
    "    reg.fit(X_train, Y_train_dm)\n",
    "    reg_pred[\"en\"] = reg.predict(X_test) + Y_mean\n",
    "    r2_en = 1 - np.sum((reg_pred[\"en\"] - Y_test) ** 2) / np.sum((Y_test - Y_test.mean()) ** 2)\n",
    "\n",
    "    # Save R^2 per model per round\n",
    "    r2_records.append({\n",
    "        \"round\": counter + 1,\n",
    "        \"start_date\": cutoff[0],\n",
    "        \"end_date\": cutoff[3],\n",
    "        \"r2_ols\": r2_ols,\n",
    "        \"r2_lasso\": r2_lasso,\n",
    "        \"r2_ridge\": r2_ridge,\n",
    "        \"r2_en\": r2_en\n",
    "    })\n",
    "\n",
    "    pred_out = pd.concat([pred_out, reg_pred], ignore_index=True)\n",
    "    counter += 1"
   ]
  },
  {
   "cell_type": "code",
   "execution_count": null,
   "id": "e1e027ab-1de9-4f35-9190-94479fb753db",
   "metadata": {},
   "outputs": [],
   "source": [
    "# Save predictions and R^2 records\n",
    "pred_out.to_csv(\"../data/results/stock_return_predictions.csv\", index=False)\n",
    "pd.DataFrame(r2_records).to_csv(\"../data/processed/model_r2_each_round.csv\", index=False)"
   ]
  },
  {
   "cell_type": "code",
   "execution_count": null,
   "id": "d2f90ac3-cb4d-43f2-b395-e859503c62ef",
   "metadata": {},
   "outputs": [],
   "source": []
  }
 ],
 "metadata": {
  "kernelspec": {
   "display_name": "Python (.venv)",
   "language": "python",
   "name": ".venv"
  },
  "language_info": {
   "codemirror_mode": {
    "name": "ipython",
    "version": 3
   },
   "file_extension": ".py",
   "mimetype": "text/x-python",
   "name": "python",
   "nbconvert_exporter": "python",
   "pygments_lexer": "ipython3",
   "version": "3.11.7"
  }
 },
 "nbformat": 4,
 "nbformat_minor": 5
}
